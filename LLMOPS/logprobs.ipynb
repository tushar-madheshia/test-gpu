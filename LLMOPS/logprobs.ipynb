{
 "cells": [
  {
   "cell_type": "code",
   "execution_count": 1,
   "id": "97ddc7c1",
   "metadata": {},
   "outputs": [],
   "source": [
    "import os\n",
    "\n",
    "from langchain_core.messages import HumanMessage\n",
    "from langchain_openai import AzureChatOpenAI\n",
    "\n",
    "os.environ[\"AZURE_OPENAI_API_KEY\"] = \"38002279fa574fbcba0fbc424ae056d5\"\n",
    "os.environ[\"AZURE_OPENAI_ENDPOINT\"] = \"https://lumin-azure-openai-rnd.openai.azure.com/\"\n",
    "\n",
    "model = AzureChatOpenAI(\n",
    "    openai_api_version=\"2023-03-15-preview\",\n",
    "    azure_deployment='lumin-rnd-gpt-4-32k',\n",
    ")"
   ]
  },
  {
   "cell_type": "code",
   "execution_count": 4,
   "id": "8abca2b2",
   "metadata": {},
   "outputs": [
    {
     "data": {
      "text/plain": [
       "LLMResult(generations=[[ChatGeneration(text='The Green Bay Packers won the Super Bowl in the 2010 season.', generation_info={'finish_reason': 'stop', 'logprobs': None, 'content_filter_results': {}}, message=AIMessage(content='The Green Bay Packers won the Super Bowl in the 2010 season.', response_metadata={'finish_reason': 'stop', 'logprobs': None, 'content_filter_results': {}}))], [ChatGeneration(text='You are 193 centimeters tall.', generation_info={'finish_reason': 'stop', 'logprobs': None, 'content_filter_results': {}}, message=AIMessage(content='You are 193 centimeters tall.', response_metadata={'finish_reason': 'stop', 'logprobs': None, 'content_filter_results': {}}))], [ChatGeneration(text='Alan Shepard', generation_info={'finish_reason': 'stop', 'logprobs': None, 'content_filter_results': {}}, message=AIMessage(content='Alan Shepard', response_metadata={'finish_reason': 'stop', 'logprobs': None, 'content_filter_results': {}}))], [ChatGeneration(text='A blade of grass does not have eyes.', generation_info={'finish_reason': 'stop', 'logprobs': None, 'content_filter_results': {}}, message=AIMessage(content='A blade of grass does not have eyes.', response_metadata={'finish_reason': 'stop', 'logprobs': None, 'content_filter_results': {}}))]], llm_output={'token_usage': {'completion_tokens': 34, 'prompt_tokens': 101, 'total_tokens': 135}, 'model_name': 'gpt-3.5-turbo'}, run=[RunInfo(run_id=UUID('4e5fe015-8aa2-4af0-8478-0006b29aaa46')), RunInfo(run_id=UUID('959c3131-9331-4464-aab7-f9359591d2de')), RunInfo(run_id=UUID('2f11da33-5d61-4eb1-b523-22f412a6205f')), RunInfo(run_id=UUID('ad54bc73-8e89-4634-8f7e-3e2ddd1c1b25'))])"
      ]
     },
     "execution_count": 4,
     "metadata": {},
     "output_type": "execute_result"
    }
   ],
   "source": [
    "from langchain import LLMChain\n",
    "from langchain import PromptTemplate\n",
    "\n",
    "template = \"\"\"Question: {question}\n",
    "\n",
    "Answer: \"\"\"\n",
    "long_prompt = PromptTemplate(\n",
    "        template=template,\n",
    "    input_variables=['question']\n",
    ")\n",
    "\n",
    "\n",
    "llm_chain = LLMChain(\n",
    "    prompt=long_prompt,\n",
    "    llm=model\n",
    ")\n",
    "\n",
    "qs = [\n",
    "    {'question': \"Which NFL team won the Super Bowl in the 2010 season?\"},\n",
    "    {'question': \"If I am 6 ft 4 inches, how tall am I in centimeters?\"},\n",
    "    {'question': \"Who was the 12th person on the moon?\"},\n",
    "    {'question': \"How many eyes does a blade of grass have?\"}\n",
    "]\n",
    "\n",
    "res = llm_chain.generate(qs)\n",
    "res"
   ]
  },
  {
   "cell_type": "code",
   "execution_count": null,
   "id": "f7db7f6f",
   "metadata": {},
   "outputs": [],
   "source": []
  }
 ],
 "metadata": {
  "kernelspec": {
   "display_name": "Python 3",
   "language": "python",
   "name": "python3"
  },
  "language_info": {
   "codemirror_mode": {
    "name": "ipython",
    "version": 3
   },
   "file_extension": ".py",
   "mimetype": "text/x-python",
   "name": "python",
   "nbconvert_exporter": "python",
   "pygments_lexer": "ipython3",
   "version": "3.8.16"
  }
 },
 "nbformat": 4,
 "nbformat_minor": 5
}
