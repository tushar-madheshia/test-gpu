{
 "cells": [
  {
   "cell_type": "code",
   "execution_count": 1,
   "id": "899dd5b0",
   "metadata": {},
   "outputs": [],
   "source": [
    "import os\n",
    "import openai\n",
    "openai.api_type = \"azure\"\n",
    "openai.api_base = \"https://lumin-azure-openai-rnd.openai.azure.com/\"\n",
    "openai.api_version = \"2024-02-01\"\n",
    "openai.api_key = \"38002279fa574fbcba0fbc424ae056d5\"\n",
    "\n",
    "import os\n",
    "from openai import AzureOpenAI\n",
    "client = AzureOpenAI(\n",
    "  azure_endpoint =  \"https://lumin-azure-openai-rnd.openai.azure.com/\",\n",
    "  api_key=\"38002279fa574fbcba0fbc424ae056d5\",  \n",
    "  api_version=\"2024-02-01\"\n",
    ")"
   ]
  },
  {
   "cell_type": "code",
   "execution_count": 2,
   "id": "4d90b4ef",
   "metadata": {},
   "outputs": [],
   "source": [
    "narrative_generation_rules = \"\"\"Act as a narrative generator who always strictly follow the specified rules. Generate a concise, professional narrative describing the data in the given JSON input by keeping all important points for this business report for an analyst.\n",
    "        Rule 1: Keep the narrative brief consisting of 1 to 4 sentences, using simple and professional language without repetition, and not exceeding 50 words, except for \"why\" questions. \n",
    "        Rule 2: If a date-type dimension is present, treat it as a trend line; otherwise, consider it as a distributional chart or bar chart.\n",
    "        Rule 3: For trend line charts, the narrative must include the total measure value, the latest measure value, percentage change in the last date interval, and the highest single period climb in percentage.\n",
    "        Rule 4: For distributional or bar charts, the narrative must provide the total measure value, dimension with the highest measure percentage, and the average measure value if present.\n",
    "        Rule 5: If a filter is present in the input JSON, focus on it in the initial sentence of the narrative.\n",
    "        Rule 6: When specifying filters, prioritize in this order in the narrative: location filter, date filter, and default filter.\n",
    "        Rule 7: For charts with non-additive measures, concentrate on the top, second, and bottom players in the narrative.\n",
    "        Rule 8: For ratio questions, the narrative must emphasize the ratio values.\n",
    "        Rule 9: In share-type questions with bar charts, mention the top and bottom players in the narrative.\n",
    "        Rule 10: For share-type questions with trend line charts, the narrative must include percentage share, interval, change in share, and share trend in the latest date interval, excluding other information.\n",
    "        Rule 11: For growth-rate questions, focus on the latest measure value, final percentage change, and growth-rate trends in the narrative.\n",
    "        Rule 12: For \"why\" questions, the narrative must detail on target change, changes in focus areas, and their contribution percentages. These narratives should be more elaborate.\n",
    "        Rule 13: For kda question types, the narrative must include only the top and bottom key drivers and the corresponding values.\n",
    "        Rule 14: For list questions, the narrative must include only the length and dimension data information including the total measure.\n",
    "        Rule 15: For top-bottom question types, with three or more dimension limit, mention only the top/bottom two values for each dimension in the narrative. Include only the number of many tops and its value if many tops are present for dimension1. Very Important to note that Level2 values in json represents the dimension2 top/bottom values in level1 top1(dimension1).\n",
    "        Rule 16: Strictly exclude attaching symbols such as \"EUR\", \"USD\", \"$\", \"%\" etc to any values. The narrative strictly must contain only the information in the Input_question's json. The narrative strictly must not contain any calculated values if any values mentioned in rule to include in narrative is not known.\n",
    "        Generate the narrative for the given input, ensuring it adheres to these guidelines.\"\"\"\n",
    "\n",
    "question = \"trend of sales across market in 2021\"\n",
    "intermediate_result = \"{'Date_Interval': 'month', 'Latest_period': '2021-12-01', 'Total_Latest_Value': 200609.99, 'Latest_Period_Constant_Measures': False, 'Latest_Top1': ['APAC'], 'Latest_Top1_Values': [53514.51], 'Latest_Top2': ['US'], 'Latest_Top2_Values': [47591.55], 'Latest_Bottom1': ['Canada'], 'Latest_Bottom1_Values': [270.6], 'Negative_present': False, 'Measure': [{'label': 'Sales', 'variable': 'Sales', 'type': 'measure', 'alternate_usage': ['Sales'], 'isRegional': False, 'number_type': 'add_values'}], 'Dimension': [{'label': 'Order Date', 'variable': 'Order Date', 'type': 'dimension', 'alternate_usage': ['Order Date'], 'isRegional': False, 'singular': 'Order Date', 'plural': 'Order Dates'}, {'label': 'Market', 'variable': 'Market', 'type': 'dimension', 'alternate_usage': ['Market'], 'isRegional': False, 'singular': 'Market', 'plural': 'Markets'}], 'Dimension_1_len': 12, 'Dimension_2_len': 7, 'Filter': {'Order Date': [{'ref_interval': 'month', 'start_date': '2021/01/01', 'end_date': '2021/12/31'}]}, 'Many_Top_1': False, 'Share_of_Top1_Latest_Period': '26.68', 'ShareType_of_Top1_Latest_Period': '%', 'Share_of_Top2_Latest_Period': '23.72', 'ShareType_of_Top2_Latest_Period': '%', 'Label_Dates': ['2021-01-01', '2021-02-01', '2021-03-01', '2021-04-01', '2021-05-01', '2021-06-01', '2021-07-01', '2021-08-01', '2021-09-01', '2021-10-01', '2021-11-01', '2021-12-01'], 'Number_of_Tops_Latest_period': 1, 'Additive_Last_Two_Periods_Performance': {'focus_call_out_absolute': False, 'competitor_call_out_absolute': False, 'competitor_available': True, 'focus_competitor_similar_value_change': False, 'competitor_brand': 'US', 'focus_brand': 'APAC', 'focus_same_value_in_final_periods': False, 'competitor_same_value_in_final_periods': False, 'focus_directionv1': 'up', 'focus_change': '37.06', 'focus_change_type': '%', 'competitor_directionv1': 'up', 'com_change': '62.62', 'competitor_change_type': '%'}, 'Top_Players': ['APAC']}\"\n",
    "input_to_model = \"Input_question: \"+question +\"\\n\"+ str(intermediate_result)\n",
    "prompt = \"Analyse the given input JSON and infer the values as per the need expressed in the Question in input.\\n\" + str(input_to_model) + \"\\nNarrative:\"\n",
    "    \n",
    "message_text = [\n",
    "    {\"role\":\"system\",\"content\":narrative_generation_rules},\n",
    "    {\"role\": \"user\", \"content\": prompt}\n",
    "]"
   ]
  },
  {
   "cell_type": "code",
   "execution_count": 3,
   "id": "d07638c3",
   "metadata": {},
   "outputs": [],
   "source": [
    "response = client.chat.completions.create(\n",
    "    model=\"lumin-rnd-gpt-4-32k\", # model = \"deployment_name\".\n",
    "    messages=message_text,\n",
    "    max_tokens=500,\n",
    "    temperature=0,\n",
    "    stop=None,\n",
    "    seed=123,\n",
    "    tools=None,\n",
    "    logprobs=True,  # whether to return log probabilities of the output tokens or not. If true, returns the log probabilities of each output token returned in the content of message..\n",
    "    top_logprobs=2,\n",
    ")"
   ]
  },
  {
   "cell_type": "code",
   "execution_count": 4,
   "id": "89e27005",
   "metadata": {},
   "outputs": [
    {
     "name": "stdout",
     "output_type": "stream",
     "text": [
      "In 2021, total sales reached 200,609.99 with APAC and US markets leading at 26.68% and 23.72% shares respectively. The latest sales value for December 2021 was 53514.51 for APAC and 47591.55 for US. Canada had the lowest sales at 270.6.\n"
     ]
    }
   ],
   "source": [
    "print(response.choices[0].message.content)"
   ]
  },
  {
   "cell_type": "code",
   "execution_count": 6,
   "id": "a151722b",
   "metadata": {},
   "outputs": [
    {
     "name": "stdout",
     "output_type": "stream",
     "text": [
      "Token or the word: In and the probability: -0.0023883758 linear probability: 99.76%\n",
      "Token or the word:   and the probability: -0.00024631983 linear probability: 99.98%\n",
      "Token or the word: 202 and the probability: -5.5122365e-07 linear probability: 100.0%\n",
      "Token or the word: 1 and the probability: -2.8160932e-06 linear probability: 100.0%\n",
      "Token or the word: , and the probability: -7.107425e-06 linear probability: 100.0%\n",
      "Token or the word:  total and the probability: -0.2437134 linear probability: 78.37%\n",
      "Token or the word:  sales and the probability: -1.6524515e-05 linear probability: 100.0%\n",
      "Token or the word:  reached and the probability: -0.260711 linear probability: 77.05%\n",
      "Token or the word:   and the probability: -6.635165e-05 linear probability: 99.99%\n",
      "Token or the word: 200 and the probability: -7.89631e-07 linear probability: 100.0%\n",
      "Token or the word: , and the probability: -0.0044136206 linear probability: 99.56%\n",
      "Token or the word: 609 and the probability: -1.6286107e-05 linear probability: 100.0%\n",
      "Token or the word: . and the probability: -6.704273e-07 linear probability: 100.0%\n",
      "Token or the word: 99 and the probability: -9.0883464e-07 linear probability: 100.0%\n",
      "Token or the word:  with and the probability: -0.2880671 linear probability: 74.97%\n",
      "Token or the word:  AP and the probability: -0.6327449 linear probability: 53.11%\n",
      "Token or the word: AC and the probability: 0.0 linear probability: 100.0%\n",
      "Token or the word:  and and the probability: -1.3366771 linear probability: 26.27%\n",
      "Token or the word:  US and the probability: -0.17976454 linear probability: 83.55%\n",
      "Token or the word:  markets and the probability: -0.5334061 linear probability: 58.66%\n",
      "Token or the word:  leading and the probability: -1.2651384 linear probability: 28.22%\n",
      "Token or the word:  at and the probability: -0.43159568 linear probability: 64.95%\n",
      "Token or the word:   and the probability: -0.005185732 linear probability: 99.48%\n",
      "Token or the word: 26 and the probability: -0.027579652 linear probability: 97.28%\n",
      "Token or the word: . and the probability: -5.5122365e-07 linear probability: 100.0%\n",
      "Token or the word: 68 and the probability: -1.8624639e-06 linear probability: 100.0%\n",
      "Token or the word: % and the probability: -1.0802739e-05 linear probability: 100.0%\n",
      "Token or the word:  and and the probability: -0.0016078205 linear probability: 99.84%\n",
      "Token or the word:   and the probability: -1.0280384e-06 linear probability: 100.0%\n",
      "Token or the word: 23 and the probability: -1.9361265e-07 linear probability: 100.0%\n",
      "Token or the word: . and the probability: -1.9361265e-07 linear probability: 100.0%\n",
      "Token or the word: 72 and the probability: -5.080963e-06 linear probability: 100.0%\n",
      "Token or the word: % and the probability: -0.009565304 linear probability: 99.05%\n",
      "Token or the word:  shares and the probability: -0.33183917 linear probability: 71.76%\n",
      "Token or the word:  respectively and the probability: -0.60690904 linear probability: 54.5%\n",
      "Token or the word: . and the probability: -0.04713963 linear probability: 95.4%\n",
      "Token or the word:  The and the probability: -0.33185542 linear probability: 71.76%\n",
      "Token or the word:  latest and the probability: -0.2250427 linear probability: 79.85%\n",
      "Token or the word:  sales and the probability: -0.6041931 linear probability: 54.65%\n",
      "Token or the word:  value and the probability: -1.0913428 linear probability: 33.58%\n",
      "Token or the word:  for and the probability: -1.0297768 linear probability: 35.71%\n",
      "Token or the word:  December and the probability: -0.009680189 linear probability: 99.04%\n",
      "Token or the word:   and the probability: -0.49002242 linear probability: 61.26%\n",
      "Token or the word: 202 and the probability: -0.001464389 linear probability: 99.85%\n",
      "Token or the word: 1 and the probability: -2.0100624e-05 linear probability: 100.0%\n",
      "Token or the word:  was and the probability: -0.62993544 linear probability: 53.26%\n",
      "Token or the word:   and the probability: -0.0033205457 linear probability: 99.67%\n",
      "Token or the word: 535 and the probability: -0.71583056 linear probability: 48.88%\n",
      "Token or the word: 14 and the probability: -4.9663133e-05 linear probability: 100.0%\n",
      "Token or the word: . and the probability: -6.0345924e-06 linear probability: 100.0%\n",
      "Token or the word: 51 and the probability: -3.5716304e-05 linear probability: 100.0%\n",
      "Token or the word:  for and the probability: -0.439559 linear probability: 64.43%\n",
      "Token or the word:  AP and the probability: -0.007981588 linear probability: 99.21%\n",
      "Token or the word: AC and the probability: -1.9361265e-07 linear probability: 100.0%\n",
      "Token or the word:  and and the probability: -0.06650489 linear probability: 93.57%\n",
      "Token or the word:   and the probability: -9.567575e-05 linear probability: 99.99%\n",
      "Token or the word: 475 and the probability: -0.012234843 linear probability: 98.78%\n",
      "Token or the word: 91 and the probability: -3.2929079e-06 linear probability: 100.0%\n",
      "Token or the word: . and the probability: -1.504853e-06 linear probability: 100.0%\n",
      "Token or the word: 55 and the probability: -1.4378848e-05 linear probability: 100.0%\n",
      "Token or the word:  for and the probability: -2.188868e-05 linear probability: 100.0%\n",
      "Token or the word:  US and the probability: -0.60379165 linear probability: 54.67%\n",
      "Token or the word: . and the probability: -0.17218886 linear probability: 84.18%\n",
      "Token or the word:  Canada and the probability: -0.33742777 linear probability: 71.36%\n",
      "Token or the word:  had and the probability: -0.26789108 linear probability: 76.5%\n",
      "Token or the word:  the and the probability: -7.3458323e-06 linear probability: 100.0%\n",
      "Token or the word:  lowest and the probability: -0.0021896374 linear probability: 99.78%\n",
      "Token or the word:  sales and the probability: -0.004850769 linear probability: 99.52%\n",
      "Token or the word:  at and the probability: -0.76295376 linear probability: 46.63%\n",
      "Token or the word:   and the probability: -0.0010848518 linear probability: 99.89%\n",
      "Token or the word: 270 and the probability: -1.147242e-06 linear probability: 100.0%\n",
      "Token or the word: . and the probability: -1.2664457e-06 linear probability: 100.0%\n",
      "Token or the word: 6 and the probability: -0.004281162 linear probability: 99.57%\n",
      "Token or the word: . and the probability: -0.042643316 linear probability: 95.83%\n",
      "\n",
      "Confidance probability for the entire response is  86.25905405405406 %\n"
     ]
    }
   ],
   "source": [
    "import numpy as np\n",
    "final_prob = 0.0\n",
    "token_count = 0\n",
    "for logprob in response.choices[0].logprobs.content:\n",
    "    token_count+=1\n",
    "    final_prob+=np.round(np.exp(logprob.logprob)*100,2)\n",
    "    print(f\"Token or the word: {logprob.token} and the probability: {logprob.logprob} linear probability: {np.round(np.exp(logprob.logprob)*100,2)}%\")\n",
    "print(\"\\nConfidance probability for the entire response is \",final_prob/token_count,\"%\")"
   ]
  },
  {
   "cell_type": "code",
   "execution_count": null,
   "id": "fcc5baab",
   "metadata": {},
   "outputs": [],
   "source": []
  }
 ],
 "metadata": {
  "kernelspec": {
   "display_name": "Python 3",
   "language": "python",
   "name": "python3"
  },
  "language_info": {
   "codemirror_mode": {
    "name": "ipython",
    "version": 3
   },
   "file_extension": ".py",
   "mimetype": "text/x-python",
   "name": "python",
   "nbconvert_exporter": "python",
   "pygments_lexer": "ipython3",
   "version": "3.8.16"
  }
 },
 "nbformat": 4,
 "nbformat_minor": 5
}
