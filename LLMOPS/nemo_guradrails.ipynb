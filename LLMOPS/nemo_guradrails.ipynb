{
 "cells": [
  {
   "cell_type": "code",
   "execution_count": 1,
   "id": "c6bb564c",
   "metadata": {},
   "outputs": [],
   "source": [
    "import os\n",
    "\n",
    "from langchain_core.messages import HumanMessage\n",
    "from langchain_openai import AzureChatOpenAI\n",
    "\n",
    "os.environ[\"AZURE_OPENAI_API_KEY\"] = \"38002279fa574fbcba0fbc424ae056d5\"\n",
    "os.environ[\"AZURE_OPENAI_ENDPOINT\"] = \"https://lumin-azure-openai-rnd.openai.azure.com/\"\n",
    "\n",
    "model = AzureChatOpenAI(\n",
    "    openai_api_version=\"2023-03-15-preview\",\n",
    "    azure_deployment='lumin-rnd-gpt-4-32k',\n",
    ")"
   ]
  },
  {
   "cell_type": "markdown",
   "id": "65df584c",
   "metadata": {},
   "source": [
    "# Without guardrails"
   ]
  },
  {
   "cell_type": "code",
   "execution_count": 3,
   "id": "65403247",
   "metadata": {},
   "outputs": [
    {
     "data": {
      "text/plain": [
       "'India has a multi-party political system, with numerous parties vying for power at national, state, and local levels. The two main national parties are the Bharatiya Janata Party (BJP) and the Indian National Congress (INC), with the former being the ruling party currently. The BJP is a right-wing party, characterized by its strong stance on nationalism and promotion of Hindu culture, while the INC leans towards center-left, advocating for secularism and social justice. Apart from these, several regional parties such as the Aam Aadmi Party (AAP), Trinamool Congress (TMC), and Dravida Munnetra Kazhagam (DMK) hold significant influence in their respective states. Coalition governments are common in India, as no single party often secures a majority on its own, leading to alliances between parties with shared interests and ideologies.'"
      ]
     },
     "execution_count": 3,
     "metadata": {},
     "output_type": "execute_result"
    }
   ],
   "source": [
    "message = HumanMessage(\n",
    "    content=\"tell me about indian political parties in 5 sentences\"\n",
    ")\n",
    "model([message]).content"
   ]
  },
  {
   "cell_type": "markdown",
   "id": "df4b2c87",
   "metadata": {},
   "source": [
    "# Without guardrails"
   ]
  },
  {
   "cell_type": "code",
   "execution_count": 8,
   "id": "ab198500",
   "metadata": {},
   "outputs": [],
   "source": [
    "colang_content = \"\"\"\n",
    "\n",
    "# define niceties\n",
    "define user express greeting\n",
    "    \"hello\"\n",
    "    \"hi\"\n",
    "    \"what's up?\"\n",
    "\n",
    "define flow greeting\n",
    "    user express greeting\n",
    "    bot express greeting\n",
    "    bot ask how are you\n",
    "\n",
    "# define limits\n",
    "define user ask politics\n",
    "    \"what are your political beliefs?\"\n",
    "    \"thoughts on the president?\"\n",
    "    \"left wing\"\n",
    "    \"right wing\"\n",
    "    \"prime minister\"\n",
    "    \"indian political parties\"\n",
    "\n",
    "define bot answer politics\n",
    "    \"I'm a shopping assistant, I don't like to talk of politics.\"\n",
    "\n",
    "define flow politics\n",
    "    user ask politics\n",
    "    bot answer politics\n",
    "    bot offer help\n",
    "\n",
    "define user ask politics\n",
    "    \"what are your political beliefs?\"\n",
    "    \"thoughts on the president?\"\n",
    "    \"left wing\"\n",
    "    \"right wing\"\n",
    "    \"prime minister\"\n",
    "    \"indian political parties\"\n",
    "\n",
    "define bot answer politics\n",
    "    \"I'm a shopping assistant, I don't like to talk of politics.\"\n",
    "\n",
    "define flow politics\n",
    "    user ask politics\n",
    "    bot answer politics\n",
    "    bot offer help\n",
    "\"\"\"\n",
    "from nemoguardrails import LLMRails, RailsConfig\n",
    "\n",
    "config = RailsConfig.from_content(\n",
    "    colang_content=colang_content\n",
    ")\n",
    "app = LLMRails(config,llm=model)"
   ]
  },
  {
   "cell_type": "code",
   "execution_count": 9,
   "id": "83eeb0e5",
   "metadata": {},
   "outputs": [
    {
     "name": "stderr",
     "output_type": "stream",
     "text": [
      "Error in LoggingCallbackHandler.on_chat_model_start callback: TypeError('can only concatenate list (not \"str\") to list')\n",
      "Error in LoggingCallbackHandler.on_chat_model_start callback: TypeError('can only concatenate list (not \"str\") to list')\n"
     ]
    },
    {
     "name": "stdout",
     "output_type": "stream",
     "text": [
      "I'm a shopping assistant, I don't like to talk of politics.\n",
      "Is there anything else I can help you with? Feel free to ask about any other topic or task you need assistance with.\n"
     ]
    }
   ],
   "source": [
    "res = await app.generate_async(prompt=\"hello,who is indian prime minister now\")\n",
    "print(res)"
   ]
  },
  {
   "cell_type": "code",
   "execution_count": null,
   "id": "7cfa7793",
   "metadata": {},
   "outputs": [],
   "source": []
  }
 ],
 "metadata": {
  "kernelspec": {
   "display_name": "Python 3",
   "language": "python",
   "name": "python3"
  },
  "language_info": {
   "codemirror_mode": {
    "name": "ipython",
    "version": 3
   },
   "file_extension": ".py",
   "mimetype": "text/x-python",
   "name": "python",
   "nbconvert_exporter": "python",
   "pygments_lexer": "ipython3",
   "version": "3.8.16"
  }
 },
 "nbformat": 4,
 "nbformat_minor": 5
}
