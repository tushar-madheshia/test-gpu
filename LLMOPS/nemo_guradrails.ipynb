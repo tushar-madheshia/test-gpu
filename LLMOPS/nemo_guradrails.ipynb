{
 "cells": [
  {
   "cell_type": "code",
   "execution_count": 1,
   "id": "c6bb564c",
   "metadata": {},
   "outputs": [],
   "source": [
    "import os\n",
    "\n",
    "from langchain_core.messages import HumanMessage\n",
    "from langchain_openai import AzureChatOpenAI\n",
    "\n",
    "os.environ[\"AZURE_OPENAI_API_KEY\"] = \"38002279fa574fbcba0fbc424ae056d5\"\n",
    "os.environ[\"AZURE_OPENAI_ENDPOINT\"] = \"https://lumin-azure-openai-rnd.openai.azure.com/\"\n",
    "\n",
    "model = AzureChatOpenAI(\n",
    "    openai_api_version=\"2023-03-15-preview\",\n",
    "    azure_deployment='lumin-rnd-gpt-4-32k',\n",
    ")"
   ]
  },
  {
   "cell_type": "markdown",
   "id": "65df584c",
   "metadata": {},
   "source": [
    "# Without guardrails"
   ]
  },
  {
   "cell_type": "code",
   "execution_count": 12,
   "id": "65403247",
   "metadata": {},
   "outputs": [
    {
     "data": {
      "text/plain": [
       "'As of October 2021, the latest Oscar-related details are about the 94th Academy Awards, which are scheduled to take place on March 27, 2022. The eligibility period for films runs from March 1, 2021, to December 31, 2021. The Academy has announced several changes for the upcoming ceremony:\\n\\n1. The ceremony will return to its traditional home, the Dolby Theatre in Hollywood, after being held at Union Station in Los Angeles for the 93rd Academy Awards.\\n\\n2. The eligibility rules have been modified to include a requirement that all Best Picture nominees must meet specific diversity and inclusion standards, starting with the 96th Academy Awards in 2024.\\n\\n3. The Best Sound Mixing and Best Sound Editing categories have been combined into a single Best Sound category.\\n\\n4. The Academy has introduced a new category, Best Immersive Audio, which will recognize excellence in sound for immersive formats such as Dolby Atmos, DTS:X, and Auro-3D Audio.\\n\\nNominees for the 94th Academy Awards will be announced on February 8, 2022.'"
      ]
     },
     "execution_count": 12,
     "metadata": {},
     "output_type": "execute_result"
    }
   ],
   "source": [
    "message = HumanMessage(\n",
    "    content=\"latest oscar details\"\n",
    ")\n",
    "model([message]).content"
   ]
  },
  {
   "cell_type": "markdown",
   "id": "df4b2c87",
   "metadata": {},
   "source": [
    "# Without guardrails"
   ]
  },
  {
   "cell_type": "code",
   "execution_count": 10,
   "id": "ab198500",
   "metadata": {},
   "outputs": [],
   "source": [
    "colang_content = \"\"\"\n",
    "\n",
    "# define niceties\n",
    "define user express greeting\n",
    "    \"hello\"\n",
    "    \"hi\"\n",
    "    \"what's up?\"\n",
    "\n",
    "define flow greeting\n",
    "    user express greeting\n",
    "    bot express greeting\n",
    "    bot ask how are you\n",
    "\n",
    "# define limits\n",
    "define user ask politics\n",
    "    \"what are your political beliefs?\"\n",
    "    \"thoughts on the president?\"\n",
    "    \"left wing\"\n",
    "    \"right wing\"\n",
    "    \"prime minister\"\n",
    "    \"indian political parties\"\n",
    "\n",
    "define bot answer politics\n",
    "    \"I'm the FDC copilot, I don't like to talk of politics.\"\n",
    "\n",
    "define flow politics\n",
    "    user ask politics\n",
    "    bot answer politics\n",
    "    bot offer help\n",
    "\n",
    "define user ask movies\n",
    "    \"movies and films\"\n",
    "    \"actor and actress\"\n",
    "    \"oscar awards\"\n",
    "    \"theatre\"\n",
    "    \"direction,script and editing\"\n",
    "    \"release\"\n",
    "\n",
    "define bot answer movies\n",
    "    \"I'm the FDC copilot, I don't like to talk of movies.\"\n",
    "\n",
    "define flow movies\n",
    "    user ask movies\n",
    "    bot answer movies\n",
    "    bot offer help\n",
    "\"\"\"\n",
    "from nemoguardrails import LLMRails, RailsConfig\n",
    "\n",
    "config = RailsConfig.from_content(\n",
    "    colang_content=colang_content\n",
    ")\n",
    "app = LLMRails(config,llm=model)"
   ]
  },
  {
   "cell_type": "code",
   "execution_count": 11,
   "id": "83eeb0e5",
   "metadata": {},
   "outputs": [
    {
     "name": "stderr",
     "output_type": "stream",
     "text": [
      "Error in LoggingCallbackHandler.on_chat_model_start callback: TypeError('can only concatenate list (not \"str\") to list')\n",
      "Error in LoggingCallbackHandler.on_chat_model_start callback: TypeError('can only concatenate list (not \"str\") to list')\n"
     ]
    },
    {
     "name": "stdout",
     "output_type": "stream",
     "text": [
      "I'm the FDC copilot, I don't like to talk of movies.\n",
      "Is there any other topic or information you would like to know about? I'm here to help!\n"
     ]
    }
   ],
   "source": [
    "res = await app.generate_async(prompt=\"latest oscar details\")\n",
    "print(res)"
   ]
  },
  {
   "cell_type": "code",
   "execution_count": null,
   "id": "7cfa7793",
   "metadata": {},
   "outputs": [],
   "source": []
  }
 ],
 "metadata": {
  "kernelspec": {
   "display_name": "Python 3",
   "language": "python",
   "name": "python3"
  },
  "language_info": {
   "codemirror_mode": {
    "name": "ipython",
    "version": 3
   },
   "file_extension": ".py",
   "mimetype": "text/x-python",
   "name": "python",
   "nbconvert_exporter": "python",
   "pygments_lexer": "ipython3",
   "version": "3.8.16"
  }
 },
 "nbformat": 4,
 "nbformat_minor": 5
}
