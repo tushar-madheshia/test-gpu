{
 "cells": [
  {
   "cell_type": "code",
   "execution_count": 1,
   "id": "c6bb564c",
   "metadata": {},
   "outputs": [],
   "source": [
    "import os\n",
    "\n",
    "from langchain_core.messages import HumanMessage\n",
    "from langchain_openai import AzureChatOpenAI\n",
    "\n",
    "os.environ[\"AZURE_OPENAI_API_KEY\"] = \"38002279fa574fbcba0fbc424ae056d5\"\n",
    "os.environ[\"AZURE_OPENAI_ENDPOINT\"] = \"https://lumin-azure-openai-rnd.openai.azure.com/\"\n",
    "\n",
    "model = AzureChatOpenAI(\n",
    "    openai_api_version=\"2023-03-15-preview\",\n",
    "    azure_deployment='lumin-rnd-gpt-4-32k',\n",
    ")"
   ]
  },
  {
   "cell_type": "markdown",
   "id": "65df584c",
   "metadata": {},
   "source": [
    "# Without guardrails"
   ]
  },
  {
   "cell_type": "code",
   "execution_count": 2,
   "id": "65403247",
   "metadata": {},
   "outputs": [
    {
     "name": "stderr",
     "output_type": "stream",
     "text": [
      "/tmp/pip_packages/langchain_core/_api/deprecation.py:117: LangChainDeprecationWarning: The function `__call__` was deprecated in LangChain 0.1.7 and will be removed in 0.2.0. Use invoke instead.\n",
      "  warn_deprecated(\n"
     ]
    },
    {
     "data": {
      "text/plain": [
       "\"To prepare a spicy food, you can follow these general steps:\\n\\n1. Choose a spicy base: Select a dish or recipe that can handle the addition of spice, such as curries, chili, stews, or stir-fries. These usually have a combination of flavors that complement the heat of spicy ingredients.\\n\\n2. Select your spicy ingredients: Choose the type of spice you want to add to your dish. Common spicy ingredients include fresh or dried chili peppers, hot sauce, spicy curry paste, cayenne pepper, red pepper flakes, and black or white pepper. You can use one or a combination of these ingredients, depending on your taste preference and heat tolerance.\\n\\n3. Prepare the spicy ingredients: If using fresh chili peppers, chop or mince them finely. Be sure to wear gloves while handling hot peppers to avoid skin irritation. If using dried chili peppers, you can either crush them into flakes, grind them into a powder, or rehydrate them in warm water before using.\\n\\n4. Add the spice gradually: Start with a small amount of your chosen spicy ingredient, and add it to your dish during the cooking process. For example, you can add chopped chili peppers or curry paste to a stir-fry or curry dish while sautéing the onions and garlic. This allows the flavors to meld and the heat to distribute evenly throughout the dish.\\n\\n5. Taste and adjust: As you cook, taste your dish and adjust the spice level accordingly. If you want more heat, add more of your chosen spicy ingredient. Remember, it's easier to add more spice than it is to remove it, so start small and add gradually.\\n\\n6. Balance the heat: To balance the heat of your spicy dish, consider adding ingredients that can help neutralize the spiciness. These include dairy products (such as yogurt, sour cream, or coconut milk), acidic ingredients (like lime juice or vinegar), and sweeteners (such as sugar, honey, or maple syrup).\\n\\n7. Serve with cooling accompaniments: If your dish is particularly spicy, consider serving it with cooling side dishes or accompaniments, like cucumber salad, raita, or a cold beverage.\\n\\nRemember, preparing spicy food is a matter of personal preference. Experiment with different types and amounts of spicy ingredients to find the perfect heat level for you and your guests.\""
      ]
     },
     "execution_count": 2,
     "metadata": {},
     "output_type": "execute_result"
    }
   ],
   "source": [
    "message = HumanMessage(\n",
    "    content=\"Tell me how to prepare a spicy food\"\n",
    ")\n",
    "model([message]).content"
   ]
  },
  {
   "cell_type": "markdown",
   "id": "df4b2c87",
   "metadata": {},
   "source": [
    "# With guardrails"
   ]
  },
  {
   "cell_type": "code",
   "execution_count": 3,
   "id": "ab198500",
   "metadata": {},
   "outputs": [
    {
     "data": {
      "application/vnd.jupyter.widget-view+json": {
       "model_id": "b503660f6aaa4fc98ccf641e1e295ef1",
       "version_major": 2,
       "version_minor": 0
      },
      "text/plain": [
       "Fetching 7 files:   0%|          | 0/7 [00:00<?, ?it/s]"
      ]
     },
     "metadata": {},
     "output_type": "display_data"
    },
    {
     "data": {
      "application/vnd.jupyter.widget-view+json": {
       "model_id": "c5a8adfa917f4ea8869335e6aad04342",
       "version_major": 2,
       "version_minor": 0
      },
      "text/plain": [
       ".gitattributes:   0%|          | 0.00/1.52k [00:00<?, ?B/s]"
      ]
     },
     "metadata": {},
     "output_type": "display_data"
    },
    {
     "data": {
      "application/vnd.jupyter.widget-view+json": {
       "model_id": "9728817fca2e4bd088911cd7fe5125bc",
       "version_major": 2,
       "version_minor": 0
      },
      "text/plain": [
       "special_tokens_map.json:   0%|          | 0.00/695 [00:00<?, ?B/s]"
      ]
     },
     "metadata": {},
     "output_type": "display_data"
    },
    {
     "data": {
      "application/vnd.jupyter.widget-view+json": {
       "model_id": "8c42a2a3ebe24dc49433cb2f4443bf1f",
       "version_major": 2,
       "version_minor": 0
      },
      "text/plain": [
       "tokenizer_config.json:   0%|          | 0.00/1.43k [00:00<?, ?B/s]"
      ]
     },
     "metadata": {},
     "output_type": "display_data"
    },
    {
     "data": {
      "application/vnd.jupyter.widget-view+json": {
       "model_id": "c0ec927b2ca544a5a49fe9c805f22b7d",
       "version_major": 2,
       "version_minor": 0
      },
      "text/plain": [
       "tokenizer.json:   0%|          | 0.00/712k [00:00<?, ?B/s]"
      ]
     },
     "metadata": {},
     "output_type": "display_data"
    },
    {
     "data": {
      "application/vnd.jupyter.widget-view+json": {
       "model_id": "18df74ff09d441eb881a04ccdce47b51",
       "version_major": 2,
       "version_minor": 0
      },
      "text/plain": [
       "config.json:   0%|          | 0.00/650 [00:00<?, ?B/s]"
      ]
     },
     "metadata": {},
     "output_type": "display_data"
    },
    {
     "data": {
      "application/vnd.jupyter.widget-view+json": {
       "model_id": "afc6ed07a7964147bbfe280ccda15cf5",
       "version_major": 2,
       "version_minor": 0
      },
      "text/plain": [
       "vocab.txt:   0%|          | 0.00/232k [00:00<?, ?B/s]"
      ]
     },
     "metadata": {},
     "output_type": "display_data"
    },
    {
     "data": {
      "application/vnd.jupyter.widget-view+json": {
       "model_id": "d33ac272db904f63b635a3ffd39d6990",
       "version_major": 2,
       "version_minor": 0
      },
      "text/plain": [
       "model.onnx:   0%|          | 0.00/90.4M [00:00<?, ?B/s]"
      ]
     },
     "metadata": {},
     "output_type": "display_data"
    }
   ],
   "source": [
    "colang_content = \"\"\"\n",
    "\n",
    "# define niceties\n",
    "define user express greeting\n",
    "    \"hello\"\n",
    "    \"hi\"\n",
    "    \"what's up?\"\n",
    "\n",
    "define flow greeting\n",
    "    user express greeting\n",
    "    bot express greeting\n",
    "    bot ask how are you\n",
    "\n",
    "# define off topics\n",
    "define user ask off topic\n",
    "  \"How's the weather today?\"\n",
    "  \"election details\"\n",
    "  \"Can you recommend a good restaurant nearby?\"\n",
    "  \"What's your opinion on the latest political news?\"\n",
    "  \"How do I cook spaghetti?\"\n",
    "  \"What are the best tourist attractions in Paris?\"\n",
    "\n",
    "define bot explain cant off topic\n",
    "  \"\"I'm the FDC copilot, I don't like to talk about this topic. Please feel free to ask any FDC related questions\"\"\n",
    "\n",
    "define flow\n",
    "  user ask off topic\n",
    "  bot explain cant off topic\n",
    "\"\"\"\n",
    "from nemoguardrails import LLMRails, RailsConfig\n",
    "\n",
    "config = RailsConfig.from_content(\n",
    "    colang_content=colang_content\n",
    ")\n",
    "app = LLMRails(config,llm=model)"
   ]
  },
  {
   "cell_type": "code",
   "execution_count": 4,
   "id": "83eeb0e5",
   "metadata": {},
   "outputs": [
    {
     "name": "stderr",
     "output_type": "stream",
     "text": [
      "Error in LoggingCallbackHandler.on_chat_model_start callback: TypeError('can only concatenate list (not \"str\") to list')\n"
     ]
    },
    {
     "name": "stdout",
     "output_type": "stream",
     "text": [
      "\"I'm the FDC copilot, I don't like to talk about this topic. Please feel free to ask any FDC related questions\"\n"
     ]
    }
   ],
   "source": [
    "res = await app.generate_async(prompt=\"Tell me how to prepare a spicy food\")\n",
    "print(res)"
   ]
  },
  {
   "cell_type": "code",
   "execution_count": null,
   "id": "7cfa7793",
   "metadata": {},
   "outputs": [],
   "source": []
  }
 ],
 "metadata": {
  "kernelspec": {
   "display_name": "Python 3",
   "language": "python",
   "name": "python3"
  },
  "language_info": {
   "codemirror_mode": {
    "name": "ipython",
    "version": 3
   },
   "file_extension": ".py",
   "mimetype": "text/x-python",
   "name": "python",
   "nbconvert_exporter": "python",
   "pygments_lexer": "ipython3",
   "version": "3.8.16"
  }
 },
 "nbformat": 4,
 "nbformat_minor": 5
}
