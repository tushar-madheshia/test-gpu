{
 "cells": [
  {
   "cell_type": "code",
   "execution_count": 1,
   "id": "a885bf9e",
   "metadata": {},
   "outputs": [
    {
     "name": "stdout",
     "output_type": "stream",
     "text": [
      "Collecting nemoguardrails\n",
      "\u001b[?25l  Downloading https://files.pythonhosted.org/packages/da/d2/8388ae07f8ef9df13e1a0fc3a1562a507e95e1fcee999f6227775f43144c/nemoguardrails-0.8.0-py3-none-any.whl (2.5MB)\n",
      "\u001b[K     |████████████████████████████████| 2.5MB 6.9MB/s eta 0:00:01\n",
      "\u001b[?25hCollecting fastembed>=0.2.2\n",
      "  Downloading https://files.pythonhosted.org/packages/14/81/f55925f75c67fce67549b928d2d06eed7331b28e22cd2010a1fca3dc5bb2/fastembed-0.2.2-py3-none-any.whl\n",
      "Collecting pydantic>=1.10\n",
      "\u001b[?25l  Downloading https://files.pythonhosted.org/packages/e5/f3/8296f550276194a58c5500d55b19a27ae0a5a3a51ffef66710c58544b32d/pydantic-2.6.4-py3-none-any.whl (394kB)\n",
      "\u001b[K     |████████████████████████████████| 399kB 60.9MB/s eta 0:00:01\n",
      "\u001b[?25hCollecting prompt-toolkit>=3.0\n",
      "\u001b[?25l  Downloading https://files.pythonhosted.org/packages/ee/fd/ca7bf3869e7caa7a037e23078539467b433a4e01eebd93f77180ab927766/prompt_toolkit-3.0.43-py3-none-any.whl (386kB)\n",
      "\u001b[K     |████████████████████████████████| 389kB 83.9MB/s eta 0:00:01\n",
      "\u001b[?25hCollecting simpleeval>=0.9.13\n",
      "  Downloading https://files.pythonhosted.org/packages/0a/51/bedb4af4f3fe4bb32a3cabfd285be388958c6d676f6b0fa65997812a381b/simpleeval-0.9.13-py2.py3-none-any.whl\n",
      "Collecting httpx>=0.24.1\n",
      "\u001b[?25l  Downloading https://files.pythonhosted.org/packages/41/7b/ddacf6dcebb42466abd03f368782142baa82e08fc0c1f8eaa05b4bae87d5/httpx-0.27.0-py3-none-any.whl (75kB)\n",
      "\u001b[K     |████████████████████████████████| 81kB 22.2MB/s eta 0:00:01\n",
      "\u001b[?25hCollecting nest-asyncio>=1.5.6\n",
      "  Downloading https://files.pythonhosted.org/packages/a0/c4/c2971a3ba4c6103a3d10c4b0f24f461ddc027f0f09763220cf35ca1401b3/nest_asyncio-1.6.0-py3-none-any.whl\n",
      "Collecting pyyaml>=6.0\n",
      "  Using cached https://files.pythonhosted.org/packages/c8/6b/6600ac24725c7388255b2f5add93f91e58a5d7efaf4af244fdbcc11a541b/PyYAML-6.0.1-cp38-cp38-manylinux_2_17_x86_64.manylinux2014_x86_64.whl\n",
      "Collecting langchain-community<0.1.0,>=0.0.16\n",
      "\u001b[?25l  Downloading https://files.pythonhosted.org/packages/f9/c5/40e0fa5fddce3028052d6ae9596c5629dd6f81176c78e229c58e58409f55/langchain_community-0.0.28-py3-none-any.whl (1.8MB)\n",
      "\u001b[K     |████████████████████████████████| 1.8MB 64.5MB/s eta 0:00:01\n",
      "\u001b[?25hCollecting aiohttp>=3.9.2\n",
      "\u001b[?25l  Downloading https://files.pythonhosted.org/packages/46/11/5c9481d7a7f511b51e9b2a85885640268d0b92207a89e529585a3af397b8/aiohttp-3.9.3-cp38-cp38-manylinux_2_17_x86_64.manylinux2014_x86_64.whl (1.3MB)\n",
      "\u001b[K     |████████████████████████████████| 1.3MB 105.1MB/s eta 0:00:01\n",
      "\u001b[?25hCollecting typer>=0.7.0\n",
      "\u001b[?25l  Downloading https://files.pythonhosted.org/packages/bf/0e/c68adf10adda05f28a6ed7b9f4cd7b8e07f641b44af88ba72d9c89e4de7a/typer-0.9.0-py3-none-any.whl (45kB)\n",
      "\u001b[K     |████████████████████████████████| 51kB 24.9MB/s eta 0:00:01\n",
      "\u001b[?25hCollecting lark~=1.1.7\n",
      "\u001b[?25l  Downloading https://files.pythonhosted.org/packages/e7/9c/eef7c591e6dc952f3636cfe0df712c0f9916cedf317810a3bb53ccb65cdd/lark-1.1.9-py3-none-any.whl (111kB)\n",
      "\u001b[K     |████████████████████████████████| 112kB 113.8MB/s eta 0:00:01\n",
      "\u001b[?25hCollecting starlette>=0.27.0\n",
      "\u001b[?25l  Downloading https://files.pythonhosted.org/packages/fd/18/31fa32ed6c68ba66220204ef0be798c349d0a20c1901f9d4a794e08c76d8/starlette-0.37.2-py3-none-any.whl (71kB)\n",
      "\u001b[K     |████████████████████████████████| 81kB 44.7MB/s  eta 0:00:01\n",
      "\u001b[?25hCollecting uvicorn>=0.23\n",
      "\u001b[?25l  Downloading https://files.pythonhosted.org/packages/25/bd/c20daf18824b1552d37579fc2f8cc147355c113d55aff21211443a2f89b9/uvicorn-0.28.0-py3-none-any.whl (60kB)\n",
      "\u001b[K     |████████████████████████████████| 61kB 34.5MB/s eta 0:00:01\n",
      "\u001b[?25hCollecting langchain!=0.1.9,<0.2.0,>=0.1.0\n",
      "\u001b[?25l  Downloading https://files.pythonhosted.org/packages/b0/58/9a8777dff52bf5485c391cf3951e3d3b787afdc5967b29e25694ea014377/langchain-0.1.12-py3-none-any.whl (809kB)\n",
      "\u001b[K     |████████████████████████████████| 819kB 99.8MB/s eta 0:00:01\n",
      "\u001b[?25hCollecting watchdog>=3.0.0\n",
      "\u001b[?25l  Downloading https://files.pythonhosted.org/packages/91/7b/26d2f43aa9fe428416be21ee1cb9ac75638cf302466b7e706c14eeaea42c/watchdog-4.0.0-py3-none-manylinux2014_x86_64.whl (82kB)\n",
      "\u001b[K     |████████████████████████████████| 92kB 41.3MB/s  eta 0:00:01\n",
      "\u001b[?25hCollecting annoy>=1.17.3\n",
      "\u001b[?25l  Downloading https://files.pythonhosted.org/packages/07/38/e321b0e05d8cc068a594279fb7c097efb1df66231c295d482d7ad51b6473/annoy-1.17.3.tar.gz (647kB)\n",
      "\u001b[K     |████████████████████████████████| 655kB 115.4MB/s eta 0:00:01\n",
      "\u001b[?25hCollecting jinja2>=3.1.3\n",
      "\u001b[?25l  Downloading https://files.pythonhosted.org/packages/30/6d/6de6be2d02603ab56e72997708809e8a5b0fbfee080735109b40a3564843/Jinja2-3.1.3-py3-none-any.whl (133kB)\n",
      "\u001b[K     |████████████████████████████████| 143kB 99.5MB/s eta 0:00:01\n",
      "\u001b[?25hCollecting rich>=13.5.2\n",
      "\u001b[?25l  Downloading https://files.pythonhosted.org/packages/87/67/a37f6214d0e9fe57f6ae54b2956d550ca8365857f42a1ce0392bb21d9410/rich-13.7.1-py3-none-any.whl (240kB)\n",
      "\u001b[K     |████████████████████████████████| 245kB 104.0MB/s eta 0:00:01\n",
      "\u001b[?25hCollecting langchain-core!=0.1.26,>=0.1.0\n",
      "\u001b[?25l  Downloading https://files.pythonhosted.org/packages/93/fa/a671529ad3932c8e8da0ab3443ac7b9989e7fb622e78bcd7051581a93209/langchain_core-0.1.31-py3-none-any.whl (258kB)\n",
      "\u001b[K     |████████████████████████████████| 266kB 101.1MB/s eta 0:00:01\n",
      "\u001b[?25hCollecting fastapi>=0.103.0\n",
      "\u001b[?25l  Downloading https://files.pythonhosted.org/packages/f0/f7/ea860cb8aa18e326f411e32ab537424690a53db20de6bad73d70da611fae/fastapi-0.110.0-py3-none-any.whl (92kB)\n",
      "\u001b[K     |████████████████████████████████| 92kB 35.3MB/s eta 0:00:01\n",
      "\u001b[?25hCollecting huggingface-hub<0.21,>=0.20\n",
      "\u001b[?25l  Downloading https://files.pythonhosted.org/packages/28/03/7d3c7153113ec59cfb31e3b8ee773f5f420a0dd7d26d40442542b96675c3/huggingface_hub-0.20.3-py3-none-any.whl (330kB)\n",
      "\u001b[K     |████████████████████████████████| 337kB 105.8MB/s eta 0:00:01\n",
      "\u001b[31mERROR: Could not find a version that satisfies the requirement onnxruntime<2.0.0,>=1.17.0 (from fastembed>=0.2.2->nemoguardrails) (from versions: 1.2.0, 1.3.0, 1.4.0, 1.5.1, 1.5.2, 1.6.0, 1.7.0, 1.8.0, 1.8.1, 1.9.0, 1.10.0, 1.11.0, 1.11.1, 1.12.0, 1.12.1, 1.13.1, 1.14.0, 1.14.1, 1.15.0, 1.15.1, 1.16.0, 1.16.1, 1.16.2, 1.16.3)\u001b[0m\n",
      "\u001b[31mERROR: No matching distribution found for onnxruntime<2.0.0,>=1.17.0 (from fastembed>=0.2.2->nemoguardrails)\u001b[0m\n",
      "\u001b[?25h"
     ]
    }
   ],
   "source": [
    "!pip install nemoguardrails"
   ]
  },
  {
   "cell_type": "code",
   "execution_count": 2,
   "id": "00bddb25",
   "metadata": {},
   "outputs": [
    {
     "name": "stdout",
     "output_type": "stream",
     "text": [
      "\u001b[31mERROR: Could not find a version that satisfies the requirement onnxruntime==1.17.0 (from versions: 1.2.0, 1.3.0, 1.4.0, 1.5.1, 1.5.2, 1.6.0, 1.7.0, 1.8.0, 1.8.1, 1.9.0, 1.10.0, 1.11.0, 1.11.1, 1.12.0, 1.12.1, 1.13.1, 1.14.0, 1.14.1, 1.15.0, 1.15.1, 1.16.0, 1.16.1, 1.16.2, 1.16.3)\u001b[0m\r\n",
      "\u001b[31mERROR: No matching distribution found for onnxruntime==1.17.0\u001b[0m\r\n"
     ]
    }
   ],
   "source": [
    "!pip install onnxruntime==1.17.0 "
   ]
  },
  {
   "cell_type": "code",
   "execution_count": 1,
   "id": "ba036ad6",
   "metadata": {},
   "outputs": [
    {
     "name": "stdout",
     "output_type": "stream",
     "text": [
      "3.8.16 (default, Jun 12 2023, 18:09:05) \n",
      "[GCC 11.2.0]\n"
     ]
    }
   ],
   "source": [
    "import sys\n",
    "print(sys.version)"
   ]
  },
  {
   "cell_type": "code",
   "execution_count": null,
   "id": "1c3136d1",
   "metadata": {},
   "outputs": [],
   "source": []
  }
 ],
 "metadata": {
  "kernelspec": {
   "display_name": "Python 3",
   "language": "python",
   "name": "python3"
  },
  "language_info": {
   "codemirror_mode": {
    "name": "ipython",
    "version": 3
   },
   "file_extension": ".py",
   "mimetype": "text/x-python",
   "name": "python",
   "nbconvert_exporter": "python",
   "pygments_lexer": "ipython3",
   "version": "3.8.16"
  }
 },
 "nbformat": 4,
 "nbformat_minor": 5
}
