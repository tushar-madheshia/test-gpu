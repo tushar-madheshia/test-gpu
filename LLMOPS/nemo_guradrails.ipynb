{
 "cells": [
  {
   "cell_type": "code",
   "execution_count": 1,
   "id": "c6bb564c",
   "metadata": {},
   "outputs": [],
   "source": [
    "import os\n",
    "\n",
    "from langchain_core.messages import HumanMessage\n",
    "from langchain_openai import AzureChatOpenAI\n",
    "\n",
    "os.environ[\"AZURE_OPENAI_API_KEY\"] = \"38002279fa574fbcba0fbc424ae056d5\"\n",
    "os.environ[\"AZURE_OPENAI_ENDPOINT\"] = \"https://lumin-azure-openai-rnd.openai.azure.com/\"\n",
    "\n",
    "model = AzureChatOpenAI(\n",
    "    openai_api_version=\"2023-03-15-preview\",\n",
    "    azure_deployment='lumin-rnd-gpt-4-32k',\n",
    ")"
   ]
  },
  {
   "cell_type": "markdown",
   "id": "65df584c",
   "metadata": {},
   "source": [
    "# Without guardrails"
   ]
  },
  {
   "cell_type": "code",
   "execution_count": 3,
   "id": "65403247",
   "metadata": {},
   "outputs": [
    {
     "data": {
      "text/plain": [
       "'In 2010, the Election Commission (EC) in various countries played a significant role in organizing and supervising electoral processes, ensuring free and fair elections. The EC is an independent body responsible for administering election procedures, registering political parties, maintaining electoral rolls, and ensuring the conduct of free and fair elections.\\n\\nIn India, for example, the Election Commission of India (ECI) organized state legislative assembly elections in Bihar, where the National Democratic Alliance (NDA) emerged victorious. The ECI ensured that the Model Code of Conduct was followed by all parties, and it monitored the election process, including the use of electronic voting machines (EVMs).\\n\\nIn the United Kingdom, the Electoral Commission, an independent body, is responsible for overseeing elections and referendums, regulating political finance, and maintaining the electoral register. In 2010, the UK held a general election, resulting in a hung parliament and the formation of a coalition government between the Conservative Party and the Liberal Democrats. The Electoral Commission played a crucial role in ensuring the proper functioning of the elections and addressing any issues that arose during the process.\\n\\nIn the United States, the Federal Election Commission (FEC) is responsible for enforcing campaign finance laws and overseeing public funding for presidential elections. In 2010, the FEC played a significant role in monitoring and enforcing campaign finance regulations during the midterm congressional elections, which saw the Republican Party gain a majority in the House of Representatives.\\n\\nOverall, election commissions worldwide in 2010 worked diligently to uphold democratic principles, maintain the integrity of electoral processes, and ensure that citizens could exercise their right to vote in free and fair elections.'"
      ]
     },
     "execution_count": 3,
     "metadata": {},
     "output_type": "execute_result"
    }
   ],
   "source": [
    "message = HumanMessage(\n",
    "    content=\"election commision in 2010\"\n",
    ")\n",
    "model([message]).content"
   ]
  },
  {
   "cell_type": "markdown",
   "id": "df4b2c87",
   "metadata": {},
   "source": [
    "# With guardrails"
   ]
  },
  {
   "cell_type": "code",
   "execution_count": 6,
   "id": "ab198500",
   "metadata": {},
   "outputs": [],
   "source": [
    "colang_content = \"\"\"\n",
    "\n",
    "# define niceties\n",
    "define user express greeting\n",
    "    \"hello\"\n",
    "    \"hi\"\n",
    "    \"what's up?\"\n",
    "\n",
    "define flow greeting\n",
    "    user express greeting\n",
    "    bot express greeting\n",
    "    bot ask how are you\n",
    "\n",
    "# define limits\n",
    "define user ask politics\n",
    "    \"what are your political beliefs?\"\n",
    "    \"election\"\n",
    "    \"thoughts on the president?\"\n",
    "    \"left wing\"\n",
    "    \"right wing\"\n",
    "    \"prime minister\"\n",
    "    \"indian political parties\"\n",
    "\n",
    "define bot answer politics\n",
    "    \"I'm the FDC copilot, I don't like to talk of politics.\"\n",
    "\n",
    "define flow politics\n",
    "    user ask politics\n",
    "    bot answer politics\n",
    "    bot offer help\n",
    "\n",
    "define user ask movies\n",
    "    \"movies and films\"\n",
    "    \"actor and actress\"\n",
    "    \"oscar awards\"\n",
    "    \"theatre\"\n",
    "    \"direction,script and editing\"\n",
    "    \"release\"\n",
    "\n",
    "define bot answer movies\n",
    "    \"I'm the FDC copilot, I don't like to talk of movies.\"\n",
    "\n",
    "define flow movies\n",
    "    user ask movies\n",
    "    bot answer movies\n",
    "    bot offer help\n",
    "\"\"\"\n",
    "from nemoguardrails import LLMRails, RailsConfig\n",
    "\n",
    "config = RailsConfig.from_content(\n",
    "    colang_content=colang_content\n",
    ")\n",
    "app = LLMRails(config,llm=model)"
   ]
  },
  {
   "cell_type": "code",
   "execution_count": 7,
   "id": "83eeb0e5",
   "metadata": {},
   "outputs": [
    {
     "name": "stderr",
     "output_type": "stream",
     "text": [
      "Error in LoggingCallbackHandler.on_chat_model_start callback: TypeError('can only concatenate list (not \"str\") to list')\n",
      "Error in LoggingCallbackHandler.on_chat_model_start callback: TypeError('can only concatenate list (not \"str\") to list')\n"
     ]
    },
    {
     "name": "stdout",
     "output_type": "stream",
     "text": [
      "I'm the FDC copilot, I don't like to talk of politics.\n",
      "If you have any other non-political questions or need assistance, feel free to ask.\n"
     ]
    }
   ],
   "source": [
    "res = await app.generate_async(prompt=\"election commision in 2010\")\n",
    "print(res)"
   ]
  },
  {
   "cell_type": "code",
   "execution_count": null,
   "id": "7cfa7793",
   "metadata": {},
   "outputs": [],
   "source": []
  }
 ],
 "metadata": {
  "kernelspec": {
   "display_name": "Python 3",
   "language": "python",
   "name": "python3"
  },
  "language_info": {
   "codemirror_mode": {
    "name": "ipython",
    "version": 3
   },
   "file_extension": ".py",
   "mimetype": "text/x-python",
   "name": "python",
   "nbconvert_exporter": "python",
   "pygments_lexer": "ipython3",
   "version": "3.8.16"
  }
 },
 "nbformat": 4,
 "nbformat_minor": 5
}
