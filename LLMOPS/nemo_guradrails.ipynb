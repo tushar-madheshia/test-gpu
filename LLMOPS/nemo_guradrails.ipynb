{
 "cells": [
  {
   "cell_type": "code",
   "execution_count": 5,
   "id": "c6bb564c",
   "metadata": {},
   "outputs": [],
   "source": [
    "import os\n",
    "\n",
    "from langchain_core.messages import HumanMessage\n",
    "from langchain_openai import AzureChatOpenAI\n",
    "\n",
    "os.environ[\"AZURE_OPENAI_API_KEY\"] = \"38002279fa574fbcba0fbc424ae056d5\"\n",
    "os.environ[\"AZURE_OPENAI_ENDPOINT\"] = \"https://lumin-azure-openai-rnd.openai.azure.com/\"\n",
    "\n",
    "model = AzureChatOpenAI(\n",
    "    openai_api_version=\"2023-03-15-preview\",\n",
    "    azure_deployment='lumin-rnd-gpt-4-32k',\n",
    ")"
   ]
  },
  {
   "cell_type": "markdown",
   "id": "65df584c",
   "metadata": {},
   "source": [
    "# Without guardrails"
   ]
  },
  {
   "cell_type": "code",
   "execution_count": 6,
   "id": "65403247",
   "metadata": {},
   "outputs": [
    {
     "name": "stderr",
     "output_type": "stream",
     "text": [
      "/tmp/pip_packages/langchain_core/_api/deprecation.py:117: LangChainDeprecationWarning: The function `__call__` was deprecated in LangChain 0.1.7 and will be removed in 0.2.0. Use invoke instead.\n",
      "  warn_deprecated(\n"
     ]
    },
    {
     "data": {
      "text/plain": [
       "'Indian politics, diverse and complex, involves two major parties, Congress and BJP, regional parties, intense rivalry, power struggles, and coalition governments.'"
      ]
     },
     "execution_count": 6,
     "metadata": {},
     "output_type": "execute_result"
    }
   ],
   "source": [
    "message = HumanMessage(\n",
    "    content=\"tell me about indian politics in 20 words\"\n",
    ")\n",
    "model([message]).content"
   ]
  },
  {
   "cell_type": "markdown",
   "id": "df4b2c87",
   "metadata": {},
   "source": [
    "# With guardrails"
   ]
  },
  {
   "cell_type": "code",
   "execution_count": 7,
   "id": "ab198500",
   "metadata": {},
   "outputs": [],
   "source": [
    "colang_content = \"\"\"\n",
    "\n",
    "# define niceties\n",
    "define user express greeting\n",
    "    \"hello\"\n",
    "    \"hi\"\n",
    "    \"what's up?\"\n",
    "\n",
    "define flow greeting\n",
    "    user express greeting\n",
    "    bot express greeting\n",
    "    bot ask how are you\n",
    "\n",
    "# define off topics\n",
    "define user ask off topic\n",
    "  \"How's the weather today?\"\n",
    "  \"election details\"\n",
    "  \"Can you recommend a good restaurant nearby?\"\n",
    "  \"What's your opinion on the latest political news?\"\n",
    "  \"How do I cook spaghetti?\"\n",
    "  \"latest indian political status\"\n",
    "  \"What are the best tourist attractions in Paris?\"\n",
    "\n",
    "define bot explain cant off topic\n",
    "  \"\"I'm the FDC copilot, I don't like to talk about this topic. Please feel free to ask any FDC related questions\"\"\n",
    "\n",
    "define flow\n",
    "  user ask off topic\n",
    "  bot explain cant off topic\n",
    "\"\"\"\n",
    "from nemoguardrails import LLMRails, RailsConfig\n",
    "\n",
    "config = RailsConfig.from_content(\n",
    "    colang_content=colang_content\n",
    ")\n",
    "#app = LLMRails(config,llm=model)\n",
    "app = LLMRails(config,llm=model)"
   ]
  },
  {
   "cell_type": "code",
   "execution_count": 8,
   "id": "83eeb0e5",
   "metadata": {},
   "outputs": [
    {
     "name": "stderr",
     "output_type": "stream",
     "text": [
      "Error in LoggingCallbackHandler.on_chat_model_start callback: TypeError('can only concatenate list (not \"str\") to list')\n"
     ]
    },
    {
     "name": "stdout",
     "output_type": "stream",
     "text": [
      "\"I'm the FDC copilot, I don't like to talk about this topic. Please feel free to ask any FDC related questions\"\n"
     ]
    }
   ],
   "source": [
    "res = await app.generate_async(prompt=\"Can you recommend a good restaurant nearby?\")\n",
    "print(res)"
   ]
  },
  {
   "cell_type": "code",
   "execution_count": null,
   "id": "7cfa7793",
   "metadata": {},
   "outputs": [],
   "source": [
    "nemoguardrails"
   ]
  }
 ],
 "metadata": {
  "kernelspec": {
   "display_name": "Python 3",
   "language": "python",
   "name": "python3"
  },
  "language_info": {
   "codemirror_mode": {
    "name": "ipython",
    "version": 3
   },
   "file_extension": ".py",
   "mimetype": "text/x-python",
   "name": "python",
   "nbconvert_exporter": "python",
   "pygments_lexer": "ipython3",
   "version": "3.8.16"
  }
 },
 "nbformat": 4,
 "nbformat_minor": 5
}
