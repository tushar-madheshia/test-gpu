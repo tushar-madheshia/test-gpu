{
 "cells": [
  {
   "cell_type": "code",
   "execution_count": 1,
   "id": "c6bb564c",
   "metadata": {},
   "outputs": [],
   "source": [
    "import os\n",
    "\n",
    "from langchain_core.messages import HumanMessage\n",
    "from langchain_openai import AzureChatOpenAI\n",
    "\n",
    "os.environ[\"AZURE_OPENAI_API_KEY\"] = \"38002279fa574fbcba0fbc424ae056d5\"\n",
    "os.environ[\"AZURE_OPENAI_ENDPOINT\"] = \"https://lumin-azure-openai-rnd.openai.azure.com/\"\n",
    "\n",
    "model = AzureChatOpenAI(\n",
    "    openai_api_version=\"2023-03-15-preview\",\n",
    "    azure_deployment='lumin-rnd-gpt-4-32k',\n",
    ")"
   ]
  },
  {
   "cell_type": "markdown",
   "id": "65df584c",
   "metadata": {},
   "source": [
    "# Without guardrails"
   ]
  },
  {
   "cell_type": "code",
   "execution_count": 2,
   "id": "65403247",
   "metadata": {},
   "outputs": [
    {
     "name": "stderr",
     "output_type": "stream",
     "text": [
      "/tmp/pip_packages/langchain_core/_api/deprecation.py:117: LangChainDeprecationWarning: The function `__call__` was deprecated in LangChain 0.1.7 and will be removed in 0.2.0. Use invoke instead.\n",
      "  warn_deprecated(\n"
     ]
    },
    {
     "data": {
      "text/plain": [
       "'As an AI language model, I do not have personal opinions or feelings. My purpose is to provide information and answer questions based on the data I have been trained on. If you have any specific questions about the president, feel free to ask and I will do my best to provide you with accurate and unbiased information.'"
      ]
     },
     "execution_count": 2,
     "metadata": {},
     "output_type": "execute_result"
    }
   ],
   "source": [
    "message = HumanMessage(\n",
    "    content=\"what do you think of the president?\"\n",
    ")\n",
    "model([message]).content"
   ]
  },
  {
   "cell_type": "markdown",
   "id": "e5fb7a29",
   "metadata": {},
   "source": [
    "# Without guardrails"
   ]
  },
  {
   "cell_type": "code",
   "execution_count": 5,
   "id": "ab198500",
   "metadata": {},
   "outputs": [
    {
     "data": {
      "application/vnd.jupyter.widget-view+json": {
       "model_id": "ebe2b76c456b4c5287ebd1ca492ae1b0",
       "version_major": 2,
       "version_minor": 0
      },
      "text/plain": [
       "Fetching 7 files:   0%|          | 0/7 [00:00<?, ?it/s]"
      ]
     },
     "metadata": {},
     "output_type": "display_data"
    },
    {
     "data": {
      "application/vnd.jupyter.widget-view+json": {
       "model_id": "b3f4f16c7ca94608acf13d72d0e7869e",
       "version_major": 2,
       "version_minor": 0
      },
      "text/plain": [
       "special_tokens_map.json:   0%|          | 0.00/695 [00:00<?, ?B/s]"
      ]
     },
     "metadata": {},
     "output_type": "display_data"
    },
    {
     "data": {
      "application/vnd.jupyter.widget-view+json": {
       "model_id": "9ea007f464fc42ce9c714431755bff51",
       "version_major": 2,
       "version_minor": 0
      },
      "text/plain": [
       ".gitattributes:   0%|          | 0.00/1.52k [00:00<?, ?B/s]"
      ]
     },
     "metadata": {},
     "output_type": "display_data"
    },
    {
     "data": {
      "application/vnd.jupyter.widget-view+json": {
       "model_id": "87cfed3829ed4dd5b5d971d9ac51e1a6",
       "version_major": 2,
       "version_minor": 0
      },
      "text/plain": [
       "config.json:   0%|          | 0.00/650 [00:00<?, ?B/s]"
      ]
     },
     "metadata": {},
     "output_type": "display_data"
    },
    {
     "data": {
      "application/vnd.jupyter.widget-view+json": {
       "model_id": "79b1a21a6671412f9b9a99e0988b3adc",
       "version_major": 2,
       "version_minor": 0
      },
      "text/plain": [
       "tokenizer_config.json:   0%|          | 0.00/1.43k [00:00<?, ?B/s]"
      ]
     },
     "metadata": {},
     "output_type": "display_data"
    },
    {
     "data": {
      "application/vnd.jupyter.widget-view+json": {
       "model_id": "61f293068380494f9f2a283f382f077b",
       "version_major": 2,
       "version_minor": 0
      },
      "text/plain": [
       "tokenizer.json:   0%|          | 0.00/712k [00:00<?, ?B/s]"
      ]
     },
     "metadata": {},
     "output_type": "display_data"
    },
    {
     "data": {
      "application/vnd.jupyter.widget-view+json": {
       "model_id": "60cb7509cb68474b9589e9b263e39b35",
       "version_major": 2,
       "version_minor": 0
      },
      "text/plain": [
       "vocab.txt:   0%|          | 0.00/232k [00:00<?, ?B/s]"
      ]
     },
     "metadata": {},
     "output_type": "display_data"
    },
    {
     "data": {
      "application/vnd.jupyter.widget-view+json": {
       "model_id": "e3e087a1e41045a4800ab1106381ffba",
       "version_major": 2,
       "version_minor": 0
      },
      "text/plain": [
       "model.onnx:   0%|          | 0.00/90.4M [00:00<?, ?B/s]"
      ]
     },
     "metadata": {},
     "output_type": "display_data"
    },
    {
     "name": "stderr",
     "output_type": "stream",
     "text": [
      "Error in LoggingCallbackHandler.on_chat_model_start callback: TypeError('can only concatenate list (not \"str\") to list')\n",
      "Error in LoggingCallbackHandler.on_chat_model_start callback: TypeError('can only concatenate list (not \"str\") to list')\n"
     ]
    },
    {
     "name": "stdout",
     "output_type": "stream",
     "text": [
      "I'm a shopping assistant, I don't like to talk of politics.\n",
      "If you have any non-political questions or need assistance with something else, please feel free to ask.\n"
     ]
    }
   ],
   "source": [
    "colang_content = \"\"\"\n",
    "\n",
    "# define niceties\n",
    "define user express greeting\n",
    "    \"hello\"\n",
    "    \"hi\"\n",
    "    \"what's up?\"\n",
    "\n",
    "define flow greeting\n",
    "    user express greeting\n",
    "    bot express greeting\n",
    "    bot ask how are you\n",
    "\n",
    "# define limits\n",
    "define user ask politics\n",
    "    \"what are your political beliefs?\"\n",
    "    \"thoughts on the president?\"\n",
    "    \"left wing\"\n",
    "    \"right wing\"\n",
    "\n",
    "define bot answer politics\n",
    "    \"I'm a shopping assistant, I don't like to talk of politics.\"\n",
    "\n",
    "define flow politics\n",
    "    user ask politics\n",
    "    bot answer politics\n",
    "    bot offer help\n",
    "\"\"\"\n",
    "yaml_content = \"\"\"\n",
    "type: main\n",
    "engine: azure\n",
    "model: lumin-rnd-gpt-4-32k\n",
    "parameters:\n",
    "    azure_endpoint: https://lumin-azure-openai-rnd.openai.azure.com/\n",
    "    api_version: 2023-03-15-preview\n",
    "    deployment_name: lumin-rnd-gpt-4-32k\n",
    "    api_key: 38002279fa574fbcba0fbc424ae056d5\n",
    "\"\"\"\n",
    "from nemoguardrails import LLMRails, RailsConfig\n",
    "\n",
    "config = RailsConfig.from_content(\n",
    "    yaml_content=yaml_content,\n",
    "    colang_content=colang_content\n",
    ")\n",
    "app = LLMRails(config,llm=model)\n",
    "res = await app.generate_async(prompt=\"what do you think of the president?\")\n",
    "print(res)"
   ]
  },
  {
   "cell_type": "code",
   "execution_count": 6,
   "id": "83eeb0e5",
   "metadata": {},
   "outputs": [
    {
     "name": "stdout",
     "output_type": "stream",
     "text": [
      "WARNING: pip is being invoked by an old script wrapper. This will fail in a future version of pip.\n",
      "Please see https://github.com/pypa/pip/issues/5599 for advice on fixing the underlying issue.\n",
      "To avoid this problem you can invoke Python with '-m pip' instead of running pip directly.\n",
      "absl-py==1.4.0\n",
      "accelerate==0.21.0\n",
      "aiohttp==3.9.3\n",
      "aiosignal==1.3.1\n",
      "alembic==1.11.1\n",
      "annotated-types==0.6.0\n",
      "annoy==1.17.3\n",
      "anyio==4.3.0\n",
      "argon2-cffi==21.3.0\n",
      "argon2-cffi-bindings==21.2.0\n",
      "asttokens==2.2.1\n",
      "async-generator==1.10\n",
      "async-timeout==4.0.3\n",
      "attrs==23.2.0\n",
      "Babel==2.12.1\n",
      "backcall==0.2.0\n",
      "beautifulsoup4==4.12.2\n",
      "bleach==4.1.0\n",
      "boltons @ file:///croot/boltons_1677628692245/work\n",
      "bqplot==0.12.39\n",
      "brotlipy==0.7.0\n",
      "cachetools==5.3.1\n",
      "certifi==2024.2.2\n",
      "certipy==0.1.3\n",
      "cffi @ file:///croot/cffi_1670423208954/work\n",
      "charset-normalizer==3.3.2\n",
      "click==8.1.7\n",
      "cloudpickle==1.6.0\n",
      "coloredlogs==15.0.1\n",
      "conda @ file:///croot/conda_1685025188142/work\n",
      "conda-package-handling @ file:///croot/conda-package-handling_1685024767917/work\n",
      "conda_package_streaming @ file:///croot/conda-package-streaming_1685019673878/work\n",
      "configparser==6.0.0\n",
      "cryptography @ file:///croot/cryptography_1686613057838/work\n",
      "dataclasses-json==0.6.4\n",
      "datasets==2.14.3\n",
      "decorator==5.1.1\n",
      "defusedxml==0.7.1\n",
      "dill==0.3.7\n",
      "distro==1.9.0\n",
      "entrypoints==0.4\n",
      "evaluate==0.4.0\n",
      "exceptiongroup==1.2.0\n",
      "executing==1.2.0\n",
      "fastapi==0.110.0\n",
      "fastembed==0.2.3\n",
      "fastjsonschema==2.17.1\n",
      "filelock==3.13.1\n",
      "flatbuffers==24.3.7\n",
      "frozenlist==1.4.1\n",
      "fsspec==2024.2.0\n",
      "google-auth==2.22.0\n",
      "google-auth-oauthlib==1.0.0\n",
      "greenlet==3.0.3\n",
      "grpcio==1.56.2\n",
      "h11==0.14.0\n",
      "httpcore==1.0.4\n",
      "httpx==0.27.0\n",
      "huggingface-hub==0.20.3\n",
      "humanfriendly==10.0\n",
      "idna==3.6\n",
      "importlib-metadata==6.7.0\n",
      "importlib-resources==5.12.0\n",
      "ipykernel==5.5.5\n",
      "ipython==8.12.2\n",
      "ipython-genutils==0.2.0\n",
      "ipywidgets==8.0.6\n",
      "jedi==0.18.2\n",
      "Jinja2==3.1.3\n",
      "joblib==1.3.1\n",
      "json5==0.9.14\n",
      "jsonpatch==1.33\n",
      "jsonpointer==2.4\n",
      "jsonschema==3.2.0\n",
      "jupyter-server==2.0.0a1\n",
      "jupyter-telemetry==0.1.0\n",
      "jupyter_client==8.2.0\n",
      "jupyter_core==5.3.1\n",
      "jupyter_server_terminals==0.4.4\n",
      "jupyterhub==1.5.0\n",
      "jupyterlab==3.2.4\n",
      "jupyterlab-pygments==0.2.2\n",
      "jupyterlab-widgets==3.0.7\n",
      "jupyterlab_server==2.23.0\n",
      "langchain==0.1.12\n",
      "langchain-community==0.0.28\n",
      "langchain-core==0.1.31\n",
      "langchain-openai==0.0.8\n",
      "langchain-text-splitters==0.0.1\n",
      "langsmith==0.1.24\n",
      "lark==1.1.9\n",
      "loguru==0.7.2\n",
      "Mako==1.2.4\n",
      "Markdown==3.4.4\n",
      "markdown-it-py==3.0.0\n",
      "MarkupSafe==2.1.5\n",
      "marshmallow==3.21.1\n",
      "matplotlib-inline==0.1.6\n",
      "mdurl==0.1.2\n",
      "mistune==3.0.1\n",
      "mosaic-utils==1.0.2\n",
      "mpmath==1.3.0\n",
      "multidict==6.0.5\n",
      "multiprocess==0.70.15\n",
      "mypy-extensions==1.0.0\n",
      "nbclassic==0.5.6\n",
      "nbclient==0.5.4\n",
      "nbconvert==7.6.0\n",
      "nbformat==5.9.0\n",
      "nemoguardrails==0.8.0\n",
      "nest-asyncio==1.6.0\n",
      "networkx==3.0\n",
      "notebook==6.4.10\n",
      "notebook_shim==0.2.3\n",
      "numpy==1.24.4\n",
      "oauthlib==3.2.2\n",
      "onnx==1.15.0\n",
      "onnxruntime==1.17.1\n",
      "openai==1.13.3\n",
      "orjson==3.9.15\n",
      "packaging==23.2\n",
      "pamela==1.1.0\n",
      "pandas==2.0.2\n",
      "pandocfilters==1.5.0\n",
      "parso==0.8.3\n",
      "pexpect==4.8.0\n",
      "pickleshare==0.7.5\n",
      "Pillow==9.3.0\n",
      "platformdirs==3.6.0\n",
      "pluggy @ file:///tmp/build/80754af9/pluggy_1648042571233/work\n",
      "prometheus-client==0.17.0\n",
      "prompt-toolkit==3.0.43\n",
      "protobuf==4.25.3\n",
      "psutil==5.9.5\n",
      "ptyprocess==0.7.0\n",
      "pure-eval==0.2.2\n",
      "pyarrow==12.0.1\n",
      "pyasn1==0.5.0\n",
      "pyasn1-modules==0.3.0\n",
      "pycosat @ file:///croot/pycosat_1666805502580/work\n",
      "pycparser @ file:///tmp/build/80754af9/pycparser_1636541352034/work\n",
      "pydantic==2.6.4\n",
      "pydantic_core==2.16.3\n",
      "Pygments==2.17.2\n",
      "PyMySQL==1.1.0\n",
      "pyOpenSSL @ file:///croot/pyopenssl_1677607685877/work\n",
      "pyrsistent==0.19.3\n",
      "PySocks @ file:///tmp/build/80754af9/pysocks_1605305779399/work\n",
      "python-dateutil==2.8.2\n",
      "python-json-logger==2.0.7\n",
      "pytz==2023.3\n",
      "PyYAML==6.0.1\n",
      "pyzmq==25.1.0\n",
      "refractml==1.0.3\n",
      "regex==2023.12.25\n",
      "requests==2.31.0\n",
      "requests-oauthlib==1.3.1\n",
      "requests-toolbelt==0.9.1\n",
      "responses==0.18.0\n",
      "rich==13.7.1\n",
      "rsa==4.9\n",
      "ruamel-yaml-conda @ file:///tmp/build/80754af9/ruamel_yaml_1616016699510/work\n",
      "ruamel.yaml==0.16.9\n",
      "ruamel.yaml.clib @ file:///croot/ruamel.yaml.clib_1666302247304/work\n",
      "safetensors==0.3.2\n",
      "scikit-learn==1.2.1\n",
      "scipy==1.10.1\n",
      "Send2Trash==1.8.2\n",
      "sentencepiece==0.1.99\n",
      "shutils==0.1.0\n",
      "simpleeval==0.9.13\n",
      "six==1.16.0\n",
      "sniffio==1.3.1\n",
      "soupsieve==2.4.1\n",
      "SQLAlchemy==2.0.28\n",
      "stack-data==0.6.2\n",
      "starlette==0.36.3\n",
      "sympy==1.12\n",
      "tenacity==8.2.3\n",
      "tensorboard==2.13.0\n",
      "tensorboard-data-server==0.7.1\n",
      "terminado==0.17.1\n",
      "threadpoolctl==3.2.0\n",
      "tiktoken==0.6.0\n",
      "tinycss2==1.2.1\n",
      "tokenizers==0.15.2\n",
      "toolz @ file:///croot/toolz_1667464077321/work\n",
      "torch==2.0.1+cpu\n",
      "torchaudio==2.0.2+cpu\n",
      "torchvision==0.15.2+cpu\n",
      "tornado==6.3.2\n",
      "tqdm==4.66.2\n",
      "traitlets==5.9.0\n",
      "traittypes==0.2.1\n",
      "transformers==4.31.0\n",
      "typer==0.9.0\n",
      "typing-inspect==0.9.0\n",
      "typing_extensions==4.10.0\n",
      "tzdata==2023.3\n",
      "urllib3==2.2.1\n",
      "uvicorn==0.28.0\n",
      "watchdog==4.0.0\n",
      "wcwidth==0.2.13\n",
      "webencodings==0.5.1\n",
      "websocket-client==1.6.0\n",
      "Werkzeug==2.3.6\n",
      "widgetsnbextension==4.0.7\n",
      "xxhash==3.3.0\n",
      "yarl==1.9.4\n",
      "zipp==3.15.0\n",
      "zstandard @ file:///croot/zstandard_1677013143055/work\n"
     ]
    }
   ],
   "source": [
    "!pip freeze"
   ]
  },
  {
   "cell_type": "code",
   "execution_count": null,
   "id": "6ffdfbf8",
   "metadata": {},
   "outputs": [],
   "source": []
  }
 ],
 "metadata": {
  "kernelspec": {
   "display_name": "Python 3",
   "language": "python",
   "name": "python3"
  },
  "language_info": {
   "codemirror_mode": {
    "name": "ipython",
    "version": 3
   },
   "file_extension": ".py",
   "mimetype": "text/x-python",
   "name": "python",
   "nbconvert_exporter": "python",
   "pygments_lexer": "ipython3",
   "version": "3.8.16"
  }
 },
 "nbformat": 4,
 "nbformat_minor": 5
}
