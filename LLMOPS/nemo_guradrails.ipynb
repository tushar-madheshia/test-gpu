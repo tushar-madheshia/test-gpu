{
 "cells": [
  {
   "cell_type": "code",
   "execution_count": 10,
   "id": "c6bb564c",
   "metadata": {},
   "outputs": [],
   "source": [
    "import os\n",
    "\n",
    "from langchain_core.messages import HumanMessage\n",
    "from langchain_openai import AzureChatOpenAI\n",
    "\n",
    "os.environ[\"AZURE_OPENAI_API_KEY\"] = \"38002279fa574fbcba0fbc424ae056d5\"\n",
    "os.environ[\"AZURE_OPENAI_ENDPOINT\"] = \"https://lumin-azure-openai-rnd.openai.azure.com/\"\n",
    "\n",
    "model = AzureChatOpenAI(\n",
    "    openai_api_version=\"2023-03-15-preview\",\n",
    "    azure_deployment='lumin-rnd-gpt-4-32k',\n",
    ")"
   ]
  },
  {
   "cell_type": "markdown",
   "id": "65df584c",
   "metadata": {},
   "source": [
    "# Without guardrails"
   ]
  },
  {
   "cell_type": "code",
   "execution_count": 15,
   "id": "65403247",
   "metadata": {},
   "outputs": [
    {
     "data": {
      "text/plain": [
       "\"To prepare a spicy food, follow these steps:\\n\\n1. Choose a recipe: First, decide on a dish that you would like to make spicy. This could be anything from a curry, soup, stir-fry, or even a pasta dish. Look for recipes that already call for spicy ingredients, or simply choose one that you can easily modify by adding your desired spices.\\n\\n2. Select your spices: Decide on which spices and chili peppers you would like to use to add heat to your dish. Some popular options include cayenne pepper, red pepper flakes, jalapenos, serrano peppers, habanero peppers, and Thai bird's eye chilies. You can also use spice blends such as chili powder, curry powder, or garam masala.\\n\\n3. Prepare your ingredients: Chop, dice, or mince your chosen chili peppers, and measure out your spices. Be sure to wash your hands thoroughly after handling chili peppers, as the capsaicin can cause irritation if it comes into contact with your eyes or mucous membranes.\\n\\n4. Cook your dish: Begin cooking your recipe according to the instructions. When it comes time to add the spices, start with a smaller amount than you think you might need. You can always add more spice later if the dish isn't spicy enough.\\n\\n5. Taste and adjust: As you cook, periodically taste your dish to check the level of spiciness. If you want to increase the heat, add more of your chosen spices or chili peppers. Keep in mind that some spices take time to fully release their flavors, so the heat may intensify as the dish continues to cook.\\n\\n6. Balance the flavors: Spicy dishes often benefit from a balance of flavors, so consider adding ingredients that will provide sweetness, acidity, or creaminess to counter the heat. For example, you could add a touch of sugar, a squeeze of lime juice, or a dollop of yogurt or coconut milk to help balance the spice.\\n\\n7. Serve with cooling accompaniments: When you serve your spicy dish, consider offering some cooling side dishes to help offset the heat. This could include a simple cucumber salad, a bowl of steamed rice, or a piece of flatbread or naan.\\n\\nRemember, the key to preparing a spicy dish is to start with a smaller amount of spice and gradually increase it to suit your taste. And don't forget to have fun experimenting with different spices and chili peppers to create your perfect spicy dish!\""
      ]
     },
     "execution_count": 15,
     "metadata": {},
     "output_type": "execute_result"
    }
   ],
   "source": [
    "message = HumanMessage(\n",
    "    content=\"Tell me how to prepare a spicy food\"\n",
    ")\n",
    "model([message]).content"
   ]
  },
  {
   "cell_type": "markdown",
   "id": "df4b2c87",
   "metadata": {},
   "source": [
    "# With guardrails"
   ]
  },
  {
   "cell_type": "code",
   "execution_count": 12,
   "id": "ab198500",
   "metadata": {},
   "outputs": [],
   "source": [
    "colang_content = \"\"\"\n",
    "\n",
    "# define niceties\n",
    "define user express greeting\n",
    "    \"hello\"\n",
    "    \"hi\"\n",
    "    \"what's up?\"\n",
    "\n",
    "define flow greeting\n",
    "    user express greeting\n",
    "    bot express greeting\n",
    "    bot ask how are you\n",
    "\n",
    "# define off topics\n",
    "define user ask off topic\n",
    "  \"How's the weather today?\"\n",
    "  \"election details\"\n",
    "  \"Can you recommend a good restaurant nearby?\"\n",
    "  \"What's your opinion on the latest political news?\"\n",
    "  \"How do I cook spaghetti?\"\n",
    "  \"What are the best tourist attractions in Paris?\"\n",
    "\n",
    "define bot explain cant off topic\n",
    "  \"\"I'm the FDC copilot, I don't like to talk about this topic. Please feel free to ask any FDC related questions\"\"\n",
    "\n",
    "define flow\n",
    "  user ask off topic\n",
    "  bot explain cant off topic\n",
    "\"\"\"\n",
    "from nemoguardrails import LLMRails, RailsConfig\n",
    "\n",
    "config = RailsConfig.from_content(\n",
    "    colang_content=colang_content\n",
    ")\n",
    "app = LLMRails(config,llm=model)"
   ]
  },
  {
   "cell_type": "code",
   "execution_count": 20,
   "id": "83eeb0e5",
   "metadata": {},
   "outputs": [
    {
     "name": "stderr",
     "output_type": "stream",
     "text": [
      "Error in LoggingCallbackHandler.on_chat_model_start callback: TypeError('can only concatenate list (not \"str\") to list')\n"
     ]
    },
    {
     "name": "stdout",
     "output_type": "stream",
     "text": [
      "\"I'm the FDC copilot, I don't like to talk about this topic. Please feel free to ask any FDC related questions\"\n"
     ]
    }
   ],
   "source": [
    "res = await app.generate_async(prompt=\"Tell me how to prepare a spicy food\")\n",
    "print(res)"
   ]
  },
  {
   "cell_type": "code",
   "execution_count": null,
   "id": "7cfa7793",
   "metadata": {},
   "outputs": [],
   "source": []
  }
 ],
 "metadata": {
  "kernelspec": {
   "display_name": "Python 3",
   "language": "python",
   "name": "python3"
  },
  "language_info": {
   "codemirror_mode": {
    "name": "ipython",
    "version": 3
   },
   "file_extension": ".py",
   "mimetype": "text/x-python",
   "name": "python",
   "nbconvert_exporter": "python",
   "pygments_lexer": "ipython3",
   "version": "3.8.16"
  }
 },
 "nbformat": 4,
 "nbformat_minor": 5
}
