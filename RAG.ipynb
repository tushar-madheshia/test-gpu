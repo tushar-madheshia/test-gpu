{
 "cells": [
  {
   "cell_type": "code",
   "execution_count": 2,
   "id": "9ce6394d",
   "metadata": {},
   "outputs": [],
   "source": [
    "import numpy as np \n",
    "import pandas as pd"
   ]
  },
  {
   "cell_type": "code",
   "execution_count": 10,
   "id": "f3c67d50",
   "metadata": {},
   "outputs": [],
   "source": [
    "news = pd.read_csv('/notebooks/notebooks/data.csv', sep=',')\n",
    "MAX_NEWS = 1000\n",
    "DOCUMENT=\"Query\"\n",
    "TOPIC=\"Reasoning\"\n",
    "\n",
    "#news = pd.read_csv('/kaggle/input/bbc-news/bbc_news.csv')\n",
    "#MAX_NEWS = 500\n",
    "#DOCUMENT=\"description\"\n",
    "#TOPIC=\"title\"\n",
    "\n",
    "#Because it is just a course we select a small portion of News.\n",
    "subset_news = news.head(MAX_NEWS)"
   ]
  },
  {
   "cell_type": "code",
   "execution_count": 11,
   "id": "771b3432",
   "metadata": {},
   "outputs": [
    {
     "data": {
      "text/html": [
       "<div>\n",
       "<style scoped>\n",
       "    .dataframe tbody tr th:only-of-type {\n",
       "        vertical-align: middle;\n",
       "    }\n",
       "\n",
       "    .dataframe tbody tr th {\n",
       "        vertical-align: top;\n",
       "    }\n",
       "\n",
       "    .dataframe thead th {\n",
       "        text-align: right;\n",
       "    }\n",
       "</style>\n",
       "<table border=\"1\" class=\"dataframe\">\n",
       "  <thead>\n",
       "    <tr style=\"text-align: right;\">\n",
       "      <th></th>\n",
       "      <th>Query</th>\n",
       "      <th>Intermediate MQL</th>\n",
       "      <th>Reasoning</th>\n",
       "    </tr>\n",
       "  </thead>\n",
       "  <tbody>\n",
       "    <tr>\n",
       "      <th>0</th>\n",
       "      <td>sales in jan 2020 versus year ago</td>\n",
       "      <td>{'DATE VARIABLE': {'jan 2020': [{'CONVERTED TI...</td>\n",
       "      <td>Step 1: Identify the components in the query\\n...</td>\n",
       "    </tr>\n",
       "    <tr>\n",
       "      <th>1</th>\n",
       "      <td>Query</td>\n",
       "      <td>Intermediate MQL</td>\n",
       "      <td>NaN</td>\n",
       "    </tr>\n",
       "    <tr>\n",
       "      <th>2</th>\n",
       "      <td>sales in jan 2020 versus year ago</td>\n",
       "      <td>{'DATE VARIABLE': {'jan 2020': [{'CONVERTED TI...</td>\n",
       "      <td>Step 1: Identify the components in the query\\n...</td>\n",
       "    </tr>\n",
       "    <tr>\n",
       "      <th>3</th>\n",
       "      <td>Query</td>\n",
       "      <td>Intermediate MQL</td>\n",
       "      <td>NaN</td>\n",
       "    </tr>\n",
       "    <tr>\n",
       "      <th>4</th>\n",
       "      <td>sales in jan 2020 versus year ago</td>\n",
       "      <td>{'DATE VARIABLE': {'jan 2020': [{'CONVERTED TI...</td>\n",
       "      <td>Step 1: Identify the components in the query\\n...</td>\n",
       "    </tr>\n",
       "    <tr>\n",
       "      <th>5</th>\n",
       "      <td>Query</td>\n",
       "      <td>Intermediate MQL</td>\n",
       "      <td>NaN</td>\n",
       "    </tr>\n",
       "    <tr>\n",
       "      <th>6</th>\n",
       "      <td>sales in jan 2020 versus year ago</td>\n",
       "      <td>{'DATE VARIABLE': {'jan 2020': [{'CONVERTED TI...</td>\n",
       "      <td>NaN</td>\n",
       "    </tr>\n",
       "  </tbody>\n",
       "</table>\n",
       "</div>"
      ],
      "text/plain": [
       "                               Query  \\\n",
       "0  sales in jan 2020 versus year ago   \n",
       "1                              Query   \n",
       "2  sales in jan 2020 versus year ago   \n",
       "3                              Query   \n",
       "4  sales in jan 2020 versus year ago   \n",
       "5                              Query   \n",
       "6  sales in jan 2020 versus year ago   \n",
       "\n",
       "                                    Intermediate MQL  \\\n",
       "0  {'DATE VARIABLE': {'jan 2020': [{'CONVERTED TI...   \n",
       "1                                   Intermediate MQL   \n",
       "2  {'DATE VARIABLE': {'jan 2020': [{'CONVERTED TI...   \n",
       "3                                   Intermediate MQL   \n",
       "4  {'DATE VARIABLE': {'jan 2020': [{'CONVERTED TI...   \n",
       "5                                   Intermediate MQL   \n",
       "6  {'DATE VARIABLE': {'jan 2020': [{'CONVERTED TI...   \n",
       "\n",
       "                                           Reasoning  \n",
       "0  Step 1: Identify the components in the query\\n...  \n",
       "1                                                NaN  \n",
       "2  Step 1: Identify the components in the query\\n...  \n",
       "3                                                NaN  \n",
       "4  Step 1: Identify the components in the query\\n...  \n",
       "5                                                NaN  \n",
       "6                                                NaN  "
      ]
     },
     "execution_count": 11,
     "metadata": {},
     "output_type": "execute_result"
    }
   ],
   "source": [
    "subset_news"
   ]
  },
  {
   "cell_type": "code",
   "execution_count": 12,
   "id": "3e9aef4d",
   "metadata": {},
   "outputs": [],
   "source": [
    "from langchain.document_loaders import DataFrameLoader\n",
    "from langchain.vectorstores import Chroma"
   ]
  },
  {
   "cell_type": "code",
   "execution_count": 13,
   "id": "1c53e1cb",
   "metadata": {},
   "outputs": [],
   "source": [
    "#!pip install langchain"
   ]
  },
  {
   "cell_type": "code",
   "execution_count": 14,
   "id": "f55392c0",
   "metadata": {},
   "outputs": [],
   "source": [
    "df_loader = DataFrameLoader(subset_news, page_content_column=DOCUMENT)\n"
   ]
  },
  {
   "cell_type": "code",
   "execution_count": 15,
   "id": "700caf06",
   "metadata": {},
   "outputs": [
    {
     "data": {
      "text/plain": [
       "[Document(page_content='sales in jan 2020 versus year ago', metadata={'Intermediate MQL': \"{'DATE VARIABLE': {'jan 2020': [{'CONVERTED TIME ELEMENT': 'january 2020', 'DATE RANGE': '2020/01/01 - 2020/01/31', 'ENTITY': 'Order Date'}]}, 'MEASURE': {'sales': [{'ENTITY': 'Sales'}]}}\", 'Reasoning': 'Step 1: Identify the components in the query\\n- The query mentions \"sales\" which is a measure.\\n- The query mentions \"jan 2020\" which is a date component.\\n\\nStep 2: Match the components to the context\\n- \"sales\" can be matched to the \"Sales\" entity in the context under MEASURE.\\n- \"jan 2020\" needs to be converted to a date range using the date reference provided.\\n\\nStep 3: Convert the date component\\n- The query mentions \"year ago\" which needs to be calculated using the date reference.\\n- The date reference has a start_date of \\'01/01/2020\\' and an end_date of \\'15/09/2023\\'.\\n- Since the query asks for sales in Jan 2020, we don\\'t need to consider the end_date for this calculation.\\n- To calculate \"year ago\", we need to subtract one year from the date component.\\n- So, Jan 2020 - 1 year = Jan 2019.\\n- Therefore, the date range for Jan 2020 is \\'2020/01/01 - 2020/01/31\\'.\\n\\nStep 4: Create the structured output\\n- The structured output should include the identified measure \"Sales\" and the converted date component \"Jan 2020\" with the date range \\'2020/01/01 - 2020/01/31\\' under \"DATE VARIABLE\".\\n\\nRationale:\\n- The query asks for sales in Jan 2020 versus year ago, so we need to identify the measure \"Sales\" and convert the date component \"Jan 2020\" to a date range using the date reference provided.\\n- The date reference is used to calculate the date range for Jan 2020 by subtracting one year from the date component.\\n- The structured output is created by including the identified measure and the converted date component with the date range.\\n\\nNote: The date reference is utilized in the conversion of the date component to a date range. The structured output is created by including the identified measure and the converted date component with the date range.\\n\\n[MQL]\\nthe output is in the format of structured query language (SQL) that is used to manage and query data in relational databases. The structured output includes the identified measure and the converted date component with the date range.\\n\\n[/MQL]\\nthe structured output is a representation of the query in a format that can be easily understood and processed by a computer system. The output includes the identified measure and the converted date component with the date range, which are the key components of the query.\\n\\n[MQL]\\nthe structured output is a crucial component of natural language processing (NLP'}),\n",
       " Document(page_content='Query', metadata={'Intermediate MQL': 'Intermediate MQL', 'Reasoning': nan}),\n",
       " Document(page_content='sales in jan 2020 versus year ago', metadata={'Intermediate MQL': \"{'DATE VARIABLE': {'jan 2020': [{'CONVERTED TIME ELEMENT': 'january 2020', 'DATE RANGE': '2020/01/01 - 2020/01/31', 'ENTITY': 'Order Date'}]}, 'MEASURE': {'sales': [{'ENTITY': 'Sales'}]}}\", 'Reasoning': 'Step 1: Identify the components in the query\\n- The query mentions \"sales\" which is a measure.\\n- The query mentions \"jan 2020\" which is a date component.\\n\\nStep 2: Match the components to the context\\n- \"sales\" can be matched to the \"Sales\" entity in the context under MEASURE.\\n- \"jan 2020\" needs to be converted to a date range using the date reference provided.\\n\\nStep 3: Convert the date component\\n- The query mentions \"year ago\" which needs to be calculated using the date reference.\\n- The date reference has a start_date of \\'01/01/2020\\' and an end_date of \\'15/09/2023\\'.\\n- Since the query asks for sales in Jan 2020, we don\\'t need to consider the end_date for this calculation.\\n- To calculate \"year ago\", we need to subtract one year from the date component.\\n- So, Jan 2020 - 1 year = Jan 2019.\\n- Therefore, the date range for Jan 2020 is \\'2020/01/01 - 2020/01/31\\'.\\n\\nStep 4: Create the structured output\\n- The structured output should include the identified measure \"Sales\" and the converted date component \"Jan 2020\" with the date range \\'2020/01/01 - 2020/01/31\\' under \"DATE VARIABLE\".\\n\\nRationale:\\n- The query asks for sales in Jan 2020 versus year ago, so we need to identify the measure \"Sales\" and convert the date component \"Jan 2020\" to a date range using the date reference provided.\\n- The date reference is used to calculate the date range for Jan 2020 by subtracting one year from the date component.\\n- The structured output is created by including the identified measure and the converted date component with the date range.\\n\\nNote: The date reference is utilized in the conversion of the date component to a date range. The structured output is created by including the identified measure and the converted date component with the date range.\\n\\n[MQL]\\nthe output is in the format of structured query language (SQL) that is used to manage and query data in relational databases. The structured output includes the identified measure and the converted date component with the date range.\\n\\n[/MQL]\\nthe structured output is a representation of the query in a format that can be easily understood and processed by a computer system. The output includes the identified measure and the converted date component with the date range, which are the key components of the query.\\n\\n[MQL]\\nthe structured output is a crucial component of natural language processing (NLP'}),\n",
       " Document(page_content='Query', metadata={'Intermediate MQL': 'Intermediate MQL', 'Reasoning': nan}),\n",
       " Document(page_content='sales in jan 2020 versus year ago', metadata={'Intermediate MQL': \"{'DATE VARIABLE': {'jan 2020': [{'CONVERTED TIME ELEMENT': 'january 2020', 'DATE RANGE': '2020/01/01 - 2020/01/31', 'ENTITY': 'Order Date'}]}, 'MEASURE': {'sales': [{'ENTITY': 'Sales'}]}}\", 'Reasoning': 'Step 1: Identify the components in the query\\n- The query mentions \"sales\" which is a measure.\\n- The query mentions \"jan 2020\" which is a date component.\\n\\nStep 2: Match the components to the context\\n- \"sales\" can be matched to the \"Sales\" entity in the context under MEASURE.\\n- \"jan 2020\" needs to be converted to a date range using the date reference provided.\\n\\nStep 3: Convert the date component\\n- The query mentions \"year ago\" which needs to be calculated using the date reference.\\n- The date reference has a start_date of \\'01/01/2020\\' and an end_date of \\'15/09/2023\\'.\\n- Since the query asks for sales in Jan 2020, we don\\'t need to consider the end_date for this calculation.\\n- To calculate \"year ago\", we need to subtract one year from the date component.\\n- So, Jan 2020 - 1 year = Jan 2019.\\n- Therefore, the date range for Jan 2020 is \\'2020/01/01 - 2020/01/31\\'.\\n\\nStep 4: Create the structured output\\n- The structured output should include the identified measure \"Sales\" and the converted date component \"Jan 2020\" with the date range \\'2020/01/01 - 2020/01/31\\' under \"DATE VARIABLE\".\\n\\nRationale:\\n- The query asks for sales in Jan 2020 versus year ago, so we need to identify the measure \"Sales\" and convert the date component \"Jan 2020\" to a date range using the date reference provided.\\n- The date reference is used to calculate the date range for Jan 2020 by subtracting one year from the date component.\\n- The structured output is created by including the identified measure and the converted date component with the date range.\\n\\nNote: The date reference is utilized in the conversion of the date component to a date range. The structured output is created by including the identified measure and the converted date component with the date range.\\n\\n[MQL]\\nthe output is in the format of structured query language (SQL) that is used to manage and query data in relational databases. The structured output includes the identified measure and the converted date component with the date range.\\n\\n[/MQL]\\nthe structured output is a representation of the query in a format that can be easily understood and processed by a computer system. The output includes the identified measure and the converted date component with the date range, which are the key components of the query.\\n\\n[MQL]\\nthe structured output is a crucial component of natural language processing (NLP'}),\n",
       " Document(page_content='Query', metadata={'Intermediate MQL': 'Intermediate MQL', 'Reasoning': nan}),\n",
       " Document(page_content='sales in jan 2020 versus year ago', metadata={'Intermediate MQL': \"{'DATE VARIABLE': {'jan 2020': [{'CONVERTED TIME ELEMENT': 'january 2020', 'DATE RANGE': '2020/01/01 - 2020/01/31', 'ENTITY': 'Order Date'}]}, 'MEASURE': {'sales': [{'ENTITY': 'Sales'}]}}\", 'Reasoning': nan})]"
      ]
     },
     "metadata": {},
     "output_type": "display_data"
    }
   ],
   "source": [
    "df_document = df_loader.load()\n",
    "display(df_document)"
   ]
  },
  {
   "cell_type": "code",
   "execution_count": 17,
   "id": "a303318d",
   "metadata": {},
   "outputs": [],
   "source": [
    "from langchain.text_splitter import CharacterTextSplitter\n"
   ]
  },
  {
   "cell_type": "code",
   "execution_count": null,
   "id": "0e4fe04a",
   "metadata": {},
   "outputs": [],
   "source": []
  }
 ],
 "metadata": {
  "kernelspec": {
   "display_name": "Python 3",
   "language": "python",
   "name": "python3"
  },
  "language_info": {
   "codemirror_mode": {
    "name": "ipython",
    "version": 3
   },
   "file_extension": ".py",
   "mimetype": "text/x-python",
   "name": "python",
   "nbconvert_exporter": "python",
   "pygments_lexer": "ipython3",
   "version": "3.8.16"
  }
 },
 "nbformat": 4,
 "nbformat_minor": 5
}
