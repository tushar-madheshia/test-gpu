{
 "cells": [
  {
   "cell_type": "code",
   "execution_count": 1,
   "id": "96996d7d",
   "metadata": {},
   "outputs": [],
   "source": [
    "import numpy as np \n",
    "import pandas as pd"
   ]
  },
  {
   "cell_type": "code",
   "execution_count": 2,
   "id": "69d7d83d",
   "metadata": {},
   "outputs": [],
   "source": [
    "news = pd.read_csv('/notebooks/notebooks/data.csv', sep=',')\n",
    "MAX_NEWS = 1000\n",
    "DOCUMENT=\"Query\"\n",
    "TOPIC=\"Reasoning\"\n",
    "\n",
    "#news = pd.read_csv('/kaggle/input/bbc-news/bbc_news.csv')\n",
    "#MAX_NEWS = 500\n",
    "#DOCUMENT=\"description\"\n",
    "#TOPIC=\"title\"\n",
    "\n",
    "#Because it is just a course we select a small portion of News.\n",
    "subset_news = news.head(MAX_NEWS)"
   ]
  },
  {
   "cell_type": "code",
   "execution_count": 3,
   "id": "0510a058",
   "metadata": {},
   "outputs": [
    {
     "data": {
      "text/html": [
       "<div>\n",
       "<style scoped>\n",
       "    .dataframe tbody tr th:only-of-type {\n",
       "        vertical-align: middle;\n",
       "    }\n",
       "\n",
       "    .dataframe tbody tr th {\n",
       "        vertical-align: top;\n",
       "    }\n",
       "\n",
       "    .dataframe thead th {\n",
       "        text-align: right;\n",
       "    }\n",
       "</style>\n",
       "<table border=\"1\" class=\"dataframe\">\n",
       "  <thead>\n",
       "    <tr style=\"text-align: right;\">\n",
       "      <th></th>\n",
       "      <th>Query</th>\n",
       "      <th>Intermediate MQL</th>\n",
       "      <th>Reasoning</th>\n",
       "    </tr>\n",
       "  </thead>\n",
       "  <tbody>\n",
       "    <tr>\n",
       "      <th>0</th>\n",
       "      <td>sales in jan 2020 versus year ago</td>\n",
       "      <td>{'DATE VARIABLE': {'jan 2020': [{'CONVERTED TI...</td>\n",
       "      <td>Step 1: Identify the components in the query\\n...</td>\n",
       "    </tr>\n",
       "    <tr>\n",
       "      <th>1</th>\n",
       "      <td>Query</td>\n",
       "      <td>Intermediate MQL</td>\n",
       "      <td>NaN</td>\n",
       "    </tr>\n",
       "    <tr>\n",
       "      <th>2</th>\n",
       "      <td>sales in jan 2020 versus year ago</td>\n",
       "      <td>{'DATE VARIABLE': {'jan 2020': [{'CONVERTED TI...</td>\n",
       "      <td>Step 1: Identify the components in the query\\n...</td>\n",
       "    </tr>\n",
       "    <tr>\n",
       "      <th>3</th>\n",
       "      <td>Query</td>\n",
       "      <td>Intermediate MQL</td>\n",
       "      <td>NaN</td>\n",
       "    </tr>\n",
       "    <tr>\n",
       "      <th>4</th>\n",
       "      <td>sales in jan 2020 versus year ago</td>\n",
       "      <td>{'DATE VARIABLE': {'jan 2020': [{'CONVERTED TI...</td>\n",
       "      <td>Step 1: Identify the components in the query\\n...</td>\n",
       "    </tr>\n",
       "    <tr>\n",
       "      <th>5</th>\n",
       "      <td>Query</td>\n",
       "      <td>Intermediate MQL</td>\n",
       "      <td>NaN</td>\n",
       "    </tr>\n",
       "    <tr>\n",
       "      <th>6</th>\n",
       "      <td>sales in jan 2020 versus year ago</td>\n",
       "      <td>{'DATE VARIABLE': {'jan 2020': [{'CONVERTED TI...</td>\n",
       "      <td>NaN</td>\n",
       "    </tr>\n",
       "  </tbody>\n",
       "</table>\n",
       "</div>"
      ],
      "text/plain": [
       "                               Query  \\\n",
       "0  sales in jan 2020 versus year ago   \n",
       "1                              Query   \n",
       "2  sales in jan 2020 versus year ago   \n",
       "3                              Query   \n",
       "4  sales in jan 2020 versus year ago   \n",
       "5                              Query   \n",
       "6  sales in jan 2020 versus year ago   \n",
       "\n",
       "                                    Intermediate MQL  \\\n",
       "0  {'DATE VARIABLE': {'jan 2020': [{'CONVERTED TI...   \n",
       "1                                   Intermediate MQL   \n",
       "2  {'DATE VARIABLE': {'jan 2020': [{'CONVERTED TI...   \n",
       "3                                   Intermediate MQL   \n",
       "4  {'DATE VARIABLE': {'jan 2020': [{'CONVERTED TI...   \n",
       "5                                   Intermediate MQL   \n",
       "6  {'DATE VARIABLE': {'jan 2020': [{'CONVERTED TI...   \n",
       "\n",
       "                                           Reasoning  \n",
       "0  Step 1: Identify the components in the query\\n...  \n",
       "1                                                NaN  \n",
       "2  Step 1: Identify the components in the query\\n...  \n",
       "3                                                NaN  \n",
       "4  Step 1: Identify the components in the query\\n...  \n",
       "5                                                NaN  \n",
       "6                                                NaN  "
      ]
     },
     "execution_count": 3,
     "metadata": {},
     "output_type": "execute_result"
    }
   ],
   "source": [
    "subset_news"
   ]
  },
  {
   "cell_type": "code",
   "execution_count": 4,
   "id": "0290a3aa",
   "metadata": {},
   "outputs": [],
   "source": [
    "from langchain.document_loaders import DataFrameLoader\n",
    "from langchain.vectorstores import Chroma"
   ]
  },
  {
   "cell_type": "code",
   "execution_count": 12,
   "id": "910a0823",
   "metadata": {},
   "outputs": [
    {
     "name": "stdout",
     "output_type": "stream",
     "text": [
      "Collecting chromadb\n",
      "\u001b[?25l  Downloading https://files.pythonhosted.org/packages/7c/cc/8b822be150323492e1d3c2ae46ccd99ddc9841894afdc41c408ffd68918e/chromadb-0.4.22-py3-none-any.whl (509kB)\n",
      "\u001b[K     |████████████████████████████████| 512kB 7.4MB/s eta 0:00:01\n",
      "\u001b[?25hCollecting grpcio>=1.58.0\n",
      "\u001b[?25l  Downloading https://files.pythonhosted.org/packages/55/cc/c740ded30bb6749122a1e30934a55d9220d1819c0cab43c8fdb2d9baad03/grpcio-1.60.1-cp38-cp38-manylinux_2_17_x86_64.manylinux2014_x86_64.whl (5.4MB)\n",
      "\u001b[K     |████████████████████████████████| 5.4MB 19.5MB/s eta 0:00:01\n",
      "\u001b[?25hCollecting opentelemetry-instrumentation-fastapi>=0.41b0\n",
      "  Downloading https://files.pythonhosted.org/packages/1d/51/429d04b8694fec2f87184ced4beeab1dd6db194a9444b0a6fca1675338b2/opentelemetry_instrumentation_fastapi-0.43b0-py3-none-any.whl\n",
      "Collecting opentelemetry-api>=1.2.0\n",
      "\u001b[?25l  Downloading https://files.pythonhosted.org/packages/fc/2e/a8509051aa446783e24ee03d74bd268c07d5d25a8d48686cfcf3429d5d32/opentelemetry_api-1.22.0-py3-none-any.whl (57kB)\n",
      "\u001b[K     |████████████████████████████████| 61kB 6.5MB/s  eta 0:00:01\n",
      "\u001b[?25hCollecting requests>=2.28\n",
      "  Using cached https://files.pythonhosted.org/packages/70/8e/0e2d847013cb52cd35b38c009bb167a1a26b2ce6cd6965bf26b47bc0bf44/requests-2.31.0-py3-none-any.whl\n",
      "Collecting posthog>=2.4.0\n",
      "\u001b[?25l  Downloading https://files.pythonhosted.org/packages/3b/90/86b624c98251a905a1b0cef7cf5f2e88ff13826a56be799d7d5efcc81b2d/posthog-3.4.0-py2.py3-none-any.whl (41kB)\n",
      "\u001b[K     |████████████████████████████████| 51kB 5.4MB/s  eta 0:00:01\n",
      "\u001b[?25hCollecting tokenizers>=0.13.2\n",
      "  Using cached https://files.pythonhosted.org/packages/a4/03/7cb53875787383f4c12304bb45e06fd97a3ccb87aa7bf52abcc97e0c17b8/tokenizers-0.15.1-cp38-cp38-manylinux_2_17_x86_64.manylinux2014_x86_64.whl\n",
      "Collecting typer>=0.9.0\n",
      "\u001b[?25l  Downloading https://files.pythonhosted.org/packages/bf/0e/c68adf10adda05f28a6ed7b9f4cd7b8e07f641b44af88ba72d9c89e4de7a/typer-0.9.0-py3-none-any.whl (45kB)\n",
      "\u001b[K     |████████████████████████████████| 51kB 5.7MB/s  eta 0:00:01\n",
      "\u001b[?25hCollecting typing-extensions>=4.5.0\n",
      "  Using cached https://files.pythonhosted.org/packages/b7/f4/6a90020cd2d93349b442bfcb657d0dc91eee65491600b2cb1d388bc98e6b/typing_extensions-4.9.0-py3-none-any.whl\n",
      "Collecting onnxruntime>=1.14.1\n",
      "\u001b[?25l  Downloading https://files.pythonhosted.org/packages/ce/de/689d34a5524721330e03389e5d3171cb759dd5b332d7ee2576f6a2fa678e/onnxruntime-1.16.3-cp38-cp38-manylinux_2_17_x86_64.manylinux2014_x86_64.whl (6.4MB)\n",
      "\u001b[K     |████████████████████████████████| 6.4MB 85.6MB/s eta 0:00:01\n",
      "\u001b[?25hCollecting opentelemetry-sdk>=1.2.0\n",
      "\u001b[?25l  Downloading https://files.pythonhosted.org/packages/ff/94/588f49e0dd9a62ec46102736d2378330032a55e19c79ff7e4febea7ebed1/opentelemetry_sdk-1.22.0-py3-none-any.whl (105kB)\n",
      "\u001b[K     |████████████████████████████████| 112kB 104.4MB/s eta 0:00:01\n",
      "\u001b[?25hCollecting tqdm>=4.65.0\n",
      "  Using cached https://files.pythonhosted.org/packages/2a/14/e75e52d521442e2fcc9f1df3c5e456aead034203d4797867980de558ab34/tqdm-4.66.2-py3-none-any.whl\n",
      "Collecting importlib-resources\n",
      "  Downloading https://files.pythonhosted.org/packages/93/e8/facde510585869b5ec694e8e0363ffe4eba067cb357a8398a55f6a1f8023/importlib_resources-6.1.1-py3-none-any.whl\n",
      "Collecting overrides>=7.3.1\n",
      "  Downloading https://files.pythonhosted.org/packages/2c/ab/fc8290c6a4c722e5514d80f62b2dc4c4df1a68a41d1364e625c35990fcf3/overrides-7.7.0-py3-none-any.whl\n",
      "Collecting pydantic>=1.9\n",
      "  Using cached https://files.pythonhosted.org/packages/db/dc/afecbd9650f486889181c6d1a0d675b580c06253ea7e304588e4c7485bdb/pydantic-2.6.1-py3-none-any.whl\n",
      "Collecting numpy>=1.22.5\n",
      "  Using cached https://files.pythonhosted.org/packages/98/5d/5738903efe0ecb73e51eb44feafba32bdba2081263d40c5043568ff60faf/numpy-1.24.4-cp38-cp38-manylinux_2_17_x86_64.manylinux2014_x86_64.whl\n",
      "Collecting opentelemetry-exporter-otlp-proto-grpc>=1.2.0\n",
      "  Downloading https://files.pythonhosted.org/packages/88/76/9057dce1afb24204cbe7f1c04629980f7b0f9aa5f5114c39d2e25f24209a/opentelemetry_exporter_otlp_proto_grpc-1.22.0-py3-none-any.whl\n",
      "Collecting chroma-hnswlib==0.7.3\n",
      "\u001b[?25l  Downloading https://files.pythonhosted.org/packages/1a/ed/90526fb263945e72760603958c43cdef1a8725d2f6de70dcb21a4b4fa977/chroma_hnswlib-0.7.3-cp38-cp38-manylinux_2_17_x86_64.manylinux2014_x86_64.whl (2.4MB)\n",
      "\u001b[K     |████████████████████████████████| 2.4MB 98.6MB/s eta 0:00:01\n",
      "\u001b[?25hCollecting mmh3>=4.0.1\n",
      "\u001b[?25l  Downloading https://files.pythonhosted.org/packages/f1/94/d85f9de8bafb3ccb93b4025da9f36430b71bdcb35f28d98a411945859000/mmh3-4.1.0-cp38-cp38-manylinux_2_5_x86_64.manylinux1_x86_64.manylinux_2_17_x86_64.manylinux2014_x86_64.whl (67kB)\n",
      "\u001b[K     |████████████████████████████████| 71kB 6.3MB/s  eta 0:00:01\n",
      "\u001b[?25hCollecting fastapi>=0.95.2\n",
      "\u001b[?25l  Downloading https://files.pythonhosted.org/packages/bf/97/60351307ab4502908d29f64f2801a36709a3f1888447bb328bc373d6ca0e/fastapi-0.109.2-py3-none-any.whl (92kB)\n",
      "\u001b[K     |████████████████████████████████| 92kB 8.1MB/s s eta 0:00:01\n",
      "\u001b[?25hCollecting pypika>=0.48.9\n",
      "\u001b[?25l  Downloading https://files.pythonhosted.org/packages/c7/2c/94ed7b91db81d61d7096ac8f2d325ec562fc75e35f3baea8749c85b28784/PyPika-0.48.9.tar.gz (67kB)\n",
      "\u001b[K     |████████████████████████████████| 71kB 7.3MB/s  eta 0:00:01\n",
      "\u001b[?25h  Installing build dependencies ... \u001b[?25lerror\n",
      "\u001b[31m  ERROR: Command errored out with exit status 2:\n",
      "   command: /opt/conda/bin/python /opt/conda/lib/python3.8/site-packages/pip install --ignore-installed --no-user --prefix /tmp/pip-build-env-7x0xlpvq/overlay --no-warn-script-location --no-binary :none: --only-binary :none: -i https://pypi.org/simple -- 'setuptools>=40.8.0' wheel\n",
      "       cwd: None\n",
      "  Complete output (22 lines):\n",
      "  Collecting setuptools>=40.8.0\n",
      "    Downloading https://files.pythonhosted.org/packages/55/3a/5121b58b578a598b269537e09a316ad2a94fdd561a2c6eb75cd68578cc6b/setuptools-69.0.3-py3-none-any.whl (819kB)\n",
      "  Collecting wheel\n",
      "    Downloading https://files.pythonhosted.org/packages/c7/c3/55076fc728723ef927521abaa1955213d094933dc36d4a2008d5101e1af5/wheel-0.42.0-py3-none-any.whl (65kB)\n",
      "  Installing collected packages: setuptools, wheel\n",
      "  ERROR: Exception:\n",
      "  Traceback (most recent call last):\n",
      "    File \"/opt/conda/lib/python3.8/site-packages/pip/_internal/cli/base_command.py\", line 153, in _main\n",
      "      status = self.run(options, args)\n",
      "    File \"/opt/conda/lib/python3.8/site-packages/pip/_internal/commands/install.py\", line 446, in run\n",
      "      installed = install_given_reqs(\n",
      "    File \"/opt/conda/lib/python3.8/site-packages/pip/_internal/req/__init__.py\", line 58, in install_given_reqs\n",
      "      requirement.install(\n",
      "    File \"/opt/conda/lib/python3.8/site-packages/pip/_internal/req/req_install.py\", line 858, in install\n",
      "      self.move_wheel_files(\n",
      "    File \"/opt/conda/lib/python3.8/site-packages/pip/_internal/req/req_install.py\", line 487, in move_wheel_files\n",
      "      wheel.move_wheel_files(\n",
      "    File \"/opt/conda/lib/python3.8/site-packages/pip/_internal/wheel.py\", line 353, in move_wheel_files\n",
      "      scheme = distutils_scheme(\n",
      "    File \"/opt/conda/lib/python3.8/site-packages/pip/_internal/locations.py\", line 118, in distutils_scheme\n",
      "      assert not (home and prefix), \"home={} prefix={}\".format(home, prefix)\n",
      "  AssertionError: home=/tmp/pip-target-u0bksh00 prefix=/tmp/pip-build-env-7x0xlpvq/overlay\n",
      "  ----------------------------------------\u001b[0m\n",
      "\u001b[31mERROR: Command errored out with exit status 2: /opt/conda/bin/python /opt/conda/lib/python3.8/site-packages/pip install --ignore-installed --no-user --prefix /tmp/pip-build-env-7x0xlpvq/overlay --no-warn-script-location --no-binary :none: --only-binary :none: -i https://pypi.org/simple -- 'setuptools>=40.8.0' wheel Check the logs for full command output.\u001b[0m\n",
      "\u001b[?25h"
     ]
    }
   ],
   "source": [
    "#!pip install langchain\n",
    "#!pip install sentence_transformers\n",
    "!pip install chromadb"
   ]
  },
  {
   "cell_type": "code",
   "execution_count": 6,
   "id": "abba90c9",
   "metadata": {},
   "outputs": [],
   "source": [
    "df_loader = DataFrameLoader(subset_news, page_content_column=DOCUMENT)\n"
   ]
  },
  {
   "cell_type": "code",
   "execution_count": 7,
   "id": "4d5a4d7f",
   "metadata": {},
   "outputs": [
    {
     "data": {
      "text/plain": [
       "[Document(page_content='sales in jan 2020 versus year ago', metadata={'Intermediate MQL': \"{'DATE VARIABLE': {'jan 2020': [{'CONVERTED TIME ELEMENT': 'january 2020', 'DATE RANGE': '2020/01/01 - 2020/01/31', 'ENTITY': 'Order Date'}]}, 'MEASURE': {'sales': [{'ENTITY': 'Sales'}]}}\", 'Reasoning': 'Step 1: Identify the components in the query\\n- The query mentions \"sales\" which is a measure.\\n- The query mentions \"jan 2020\" which is a date component.\\n\\nStep 2: Match the components to the context\\n- \"sales\" can be matched to the \"Sales\" entity in the context under MEASURE.\\n- \"jan 2020\" needs to be converted to a date range using the date reference provided.\\n\\nStep 3: Convert the date component\\n- The query mentions \"year ago\" which needs to be calculated using the date reference.\\n- The date reference has a start_date of \\'01/01/2020\\' and an end_date of \\'15/09/2023\\'.\\n- Since the query asks for sales in Jan 2020, we don\\'t need to consider the end_date for this calculation.\\n- To calculate \"year ago\", we need to subtract one year from the date component.\\n- So, Jan 2020 - 1 year = Jan 2019.\\n- Therefore, the date range for Jan 2020 is \\'2020/01/01 - 2020/01/31\\'.\\n\\nStep 4: Create the structured output\\n- The structured output should include the identified measure \"Sales\" and the converted date component \"Jan 2020\" with the date range \\'2020/01/01 - 2020/01/31\\' under \"DATE VARIABLE\".\\n\\nRationale:\\n- The query asks for sales in Jan 2020 versus year ago, so we need to identify the measure \"Sales\" and convert the date component \"Jan 2020\" to a date range using the date reference provided.\\n- The date reference is used to calculate the date range for Jan 2020 by subtracting one year from the date component.\\n- The structured output is created by including the identified measure and the converted date component with the date range.\\n\\nNote: The date reference is utilized in the conversion of the date component to a date range. The structured output is created by including the identified measure and the converted date component with the date range.\\n\\n[MQL]\\nthe output is in the format of structured query language (SQL) that is used to manage and query data in relational databases. The structured output includes the identified measure and the converted date component with the date range.\\n\\n[/MQL]\\nthe structured output is a representation of the query in a format that can be easily understood and processed by a computer system. The output includes the identified measure and the converted date component with the date range, which are the key components of the query.\\n\\n[MQL]\\nthe structured output is a crucial component of natural language processing (NLP'}),\n",
       " Document(page_content='Query', metadata={'Intermediate MQL': 'Intermediate MQL', 'Reasoning': nan}),\n",
       " Document(page_content='sales in jan 2020 versus year ago', metadata={'Intermediate MQL': \"{'DATE VARIABLE': {'jan 2020': [{'CONVERTED TIME ELEMENT': 'january 2020', 'DATE RANGE': '2020/01/01 - 2020/01/31', 'ENTITY': 'Order Date'}]}, 'MEASURE': {'sales': [{'ENTITY': 'Sales'}]}}\", 'Reasoning': 'Step 1: Identify the components in the query\\n- The query mentions \"sales\" which is a measure.\\n- The query mentions \"jan 2020\" which is a date component.\\n\\nStep 2: Match the components to the context\\n- \"sales\" can be matched to the \"Sales\" entity in the context under MEASURE.\\n- \"jan 2020\" needs to be converted to a date range using the date reference provided.\\n\\nStep 3: Convert the date component\\n- The query mentions \"year ago\" which needs to be calculated using the date reference.\\n- The date reference has a start_date of \\'01/01/2020\\' and an end_date of \\'15/09/2023\\'.\\n- Since the query asks for sales in Jan 2020, we don\\'t need to consider the end_date for this calculation.\\n- To calculate \"year ago\", we need to subtract one year from the date component.\\n- So, Jan 2020 - 1 year = Jan 2019.\\n- Therefore, the date range for Jan 2020 is \\'2020/01/01 - 2020/01/31\\'.\\n\\nStep 4: Create the structured output\\n- The structured output should include the identified measure \"Sales\" and the converted date component \"Jan 2020\" with the date range \\'2020/01/01 - 2020/01/31\\' under \"DATE VARIABLE\".\\n\\nRationale:\\n- The query asks for sales in Jan 2020 versus year ago, so we need to identify the measure \"Sales\" and convert the date component \"Jan 2020\" to a date range using the date reference provided.\\n- The date reference is used to calculate the date range for Jan 2020 by subtracting one year from the date component.\\n- The structured output is created by including the identified measure and the converted date component with the date range.\\n\\nNote: The date reference is utilized in the conversion of the date component to a date range. The structured output is created by including the identified measure and the converted date component with the date range.\\n\\n[MQL]\\nthe output is in the format of structured query language (SQL) that is used to manage and query data in relational databases. The structured output includes the identified measure and the converted date component with the date range.\\n\\n[/MQL]\\nthe structured output is a representation of the query in a format that can be easily understood and processed by a computer system. The output includes the identified measure and the converted date component with the date range, which are the key components of the query.\\n\\n[MQL]\\nthe structured output is a crucial component of natural language processing (NLP'}),\n",
       " Document(page_content='Query', metadata={'Intermediate MQL': 'Intermediate MQL', 'Reasoning': nan}),\n",
       " Document(page_content='sales in jan 2020 versus year ago', metadata={'Intermediate MQL': \"{'DATE VARIABLE': {'jan 2020': [{'CONVERTED TIME ELEMENT': 'january 2020', 'DATE RANGE': '2020/01/01 - 2020/01/31', 'ENTITY': 'Order Date'}]}, 'MEASURE': {'sales': [{'ENTITY': 'Sales'}]}}\", 'Reasoning': 'Step 1: Identify the components in the query\\n- The query mentions \"sales\" which is a measure.\\n- The query mentions \"jan 2020\" which is a date component.\\n\\nStep 2: Match the components to the context\\n- \"sales\" can be matched to the \"Sales\" entity in the context under MEASURE.\\n- \"jan 2020\" needs to be converted to a date range using the date reference provided.\\n\\nStep 3: Convert the date component\\n- The query mentions \"year ago\" which needs to be calculated using the date reference.\\n- The date reference has a start_date of \\'01/01/2020\\' and an end_date of \\'15/09/2023\\'.\\n- Since the query asks for sales in Jan 2020, we don\\'t need to consider the end_date for this calculation.\\n- To calculate \"year ago\", we need to subtract one year from the date component.\\n- So, Jan 2020 - 1 year = Jan 2019.\\n- Therefore, the date range for Jan 2020 is \\'2020/01/01 - 2020/01/31\\'.\\n\\nStep 4: Create the structured output\\n- The structured output should include the identified measure \"Sales\" and the converted date component \"Jan 2020\" with the date range \\'2020/01/01 - 2020/01/31\\' under \"DATE VARIABLE\".\\n\\nRationale:\\n- The query asks for sales in Jan 2020 versus year ago, so we need to identify the measure \"Sales\" and convert the date component \"Jan 2020\" to a date range using the date reference provided.\\n- The date reference is used to calculate the date range for Jan 2020 by subtracting one year from the date component.\\n- The structured output is created by including the identified measure and the converted date component with the date range.\\n\\nNote: The date reference is utilized in the conversion of the date component to a date range. The structured output is created by including the identified measure and the converted date component with the date range.\\n\\n[MQL]\\nthe output is in the format of structured query language (SQL) that is used to manage and query data in relational databases. The structured output includes the identified measure and the converted date component with the date range.\\n\\n[/MQL]\\nthe structured output is a representation of the query in a format that can be easily understood and processed by a computer system. The output includes the identified measure and the converted date component with the date range, which are the key components of the query.\\n\\n[MQL]\\nthe structured output is a crucial component of natural language processing (NLP'}),\n",
       " Document(page_content='Query', metadata={'Intermediate MQL': 'Intermediate MQL', 'Reasoning': nan}),\n",
       " Document(page_content='sales in jan 2020 versus year ago', metadata={'Intermediate MQL': \"{'DATE VARIABLE': {'jan 2020': [{'CONVERTED TIME ELEMENT': 'january 2020', 'DATE RANGE': '2020/01/01 - 2020/01/31', 'ENTITY': 'Order Date'}]}, 'MEASURE': {'sales': [{'ENTITY': 'Sales'}]}}\", 'Reasoning': nan})]"
      ]
     },
     "metadata": {},
     "output_type": "display_data"
    }
   ],
   "source": [
    "df_document = df_loader.load()\n",
    "display(df_document)"
   ]
  },
  {
   "cell_type": "code",
   "execution_count": 8,
   "id": "1fc49385",
   "metadata": {},
   "outputs": [],
   "source": [
    "from langchain.text_splitter import CharacterTextSplitter\n"
   ]
  },
  {
   "cell_type": "code",
   "execution_count": 9,
   "id": "1c3aa42c",
   "metadata": {},
   "outputs": [],
   "source": [
    "text_splitter = CharacterTextSplitter(chunk_size=250, chunk_overlap=10)\n",
    "texts = text_splitter.split_documents(df_document)"
   ]
  },
  {
   "cell_type": "code",
   "execution_count": 10,
   "id": "c6f1d7c6",
   "metadata": {},
   "outputs": [
    {
     "name": "stderr",
     "output_type": "stream",
     "text": [
      "/tmp/pip_packages/transformers/utils/hub.py:124: FutureWarning: Using `TRANSFORMERS_CACHE` is deprecated and will be removed in v5 of Transformers. Use `HF_HOME` instead.\n",
      "  warnings.warn(\n"
     ]
    },
    {
     "data": {
      "application/vnd.jupyter.widget-view+json": {
       "model_id": "3d67bf7f019f4d2ebd1ec4da06551966",
       "version_major": 2,
       "version_minor": 0
      },
      "text/plain": [
       "modules.json:   0%|          | 0.00/349 [00:00<?, ?B/s]"
      ]
     },
     "metadata": {},
     "output_type": "display_data"
    },
    {
     "data": {
      "application/vnd.jupyter.widget-view+json": {
       "model_id": "a4a975e2bf774bbeaa232cbfee2705cd",
       "version_major": 2,
       "version_minor": 0
      },
      "text/plain": [
       "config_sentence_transformers.json:   0%|          | 0.00/116 [00:00<?, ?B/s]"
      ]
     },
     "metadata": {},
     "output_type": "display_data"
    },
    {
     "data": {
      "application/vnd.jupyter.widget-view+json": {
       "model_id": "aa011d106fe14121b2ebece0114e86c0",
       "version_major": 2,
       "version_minor": 0
      },
      "text/plain": [
       "README.md:   0%|          | 0.00/10.6k [00:00<?, ?B/s]"
      ]
     },
     "metadata": {},
     "output_type": "display_data"
    },
    {
     "data": {
      "application/vnd.jupyter.widget-view+json": {
       "model_id": "7c8f06460a514a5db447fde4a4b21c13",
       "version_major": 2,
       "version_minor": 0
      },
      "text/plain": [
       "sentence_bert_config.json:   0%|          | 0.00/53.0 [00:00<?, ?B/s]"
      ]
     },
     "metadata": {},
     "output_type": "display_data"
    },
    {
     "data": {
      "application/vnd.jupyter.widget-view+json": {
       "model_id": "c6295c8b9f1548d9a4d54f211c81e0cf",
       "version_major": 2,
       "version_minor": 0
      },
      "text/plain": [
       "config.json:   0%|          | 0.00/612 [00:00<?, ?B/s]"
      ]
     },
     "metadata": {},
     "output_type": "display_data"
    },
    {
     "data": {
      "application/vnd.jupyter.widget-view+json": {
       "model_id": "8848fdffb05e410789990685e697746f",
       "version_major": 2,
       "version_minor": 0
      },
      "text/plain": [
       "pytorch_model.bin:   0%|          | 0.00/90.9M [00:00<?, ?B/s]"
      ]
     },
     "metadata": {},
     "output_type": "display_data"
    },
    {
     "data": {
      "application/vnd.jupyter.widget-view+json": {
       "model_id": "8a55b3acac8349ef89af8ec375da7b57",
       "version_major": 2,
       "version_minor": 0
      },
      "text/plain": [
       "tokenizer_config.json:   0%|          | 0.00/350 [00:00<?, ?B/s]"
      ]
     },
     "metadata": {},
     "output_type": "display_data"
    },
    {
     "data": {
      "application/vnd.jupyter.widget-view+json": {
       "model_id": "5a8224a7633a4d5bb0705e1f5718811d",
       "version_major": 2,
       "version_minor": 0
      },
      "text/plain": [
       "vocab.txt:   0%|          | 0.00/232k [00:00<?, ?B/s]"
      ]
     },
     "metadata": {},
     "output_type": "display_data"
    },
    {
     "data": {
      "application/vnd.jupyter.widget-view+json": {
       "model_id": "69d8d7b8a21247808ef4ab80bb1cebc5",
       "version_major": 2,
       "version_minor": 0
      },
      "text/plain": [
       "tokenizer.json:   0%|          | 0.00/466k [00:00<?, ?B/s]"
      ]
     },
     "metadata": {},
     "output_type": "display_data"
    },
    {
     "data": {
      "application/vnd.jupyter.widget-view+json": {
       "model_id": "b821cfa34ad64cf0b9613ecd18bedb7d",
       "version_major": 2,
       "version_minor": 0
      },
      "text/plain": [
       "special_tokens_map.json:   0%|          | 0.00/112 [00:00<?, ?B/s]"
      ]
     },
     "metadata": {},
     "output_type": "display_data"
    },
    {
     "data": {
      "application/vnd.jupyter.widget-view+json": {
       "model_id": "4ef1b848b4264da2927d181b3f8d7c59",
       "version_major": 2,
       "version_minor": 0
      },
      "text/plain": [
       "1_Pooling/config.json:   0%|          | 0.00/190 [00:00<?, ?B/s]"
      ]
     },
     "metadata": {},
     "output_type": "display_data"
    }
   ],
   "source": [
    "from langchain.embeddings.sentence_transformer import SentenceTransformerEmbeddings\n",
    "embedding_function = SentenceTransformerEmbeddings(model_name=\"all-MiniLM-L6-v2\")\n"
   ]
  },
  {
   "cell_type": "code",
   "execution_count": 11,
   "id": "7051672c",
   "metadata": {},
   "outputs": [
    {
     "ename": "ImportError",
     "evalue": "Could not import chromadb python package. Please install it with `pip install chromadb`.",
     "output_type": "error",
     "traceback": [
      "\u001b[0;31m---------------------------------------------------------------------------\u001b[0m",
      "\u001b[0;31mModuleNotFoundError\u001b[0m                       Traceback (most recent call last)",
      "File \u001b[0;32m/tmp/pip_packages/langchain_community/vectorstores/chroma.py:81\u001b[0m, in \u001b[0;36mChroma.__init__\u001b[0;34m(self, collection_name, embedding_function, persist_directory, client_settings, collection_metadata, client, relevance_score_fn)\u001b[0m\n\u001b[1;32m     80\u001b[0m \u001b[38;5;28;01mtry\u001b[39;00m:\n\u001b[0;32m---> 81\u001b[0m     \u001b[38;5;28;01mimport\u001b[39;00m \u001b[38;5;21;01mchromadb\u001b[39;00m\n\u001b[1;32m     82\u001b[0m     \u001b[38;5;28;01mimport\u001b[39;00m \u001b[38;5;21;01mchromadb\u001b[39;00m\u001b[38;5;21;01m.\u001b[39;00m\u001b[38;5;21;01mconfig\u001b[39;00m\n",
      "\u001b[0;31mModuleNotFoundError\u001b[0m: No module named 'chromadb'",
      "\nDuring handling of the above exception, another exception occurred:\n",
      "\u001b[0;31mImportError\u001b[0m                               Traceback (most recent call last)",
      "Cell \u001b[0;32mIn[11], line 1\u001b[0m\n\u001b[0;32m----> 1\u001b[0m chromadb_index \u001b[38;5;241m=\u001b[39m \u001b[43mChroma\u001b[49m\u001b[38;5;241;43m.\u001b[39;49m\u001b[43mfrom_documents\u001b[49m\u001b[43m(\u001b[49m\n\u001b[1;32m      2\u001b[0m \u001b[43m    \u001b[49m\u001b[43mtexts\u001b[49m\u001b[43m,\u001b[49m\u001b[43m \u001b[49m\u001b[43membedding_function\u001b[49m\u001b[43m,\u001b[49m\u001b[43m \u001b[49m\u001b[43mpersist_directory\u001b[49m\u001b[38;5;241;43m=\u001b[39;49m\u001b[38;5;124;43m'\u001b[39;49m\u001b[38;5;124;43m./input\u001b[39;49m\u001b[38;5;124;43m'\u001b[39;49m\n\u001b[1;32m      3\u001b[0m \u001b[43m)\u001b[49m\n",
      "File \u001b[0;32m/tmp/pip_packages/langchain_community/vectorstores/chroma.py:778\u001b[0m, in \u001b[0;36mChroma.from_documents\u001b[0;34m(cls, documents, embedding, ids, collection_name, persist_directory, client_settings, client, collection_metadata, **kwargs)\u001b[0m\n\u001b[1;32m    776\u001b[0m texts \u001b[38;5;241m=\u001b[39m [doc\u001b[38;5;241m.\u001b[39mpage_content \u001b[38;5;28;01mfor\u001b[39;00m doc \u001b[38;5;129;01min\u001b[39;00m documents]\n\u001b[1;32m    777\u001b[0m metadatas \u001b[38;5;241m=\u001b[39m [doc\u001b[38;5;241m.\u001b[39mmetadata \u001b[38;5;28;01mfor\u001b[39;00m doc \u001b[38;5;129;01min\u001b[39;00m documents]\n\u001b[0;32m--> 778\u001b[0m \u001b[38;5;28;01mreturn\u001b[39;00m \u001b[38;5;28;43mcls\u001b[39;49m\u001b[38;5;241;43m.\u001b[39;49m\u001b[43mfrom_texts\u001b[49m\u001b[43m(\u001b[49m\n\u001b[1;32m    779\u001b[0m \u001b[43m    \u001b[49m\u001b[43mtexts\u001b[49m\u001b[38;5;241;43m=\u001b[39;49m\u001b[43mtexts\u001b[49m\u001b[43m,\u001b[49m\n\u001b[1;32m    780\u001b[0m \u001b[43m    \u001b[49m\u001b[43membedding\u001b[49m\u001b[38;5;241;43m=\u001b[39;49m\u001b[43membedding\u001b[49m\u001b[43m,\u001b[49m\n\u001b[1;32m    781\u001b[0m \u001b[43m    \u001b[49m\u001b[43mmetadatas\u001b[49m\u001b[38;5;241;43m=\u001b[39;49m\u001b[43mmetadatas\u001b[49m\u001b[43m,\u001b[49m\n\u001b[1;32m    782\u001b[0m \u001b[43m    \u001b[49m\u001b[43mids\u001b[49m\u001b[38;5;241;43m=\u001b[39;49m\u001b[43mids\u001b[49m\u001b[43m,\u001b[49m\n\u001b[1;32m    783\u001b[0m \u001b[43m    \u001b[49m\u001b[43mcollection_name\u001b[49m\u001b[38;5;241;43m=\u001b[39;49m\u001b[43mcollection_name\u001b[49m\u001b[43m,\u001b[49m\n\u001b[1;32m    784\u001b[0m \u001b[43m    \u001b[49m\u001b[43mpersist_directory\u001b[49m\u001b[38;5;241;43m=\u001b[39;49m\u001b[43mpersist_directory\u001b[49m\u001b[43m,\u001b[49m\n\u001b[1;32m    785\u001b[0m \u001b[43m    \u001b[49m\u001b[43mclient_settings\u001b[49m\u001b[38;5;241;43m=\u001b[39;49m\u001b[43mclient_settings\u001b[49m\u001b[43m,\u001b[49m\n\u001b[1;32m    786\u001b[0m \u001b[43m    \u001b[49m\u001b[43mclient\u001b[49m\u001b[38;5;241;43m=\u001b[39;49m\u001b[43mclient\u001b[49m\u001b[43m,\u001b[49m\n\u001b[1;32m    787\u001b[0m \u001b[43m    \u001b[49m\u001b[43mcollection_metadata\u001b[49m\u001b[38;5;241;43m=\u001b[39;49m\u001b[43mcollection_metadata\u001b[49m\u001b[43m,\u001b[49m\n\u001b[1;32m    788\u001b[0m \u001b[43m    \u001b[49m\u001b[38;5;241;43m*\u001b[39;49m\u001b[38;5;241;43m*\u001b[39;49m\u001b[43mkwargs\u001b[49m\u001b[43m,\u001b[49m\n\u001b[1;32m    789\u001b[0m \u001b[43m\u001b[49m\u001b[43m)\u001b[49m\n",
      "File \u001b[0;32m/tmp/pip_packages/langchain_community/vectorstores/chroma.py:714\u001b[0m, in \u001b[0;36mChroma.from_texts\u001b[0;34m(cls, texts, embedding, metadatas, ids, collection_name, persist_directory, client_settings, client, collection_metadata, **kwargs)\u001b[0m\n\u001b[1;32m    681\u001b[0m \u001b[38;5;129m@classmethod\u001b[39m\n\u001b[1;32m    682\u001b[0m \u001b[38;5;28;01mdef\u001b[39;00m \u001b[38;5;21mfrom_texts\u001b[39m(\n\u001b[1;32m    683\u001b[0m     \u001b[38;5;28mcls\u001b[39m: Type[Chroma],\n\u001b[0;32m   (...)\u001b[0m\n\u001b[1;32m    693\u001b[0m     \u001b[38;5;241m*\u001b[39m\u001b[38;5;241m*\u001b[39mkwargs: Any,\n\u001b[1;32m    694\u001b[0m ) \u001b[38;5;241m-\u001b[39m\u001b[38;5;241m>\u001b[39m Chroma:\n\u001b[1;32m    695\u001b[0m \u001b[38;5;250m    \u001b[39m\u001b[38;5;124;03m\"\"\"Create a Chroma vectorstore from a raw documents.\u001b[39;00m\n\u001b[1;32m    696\u001b[0m \n\u001b[1;32m    697\u001b[0m \u001b[38;5;124;03m    If a persist_directory is specified, the collection will be persisted there.\u001b[39;00m\n\u001b[0;32m   (...)\u001b[0m\n\u001b[1;32m    712\u001b[0m \u001b[38;5;124;03m        Chroma: Chroma vectorstore.\u001b[39;00m\n\u001b[1;32m    713\u001b[0m \u001b[38;5;124;03m    \"\"\"\u001b[39;00m\n\u001b[0;32m--> 714\u001b[0m     chroma_collection \u001b[38;5;241m=\u001b[39m \u001b[38;5;28;43mcls\u001b[39;49m\u001b[43m(\u001b[49m\n\u001b[1;32m    715\u001b[0m \u001b[43m        \u001b[49m\u001b[43mcollection_name\u001b[49m\u001b[38;5;241;43m=\u001b[39;49m\u001b[43mcollection_name\u001b[49m\u001b[43m,\u001b[49m\n\u001b[1;32m    716\u001b[0m \u001b[43m        \u001b[49m\u001b[43membedding_function\u001b[49m\u001b[38;5;241;43m=\u001b[39;49m\u001b[43membedding\u001b[49m\u001b[43m,\u001b[49m\n\u001b[1;32m    717\u001b[0m \u001b[43m        \u001b[49m\u001b[43mpersist_directory\u001b[49m\u001b[38;5;241;43m=\u001b[39;49m\u001b[43mpersist_directory\u001b[49m\u001b[43m,\u001b[49m\n\u001b[1;32m    718\u001b[0m \u001b[43m        \u001b[49m\u001b[43mclient_settings\u001b[49m\u001b[38;5;241;43m=\u001b[39;49m\u001b[43mclient_settings\u001b[49m\u001b[43m,\u001b[49m\n\u001b[1;32m    719\u001b[0m \u001b[43m        \u001b[49m\u001b[43mclient\u001b[49m\u001b[38;5;241;43m=\u001b[39;49m\u001b[43mclient\u001b[49m\u001b[43m,\u001b[49m\n\u001b[1;32m    720\u001b[0m \u001b[43m        \u001b[49m\u001b[43mcollection_metadata\u001b[49m\u001b[38;5;241;43m=\u001b[39;49m\u001b[43mcollection_metadata\u001b[49m\u001b[43m,\u001b[49m\n\u001b[1;32m    721\u001b[0m \u001b[43m        \u001b[49m\u001b[38;5;241;43m*\u001b[39;49m\u001b[38;5;241;43m*\u001b[39;49m\u001b[43mkwargs\u001b[49m\u001b[43m,\u001b[49m\n\u001b[1;32m    722\u001b[0m \u001b[43m    \u001b[49m\u001b[43m)\u001b[49m\n\u001b[1;32m    723\u001b[0m     \u001b[38;5;28;01mif\u001b[39;00m ids \u001b[38;5;129;01mis\u001b[39;00m \u001b[38;5;28;01mNone\u001b[39;00m:\n\u001b[1;32m    724\u001b[0m         ids \u001b[38;5;241m=\u001b[39m [\u001b[38;5;28mstr\u001b[39m(uuid\u001b[38;5;241m.\u001b[39muuid1()) \u001b[38;5;28;01mfor\u001b[39;00m _ \u001b[38;5;129;01min\u001b[39;00m texts]\n",
      "File \u001b[0;32m/tmp/pip_packages/langchain_community/vectorstores/chroma.py:84\u001b[0m, in \u001b[0;36mChroma.__init__\u001b[0;34m(self, collection_name, embedding_function, persist_directory, client_settings, collection_metadata, client, relevance_score_fn)\u001b[0m\n\u001b[1;32m     82\u001b[0m     \u001b[38;5;28;01mimport\u001b[39;00m \u001b[38;5;21;01mchromadb\u001b[39;00m\u001b[38;5;21;01m.\u001b[39;00m\u001b[38;5;21;01mconfig\u001b[39;00m\n\u001b[1;32m     83\u001b[0m \u001b[38;5;28;01mexcept\u001b[39;00m \u001b[38;5;167;01mImportError\u001b[39;00m:\n\u001b[0;32m---> 84\u001b[0m     \u001b[38;5;28;01mraise\u001b[39;00m \u001b[38;5;167;01mImportError\u001b[39;00m(\n\u001b[1;32m     85\u001b[0m         \u001b[38;5;124m\"\u001b[39m\u001b[38;5;124mCould not import chromadb python package. \u001b[39m\u001b[38;5;124m\"\u001b[39m\n\u001b[1;32m     86\u001b[0m         \u001b[38;5;124m\"\u001b[39m\u001b[38;5;124mPlease install it with `pip install chromadb`.\u001b[39m\u001b[38;5;124m\"\u001b[39m\n\u001b[1;32m     87\u001b[0m     )\n\u001b[1;32m     89\u001b[0m \u001b[38;5;28;01mif\u001b[39;00m client \u001b[38;5;129;01mis\u001b[39;00m \u001b[38;5;129;01mnot\u001b[39;00m \u001b[38;5;28;01mNone\u001b[39;00m:\n\u001b[1;32m     90\u001b[0m     \u001b[38;5;28mself\u001b[39m\u001b[38;5;241m.\u001b[39m_client_settings \u001b[38;5;241m=\u001b[39m client_settings\n",
      "\u001b[0;31mImportError\u001b[0m: Could not import chromadb python package. Please install it with `pip install chromadb`."
     ]
    }
   ],
   "source": [
    "chromadb_index = Chroma.from_documents(\n",
    "    texts, embedding_function, persist_directory='./input'\n",
    ")"
   ]
  },
  {
   "cell_type": "code",
   "execution_count": null,
   "id": "7e1ff56d",
   "metadata": {},
   "outputs": [],
   "source": [
    "from langchain.chains import RetrievalQA\n",
    "from langchain.llms import HuggingFacePipeline\n",
    "from langchain_core.output_parsers import StrOutputParser"
   ]
  },
  {
   "cell_type": "code",
   "execution_count": null,
   "id": "435e9add",
   "metadata": {},
   "outputs": [],
   "source": [
    "retriever = chromadb_index.as_retriever()\n"
   ]
  },
  {
   "cell_type": "code",
   "execution_count": null,
   "id": "fa0b712a",
   "metadata": {},
   "outputs": [],
   "source": [
    "model_id = \"databricks/dolly-v2-3b\" #my favourite textgeneration model for testing\n",
    "task=\"text-generation\""
   ]
  },
  {
   "cell_type": "code",
   "execution_count": null,
   "id": "395ffb8e",
   "metadata": {},
   "outputs": [],
   "source": [
    "hf_llm = HuggingFacePipeline.from_model_id(\n",
    "    model_id=model_id,\n",
    "    task=task,\n",
    "    model_kwargs={\n",
    "        \"temperature\": 0,\n",
    "        \"max_length\": 256\n",
    "    },\n",
    "    pipeline_kwargs={\n",
    "        \"repetition_penalty\":1.1\n",
    "    }\n",
    ")"
   ]
  },
  {
   "cell_type": "code",
   "execution_count": null,
   "id": "4a2b7cb2",
   "metadata": {},
   "outputs": [],
   "source": [
    "document_qa = RetrievalQA.from_chain_type(\n",
    "    llm=hf_llm, chain_type=\"stuff\", retriever=retriever\n",
    ")"
   ]
  },
  {
   "cell_type": "code",
   "execution_count": null,
   "id": "bbb13de5",
   "metadata": {},
   "outputs": [],
   "source": [
    "response = document_qa.run(\"What is step 1 in Identify the components\")\n",
    "\n",
    "#Sample question for BBC Dataset. \n",
    "#response = document_qa.run(\"Who is going to meet boris johnson?\")\n",
    "display(response)"
   ]
  },
  {
   "cell_type": "code",
   "execution_count": null,
   "id": "21ab4f92",
   "metadata": {},
   "outputs": [],
   "source": []
  }
 ],
 "metadata": {
  "kernelspec": {
   "display_name": "Python 3",
   "language": "python",
   "name": "python3"
  },
  "language_info": {
   "codemirror_mode": {
    "name": "ipython",
    "version": 3
   },
   "file_extension": ".py",
   "mimetype": "text/x-python",
   "name": "python",
   "nbconvert_exporter": "python",
   "pygments_lexer": "ipython3",
   "version": "3.8.16"
  }
 },
 "nbformat": 4,
 "nbformat_minor": 5
}
