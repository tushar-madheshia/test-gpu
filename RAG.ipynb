{
 "cells": [
  {
   "cell_type": "code",
   "execution_count": 1,
   "id": "94cec13b",
   "metadata": {},
   "outputs": [],
   "source": [
    "import numpy as np \n",
    "import pandas as pd"
   ]
  },
  {
   "cell_type": "code",
   "execution_count": 2,
   "id": "2fb0c91c",
   "metadata": {},
   "outputs": [],
   "source": [
    "news = pd.read_csv('/notebooks/notebooks/data.csv', sep=',')\n",
    "MAX_NEWS = 1000\n",
    "DOCUMENT=\"title\"\n",
    "TOPIC=\"topic\"\n",
    "\n",
    "#news = pd.read_csv('/kaggle/input/bbc-news/bbc_news.csv')\n",
    "#MAX_NEWS = 500\n",
    "#DOCUMENT=\"description\"\n",
    "#TOPIC=\"title\"\n",
    "\n",
    "#Because it is just a course we select a small portion of News.\n",
    "subset_news = news.head(MAX_NEWS)"
   ]
  },
  {
   "cell_type": "code",
   "execution_count": 3,
   "id": "31db64ca",
   "metadata": {},
   "outputs": [
    {
     "data": {
      "text/html": [
       "<div>\n",
       "<style scoped>\n",
       "    .dataframe tbody tr th:only-of-type {\n",
       "        vertical-align: middle;\n",
       "    }\n",
       "\n",
       "    .dataframe tbody tr th {\n",
       "        vertical-align: top;\n",
       "    }\n",
       "\n",
       "    .dataframe thead th {\n",
       "        text-align: right;\n",
       "    }\n",
       "</style>\n",
       "<table border=\"1\" class=\"dataframe\">\n",
       "  <thead>\n",
       "    <tr style=\"text-align: right;\">\n",
       "      <th></th>\n",
       "      <th>Query</th>\n",
       "      <th>Intermediate MQL</th>\n",
       "      <th>Reasoning</th>\n",
       "    </tr>\n",
       "  </thead>\n",
       "  <tbody>\n",
       "    <tr>\n",
       "      <th>0</th>\n",
       "      <td>sales in jan 2020 versus year ago</td>\n",
       "      <td>{'DATE VARIABLE': {'jan 2020': [{'CONVERTED TI...</td>\n",
       "      <td>Step 1: Identify the components in the query\\n...</td>\n",
       "    </tr>\n",
       "    <tr>\n",
       "      <th>1</th>\n",
       "      <td>Query</td>\n",
       "      <td>Intermediate MQL</td>\n",
       "      <td>NaN</td>\n",
       "    </tr>\n",
       "    <tr>\n",
       "      <th>2</th>\n",
       "      <td>sales in jan 2020 versus year ago</td>\n",
       "      <td>{'DATE VARIABLE': {'jan 2020': [{'CONVERTED TI...</td>\n",
       "      <td>Step 1: Identify the components in the query\\n...</td>\n",
       "    </tr>\n",
       "    <tr>\n",
       "      <th>3</th>\n",
       "      <td>Query</td>\n",
       "      <td>Intermediate MQL</td>\n",
       "      <td>NaN</td>\n",
       "    </tr>\n",
       "    <tr>\n",
       "      <th>4</th>\n",
       "      <td>sales in jan 2020 versus year ago</td>\n",
       "      <td>{'DATE VARIABLE': {'jan 2020': [{'CONVERTED TI...</td>\n",
       "      <td>Step 1: Identify the components in the query\\n...</td>\n",
       "    </tr>\n",
       "    <tr>\n",
       "      <th>5</th>\n",
       "      <td>Query</td>\n",
       "      <td>Intermediate MQL</td>\n",
       "      <td>NaN</td>\n",
       "    </tr>\n",
       "    <tr>\n",
       "      <th>6</th>\n",
       "      <td>sales in jan 2020 versus year ago</td>\n",
       "      <td>{'DATE VARIABLE': {'jan 2020': [{'CONVERTED TI...</td>\n",
       "      <td>NaN</td>\n",
       "    </tr>\n",
       "  </tbody>\n",
       "</table>\n",
       "</div>"
      ],
      "text/plain": [
       "                               Query  \\\n",
       "0  sales in jan 2020 versus year ago   \n",
       "1                              Query   \n",
       "2  sales in jan 2020 versus year ago   \n",
       "3                              Query   \n",
       "4  sales in jan 2020 versus year ago   \n",
       "5                              Query   \n",
       "6  sales in jan 2020 versus year ago   \n",
       "\n",
       "                                    Intermediate MQL  \\\n",
       "0  {'DATE VARIABLE': {'jan 2020': [{'CONVERTED TI...   \n",
       "1                                   Intermediate MQL   \n",
       "2  {'DATE VARIABLE': {'jan 2020': [{'CONVERTED TI...   \n",
       "3                                   Intermediate MQL   \n",
       "4  {'DATE VARIABLE': {'jan 2020': [{'CONVERTED TI...   \n",
       "5                                   Intermediate MQL   \n",
       "6  {'DATE VARIABLE': {'jan 2020': [{'CONVERTED TI...   \n",
       "\n",
       "                                           Reasoning  \n",
       "0  Step 1: Identify the components in the query\\n...  \n",
       "1                                                NaN  \n",
       "2  Step 1: Identify the components in the query\\n...  \n",
       "3                                                NaN  \n",
       "4  Step 1: Identify the components in the query\\n...  \n",
       "5                                                NaN  \n",
       "6                                                NaN  "
      ]
     },
     "execution_count": 3,
     "metadata": {},
     "output_type": "execute_result"
    }
   ],
   "source": [
    "subset_news"
   ]
  },
  {
   "cell_type": "code",
   "execution_count": 4,
   "id": "2b92ffaf",
   "metadata": {},
   "outputs": [
    {
     "ename": "ModuleNotFoundError",
     "evalue": "No module named 'langchain'",
     "output_type": "error",
     "traceback": [
      "\u001b[0;31m---------------------------------------------------------------------------\u001b[0m",
      "\u001b[0;31mModuleNotFoundError\u001b[0m                       Traceback (most recent call last)",
      "Cell \u001b[0;32mIn[4], line 1\u001b[0m\n\u001b[0;32m----> 1\u001b[0m \u001b[38;5;28;01mfrom\u001b[39;00m \u001b[38;5;21;01mlangchain\u001b[39;00m\u001b[38;5;21;01m.\u001b[39;00m\u001b[38;5;21;01mdocument_loaders\u001b[39;00m \u001b[38;5;28;01mimport\u001b[39;00m DataFrameLoader\n\u001b[1;32m      2\u001b[0m \u001b[38;5;28;01mfrom\u001b[39;00m \u001b[38;5;21;01mlangchain\u001b[39;00m\u001b[38;5;21;01m.\u001b[39;00m\u001b[38;5;21;01mvectorstores\u001b[39;00m \u001b[38;5;28;01mimport\u001b[39;00m Chroma\n",
      "\u001b[0;31mModuleNotFoundError\u001b[0m: No module named 'langchain'"
     ]
    }
   ],
   "source": [
    "from langchain.document_loaders import DataFrameLoader\n",
    "from langchain.vectorstores import Chroma"
   ]
  },
  {
   "cell_type": "code",
   "execution_count": 6,
   "id": "892a187d",
   "metadata": {},
   "outputs": [],
   "source": [
    "#!pip install langchain"
   ]
  },
  {
   "cell_type": "code",
   "execution_count": null,
   "id": "0c33c800",
   "metadata": {},
   "outputs": [],
   "source": []
  }
 ],
 "metadata": {
  "kernelspec": {
   "display_name": "Python 3",
   "language": "python",
   "name": "python3"
  },
  "language_info": {
   "codemirror_mode": {
    "name": "ipython",
    "version": 3
   },
   "file_extension": ".py",
   "mimetype": "text/x-python",
   "name": "python",
   "nbconvert_exporter": "python",
   "pygments_lexer": "ipython3",
   "version": "3.8.16"
  }
 },
 "nbformat": 4,
 "nbformat_minor": 5
}
