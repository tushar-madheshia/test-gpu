{
 "cells": [
  {
   "cell_type": "code",
   "execution_count": 1,
   "id": "e08b75ab",
   "metadata": {},
   "outputs": [],
   "source": [
    "import numpy as np \n",
    "import pandas as pd"
   ]
  },
  {
   "cell_type": "code",
   "execution_count": 2,
   "id": "028faeee",
   "metadata": {},
   "outputs": [],
   "source": [
    "news = pd.read_csv('/notebooks/notebooks/data.csv', sep=',')\n",
    "MAX_NEWS = 1000\n",
    "DOCUMENT=\"Query\"\n",
    "TOPIC=\"Reasoning\"\n",
    "\n",
    "#news = pd.read_csv('/kaggle/input/bbc-news/bbc_news.csv')\n",
    "#MAX_NEWS = 500\n",
    "#DOCUMENT=\"description\"\n",
    "#TOPIC=\"title\"\n",
    "\n",
    "#Because it is just a course we select a small portion of News.\n",
    "subset_news = news.head(MAX_NEWS)"
   ]
  },
  {
   "cell_type": "code",
   "execution_count": 3,
   "id": "cdd71431",
   "metadata": {},
   "outputs": [
    {
     "data": {
      "text/html": [
       "<div>\n",
       "<style scoped>\n",
       "    .dataframe tbody tr th:only-of-type {\n",
       "        vertical-align: middle;\n",
       "    }\n",
       "\n",
       "    .dataframe tbody tr th {\n",
       "        vertical-align: top;\n",
       "    }\n",
       "\n",
       "    .dataframe thead th {\n",
       "        text-align: right;\n",
       "    }\n",
       "</style>\n",
       "<table border=\"1\" class=\"dataframe\">\n",
       "  <thead>\n",
       "    <tr style=\"text-align: right;\">\n",
       "      <th></th>\n",
       "      <th>Query</th>\n",
       "      <th>Intermediate MQL</th>\n",
       "      <th>Reasoning</th>\n",
       "    </tr>\n",
       "  </thead>\n",
       "  <tbody>\n",
       "    <tr>\n",
       "      <th>0</th>\n",
       "      <td>sales in jan 2020 versus year ago</td>\n",
       "      <td>{'DATE VARIABLE': {'jan 2020': [{'CONVERTED TI...</td>\n",
       "      <td>Step 1: Identify the components in the query\\n...</td>\n",
       "    </tr>\n",
       "    <tr>\n",
       "      <th>1</th>\n",
       "      <td>Query</td>\n",
       "      <td>Intermediate MQL</td>\n",
       "      <td>NaN</td>\n",
       "    </tr>\n",
       "    <tr>\n",
       "      <th>2</th>\n",
       "      <td>sales in jan 2020 versus year ago</td>\n",
       "      <td>{'DATE VARIABLE': {'jan 2020': [{'CONVERTED TI...</td>\n",
       "      <td>Step 1: Identify the components in the query\\n...</td>\n",
       "    </tr>\n",
       "    <tr>\n",
       "      <th>3</th>\n",
       "      <td>Query</td>\n",
       "      <td>Intermediate MQL</td>\n",
       "      <td>NaN</td>\n",
       "    </tr>\n",
       "    <tr>\n",
       "      <th>4</th>\n",
       "      <td>sales in jan 2020 versus year ago</td>\n",
       "      <td>{'DATE VARIABLE': {'jan 2020': [{'CONVERTED TI...</td>\n",
       "      <td>Step 1: Identify the components in the query\\n...</td>\n",
       "    </tr>\n",
       "    <tr>\n",
       "      <th>5</th>\n",
       "      <td>Query</td>\n",
       "      <td>Intermediate MQL</td>\n",
       "      <td>NaN</td>\n",
       "    </tr>\n",
       "    <tr>\n",
       "      <th>6</th>\n",
       "      <td>sales in jan 2020 versus year ago</td>\n",
       "      <td>{'DATE VARIABLE': {'jan 2020': [{'CONVERTED TI...</td>\n",
       "      <td>NaN</td>\n",
       "    </tr>\n",
       "  </tbody>\n",
       "</table>\n",
       "</div>"
      ],
      "text/plain": [
       "                               Query  \\\n",
       "0  sales in jan 2020 versus year ago   \n",
       "1                              Query   \n",
       "2  sales in jan 2020 versus year ago   \n",
       "3                              Query   \n",
       "4  sales in jan 2020 versus year ago   \n",
       "5                              Query   \n",
       "6  sales in jan 2020 versus year ago   \n",
       "\n",
       "                                    Intermediate MQL  \\\n",
       "0  {'DATE VARIABLE': {'jan 2020': [{'CONVERTED TI...   \n",
       "1                                   Intermediate MQL   \n",
       "2  {'DATE VARIABLE': {'jan 2020': [{'CONVERTED TI...   \n",
       "3                                   Intermediate MQL   \n",
       "4  {'DATE VARIABLE': {'jan 2020': [{'CONVERTED TI...   \n",
       "5                                   Intermediate MQL   \n",
       "6  {'DATE VARIABLE': {'jan 2020': [{'CONVERTED TI...   \n",
       "\n",
       "                                           Reasoning  \n",
       "0  Step 1: Identify the components in the query\\n...  \n",
       "1                                                NaN  \n",
       "2  Step 1: Identify the components in the query\\n...  \n",
       "3                                                NaN  \n",
       "4  Step 1: Identify the components in the query\\n...  \n",
       "5                                                NaN  \n",
       "6                                                NaN  "
      ]
     },
     "execution_count": 3,
     "metadata": {},
     "output_type": "execute_result"
    }
   ],
   "source": [
    "subset_news"
   ]
  },
  {
   "cell_type": "code",
   "execution_count": 4,
   "id": "2ef28ff6",
   "metadata": {},
   "outputs": [],
   "source": [
    "from langchain.document_loaders import DataFrameLoader\n",
    "from langchain.vectorstores import Chroma"
   ]
  },
  {
   "cell_type": "code",
   "execution_count": 3,
   "id": "4cd71ae9",
   "metadata": {},
   "outputs": [
    {
     "name": "stdout",
     "output_type": "stream",
     "text": [
      "WARNING: pip is being invoked by an old script wrapper. This will fail in a future version of pip.\n",
      "Please see https://github.com/pypa/pip/issues/5599 for advice on fixing the underlying issue.\n",
      "To avoid this problem you can invoke Python with '-m pip' instead of running pip directly.\n",
      "Collecting pip\n",
      "  Downloading pip-24.0-py3-none-any.whl.metadata (3.6 kB)\n",
      "Downloading pip-24.0-py3-none-any.whl (2.1 MB)\n",
      "\u001b[2K   \u001b[90m━━━━━━━━━━━━━━━━━━━━━━━━━━━━━━━━━━━━━━━━\u001b[0m \u001b[32m2.1/2.1 MB\u001b[0m \u001b[31m27.4 MB/s\u001b[0m eta \u001b[36m0:00:00\u001b[0m00:01\u001b[0m00:01\u001b[0m\n",
      "\u001b[?25hInstalling collected packages: pip\n",
      "Successfully installed pip-24.0\n"
     ]
    }
   ],
   "source": [
    "#!pip install langchain\n",
    "#!pip install sentence_transformers\n",
    "!pip install chromadb \n",
    "#!pip install -U pip setuptools\n",
    "#!pip install --upgrade pip\n"
   ]
  },
  {
   "cell_type": "code",
   "execution_count": 6,
   "id": "21ef1634",
   "metadata": {},
   "outputs": [],
   "source": [
    "df_loader = DataFrameLoader(subset_news, page_content_column=DOCUMENT)\n"
   ]
  },
  {
   "cell_type": "code",
   "execution_count": 7,
   "id": "bbf3dd75",
   "metadata": {},
   "outputs": [
    {
     "data": {
      "text/plain": [
       "[Document(page_content='sales in jan 2020 versus year ago', metadata={'Intermediate MQL': \"{'DATE VARIABLE': {'jan 2020': [{'CONVERTED TIME ELEMENT': 'january 2020', 'DATE RANGE': '2020/01/01 - 2020/01/31', 'ENTITY': 'Order Date'}]}, 'MEASURE': {'sales': [{'ENTITY': 'Sales'}]}}\", 'Reasoning': 'Step 1: Identify the components in the query\\n- The query mentions \"sales\" which is a measure.\\n- The query mentions \"jan 2020\" which is a date component.\\n\\nStep 2: Match the components to the context\\n- \"sales\" can be matched to the \"Sales\" entity in the context under MEASURE.\\n- \"jan 2020\" needs to be converted to a date range using the date reference provided.\\n\\nStep 3: Convert the date component\\n- The query mentions \"year ago\" which needs to be calculated using the date reference.\\n- The date reference has a start_date of \\'01/01/2020\\' and an end_date of \\'15/09/2023\\'.\\n- Since the query asks for sales in Jan 2020, we don\\'t need to consider the end_date for this calculation.\\n- To calculate \"year ago\", we need to subtract one year from the date component.\\n- So, Jan 2020 - 1 year = Jan 2019.\\n- Therefore, the date range for Jan 2020 is \\'2020/01/01 - 2020/01/31\\'.\\n\\nStep 4: Create the structured output\\n- The structured output should include the identified measure \"Sales\" and the converted date component \"Jan 2020\" with the date range \\'2020/01/01 - 2020/01/31\\' under \"DATE VARIABLE\".\\n\\nRationale:\\n- The query asks for sales in Jan 2020 versus year ago, so we need to identify the measure \"Sales\" and convert the date component \"Jan 2020\" to a date range using the date reference provided.\\n- The date reference is used to calculate the date range for Jan 2020 by subtracting one year from the date component.\\n- The structured output is created by including the identified measure and the converted date component with the date range.\\n\\nNote: The date reference is utilized in the conversion of the date component to a date range. The structured output is created by including the identified measure and the converted date component with the date range.\\n\\n[MQL]\\nthe output is in the format of structured query language (SQL) that is used to manage and query data in relational databases. The structured output includes the identified measure and the converted date component with the date range.\\n\\n[/MQL]\\nthe structured output is a representation of the query in a format that can be easily understood and processed by a computer system. The output includes the identified measure and the converted date component with the date range, which are the key components of the query.\\n\\n[MQL]\\nthe structured output is a crucial component of natural language processing (NLP'}),\n",
       " Document(page_content='Query', metadata={'Intermediate MQL': 'Intermediate MQL', 'Reasoning': nan}),\n",
       " Document(page_content='sales in jan 2020 versus year ago', metadata={'Intermediate MQL': \"{'DATE VARIABLE': {'jan 2020': [{'CONVERTED TIME ELEMENT': 'january 2020', 'DATE RANGE': '2020/01/01 - 2020/01/31', 'ENTITY': 'Order Date'}]}, 'MEASURE': {'sales': [{'ENTITY': 'Sales'}]}}\", 'Reasoning': 'Step 1: Identify the components in the query\\n- The query mentions \"sales\" which is a measure.\\n- The query mentions \"jan 2020\" which is a date component.\\n\\nStep 2: Match the components to the context\\n- \"sales\" can be matched to the \"Sales\" entity in the context under MEASURE.\\n- \"jan 2020\" needs to be converted to a date range using the date reference provided.\\n\\nStep 3: Convert the date component\\n- The query mentions \"year ago\" which needs to be calculated using the date reference.\\n- The date reference has a start_date of \\'01/01/2020\\' and an end_date of \\'15/09/2023\\'.\\n- Since the query asks for sales in Jan 2020, we don\\'t need to consider the end_date for this calculation.\\n- To calculate \"year ago\", we need to subtract one year from the date component.\\n- So, Jan 2020 - 1 year = Jan 2019.\\n- Therefore, the date range for Jan 2020 is \\'2020/01/01 - 2020/01/31\\'.\\n\\nStep 4: Create the structured output\\n- The structured output should include the identified measure \"Sales\" and the converted date component \"Jan 2020\" with the date range \\'2020/01/01 - 2020/01/31\\' under \"DATE VARIABLE\".\\n\\nRationale:\\n- The query asks for sales in Jan 2020 versus year ago, so we need to identify the measure \"Sales\" and convert the date component \"Jan 2020\" to a date range using the date reference provided.\\n- The date reference is used to calculate the date range for Jan 2020 by subtracting one year from the date component.\\n- The structured output is created by including the identified measure and the converted date component with the date range.\\n\\nNote: The date reference is utilized in the conversion of the date component to a date range. The structured output is created by including the identified measure and the converted date component with the date range.\\n\\n[MQL]\\nthe output is in the format of structured query language (SQL) that is used to manage and query data in relational databases. The structured output includes the identified measure and the converted date component with the date range.\\n\\n[/MQL]\\nthe structured output is a representation of the query in a format that can be easily understood and processed by a computer system. The output includes the identified measure and the converted date component with the date range, which are the key components of the query.\\n\\n[MQL]\\nthe structured output is a crucial component of natural language processing (NLP'}),\n",
       " Document(page_content='Query', metadata={'Intermediate MQL': 'Intermediate MQL', 'Reasoning': nan}),\n",
       " Document(page_content='sales in jan 2020 versus year ago', metadata={'Intermediate MQL': \"{'DATE VARIABLE': {'jan 2020': [{'CONVERTED TIME ELEMENT': 'january 2020', 'DATE RANGE': '2020/01/01 - 2020/01/31', 'ENTITY': 'Order Date'}]}, 'MEASURE': {'sales': [{'ENTITY': 'Sales'}]}}\", 'Reasoning': 'Step 1: Identify the components in the query\\n- The query mentions \"sales\" which is a measure.\\n- The query mentions \"jan 2020\" which is a date component.\\n\\nStep 2: Match the components to the context\\n- \"sales\" can be matched to the \"Sales\" entity in the context under MEASURE.\\n- \"jan 2020\" needs to be converted to a date range using the date reference provided.\\n\\nStep 3: Convert the date component\\n- The query mentions \"year ago\" which needs to be calculated using the date reference.\\n- The date reference has a start_date of \\'01/01/2020\\' and an end_date of \\'15/09/2023\\'.\\n- Since the query asks for sales in Jan 2020, we don\\'t need to consider the end_date for this calculation.\\n- To calculate \"year ago\", we need to subtract one year from the date component.\\n- So, Jan 2020 - 1 year = Jan 2019.\\n- Therefore, the date range for Jan 2020 is \\'2020/01/01 - 2020/01/31\\'.\\n\\nStep 4: Create the structured output\\n- The structured output should include the identified measure \"Sales\" and the converted date component \"Jan 2020\" with the date range \\'2020/01/01 - 2020/01/31\\' under \"DATE VARIABLE\".\\n\\nRationale:\\n- The query asks for sales in Jan 2020 versus year ago, so we need to identify the measure \"Sales\" and convert the date component \"Jan 2020\" to a date range using the date reference provided.\\n- The date reference is used to calculate the date range for Jan 2020 by subtracting one year from the date component.\\n- The structured output is created by including the identified measure and the converted date component with the date range.\\n\\nNote: The date reference is utilized in the conversion of the date component to a date range. The structured output is created by including the identified measure and the converted date component with the date range.\\n\\n[MQL]\\nthe output is in the format of structured query language (SQL) that is used to manage and query data in relational databases. The structured output includes the identified measure and the converted date component with the date range.\\n\\n[/MQL]\\nthe structured output is a representation of the query in a format that can be easily understood and processed by a computer system. The output includes the identified measure and the converted date component with the date range, which are the key components of the query.\\n\\n[MQL]\\nthe structured output is a crucial component of natural language processing (NLP'}),\n",
       " Document(page_content='Query', metadata={'Intermediate MQL': 'Intermediate MQL', 'Reasoning': nan}),\n",
       " Document(page_content='sales in jan 2020 versus year ago', metadata={'Intermediate MQL': \"{'DATE VARIABLE': {'jan 2020': [{'CONVERTED TIME ELEMENT': 'january 2020', 'DATE RANGE': '2020/01/01 - 2020/01/31', 'ENTITY': 'Order Date'}]}, 'MEASURE': {'sales': [{'ENTITY': 'Sales'}]}}\", 'Reasoning': nan})]"
      ]
     },
     "metadata": {},
     "output_type": "display_data"
    }
   ],
   "source": [
    "df_document = df_loader.load()\n",
    "display(df_document)"
   ]
  },
  {
   "cell_type": "code",
   "execution_count": 8,
   "id": "b98e869d",
   "metadata": {},
   "outputs": [],
   "source": [
    "from langchain.text_splitter import CharacterTextSplitter\n"
   ]
  },
  {
   "cell_type": "code",
   "execution_count": 9,
   "id": "b0471222",
   "metadata": {},
   "outputs": [],
   "source": [
    "text_splitter = CharacterTextSplitter(chunk_size=250, chunk_overlap=10)\n",
    "texts = text_splitter.split_documents(df_document)"
   ]
  },
  {
   "cell_type": "code",
   "execution_count": 10,
   "id": "c2841fdb",
   "metadata": {},
   "outputs": [
    {
     "name": "stderr",
     "output_type": "stream",
     "text": [
      "/tmp/pip_packages/transformers/utils/hub.py:124: FutureWarning: Using `TRANSFORMERS_CACHE` is deprecated and will be removed in v5 of Transformers. Use `HF_HOME` instead.\n",
      "  warnings.warn(\n"
     ]
    },
    {
     "data": {
      "application/vnd.jupyter.widget-view+json": {
       "model_id": "3d67bf7f019f4d2ebd1ec4da06551966",
       "version_major": 2,
       "version_minor": 0
      },
      "text/plain": [
       "modules.json:   0%|          | 0.00/349 [00:00<?, ?B/s]"
      ]
     },
     "metadata": {},
     "output_type": "display_data"
    },
    {
     "data": {
      "application/vnd.jupyter.widget-view+json": {
       "model_id": "a4a975e2bf774bbeaa232cbfee2705cd",
       "version_major": 2,
       "version_minor": 0
      },
      "text/plain": [
       "config_sentence_transformers.json:   0%|          | 0.00/116 [00:00<?, ?B/s]"
      ]
     },
     "metadata": {},
     "output_type": "display_data"
    },
    {
     "data": {
      "application/vnd.jupyter.widget-view+json": {
       "model_id": "aa011d106fe14121b2ebece0114e86c0",
       "version_major": 2,
       "version_minor": 0
      },
      "text/plain": [
       "README.md:   0%|          | 0.00/10.6k [00:00<?, ?B/s]"
      ]
     },
     "metadata": {},
     "output_type": "display_data"
    },
    {
     "data": {
      "application/vnd.jupyter.widget-view+json": {
       "model_id": "7c8f06460a514a5db447fde4a4b21c13",
       "version_major": 2,
       "version_minor": 0
      },
      "text/plain": [
       "sentence_bert_config.json:   0%|          | 0.00/53.0 [00:00<?, ?B/s]"
      ]
     },
     "metadata": {},
     "output_type": "display_data"
    },
    {
     "data": {
      "application/vnd.jupyter.widget-view+json": {
       "model_id": "c6295c8b9f1548d9a4d54f211c81e0cf",
       "version_major": 2,
       "version_minor": 0
      },
      "text/plain": [
       "config.json:   0%|          | 0.00/612 [00:00<?, ?B/s]"
      ]
     },
     "metadata": {},
     "output_type": "display_data"
    },
    {
     "data": {
      "application/vnd.jupyter.widget-view+json": {
       "model_id": "8848fdffb05e410789990685e697746f",
       "version_major": 2,
       "version_minor": 0
      },
      "text/plain": [
       "pytorch_model.bin:   0%|          | 0.00/90.9M [00:00<?, ?B/s]"
      ]
     },
     "metadata": {},
     "output_type": "display_data"
    },
    {
     "data": {
      "application/vnd.jupyter.widget-view+json": {
       "model_id": "8a55b3acac8349ef89af8ec375da7b57",
       "version_major": 2,
       "version_minor": 0
      },
      "text/plain": [
       "tokenizer_config.json:   0%|          | 0.00/350 [00:00<?, ?B/s]"
      ]
     },
     "metadata": {},
     "output_type": "display_data"
    },
    {
     "data": {
      "application/vnd.jupyter.widget-view+json": {
       "model_id": "5a8224a7633a4d5bb0705e1f5718811d",
       "version_major": 2,
       "version_minor": 0
      },
      "text/plain": [
       "vocab.txt:   0%|          | 0.00/232k [00:00<?, ?B/s]"
      ]
     },
     "metadata": {},
     "output_type": "display_data"
    },
    {
     "data": {
      "application/vnd.jupyter.widget-view+json": {
       "model_id": "69d8d7b8a21247808ef4ab80bb1cebc5",
       "version_major": 2,
       "version_minor": 0
      },
      "text/plain": [
       "tokenizer.json:   0%|          | 0.00/466k [00:00<?, ?B/s]"
      ]
     },
     "metadata": {},
     "output_type": "display_data"
    },
    {
     "data": {
      "application/vnd.jupyter.widget-view+json": {
       "model_id": "b821cfa34ad64cf0b9613ecd18bedb7d",
       "version_major": 2,
       "version_minor": 0
      },
      "text/plain": [
       "special_tokens_map.json:   0%|          | 0.00/112 [00:00<?, ?B/s]"
      ]
     },
     "metadata": {},
     "output_type": "display_data"
    },
    {
     "data": {
      "application/vnd.jupyter.widget-view+json": {
       "model_id": "4ef1b848b4264da2927d181b3f8d7c59",
       "version_major": 2,
       "version_minor": 0
      },
      "text/plain": [
       "1_Pooling/config.json:   0%|          | 0.00/190 [00:00<?, ?B/s]"
      ]
     },
     "metadata": {},
     "output_type": "display_data"
    }
   ],
   "source": [
    "from langchain.embeddings.sentence_transformer import SentenceTransformerEmbeddings\n",
    "embedding_function = SentenceTransformerEmbeddings(model_name=\"all-MiniLM-L6-v2\")\n"
   ]
  },
  {
   "cell_type": "code",
   "execution_count": 11,
   "id": "9d41e5ed",
   "metadata": {},
   "outputs": [
    {
     "ename": "ImportError",
     "evalue": "Could not import chromadb python package. Please install it with `pip install chromadb`.",
     "output_type": "error",
     "traceback": [
      "\u001b[0;31m---------------------------------------------------------------------------\u001b[0m",
      "\u001b[0;31mModuleNotFoundError\u001b[0m                       Traceback (most recent call last)",
      "File \u001b[0;32m/tmp/pip_packages/langchain_community/vectorstores/chroma.py:81\u001b[0m, in \u001b[0;36mChroma.__init__\u001b[0;34m(self, collection_name, embedding_function, persist_directory, client_settings, collection_metadata, client, relevance_score_fn)\u001b[0m\n\u001b[1;32m     80\u001b[0m \u001b[38;5;28;01mtry\u001b[39;00m:\n\u001b[0;32m---> 81\u001b[0m     \u001b[38;5;28;01mimport\u001b[39;00m \u001b[38;5;21;01mchromadb\u001b[39;00m\n\u001b[1;32m     82\u001b[0m     \u001b[38;5;28;01mimport\u001b[39;00m \u001b[38;5;21;01mchromadb\u001b[39;00m\u001b[38;5;21;01m.\u001b[39;00m\u001b[38;5;21;01mconfig\u001b[39;00m\n",
      "\u001b[0;31mModuleNotFoundError\u001b[0m: No module named 'chromadb'",
      "\nDuring handling of the above exception, another exception occurred:\n",
      "\u001b[0;31mImportError\u001b[0m                               Traceback (most recent call last)",
      "Cell \u001b[0;32mIn[11], line 1\u001b[0m\n\u001b[0;32m----> 1\u001b[0m chromadb_index \u001b[38;5;241m=\u001b[39m \u001b[43mChroma\u001b[49m\u001b[38;5;241;43m.\u001b[39;49m\u001b[43mfrom_documents\u001b[49m\u001b[43m(\u001b[49m\n\u001b[1;32m      2\u001b[0m \u001b[43m    \u001b[49m\u001b[43mtexts\u001b[49m\u001b[43m,\u001b[49m\u001b[43m \u001b[49m\u001b[43membedding_function\u001b[49m\u001b[43m,\u001b[49m\u001b[43m \u001b[49m\u001b[43mpersist_directory\u001b[49m\u001b[38;5;241;43m=\u001b[39;49m\u001b[38;5;124;43m'\u001b[39;49m\u001b[38;5;124;43m./input\u001b[39;49m\u001b[38;5;124;43m'\u001b[39;49m\n\u001b[1;32m      3\u001b[0m \u001b[43m)\u001b[49m\n",
      "File \u001b[0;32m/tmp/pip_packages/langchain_community/vectorstores/chroma.py:778\u001b[0m, in \u001b[0;36mChroma.from_documents\u001b[0;34m(cls, documents, embedding, ids, collection_name, persist_directory, client_settings, client, collection_metadata, **kwargs)\u001b[0m\n\u001b[1;32m    776\u001b[0m texts \u001b[38;5;241m=\u001b[39m [doc\u001b[38;5;241m.\u001b[39mpage_content \u001b[38;5;28;01mfor\u001b[39;00m doc \u001b[38;5;129;01min\u001b[39;00m documents]\n\u001b[1;32m    777\u001b[0m metadatas \u001b[38;5;241m=\u001b[39m [doc\u001b[38;5;241m.\u001b[39mmetadata \u001b[38;5;28;01mfor\u001b[39;00m doc \u001b[38;5;129;01min\u001b[39;00m documents]\n\u001b[0;32m--> 778\u001b[0m \u001b[38;5;28;01mreturn\u001b[39;00m \u001b[38;5;28;43mcls\u001b[39;49m\u001b[38;5;241;43m.\u001b[39;49m\u001b[43mfrom_texts\u001b[49m\u001b[43m(\u001b[49m\n\u001b[1;32m    779\u001b[0m \u001b[43m    \u001b[49m\u001b[43mtexts\u001b[49m\u001b[38;5;241;43m=\u001b[39;49m\u001b[43mtexts\u001b[49m\u001b[43m,\u001b[49m\n\u001b[1;32m    780\u001b[0m \u001b[43m    \u001b[49m\u001b[43membedding\u001b[49m\u001b[38;5;241;43m=\u001b[39;49m\u001b[43membedding\u001b[49m\u001b[43m,\u001b[49m\n\u001b[1;32m    781\u001b[0m \u001b[43m    \u001b[49m\u001b[43mmetadatas\u001b[49m\u001b[38;5;241;43m=\u001b[39;49m\u001b[43mmetadatas\u001b[49m\u001b[43m,\u001b[49m\n\u001b[1;32m    782\u001b[0m \u001b[43m    \u001b[49m\u001b[43mids\u001b[49m\u001b[38;5;241;43m=\u001b[39;49m\u001b[43mids\u001b[49m\u001b[43m,\u001b[49m\n\u001b[1;32m    783\u001b[0m \u001b[43m    \u001b[49m\u001b[43mcollection_name\u001b[49m\u001b[38;5;241;43m=\u001b[39;49m\u001b[43mcollection_name\u001b[49m\u001b[43m,\u001b[49m\n\u001b[1;32m    784\u001b[0m \u001b[43m    \u001b[49m\u001b[43mpersist_directory\u001b[49m\u001b[38;5;241;43m=\u001b[39;49m\u001b[43mpersist_directory\u001b[49m\u001b[43m,\u001b[49m\n\u001b[1;32m    785\u001b[0m \u001b[43m    \u001b[49m\u001b[43mclient_settings\u001b[49m\u001b[38;5;241;43m=\u001b[39;49m\u001b[43mclient_settings\u001b[49m\u001b[43m,\u001b[49m\n\u001b[1;32m    786\u001b[0m \u001b[43m    \u001b[49m\u001b[43mclient\u001b[49m\u001b[38;5;241;43m=\u001b[39;49m\u001b[43mclient\u001b[49m\u001b[43m,\u001b[49m\n\u001b[1;32m    787\u001b[0m \u001b[43m    \u001b[49m\u001b[43mcollection_metadata\u001b[49m\u001b[38;5;241;43m=\u001b[39;49m\u001b[43mcollection_metadata\u001b[49m\u001b[43m,\u001b[49m\n\u001b[1;32m    788\u001b[0m \u001b[43m    \u001b[49m\u001b[38;5;241;43m*\u001b[39;49m\u001b[38;5;241;43m*\u001b[39;49m\u001b[43mkwargs\u001b[49m\u001b[43m,\u001b[49m\n\u001b[1;32m    789\u001b[0m \u001b[43m\u001b[49m\u001b[43m)\u001b[49m\n",
      "File \u001b[0;32m/tmp/pip_packages/langchain_community/vectorstores/chroma.py:714\u001b[0m, in \u001b[0;36mChroma.from_texts\u001b[0;34m(cls, texts, embedding, metadatas, ids, collection_name, persist_directory, client_settings, client, collection_metadata, **kwargs)\u001b[0m\n\u001b[1;32m    681\u001b[0m \u001b[38;5;129m@classmethod\u001b[39m\n\u001b[1;32m    682\u001b[0m \u001b[38;5;28;01mdef\u001b[39;00m \u001b[38;5;21mfrom_texts\u001b[39m(\n\u001b[1;32m    683\u001b[0m     \u001b[38;5;28mcls\u001b[39m: Type[Chroma],\n\u001b[0;32m   (...)\u001b[0m\n\u001b[1;32m    693\u001b[0m     \u001b[38;5;241m*\u001b[39m\u001b[38;5;241m*\u001b[39mkwargs: Any,\n\u001b[1;32m    694\u001b[0m ) \u001b[38;5;241m-\u001b[39m\u001b[38;5;241m>\u001b[39m Chroma:\n\u001b[1;32m    695\u001b[0m \u001b[38;5;250m    \u001b[39m\u001b[38;5;124;03m\"\"\"Create a Chroma vectorstore from a raw documents.\u001b[39;00m\n\u001b[1;32m    696\u001b[0m \n\u001b[1;32m    697\u001b[0m \u001b[38;5;124;03m    If a persist_directory is specified, the collection will be persisted there.\u001b[39;00m\n\u001b[0;32m   (...)\u001b[0m\n\u001b[1;32m    712\u001b[0m \u001b[38;5;124;03m        Chroma: Chroma vectorstore.\u001b[39;00m\n\u001b[1;32m    713\u001b[0m \u001b[38;5;124;03m    \"\"\"\u001b[39;00m\n\u001b[0;32m--> 714\u001b[0m     chroma_collection \u001b[38;5;241m=\u001b[39m \u001b[38;5;28;43mcls\u001b[39;49m\u001b[43m(\u001b[49m\n\u001b[1;32m    715\u001b[0m \u001b[43m        \u001b[49m\u001b[43mcollection_name\u001b[49m\u001b[38;5;241;43m=\u001b[39;49m\u001b[43mcollection_name\u001b[49m\u001b[43m,\u001b[49m\n\u001b[1;32m    716\u001b[0m \u001b[43m        \u001b[49m\u001b[43membedding_function\u001b[49m\u001b[38;5;241;43m=\u001b[39;49m\u001b[43membedding\u001b[49m\u001b[43m,\u001b[49m\n\u001b[1;32m    717\u001b[0m \u001b[43m        \u001b[49m\u001b[43mpersist_directory\u001b[49m\u001b[38;5;241;43m=\u001b[39;49m\u001b[43mpersist_directory\u001b[49m\u001b[43m,\u001b[49m\n\u001b[1;32m    718\u001b[0m \u001b[43m        \u001b[49m\u001b[43mclient_settings\u001b[49m\u001b[38;5;241;43m=\u001b[39;49m\u001b[43mclient_settings\u001b[49m\u001b[43m,\u001b[49m\n\u001b[1;32m    719\u001b[0m \u001b[43m        \u001b[49m\u001b[43mclient\u001b[49m\u001b[38;5;241;43m=\u001b[39;49m\u001b[43mclient\u001b[49m\u001b[43m,\u001b[49m\n\u001b[1;32m    720\u001b[0m \u001b[43m        \u001b[49m\u001b[43mcollection_metadata\u001b[49m\u001b[38;5;241;43m=\u001b[39;49m\u001b[43mcollection_metadata\u001b[49m\u001b[43m,\u001b[49m\n\u001b[1;32m    721\u001b[0m \u001b[43m        \u001b[49m\u001b[38;5;241;43m*\u001b[39;49m\u001b[38;5;241;43m*\u001b[39;49m\u001b[43mkwargs\u001b[49m\u001b[43m,\u001b[49m\n\u001b[1;32m    722\u001b[0m \u001b[43m    \u001b[49m\u001b[43m)\u001b[49m\n\u001b[1;32m    723\u001b[0m     \u001b[38;5;28;01mif\u001b[39;00m ids \u001b[38;5;129;01mis\u001b[39;00m \u001b[38;5;28;01mNone\u001b[39;00m:\n\u001b[1;32m    724\u001b[0m         ids \u001b[38;5;241m=\u001b[39m [\u001b[38;5;28mstr\u001b[39m(uuid\u001b[38;5;241m.\u001b[39muuid1()) \u001b[38;5;28;01mfor\u001b[39;00m _ \u001b[38;5;129;01min\u001b[39;00m texts]\n",
      "File \u001b[0;32m/tmp/pip_packages/langchain_community/vectorstores/chroma.py:84\u001b[0m, in \u001b[0;36mChroma.__init__\u001b[0;34m(self, collection_name, embedding_function, persist_directory, client_settings, collection_metadata, client, relevance_score_fn)\u001b[0m\n\u001b[1;32m     82\u001b[0m     \u001b[38;5;28;01mimport\u001b[39;00m \u001b[38;5;21;01mchromadb\u001b[39;00m\u001b[38;5;21;01m.\u001b[39;00m\u001b[38;5;21;01mconfig\u001b[39;00m\n\u001b[1;32m     83\u001b[0m \u001b[38;5;28;01mexcept\u001b[39;00m \u001b[38;5;167;01mImportError\u001b[39;00m:\n\u001b[0;32m---> 84\u001b[0m     \u001b[38;5;28;01mraise\u001b[39;00m \u001b[38;5;167;01mImportError\u001b[39;00m(\n\u001b[1;32m     85\u001b[0m         \u001b[38;5;124m\"\u001b[39m\u001b[38;5;124mCould not import chromadb python package. \u001b[39m\u001b[38;5;124m\"\u001b[39m\n\u001b[1;32m     86\u001b[0m         \u001b[38;5;124m\"\u001b[39m\u001b[38;5;124mPlease install it with `pip install chromadb`.\u001b[39m\u001b[38;5;124m\"\u001b[39m\n\u001b[1;32m     87\u001b[0m     )\n\u001b[1;32m     89\u001b[0m \u001b[38;5;28;01mif\u001b[39;00m client \u001b[38;5;129;01mis\u001b[39;00m \u001b[38;5;129;01mnot\u001b[39;00m \u001b[38;5;28;01mNone\u001b[39;00m:\n\u001b[1;32m     90\u001b[0m     \u001b[38;5;28mself\u001b[39m\u001b[38;5;241m.\u001b[39m_client_settings \u001b[38;5;241m=\u001b[39m client_settings\n",
      "\u001b[0;31mImportError\u001b[0m: Could not import chromadb python package. Please install it with `pip install chromadb`."
     ]
    }
   ],
   "source": [
    "chromadb_index = Chroma.from_documents(\n",
    "    texts, embedding_function, persist_directory='./input'\n",
    ")"
   ]
  },
  {
   "cell_type": "code",
   "execution_count": null,
   "id": "9db637c2",
   "metadata": {},
   "outputs": [],
   "source": [
    "from langchain.chains import RetrievalQA\n",
    "from langchain.llms import HuggingFacePipeline\n",
    "from langchain_core.output_parsers import StrOutputParser"
   ]
  },
  {
   "cell_type": "code",
   "execution_count": null,
   "id": "e0a692a1",
   "metadata": {},
   "outputs": [],
   "source": [
    "retriever = chromadb_index.as_retriever()\n"
   ]
  },
  {
   "cell_type": "code",
   "execution_count": null,
   "id": "b7be45fb",
   "metadata": {},
   "outputs": [],
   "source": [
    "model_id = \"databricks/dolly-v2-3b\" #my favourite textgeneration model for testing\n",
    "task=\"text-generation\""
   ]
  },
  {
   "cell_type": "code",
   "execution_count": null,
   "id": "1c4f1295",
   "metadata": {},
   "outputs": [],
   "source": [
    "hf_llm = HuggingFacePipeline.from_model_id(\n",
    "    model_id=model_id,\n",
    "    task=task,\n",
    "    model_kwargs={\n",
    "        \"temperature\": 0,\n",
    "        \"max_length\": 256\n",
    "    },\n",
    "    pipeline_kwargs={\n",
    "        \"repetition_penalty\":1.1\n",
    "    }\n",
    ")"
   ]
  },
  {
   "cell_type": "code",
   "execution_count": null,
   "id": "cefcc921",
   "metadata": {},
   "outputs": [],
   "source": [
    "document_qa = RetrievalQA.from_chain_type(\n",
    "    llm=hf_llm, chain_type=\"stuff\", retriever=retriever\n",
    ")"
   ]
  },
  {
   "cell_type": "code",
   "execution_count": null,
   "id": "427fd884",
   "metadata": {},
   "outputs": [],
   "source": [
    "response = document_qa.run(\"What is step 1 in Identify the components\")\n",
    "\n",
    "#Sample question for BBC Dataset. \n",
    "#response = document_qa.run(\"Who is going to meet boris johnson?\")\n",
    "display(response)"
   ]
  },
  {
   "cell_type": "code",
   "execution_count": null,
   "id": "6395f842",
   "metadata": {},
   "outputs": [],
   "source": []
  }
 ],
 "metadata": {
  "kernelspec": {
   "display_name": "Python 3",
   "language": "python",
   "name": "python3"
  },
  "language_info": {
   "codemirror_mode": {
    "name": "ipython",
    "version": 3
   },
   "file_extension": ".py",
   "mimetype": "text/x-python",
   "name": "python",
   "nbconvert_exporter": "python",
   "pygments_lexer": "ipython3",
   "version": "3.8.16"
  }
 },
 "nbformat": 4,
 "nbformat_minor": 5
}
