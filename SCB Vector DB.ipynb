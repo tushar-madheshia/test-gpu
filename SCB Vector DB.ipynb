{
 "cells": [
  {
   "cell_type": "code",
   "execution_count": 1,
   "id": "b5556215",
   "metadata": {},
   "outputs": [],
   "source": [
    "#!python -m pip install elasticsearch\n"
   ]
  },
  {
   "cell_type": "code",
   "execution_count": 2,
   "id": "3da0a01a",
   "metadata": {},
   "outputs": [],
   "source": [
    "from transformers import AutoModel, AutoTokenizer\n",
    "\n",
    "checkpoint = \"Salesforce/codet5p-110m-embedding\"\n",
    "device = \"cpu\"  # for GPU usage or \"cpu\" for CPU usage\n",
    "\n",
    "tokenizer = AutoTokenizer.from_pretrained(checkpoint, trust_remote_code=True,cache_dir=\"/notebooks/\")\n",
    "model = AutoModel.from_pretrained(checkpoint, trust_remote_code=True,cache_dir=\"/notebooks/\").to(device)"
   ]
  },
  {
   "cell_type": "code",
   "execution_count": null,
   "id": "12d92b9d",
   "metadata": {},
   "outputs": [],
   "source": [
    "#code = \"proc sql; \\n title '\\n select Continent, sum(Population) as TotPop format=comma15. \\n from sql.countries \\n where Population lt 1000000 \\n group by Continent \\n order by Nikhil; \\n quit;\"\n",
    "code2 = \"\"\"\n",
    "proc summary data=sql.countries;\n",
    "   class Continent;\n",
    "   var Population;\n",
    "   output out=sumPop sum=TotPop;\n",
    "run;\n",
    "\"\"\"\n",
    "inputs2 = tokenizer.encode(code2, return_tensors=\"pt\").to(device)\n",
    "embedding2 = model(inputs2)[0]\n",
    "embedding2"
   ]
  }
 ],
 "metadata": {
  "kernelspec": {
   "display_name": "Python 3",
   "language": "python",
   "name": "python3"
  },
  "language_info": {
   "codemirror_mode": {
    "name": "ipython",
    "version": 3
   },
   "file_extension": ".py",
   "mimetype": "text/x-python",
   "name": "python",
   "nbconvert_exporter": "python",
   "pygments_lexer": "ipython3",
   "version": "3.8.16"
  }
 },
 "nbformat": 4,
 "nbformat_minor": 5
}
