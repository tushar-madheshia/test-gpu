{
 "cells": [
  {
   "cell_type": "code",
   "execution_count": 1,
   "id": "79325802",
   "metadata": {},
   "outputs": [],
   "source": [
    "#!python -m pip install elasticsearch\n"
   ]
  },
  {
   "cell_type": "code",
   "execution_count": 2,
   "id": "3bcb088b",
   "metadata": {},
   "outputs": [],
   "source": [
    "from transformers import AutoModel, AutoTokenizer\n",
    "\n",
    "checkpoint = \"Salesforce/codet5p-110m-embedding\"\n",
    "device = \"cpu\"  # for GPU usage or \"cpu\" for CPU usage\n",
    "\n",
    "tokenizer = AutoTokenizer.from_pretrained(checkpoint, trust_remote_code=True,cache_dir=\"/notebooks/\")\n",
    "model = AutoModel.from_pretrained(checkpoint, trust_remote_code=True,cache_dir=\"/notebooks/\").to(device)"
   ]
  },
  {
   "cell_type": "code",
   "execution_count": 3,
   "id": "6ea315fc",
   "metadata": {},
   "outputs": [
    {
     "data": {
      "text/plain": [
       "tensor([-1.1664e-01,  1.0180e-01, -1.4778e-01, -1.8997e-03, -1.2429e-01,\n",
       "         3.6529e-02,  5.0743e-02,  5.5037e-02,  7.3056e-02, -2.2361e-02,\n",
       "        -4.0584e-03,  6.0812e-02, -6.1013e-02,  5.6989e-02,  6.5422e-02,\n",
       "        -2.5861e-02,  3.7179e-02, -1.1375e-01, -3.3296e-02, -2.6580e-02,\n",
       "        -3.2809e-02,  1.0145e-02, -3.9236e-02,  6.5181e-02, -6.3165e-02,\n",
       "         2.2435e-02, -5.5856e-02,  1.7764e-02, -4.8156e-04,  1.4163e-01,\n",
       "         6.5229e-02, -4.0608e-02, -7.2840e-02,  3.3009e-02, -1.1621e-01,\n",
       "        -2.3815e-02,  1.4062e-02, -2.2251e-02, -1.2350e-01,  1.3896e-01,\n",
       "        -3.5427e-02,  3.1938e-02,  7.8404e-02, -5.2666e-03,  1.8424e-02,\n",
       "        -2.9153e-03, -8.1500e-02, -1.0562e-01, -5.2955e-02, -9.5045e-02,\n",
       "        -9.2997e-02,  7.6719e-02, -6.6735e-02,  5.2498e-03, -8.0902e-02,\n",
       "        -2.9478e-02, -6.5400e-02, -7.6797e-02, -7.6055e-02,  5.6969e-02,\n",
       "        -3.3901e-03,  1.0110e-02, -3.4220e-02,  1.1457e-04,  7.1977e-02,\n",
       "         2.4057e-02,  2.1532e-02, -2.8652e-02,  1.0190e-01, -1.7385e-01,\n",
       "        -3.9177e-03,  5.3065e-02,  1.0506e-03, -7.4617e-02, -1.2375e-01,\n",
       "         7.1318e-02, -5.2828e-02, -1.4351e-01,  1.3566e-02, -5.2272e-02,\n",
       "        -1.1288e-02,  7.0302e-02,  7.3570e-02, -5.1466e-02,  7.1298e-02,\n",
       "        -5.9137e-02, -1.1380e-02, -2.2881e-02, -2.3714e-02, -1.0968e-01,\n",
       "        -2.0405e-02, -5.0474e-02,  1.2975e-01, -5.6048e-02, -8.2145e-02,\n",
       "         1.9399e-02,  1.3100e-03, -9.7569e-02, -1.3317e-02,  1.2442e-02,\n",
       "        -2.9820e-02, -7.6802e-02,  5.4690e-02,  1.8092e-02,  2.0402e-02,\n",
       "         1.3417e-01, -4.7018e-02,  1.2186e-02,  2.8048e-02,  5.5146e-02,\n",
       "        -8.2474e-02, -6.4304e-02, -1.3765e-02,  5.6299e-02, -4.8746e-03,\n",
       "        -1.9289e-02, -1.0422e-01, -3.3815e-02,  1.9396e-02, -1.3677e-02,\n",
       "        -3.1123e-02,  7.4412e-02,  5.7493e-03, -5.6932e-02,  2.7288e-02,\n",
       "         4.8589e-02,  8.9556e-02, -2.9558e-02,  2.9332e-02,  2.1299e-03,\n",
       "         1.5133e-02, -8.8264e-02,  2.2077e-02, -1.7854e-02, -1.5290e-02,\n",
       "         9.4952e-03,  5.2246e-02,  9.8894e-04, -3.6242e-02,  1.7510e-02,\n",
       "         4.5129e-02, -4.6467e-03, -6.1704e-02,  4.5796e-02,  2.0612e-02,\n",
       "         8.6620e-03, -8.3660e-03,  1.9821e-04, -3.3339e-02,  1.1650e-02,\n",
       "        -3.0894e-02, -8.4515e-02, -1.5370e-01, -6.1312e-02, -9.1602e-03,\n",
       "        -9.9111e-02, -1.1506e-01,  8.6476e-02, -2.7562e-02, -3.0564e-03,\n",
       "         1.5278e-01,  6.2409e-02,  6.2410e-05,  3.5580e-02, -4.6496e-02,\n",
       "        -2.7330e-02, -1.3144e-01, -6.5661e-02,  3.8193e-02,  3.4688e-03,\n",
       "        -1.1741e-02,  1.1176e-01,  1.4374e-02, -1.7973e-03, -1.4562e-02,\n",
       "        -8.0448e-02, -9.8572e-02, -3.6413e-02,  7.3847e-03, -1.4136e-03,\n",
       "         1.2372e-02,  2.7525e-02, -2.0251e-02, -7.9198e-02,  7.8442e-02,\n",
       "         5.3036e-02, -3.5549e-02, -4.3045e-02, -9.5814e-02, -3.6469e-02,\n",
       "         3.1931e-02,  5.8054e-02, -7.8325e-02, -6.3078e-02, -8.7464e-02,\n",
       "        -2.0664e-02, -4.1448e-02,  7.9076e-04,  9.3325e-02,  5.5758e-04,\n",
       "         1.0012e-02, -3.2884e-02,  2.6942e-02,  4.1151e-02,  9.0005e-02,\n",
       "        -3.0689e-02,  4.5805e-02,  2.0084e-02,  3.4965e-02,  5.3335e-02,\n",
       "        -4.5004e-02,  6.4903e-02,  5.0094e-02, -4.5689e-02,  2.4945e-02,\n",
       "        -1.5114e-02, -6.6079e-02,  5.9054e-02,  1.2818e-02, -3.9104e-02,\n",
       "        -1.7788e-01, -1.3266e-01,  3.2364e-02,  1.3186e-02, -3.6995e-03,\n",
       "        -5.9043e-02,  8.6156e-03, -1.1221e-02,  8.6087e-02,  9.0806e-02,\n",
       "        -3.0886e-02,  1.8156e-02, -3.7779e-02, -1.8510e-02, -1.7828e-02,\n",
       "        -1.9977e-01, -7.6210e-02,  2.0577e-02,  6.5250e-02,  6.3250e-02,\n",
       "        -5.8600e-02, -6.1772e-02,  5.3084e-02, -8.0113e-02,  2.2789e-02,\n",
       "         3.3190e-02, -8.3656e-03,  7.6001e-02, -2.5994e-03,  3.7484e-02,\n",
       "        -6.8626e-02,  5.6968e-02,  8.8061e-02, -2.8426e-02,  3.4025e-02,\n",
       "         2.2507e-02], grad_fn=<SelectBackward0>)"
      ]
     },
     "execution_count": 3,
     "metadata": {},
     "output_type": "execute_result"
    }
   ],
   "source": [
    "#code = \"proc sql; \\n title '\\n select Continent, sum(Population) as TotPop format=comma15. \\n from sql.countries \\n where Population lt 1000000 \\n group by Continent \\n order by Nikhil; \\n quit;\"\n",
    "code2 = \"\"\"\n",
    "proc summary data=sql.countries;\n",
    "   class Continent;\n",
    "   var Population;\n",
    "   output out=sumPop sum=TotPop;\n",
    "run;\n",
    "\"\"\"\n",
    "inputs2 = tokenizer.encode(code2, return_tensors=\"pt\").to(device)\n",
    "embedding2 = model(inputs2)[0]\n",
    "\n",
    "from numpy import dot\n",
    "from numpy.linalg import norm\n",
    "t1 = embedding1.detach().numpy()\n",
    "sample_em_1 = t1.tolist()"
   ]
  },
  {
   "cell_type": "code",
   "execution_count": null,
   "id": "335338ba",
   "metadata": {},
   "outputs": [],
   "source": []
  }
 ],
 "metadata": {
  "kernelspec": {
   "display_name": "Python 3",
   "language": "python",
   "name": "python3"
  },
  "language_info": {
   "codemirror_mode": {
    "name": "ipython",
    "version": 3
   },
   "file_extension": ".py",
   "mimetype": "text/x-python",
   "name": "python",
   "nbconvert_exporter": "python",
   "pygments_lexer": "ipython3",
   "version": "3.8.16"
  }
 },
 "nbformat": 4,
 "nbformat_minor": 5
}
