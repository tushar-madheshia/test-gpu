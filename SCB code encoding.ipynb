{
 "cells": [
  {
   "cell_type": "code",
   "execution_count": 73,
   "id": "127952cb",
   "metadata": {},
   "outputs": [],
   "source": [
    "from transformers import AutoModel, AutoTokenizer\n",
    "\n",
    "checkpoint = \"Salesforce/codet5p-110m-embedding\"\n",
    "device = \"cpu\"  # for GPU usage or \"cpu\" for CPU usage\n",
    "\n",
    "tokenizer = AutoTokenizer.from_pretrained(checkpoint, trust_remote_code=True,cache_dir=\"/notebooks/\")\n",
    "model = AutoModel.from_pretrained(checkpoint, trust_remote_code=True,cache_dir=\"/notebooks/\").to(device)"
   ]
  },
  {
   "cell_type": "code",
   "execution_count": 74,
   "id": "21cfe908",
   "metadata": {},
   "outputs": [
    {
     "data": {
      "text/plain": [
       "tensor([-0.1214,  0.0426, -0.1520,  0.0044, -0.1233,  0.0252,  0.0243,  0.0170,\n",
       "         0.0716,  0.0224,  0.0143,  0.0095, -0.0731, -0.0102, -0.0158, -0.0078,\n",
       "         0.0892, -0.1409, -0.0094, -0.0018,  0.0189, -0.0322,  0.0323,  0.1402,\n",
       "        -0.0496,  0.0070, -0.0775,  0.0310, -0.0435,  0.0604,  0.0409, -0.0310,\n",
       "        -0.1309,  0.0529, -0.0998, -0.0534,  0.0469, -0.0016, -0.0833,  0.0781,\n",
       "        -0.0856, -0.0287,  0.0715, -0.0346,  0.0047, -0.0086, -0.0940, -0.0866,\n",
       "        -0.0478, -0.0643, -0.1062,  0.0678, -0.0599, -0.0412, -0.1128,  0.0597,\n",
       "        -0.0262, -0.1115, -0.0639,  0.0995, -0.0118, -0.0560, -0.0240, -0.0074,\n",
       "         0.0069,  0.0619,  0.0092, -0.0694,  0.0821, -0.0933, -0.0225,  0.0777,\n",
       "        -0.0236, -0.0532, -0.1346,  0.0644, -0.0580, -0.1037,  0.0451, -0.0083,\n",
       "         0.0175,  0.0466,  0.0384, -0.0293,  0.0537, -0.0697, -0.0073,  0.0003,\n",
       "        -0.0871, -0.0698,  0.0102, -0.0301,  0.1254, -0.0640, -0.0743,  0.0673,\n",
       "        -0.0525, -0.0624,  0.0359,  0.0684, -0.0534, -0.0685,  0.0304, -0.0006,\n",
       "         0.0484,  0.1216, -0.0868, -0.0179,  0.0077,  0.1046, -0.1202,  0.0116,\n",
       "        -0.0807,  0.0893,  0.0172,  0.0104, -0.0864, -0.0547, -0.0122,  0.0597,\n",
       "        -0.0233,  0.0647,  0.0250, -0.0075, -0.0625,  0.1396,  0.0750, -0.0081,\n",
       "         0.0096,  0.0172,  0.0433, -0.0340, -0.0224, -0.0156,  0.0282,  0.0614,\n",
       "         0.0335,  0.0532,  0.0449,  0.0178,  0.0729,  0.0372, -0.0067,  0.0621,\n",
       "         0.0201,  0.0148,  0.0032,  0.0479, -0.0961,  0.0093, -0.0737, -0.0865,\n",
       "        -0.0516, -0.0564, -0.0175, -0.0879, -0.0589,  0.0299, -0.0119,  0.0103,\n",
       "         0.1322,  0.0821,  0.0052,  0.0447, -0.0402,  0.0122, -0.1254, -0.1036,\n",
       "         0.0287, -0.0160,  0.0139,  0.0815,  0.0697, -0.0395,  0.0007, -0.1118,\n",
       "        -0.1318, -0.0130, -0.0176, -0.0553, -0.0304,  0.0135, -0.0125, -0.0789,\n",
       "         0.0813,  0.0099, -0.0727, -0.0480, -0.0793, -0.0022, -0.0252,  0.0234,\n",
       "        -0.0345,  0.0141,  0.0048, -0.0196, -0.1205,  0.0216,  0.0426, -0.0214,\n",
       "         0.0579, -0.0730,  0.0286,  0.0041,  0.0501, -0.1118,  0.0715, -0.0462,\n",
       "         0.0190,  0.0322, -0.0099,  0.0005,  0.0412, -0.0109, -0.0113,  0.0027,\n",
       "         0.0447,  0.0238,  0.0202,  0.0108, -0.1402, -0.0972,  0.0164, -0.0217,\n",
       "         0.0019, -0.1215,  0.0336, -0.0508,  0.1566,  0.1063, -0.0130,  0.0455,\n",
       "        -0.1045, -0.0151, -0.0112, -0.1560, -0.0922,  0.0121,  0.1032,  0.0521,\n",
       "        -0.0292, -0.0190,  0.0373, -0.1018, -0.0631, -0.0274, -0.0361,  0.1061,\n",
       "        -0.0174, -0.0098, -0.0815,  0.0398,  0.0595,  0.0324, -0.0277, -0.0177],\n",
       "       grad_fn=<SelectBackward0>)"
      ]
     },
     "execution_count": 74,
     "metadata": {},
     "output_type": "execute_result"
    }
   ],
   "source": [
    "#code = \"proc sql; \\n title 'Population of Large Countries Grouped by Continent';\\n select Continent, sum(Population) as TotPop format=comma15. \\n from sql.countries \\n where Population gt 1000000 \\n group by Continent \\n order by TotPop; \\n quit;\"\n",
    "\n",
    "code = \"\"\"\n",
    "proc sql;\n",
    "   title 'Population of Large Countries Grouped by Continent';\n",
    "   select Continent, sum(Population) as TotPop format=comma15.\n",
    "      from sql.countries\n",
    "      where Population gt 1000000\n",
    "      group by Continent\n",
    "      order by TotPop;\n",
    "quit;\n",
    "\"\"\" \n",
    "inputs1 = tokenizer.encode(code, return_tensors=\"pt\").to(device)\n",
    "embedding1 = model(inputs1)[0]\n",
    "embedding1"
   ]
  },
  {
   "cell_type": "code",
   "execution_count": 75,
   "id": "60b86701",
   "metadata": {},
   "outputs": [
    {
     "data": {
      "text/plain": [
       "tensor([-0.1215,  0.0847, -0.1707,  0.0181, -0.1230,  0.0195,  0.0471,  0.0426,\n",
       "         0.0947, -0.0185, -0.0009,  0.0615, -0.0555,  0.0441,  0.0814, -0.0189,\n",
       "         0.0639, -0.1309, -0.0400, -0.0319, -0.0355,  0.0226, -0.0285,  0.0963,\n",
       "        -0.0858,  0.0070, -0.0834,  0.0342, -0.0089,  0.1064,  0.0361, -0.0523,\n",
       "        -0.0827,  0.0236, -0.1247, -0.0340,  0.0100, -0.0378, -0.1260,  0.1373,\n",
       "        -0.0421, -0.0025,  0.0840,  0.0073,  0.0050, -0.0269, -0.1314, -0.0906,\n",
       "        -0.0374, -0.0909, -0.1117,  0.0749, -0.0824, -0.0191, -0.0840, -0.0040,\n",
       "        -0.0623, -0.0833, -0.0875,  0.0753, -0.0048,  0.0120, -0.0312,  0.0077,\n",
       "         0.0514,  0.0558,  0.0097, -0.0539,  0.0897, -0.1490, -0.0168,  0.0357,\n",
       "         0.0017, -0.0550, -0.1272,  0.0519, -0.0640, -0.1506,  0.0152, -0.0425,\n",
       "        -0.0130,  0.0734,  0.0812, -0.0466,  0.0641, -0.0461, -0.0080, -0.0285,\n",
       "        -0.0235, -0.0820, -0.0291, -0.0439,  0.1463, -0.0723, -0.0745,  0.0427,\n",
       "        -0.0113, -0.0859,  0.0081,  0.0056, -0.0099, -0.0791,  0.0454,  0.0268,\n",
       "         0.0368,  0.1309, -0.0443, -0.0136,  0.0276,  0.0675, -0.0702, -0.0418,\n",
       "        -0.0363,  0.0781, -0.0074, -0.0178, -0.1069, -0.0083,  0.0262,  0.0187,\n",
       "        -0.0276,  0.0684,  0.0114, -0.0481,  0.0158,  0.0593,  0.0896, -0.0352,\n",
       "         0.0369,  0.0004,  0.0107, -0.0782,  0.0228, -0.0426,  0.0043,  0.0241,\n",
       "         0.0573, -0.0145, -0.0289,  0.0096,  0.0612, -0.0121, -0.0290,  0.0575,\n",
       "         0.0320,  0.0127, -0.0105,  0.0107, -0.0368,  0.0256, -0.0175, -0.0817,\n",
       "        -0.1344, -0.0588,  0.0084, -0.1032, -0.1054,  0.0815, -0.0177,  0.0027,\n",
       "         0.1364,  0.0899,  0.0108,  0.0320, -0.0286, -0.0226, -0.1148, -0.0457,\n",
       "         0.0603,  0.0286, -0.0196,  0.1151,  0.0130, -0.0199, -0.0277, -0.0874,\n",
       "        -0.0902, -0.0205, -0.0082, -0.0267,  0.0043,  0.0314, -0.0077, -0.0752,\n",
       "         0.0982,  0.0358, -0.0449, -0.0213, -0.1134, -0.0236,  0.0254,  0.0318,\n",
       "        -0.0622, -0.0574, -0.0673, -0.0235, -0.0634,  0.0141,  0.0700, -0.0118,\n",
       "         0.0130, -0.0410,  0.0342,  0.0201,  0.0736, -0.0489,  0.0355,  0.0170,\n",
       "         0.0172,  0.0489, -0.0380,  0.0525,  0.0410, -0.0354,  0.0165, -0.0134,\n",
       "        -0.0514,  0.0499,  0.0207, -0.0498, -0.1691, -0.1041,  0.0420, -0.0030,\n",
       "        -0.0090, -0.0787,  0.0354, -0.0071,  0.0899,  0.0878, -0.0386,  0.0309,\n",
       "        -0.0633, -0.0031, -0.0008, -0.2143, -0.0956,  0.0106,  0.0732,  0.0615,\n",
       "        -0.0412, -0.0631,  0.0667, -0.0785, -0.0051,  0.0074, -0.0299,  0.0642,\n",
       "        -0.0081,  0.0021, -0.0835,  0.0327,  0.0881,  0.0017,  0.0378,  0.0274],\n",
       "       grad_fn=<SelectBackward0>)"
      ]
     },
     "execution_count": 75,
     "metadata": {},
     "output_type": "execute_result"
    }
   ],
   "source": [
    "#code = \"proc sql; \\n title '\\n select Continent, sum(Population) as TotPop format=comma15. \\n from sql.countries \\n where Population lt 1000000 \\n group by Continent \\n order by Nikhil; \\n quit;\"\n",
    "code2 = \"\"\"\n",
    "proc summary data=sql.countries;\n",
    "   where Population > 1000000;\n",
    "   class Continent;\n",
    "   var Population;\n",
    "   output out=sumPop sum=TotPop;\n",
    "run;\n",
    "\"\"\"\n",
    "inputs2 = tokenizer.encode(code2, return_tensors=\"pt\").to(device)\n",
    "embedding2 = model(inputs2)[0]\n",
    "embedding2"
   ]
  },
  {
   "cell_type": "markdown",
   "id": "99aed0d4",
   "metadata": {},
   "source": [
    "# similarity check"
   ]
  },
  {
   "cell_type": "code",
   "execution_count": 76,
   "id": "e31d5327",
   "metadata": {},
   "outputs": [
    {
     "name": "stdout",
     "output_type": "stream",
     "text": [
      "Similarity Score is 0.8519219\n"
     ]
    }
   ],
   "source": [
    "from numpy import dot\n",
    "from numpy.linalg import norm\n",
    "t1 = embedding1.detach().numpy()\n",
    "t2 = embedding2.detach().numpy() \n",
    "cos_sim = dot(t1, t2)/(norm(t1)*norm(t2))\n",
    "print(\"Similarity Score is\",cos_sim)"
   ]
  },
  {
   "cell_type": "code",
   "execution_count": 1,
   "id": "2dae87ae",
   "metadata": {},
   "outputs": [
    {
     "name": "stdout",
     "output_type": "stream",
     "text": [
      "Collecting elasticsearch\n",
      "\u001b[?25l  Downloading https://files.pythonhosted.org/packages/be/d8/4c596c8240fd93df5844f04eed8e3c3ee8195d2a3970a5c7f3ec0f562096/elasticsearch-8.11.1-py3-none-any.whl (412kB)\n",
      "\u001b[K     |████████████████████████████████| 419kB 7.2MB/s eta 0:00:01\n",
      "\u001b[?25hCollecting elastic-transport<9,>=8\n",
      "\u001b[?25l  Downloading https://files.pythonhosted.org/packages/10/9c/81a65ce8e6a03b415a0b424f63525dd96d49153b6b77dfb19d480522029a/elastic_transport-8.11.0-py3-none-any.whl (59kB)\n",
      "\u001b[K     |████████████████████████████████| 61kB 5.3MB/s  eta 0:00:01\n",
      "\u001b[?25hCollecting certifi\n",
      "\u001b[?25l  Downloading https://files.pythonhosted.org/packages/64/62/428ef076be88fa93716b576e4a01f919d25968913e817077a386fcbe4f42/certifi-2023.11.17-py3-none-any.whl (162kB)\n",
      "\u001b[K     |████████████████████████████████| 163kB 42.7MB/s eta 0:00:01\n",
      "\u001b[?25hCollecting urllib3<3,>=1.26.2\n",
      "\u001b[?25l  Downloading https://files.pythonhosted.org/packages/96/94/c31f58c7a7f470d5665935262ebd7455c7e4c7782eb525658d3dbf4b9403/urllib3-2.1.0-py3-none-any.whl (104kB)\n",
      "\u001b[K     |████████████████████████████████| 112kB 45.6MB/s eta 0:00:01\n",
      "\u001b[31mERROR: requests 2.29.0 has requirement urllib3<1.27,>=1.21.1, but you'll have urllib3 2.1.0 which is incompatible.\u001b[0m\n",
      "\u001b[31mERROR: refractml 1.0.3 has requirement urllib3==1.26.15, but you'll have urllib3 2.1.0 which is incompatible.\u001b[0m\n",
      "\u001b[31mERROR: jupyterlab-server 2.23.0 has requirement jsonschema>=4.17.3, but you'll have jsonschema 3.2.0 which is incompatible.\u001b[0m\n",
      "\u001b[31mERROR: google-auth 2.22.0 has requirement urllib3<2.0, but you'll have urllib3 2.1.0 which is incompatible.\u001b[0m\n",
      "\u001b[?25hInstalling collected packages: certifi, urllib3, elastic-transport, elasticsearch\n",
      "Successfully installed certifi-2023.11.17 elastic-transport-8.11.0 elasticsearch-8.11.1 urllib3-2.1.0\n"
     ]
    }
   ],
   "source": [
    "!python -m pip install elasticsearch\n"
   ]
  },
  {
   "cell_type": "code",
   "execution_count": 1,
   "id": "0fa744fa",
   "metadata": {},
   "outputs": [],
   "source": [
    "from elasticsearch import Elasticsearch\n"
   ]
  },
  {
   "cell_type": "code",
   "execution_count": 44,
   "id": "3e3b2bc3",
   "metadata": {},
   "outputs": [],
   "source": [
    "# from elasticsearch import Elasticsearch\n",
    "\n",
    "# client = Elasticsearch(\n",
    "#     'https://eac27fc2ae87472c9a0e261124daf3d3.us-central1.gcp.cloud.es.io',  # Elasticsearch endpoint\n",
    "#     api_key=('test2', 'OWE2VEZZMEIyTmpmMjNQc2xJeTg6Ty1kY00tSjJUaXFJYU9sdWhZUUkzUQ'),  # API key ID and secret\n",
    "# )\n",
    "# # OWE2VEZZMEIyTmpmMjNQc2xJeTg6Ty1kY00tSjJUaXFJYU9sdWhZUUkzUQ==\n",
    "\n",
    "# # client.indices.create(index=\"my_index\")\n"
   ]
  },
  {
   "cell_type": "code",
   "execution_count": 40,
   "id": "3a5b9f0e",
   "metadata": {},
   "outputs": [
    {
     "data": {
      "text/plain": [
       "ObjectApiResponse({'name': 'instance-0000000000', 'cluster_name': 'eac27fc2ae87472c9a0e261124daf3d3', 'cluster_uuid': 'XgMY0FO3QHCoU4ZtDHcOFw', 'version': {'number': '8.11.4', 'build_flavor': 'default', 'build_type': 'docker', 'build_hash': 'da06c53fd49b7e676ccf8a32d6655c5155c16d81', 'build_date': '2024-01-08T10:05:08.438562403Z', 'build_snapshot': False, 'lucene_version': '9.8.0', 'minimum_wire_compatibility_version': '7.17.0', 'minimum_index_compatibility_version': '7.0.0'}, 'tagline': 'You Know, for Search'})"
      ]
     },
     "execution_count": 40,
     "metadata": {},
     "output_type": "execute_result"
    }
   ],
   "source": [
    "from elasticsearch import Elasticsearch\n",
    "\n",
    "# Password for the 'elastic' user generated by Elasticsearch\n",
    "ELASTIC_PASSWORD = \"tvTQW4LoiofOwRJzzOpLfiiT\"\n",
    "\n",
    "# Found in the 'Manage Deployment' page\n",
    "CLOUD_ID = \"208256ede6684fc9b151388e0ad3517c:dXMtY2VudHJhbDEuZ2NwLmNsb3VkLmVzLmlvOjQ0MyRlYWMyN2ZjMmFlODc0NzJjOWEwZTI2MTEyNGRhZjNkMyQ4NTZiZjUwNWM4NzE0NTgwOTk3NjU2MDZkMmM4ODM1Mw==\"\n",
    "# Create the client instance\n",
    "client = Elasticsearch(\n",
    "    cloud_id=CLOUD_ID,\n",
    "    basic_auth=(\"elastic\", ELASTIC_PASSWORD)\n",
    ")\n",
    "\n",
    "# Successful response!\n",
    "client.info()"
   ]
  },
  {
   "cell_type": "code",
   "execution_count": 41,
   "id": "bcef5888",
   "metadata": {},
   "outputs": [
    {
     "data": {
      "text/plain": [
       "ObjectApiResponse({'acknowledged': True, 'shards_acknowledged': True, 'index': 'my_index'})"
      ]
     },
     "execution_count": 41,
     "metadata": {},
     "output_type": "execute_result"
    }
   ],
   "source": [
    "client.indices.create(index=\"my_index\")\n",
    "\n"
   ]
  },
  {
   "cell_type": "code",
   "execution_count": 42,
   "id": "b6eb3307",
   "metadata": {},
   "outputs": [
    {
     "data": {
      "text/plain": [
       "ObjectApiResponse({'_index': 'my_index', '_id': 'my_document_id', '_version': 1, 'result': 'created', '_shards': {'total': 2, 'successful': 2, 'failed': 0}, '_seq_no': 0, '_primary_term': 1})"
      ]
     },
     "execution_count": 42,
     "metadata": {},
     "output_type": "execute_result"
    }
   ],
   "source": [
    "client.index(\n",
    "    index=\"my_index\",\n",
    "    id=\"my_document_id\",\n",
    "    document={\n",
    "        \"foo\": \"foo\",\n",
    "        \"bar\": \"bar\",\n",
    "    }\n",
    ")"
   ]
  },
  {
   "cell_type": "code",
   "execution_count": 43,
   "id": "f3f7ea59",
   "metadata": {},
   "outputs": [
    {
     "data": {
      "text/plain": [
       "ObjectApiResponse({'_index': 'my_index', '_id': 'my_document_id', '_version': 1, '_seq_no': 0, '_primary_term': 1, 'found': True, '_source': {'foo': 'foo', 'bar': 'bar'}})"
      ]
     },
     "execution_count": 43,
     "metadata": {},
     "output_type": "execute_result"
    }
   ],
   "source": [
    "client.get(index=\"my_index\", id=\"my_document_id\")\n"
   ]
  },
  {
   "cell_type": "code",
   "execution_count": 45,
   "id": "0fe7315d",
   "metadata": {},
   "outputs": [
    {
     "data": {
      "text/plain": [
       "ObjectApiResponse({'took': 1, 'timed_out': False, '_shards': {'total': 1, 'successful': 1, 'skipped': 0, 'failed': 0}, 'hits': {'total': {'value': 1, 'relation': 'eq'}, 'max_score': 0.2876821, 'hits': [{'_index': 'my_index', '_id': 'my_document_id', '_score': 0.2876821, '_source': {'foo': 'foo', 'bar': 'bar'}}]}})"
      ]
     },
     "execution_count": 45,
     "metadata": {},
     "output_type": "execute_result"
    }
   ],
   "source": [
    "client.search(index=\"my_index\", query={\n",
    "    \"match\": {\n",
    "        \"foo\": \"foo\"\n",
    "    }\n",
    "})"
   ]
  },
  {
   "cell_type": "code",
   "execution_count": 46,
   "id": "9b1847d0",
   "metadata": {},
   "outputs": [
    {
     "data": {
      "text/plain": [
       "ObjectApiResponse({'_index': 'my_index', '_id': 'my_document_id', '_version': 2, 'result': 'updated', '_shards': {'total': 2, 'successful': 2, 'failed': 0}, '_seq_no': 1, '_primary_term': 1})"
      ]
     },
     "execution_count": 46,
     "metadata": {},
     "output_type": "execute_result"
    }
   ],
   "source": [
    "client.update(index=\"my_index\", id=\"my_document_id\", doc={\n",
    "    \"foo\": \"bar\",\n",
    "    \"new_field\": \"new value\",\n",
    "})"
   ]
  },
  {
   "cell_type": "code",
   "execution_count": null,
   "id": "8688092f",
   "metadata": {},
   "outputs": [],
   "source": []
  }
 ],
 "metadata": {
  "kernelspec": {
   "display_name": "Python 3",
   "language": "python",
   "name": "python3"
  },
  "language_info": {
   "codemirror_mode": {
    "name": "ipython",
    "version": 3
   },
   "file_extension": ".py",
   "mimetype": "text/x-python",
   "name": "python",
   "nbconvert_exporter": "python",
   "pygments_lexer": "ipython3",
   "version": "3.8.16"
  }
 },
 "nbformat": 4,
 "nbformat_minor": 5
}
