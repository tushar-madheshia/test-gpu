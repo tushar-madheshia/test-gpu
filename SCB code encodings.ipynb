{
 "cells": [
  {
   "cell_type": "code",
   "execution_count": 12,
   "id": "569f16f1",
   "metadata": {},
   "outputs": [
    {
     "data": {
      "application/vnd.jupyter.widget-view+json": {
       "model_id": "d6a6e886ff99417a8f90924ca695ce6d",
       "version_major": 2,
       "version_minor": 0
      },
      "text/plain": [
       "Downloading config.json:   0%|          | 0.00/1.05k [00:00<?, ?B/s]"
      ]
     },
     "metadata": {},
     "output_type": "display_data"
    },
    {
     "data": {
      "application/vnd.jupyter.widget-view+json": {
       "model_id": "0a4e40a7679b4eeb8f26979d2f54af4b",
       "version_major": 2,
       "version_minor": 0
      },
      "text/plain": [
       "Downloading (…)codet5p_embedding.py:   0%|          | 0.00/2.62k [00:00<?, ?B/s]"
      ]
     },
     "metadata": {},
     "output_type": "display_data"
    },
    {
     "name": "stderr",
     "output_type": "stream",
     "text": [
      "A new version of the following files was downloaded from https://huggingface.co/Salesforce/codet5p-110m-embedding:\n",
      "- configuration_codet5p_embedding.py\n",
      ". Make sure to double-check they do not contain any added malicious code. To avoid downloading new versions of the code file, you can pin a revision.\n"
     ]
    },
    {
     "data": {
      "application/vnd.jupyter.widget-view+json": {
       "model_id": "b6078f56a4a84901ac00792813ce14ab",
       "version_major": 2,
       "version_minor": 0
      },
      "text/plain": [
       "Downloading (…)codet5p_embedding.py:   0%|          | 0.00/1.93k [00:00<?, ?B/s]"
      ]
     },
     "metadata": {},
     "output_type": "display_data"
    },
    {
     "name": "stderr",
     "output_type": "stream",
     "text": [
      "A new version of the following files was downloaded from https://huggingface.co/Salesforce/codet5p-110m-embedding:\n",
      "- modeling_codet5p_embedding.py\n",
      ". Make sure to double-check they do not contain any added malicious code. To avoid downloading new versions of the code file, you can pin a revision.\n"
     ]
    },
    {
     "data": {
      "application/vnd.jupyter.widget-view+json": {
       "model_id": "1faa15054a3a40d698c1cd89eac3cbb8",
       "version_major": 2,
       "version_minor": 0
      },
      "text/plain": [
       "Downloading pytorch_model.bin:   0%|          | 0.00/439M [00:00<?, ?B/s]"
      ]
     },
     "metadata": {},
     "output_type": "display_data"
    },
    {
     "name": "stdout",
     "output_type": "stream",
     "text": [
      "Dimension of the embedding: 256, with norm=1.0\n",
      "tensor([ 0.0185,  0.0229, -0.0315, -0.0307, -0.1421, -0.0575, -0.0275,  0.0501,\n",
      "         0.0203,  0.0337, -0.0067, -0.0075, -0.0222, -0.0107, -0.0250, -0.0657,\n",
      "         0.1571, -0.0994, -0.0370,  0.0164, -0.0948,  0.0490, -0.0352,  0.0907,\n",
      "        -0.0198,  0.0130, -0.0921,  0.0209,  0.0651,  0.0319,  0.0299, -0.0173,\n",
      "        -0.0693, -0.0798, -0.0066, -0.0417,  0.1076,  0.0597, -0.0316,  0.0940,\n",
      "        -0.0313,  0.0993,  0.0931, -0.0427,  0.0256,  0.0297, -0.0561, -0.0155,\n",
      "        -0.0496, -0.0697, -0.1011,  0.1178,  0.0283, -0.0571, -0.0635, -0.0222,\n",
      "         0.0710, -0.0617,  0.0423, -0.0057,  0.0620, -0.0262,  0.0441,  0.0425,\n",
      "        -0.0413, -0.0245,  0.0043,  0.0185,  0.0060, -0.1727, -0.1152,  0.0655,\n",
      "        -0.0235, -0.1465, -0.1359,  0.0022,  0.0177, -0.0176, -0.0361, -0.0750,\n",
      "        -0.0464, -0.0846, -0.0088,  0.0136, -0.0221,  0.0591,  0.0876, -0.0903,\n",
      "         0.0271, -0.1165, -0.0169, -0.0566,  0.1173, -0.0801,  0.0430,  0.0236,\n",
      "         0.0060, -0.0778, -0.0570,  0.0102, -0.0172, -0.0051, -0.0891, -0.0620,\n",
      "        -0.0536,  0.0190, -0.0039, -0.0189, -0.0267, -0.0389, -0.0208,  0.0076,\n",
      "        -0.0676,  0.0630, -0.0962,  0.0418, -0.0172, -0.0229, -0.0452,  0.0401,\n",
      "         0.0270,  0.0677, -0.0111, -0.0089,  0.0175,  0.0703,  0.0714, -0.0068,\n",
      "         0.1214, -0.0004,  0.0020,  0.0255,  0.0424, -0.0030,  0.0318,  0.1227,\n",
      "         0.0676, -0.0723,  0.0970,  0.0637, -0.0140, -0.0283, -0.0120,  0.0343,\n",
      "        -0.0890,  0.0680,  0.0514,  0.0513,  0.0627, -0.0284, -0.0479,  0.0068,\n",
      "        -0.0794,  0.0202,  0.0208, -0.0113, -0.0747,  0.0045, -0.0854, -0.0609,\n",
      "        -0.0078,  0.1168,  0.0618, -0.0223, -0.0755,  0.0182, -0.0128,  0.1116,\n",
      "         0.0240,  0.0342,  0.0119, -0.0235, -0.0150, -0.0228, -0.0568, -0.1528,\n",
      "         0.0164, -0.0268,  0.0727, -0.0569,  0.1306,  0.0643, -0.0158, -0.1070,\n",
      "        -0.0107, -0.0139, -0.0363,  0.0366, -0.0986, -0.0628, -0.0277,  0.0316,\n",
      "         0.0363,  0.0038, -0.1092, -0.0679, -0.1398, -0.0648,  0.1711, -0.0666,\n",
      "         0.0563,  0.0581,  0.0226,  0.0347, -0.0672, -0.0229, -0.0565,  0.0623,\n",
      "         0.1089, -0.0687, -0.0901, -0.0073,  0.0426,  0.0870, -0.0390, -0.0144,\n",
      "        -0.0166,  0.0262, -0.0310,  0.0467, -0.0164, -0.0700, -0.0602, -0.0720,\n",
      "        -0.0386,  0.0067, -0.0337, -0.0053,  0.0829,  0.1004,  0.0427,  0.0026,\n",
      "        -0.0537,  0.0951,  0.0584, -0.0583, -0.0208,  0.0124,  0.0067,  0.0403,\n",
      "         0.0091, -0.0044, -0.0036,  0.0524,  0.1103, -0.1511, -0.0479,  0.1709,\n",
      "         0.0772,  0.0721, -0.0332,  0.0866,  0.0799, -0.0581,  0.0713,  0.0218],\n",
      "       grad_fn=<SelectBackward0>)\n"
     ]
    }
   ],
   "source": [
    "from transformers import AutoModel, AutoTokenizer\n",
    "\n",
    "checkpoint = \"Salesforce/codet5p-110m-embedding\"\n",
    "device = \"cpu\"  # for GPU usage or \"cpu\" for CPU usage\n",
    "\n",
    "tokenizer = AutoTokenizer.from_pretrained(checkpoint, trust_remote_code=True,cache_dir=\"/notebooks/\")\n",
    "model = AutoModel.from_pretrained(checkpoint, trust_remote_code=True,cache_dir=\"/notebooks/\").to(device)\n",
    "\n",
    "inputs = tokenizer.encode(\"def print_hello_world():\\tprint('Hello World!')\", return_tensors=\"pt\").to(device)\n",
    "embedding = model(inputs)[0]\n",
    "print(f'Dimension of the embedding: {embedding.size()[0]}, with norm={embedding.norm().item()}')\n",
    "# Dimension of the embedding: 256, with norm=1.0\n",
    "print(embedding)"
   ]
  },
  {
   "cell_type": "code",
   "execution_count": 13,
   "id": "a40c2020",
   "metadata": {},
   "outputs": [],
   "source": [
    "# from transformers import AutoTokenizer, AutoModel\n",
    "\n",
    "# MODEL_NAME = \"bigcode/starencoder\"\n",
    "\n",
    "# tokenizer = AutoTokenizer.from_pretrained(MODEL_NAME,force_download=True,cache_dir=\"/notebooks/\")\n",
    "# #model = AutoModel.from_pretrained(MODEL_NAME)\n",
    "# #model.eval()"
   ]
  },
  {
   "cell_type": "code",
   "execution_count": 15,
   "id": "1a718540",
   "metadata": {},
   "outputs": [],
   "source": [
    "code = \"proc sql; \\n title 'Population of Large Countries Grouped by Continent';\\n select Continent, sum(Population) as TotPop format=comma15. \\n from sql.countries \\n where Population gt 1000000 \\n group by Continent \\n order by TotPop; \\n quit;\"\n",
    "inputs = tokenizer.encode(\"\", return_tensors=\"pt\").to(device)\n",
    "embedding1 = model(inputs)[0]\n",
    "#print(f'Dimension of the embedding: {embedding.size()[0]}, with norm={embedding.norm().item()}')\n",
    "# Dimension of the embedding: 256, with norm=1.0\n",
    "#print(embedding)"
   ]
  },
  {
   "cell_type": "code",
   "execution_count": 16,
   "id": "48fb3db4",
   "metadata": {},
   "outputs": [
    {
     "data": {
      "text/plain": [
       "tensor([ 0.0164, -0.0197, -0.0756,  0.0133, -0.1370,  0.0245, -0.0208,  0.0556,\n",
       "        -0.0869, -0.0338,  0.0166,  0.0504, -0.1073, -0.0709,  0.0853, -0.0560,\n",
       "         0.0666,  0.0335,  0.0222,  0.0739, -0.0437, -0.0799,  0.0672,  0.0050,\n",
       "         0.0070, -0.0518, -0.0306, -0.1177,  0.0998,  0.0344,  0.0904, -0.0829,\n",
       "         0.0586,  0.1141, -0.0885,  0.1165,  0.0575, -0.0680, -0.0252,  0.0950,\n",
       "        -0.1763, -0.0584,  0.1029, -0.0258,  0.0391,  0.0242, -0.0100, -0.1324,\n",
       "        -0.0980, -0.0053,  0.0827, -0.0290, -0.0802, -0.0452,  0.0005,  0.0258,\n",
       "        -0.0504, -0.0852,  0.0366,  0.0188,  0.0178, -0.0469, -0.0392, -0.0357,\n",
       "         0.0866, -0.0065, -0.0153, -0.0674, -0.0480, -0.0717,  0.0846,  0.1079,\n",
       "        -0.0568, -0.0769, -0.0830, -0.0153, -0.0766, -0.0459,  0.0414, -0.0646,\n",
       "         0.0319,  0.0644,  0.1079,  0.0157, -0.0156,  0.0263,  0.1168, -0.0744,\n",
       "        -0.0295, -0.0294,  0.0822, -0.0661,  0.1993, -0.0782,  0.0222, -0.0520,\n",
       "         0.0523,  0.0363, -0.0394,  0.0291, -0.0114,  0.0216, -0.0078,  0.0413,\n",
       "        -0.0321, -0.0067, -0.0194,  0.0435,  0.0309, -0.0250,  0.0591, -0.0378,\n",
       "        -0.0471,  0.0746,  0.0496, -0.0381, -0.0172, -0.0139,  0.0583, -0.0225,\n",
       "         0.0766,  0.0073,  0.0007,  0.0283,  0.0165,  0.0273,  0.1090,  0.0329,\n",
       "         0.0411,  0.0733,  0.0226, -0.0712, -0.0220, -0.0110, -0.0120,  0.0952,\n",
       "        -0.0169, -0.1039,  0.1013,  0.0110, -0.0052, -0.0758,  0.0429,  0.0557,\n",
       "        -0.1223, -0.0366, -0.0081, -0.0040, -0.0248,  0.0851, -0.1018, -0.0336,\n",
       "        -0.1006, -0.0581, -0.1065,  0.0079, -0.0750,  0.0522,  0.0769, -0.0565,\n",
       "         0.0747,  0.1811, -0.0492,  0.0451,  0.0005,  0.0860,  0.0234,  0.0085,\n",
       "         0.0140,  0.1555, -0.0831,  0.0460,  0.0602, -0.0044,  0.0210, -0.0066,\n",
       "         0.0866, -0.0238,  0.0097,  0.0222,  0.0786,  0.1357, -0.0907, -0.0194,\n",
       "         0.0025,  0.0389,  0.0369, -0.0656, -0.1338, -0.0735,  0.0992, -0.0168,\n",
       "         0.0730,  0.0300, -0.0005, -0.0316,  0.0750,  0.0021,  0.0231, -0.0074,\n",
       "         0.0199, -0.0737,  0.0318,  0.0494,  0.0140, -0.0597,  0.0404, -0.1063,\n",
       "        -0.0774,  0.0459, -0.0677,  0.0412,  0.0181,  0.0073,  0.1238,  0.0078,\n",
       "         0.0051, -0.0667, -0.0162,  0.0121, -0.0541,  0.1016,  0.0163, -0.0258,\n",
       "         0.0645, -0.0359,  0.0475,  0.0425,  0.0715,  0.0233,  0.0955, -0.0142,\n",
       "         0.0204,  0.0145,  0.0821, -0.0297,  0.0182, -0.0987, -0.0086, -0.0007,\n",
       "        -0.0586,  0.0723, -0.0386,  0.0330, -0.0289, -0.0397,  0.0654,  0.0648,\n",
       "         0.0757, -0.0534,  0.0279, -0.0103,  0.0616, -0.0636, -0.0294, -0.0350],\n",
       "       grad_fn=<SelectBackward0>)"
      ]
     },
     "execution_count": 16,
     "metadata": {},
     "output_type": "execute_result"
    }
   ],
   "source": [
    "embedding1"
   ]
  },
  {
   "cell_type": "code",
   "execution_count": null,
   "id": "292c50d6",
   "metadata": {},
   "outputs": [],
   "source": [
    "code = \"proc sql; \\n title 'Population of Large Countries Grouped by Continent';\\n select Continent, sum(Population) as TotPop format=comma15. \\n from sql.countries \\n where Population gt 1000000 \\n group by Continent \\n order by TotPop; \\n quit;\"\n",
    "inputs = tokenizer.encode(\"\", return_tensors=\"pt\").to(device)\n",
    "embedding2 = model(inputs)[0]\n",
    "#print(f'Dimension of the embedding: {embedding.size()[0]}, with norm={embedding.norm().item()}')\n",
    "# Dimension of the embedding: 256, with norm=1.0\n",
    "#print(embedding)"
   ]
  },
  {
   "cell_type": "code",
   "execution_count": null,
   "id": "36ad865d",
   "metadata": {},
   "outputs": [],
   "source": [
    "from numpy import dot\n",
    "from numpy.linalg import norm\n",
    "\n",
    "cos_sim = dot(a, b)/(norm(a)*norm(b))"
   ]
  }
 ],
 "metadata": {
  "kernelspec": {
   "display_name": "Python 3",
   "language": "python",
   "name": "python3"
  },
  "language_info": {
   "codemirror_mode": {
    "name": "ipython",
    "version": 3
   },
   "file_extension": ".py",
   "mimetype": "text/x-python",
   "name": "python",
   "nbconvert_exporter": "python",
   "pygments_lexer": "ipython3",
   "version": "3.8.16"
  }
 },
 "nbformat": 4,
 "nbformat_minor": 5
}
