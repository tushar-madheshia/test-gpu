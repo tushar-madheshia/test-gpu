{
 "cells": [
  {
   "cell_type": "code",
   "execution_count": 12,
   "id": "b59bc051",
   "metadata": {},
   "outputs": [
    {
     "data": {
      "application/vnd.jupyter.widget-view+json": {
       "model_id": "d6a6e886ff99417a8f90924ca695ce6d",
       "version_major": 2,
       "version_minor": 0
      },
      "text/plain": [
       "Downloading config.json:   0%|          | 0.00/1.05k [00:00<?, ?B/s]"
      ]
     },
     "metadata": {},
     "output_type": "display_data"
    },
    {
     "data": {
      "application/vnd.jupyter.widget-view+json": {
       "model_id": "0a4e40a7679b4eeb8f26979d2f54af4b",
       "version_major": 2,
       "version_minor": 0
      },
      "text/plain": [
       "Downloading (…)codet5p_embedding.py:   0%|          | 0.00/2.62k [00:00<?, ?B/s]"
      ]
     },
     "metadata": {},
     "output_type": "display_data"
    },
    {
     "name": "stderr",
     "output_type": "stream",
     "text": [
      "A new version of the following files was downloaded from https://huggingface.co/Salesforce/codet5p-110m-embedding:\n",
      "- configuration_codet5p_embedding.py\n",
      ". Make sure to double-check they do not contain any added malicious code. To avoid downloading new versions of the code file, you can pin a revision.\n"
     ]
    },
    {
     "data": {
      "application/vnd.jupyter.widget-view+json": {
       "model_id": "b6078f56a4a84901ac00792813ce14ab",
       "version_major": 2,
       "version_minor": 0
      },
      "text/plain": [
       "Downloading (…)codet5p_embedding.py:   0%|          | 0.00/1.93k [00:00<?, ?B/s]"
      ]
     },
     "metadata": {},
     "output_type": "display_data"
    },
    {
     "name": "stderr",
     "output_type": "stream",
     "text": [
      "A new version of the following files was downloaded from https://huggingface.co/Salesforce/codet5p-110m-embedding:\n",
      "- modeling_codet5p_embedding.py\n",
      ". Make sure to double-check they do not contain any added malicious code. To avoid downloading new versions of the code file, you can pin a revision.\n"
     ]
    },
    {
     "data": {
      "application/vnd.jupyter.widget-view+json": {
       "model_id": "1faa15054a3a40d698c1cd89eac3cbb8",
       "version_major": 2,
       "version_minor": 0
      },
      "text/plain": [
       "Downloading pytorch_model.bin:   0%|          | 0.00/439M [00:00<?, ?B/s]"
      ]
     },
     "metadata": {},
     "output_type": "display_data"
    },
    {
     "name": "stdout",
     "output_type": "stream",
     "text": [
      "Dimension of the embedding: 256, with norm=1.0\n",
      "tensor([ 0.0185,  0.0229, -0.0315, -0.0307, -0.1421, -0.0575, -0.0275,  0.0501,\n",
      "         0.0203,  0.0337, -0.0067, -0.0075, -0.0222, -0.0107, -0.0250, -0.0657,\n",
      "         0.1571, -0.0994, -0.0370,  0.0164, -0.0948,  0.0490, -0.0352,  0.0907,\n",
      "        -0.0198,  0.0130, -0.0921,  0.0209,  0.0651,  0.0319,  0.0299, -0.0173,\n",
      "        -0.0693, -0.0798, -0.0066, -0.0417,  0.1076,  0.0597, -0.0316,  0.0940,\n",
      "        -0.0313,  0.0993,  0.0931, -0.0427,  0.0256,  0.0297, -0.0561, -0.0155,\n",
      "        -0.0496, -0.0697, -0.1011,  0.1178,  0.0283, -0.0571, -0.0635, -0.0222,\n",
      "         0.0710, -0.0617,  0.0423, -0.0057,  0.0620, -0.0262,  0.0441,  0.0425,\n",
      "        -0.0413, -0.0245,  0.0043,  0.0185,  0.0060, -0.1727, -0.1152,  0.0655,\n",
      "        -0.0235, -0.1465, -0.1359,  0.0022,  0.0177, -0.0176, -0.0361, -0.0750,\n",
      "        -0.0464, -0.0846, -0.0088,  0.0136, -0.0221,  0.0591,  0.0876, -0.0903,\n",
      "         0.0271, -0.1165, -0.0169, -0.0566,  0.1173, -0.0801,  0.0430,  0.0236,\n",
      "         0.0060, -0.0778, -0.0570,  0.0102, -0.0172, -0.0051, -0.0891, -0.0620,\n",
      "        -0.0536,  0.0190, -0.0039, -0.0189, -0.0267, -0.0389, -0.0208,  0.0076,\n",
      "        -0.0676,  0.0630, -0.0962,  0.0418, -0.0172, -0.0229, -0.0452,  0.0401,\n",
      "         0.0270,  0.0677, -0.0111, -0.0089,  0.0175,  0.0703,  0.0714, -0.0068,\n",
      "         0.1214, -0.0004,  0.0020,  0.0255,  0.0424, -0.0030,  0.0318,  0.1227,\n",
      "         0.0676, -0.0723,  0.0970,  0.0637, -0.0140, -0.0283, -0.0120,  0.0343,\n",
      "        -0.0890,  0.0680,  0.0514,  0.0513,  0.0627, -0.0284, -0.0479,  0.0068,\n",
      "        -0.0794,  0.0202,  0.0208, -0.0113, -0.0747,  0.0045, -0.0854, -0.0609,\n",
      "        -0.0078,  0.1168,  0.0618, -0.0223, -0.0755,  0.0182, -0.0128,  0.1116,\n",
      "         0.0240,  0.0342,  0.0119, -0.0235, -0.0150, -0.0228, -0.0568, -0.1528,\n",
      "         0.0164, -0.0268,  0.0727, -0.0569,  0.1306,  0.0643, -0.0158, -0.1070,\n",
      "        -0.0107, -0.0139, -0.0363,  0.0366, -0.0986, -0.0628, -0.0277,  0.0316,\n",
      "         0.0363,  0.0038, -0.1092, -0.0679, -0.1398, -0.0648,  0.1711, -0.0666,\n",
      "         0.0563,  0.0581,  0.0226,  0.0347, -0.0672, -0.0229, -0.0565,  0.0623,\n",
      "         0.1089, -0.0687, -0.0901, -0.0073,  0.0426,  0.0870, -0.0390, -0.0144,\n",
      "        -0.0166,  0.0262, -0.0310,  0.0467, -0.0164, -0.0700, -0.0602, -0.0720,\n",
      "        -0.0386,  0.0067, -0.0337, -0.0053,  0.0829,  0.1004,  0.0427,  0.0026,\n",
      "        -0.0537,  0.0951,  0.0584, -0.0583, -0.0208,  0.0124,  0.0067,  0.0403,\n",
      "         0.0091, -0.0044, -0.0036,  0.0524,  0.1103, -0.1511, -0.0479,  0.1709,\n",
      "         0.0772,  0.0721, -0.0332,  0.0866,  0.0799, -0.0581,  0.0713,  0.0218],\n",
      "       grad_fn=<SelectBackward0>)\n"
     ]
    }
   ],
   "source": [
    "from transformers import AutoModel, AutoTokenizer\n",
    "\n",
    "checkpoint = \"Salesforce/codet5p-110m-embedding\"\n",
    "device = \"cpu\"  # for GPU usage or \"cpu\" for CPU usage\n",
    "\n",
    "tokenizer = AutoTokenizer.from_pretrained(checkpoint, trust_remote_code=True,cache_dir=\"/notebooks/\")\n",
    "model = AutoModel.from_pretrained(checkpoint, trust_remote_code=True,cache_dir=\"/notebooks/\").to(device)\n",
    "\n",
    "inputs = tokenizer.encode(\"def print_hello_world():\\tprint('Hello World!')\", return_tensors=\"pt\").to(device)\n",
    "embedding = model(inputs)[0]\n",
    "print(f'Dimension of the embedding: {embedding.size()[0]}, with norm={embedding.norm().item()}')\n",
    "# Dimension of the embedding: 256, with norm=1.0\n",
    "print(embedding)"
   ]
  },
  {
   "cell_type": "code",
   "execution_count": 13,
   "id": "260fc88c",
   "metadata": {},
   "outputs": [],
   "source": [
    "# from transformers import AutoTokenizer, AutoModel\n",
    "\n",
    "# MODEL_NAME = \"bigcode/starencoder\"\n",
    "\n",
    "# tokenizer = AutoTokenizer.from_pretrained(MODEL_NAME,force_download=True,cache_dir=\"/notebooks/\")\n",
    "# #model = AutoModel.from_pretrained(MODEL_NAME)\n",
    "# #model.eval()"
   ]
  },
  {
   "cell_type": "code",
   "execution_count": 24,
   "id": "7a6b601d",
   "metadata": {},
   "outputs": [],
   "source": [
    "code = \"proc sql; \\n title 'Population of Large Countries Grouped by Continent';\\n select Continent, sum(Population) as TotPop format=comma15. \\n from sql.countries \\n where Population gt 1000000 \\n group by Continent \\n order by TotPop; \\n quit;\"\n",
    "inputs = tokenizer.encode(\"\", return_tensors=\"pt\").to(device)\n",
    "embedding1 = model(inputs)[0]\n",
    "#print(f'Dimension of the embedding: {embedding.size()[0]}, with norm={embedding.norm().item()}')\n",
    "# Dimension of the embedding: 256, with norm=1.0\n",
    "#print(embedding)"
   ]
  },
  {
   "cell_type": "code",
   "execution_count": 25,
   "id": "4a36245c",
   "metadata": {},
   "outputs": [],
   "source": [
    "#embedding1"
   ]
  },
  {
   "cell_type": "code",
   "execution_count": 26,
   "id": "610c6587",
   "metadata": {},
   "outputs": [],
   "source": [
    "code = \"proc sql; \\n title 'Population of Large Countries Grouped by Continent';\\n select Continent, sum(Population) as TotPop format=comma15. \\n from sql.countries \\n where Population gt 1000000 \\n group by Continent \\n order by TotPop; \\n quit;\"\n",
    "inputs = tokenizer.encode(\"\", return_tensors=\"pt\").to(device)\n",
    "embedding2 = model(inputs)[0]\n",
    "#print(f'Dimension of the embedding: {embedding.size()[0]}, with norm={embedding.norm().item()}')\n",
    "# Dimension of the embedding: 256, with norm=1.0\n",
    "#print(embedding)"
   ]
  },
  {
   "cell_type": "code",
   "execution_count": 19,
   "id": "cd4ad9c7",
   "metadata": {},
   "outputs": [],
   "source": [
    "#embedding2"
   ]
  },
  {
   "cell_type": "code",
   "execution_count": null,
   "id": "6dc5c091",
   "metadata": {},
   "outputs": [],
   "source": [
    "from numpy import dot\n",
    "from numpy.linalg import norm\n",
    "\n",
    "t1 = embedding1.detach().numpy() \n",
    "t2 = embedding2.detach().numpy() \n",
    "cos_sim = dot(embedding2, embedding2)/(norm(embedding1)*norm(embedding2))\n",
    "cos_sim"
   ]
  },
  {
   "cell_type": "code",
   "execution_count": 32,
   "id": "2c22a542",
   "metadata": {},
   "outputs": [
    {
     "name": "stdout",
     "output_type": "stream",
     "text": [
      "Cosine Similarity in dim 0: tensor(1., grad_fn=<SumBackward1>)\n"
     ]
    }
   ],
   "source": [
    "# Import the required library\n",
    "import torch\n",
    "\n",
    "# define two input tensors\n",
    "tensor1 = embedding1\n",
    "tensor2 = embedding2\n",
    "\n",
    "# print above defined two tensors\n",
    "#print(\"Tensor 1:\", embedding1)\n",
    "#print(\"Tensor 2:\", embedding2)\n",
    "\n",
    "# define a method to measure cosine similarity in dim 0\n",
    "cos0 = torch.nn.CosineSimilarity(dim=0)\n",
    "output0 = cos0(tensor1, tensor2)\n",
    "print(\"Cosine Similarity in dim 0:\",output0)"
   ]
  },
  {
   "cell_type": "code",
   "execution_count": 36,
   "id": "80731d2f",
   "metadata": {},
   "outputs": [
    {
     "data": {
      "text/plain": [
       "array([ 0.01641615, -0.01965166, -0.07557604,  0.01326069, -0.13698205,\n",
       "        0.02450615, -0.02078906,  0.05558119, -0.08694487, -0.03380305,\n",
       "        0.01655004,  0.05042993, -0.10733809, -0.07091261,  0.08528375,\n",
       "       -0.05599441,  0.06663997,  0.0335343 ,  0.02222921,  0.07388218,\n",
       "       -0.04369806, -0.07993666,  0.06721221,  0.00497747,  0.00702292,\n",
       "       -0.05181385, -0.03055997, -0.1176938 ,  0.09976494,  0.03437587,\n",
       "        0.09038503, -0.08292723,  0.05860291,  0.11408871, -0.08852244,\n",
       "        0.11649444,  0.05747268, -0.06801737, -0.02518309,  0.09495141,\n",
       "       -0.17628586, -0.0584325 ,  0.10291337, -0.02580115,  0.03911626,\n",
       "        0.02422084, -0.00997083, -0.13242672, -0.09801175, -0.00531472,\n",
       "        0.08273122, -0.0289924 , -0.08015257, -0.04521015,  0.0005263 ,\n",
       "        0.02582143, -0.05040365, -0.08515637,  0.03658749,  0.01877225,\n",
       "        0.01784975, -0.04689763, -0.03917756, -0.03569081,  0.08657506,\n",
       "       -0.00650672, -0.01529826, -0.06736417, -0.04798234, -0.07166117,\n",
       "        0.08458504,  0.10787241, -0.05678788, -0.07687069, -0.08298173,\n",
       "       -0.01532395, -0.07656074, -0.04590539,  0.04143612, -0.06457271,\n",
       "        0.03193661,  0.0644443 ,  0.10788505,  0.01572852, -0.01558041,\n",
       "        0.02626403,  0.11676553, -0.07439037, -0.02945754, -0.02936203,\n",
       "        0.08221175, -0.06614172,  0.19932555, -0.07815056,  0.02223467,\n",
       "       -0.05201105,  0.05225075,  0.03634673, -0.03941014,  0.02909398,\n",
       "       -0.01143238,  0.02159877, -0.00779274,  0.04131479, -0.03207539,\n",
       "       -0.00669717, -0.01943577,  0.04353813,  0.03090946, -0.02500441,\n",
       "        0.05912609, -0.037783  , -0.04710339,  0.07463573,  0.04963517,\n",
       "       -0.03809284, -0.01720291, -0.0139205 ,  0.05832297, -0.02253165,\n",
       "        0.07664648,  0.0072613 ,  0.00073496,  0.02826954,  0.0164817 ,\n",
       "        0.02732919,  0.10904726,  0.03293612,  0.04110895,  0.07326976,\n",
       "        0.02263075, -0.07124259, -0.02196809, -0.0109815 , -0.01202377,\n",
       "        0.09520448, -0.01690879, -0.10388128,  0.10125766,  0.01101025,\n",
       "       -0.0051977 , -0.07580324,  0.04289792,  0.05569468, -0.12230508,\n",
       "       -0.03655002, -0.00807367, -0.00398063, -0.02478883,  0.08513956,\n",
       "       -0.10175113, -0.03362007, -0.10060348, -0.05808897, -0.1065273 ,\n",
       "        0.00785891, -0.07503526,  0.05218728,  0.07693607, -0.05645886,\n",
       "        0.07467619,  0.18113501, -0.04922542,  0.04512544,  0.00045697,\n",
       "        0.0859886 ,  0.02344565,  0.00854773,  0.01401898,  0.1554718 ,\n",
       "       -0.0830648 ,  0.04595879,  0.06018553, -0.00435187,  0.0209961 ,\n",
       "       -0.00663307,  0.08664385, -0.02379569,  0.00970018,  0.02218216,\n",
       "        0.07864179,  0.13572837, -0.09070317, -0.01937813,  0.00252896,\n",
       "        0.03891421,  0.03692246, -0.0656091 , -0.13384867, -0.07350565,\n",
       "        0.09920666, -0.01678368,  0.07303116,  0.02995166, -0.00049956,\n",
       "       -0.03164985,  0.07502487,  0.00206175,  0.0230612 , -0.00735681,\n",
       "        0.01990975, -0.07371923,  0.03176587,  0.0493678 ,  0.01395346,\n",
       "       -0.05970586,  0.04042504, -0.10632847, -0.07740621,  0.04588325,\n",
       "       -0.06774986,  0.04115095,  0.01807934,  0.00734554,  0.1237856 ,\n",
       "        0.00775543,  0.00507735, -0.06667341, -0.01617077,  0.01208647,\n",
       "       -0.0541031 ,  0.10164546,  0.01627542, -0.02583983,  0.06446362,\n",
       "       -0.03588177,  0.04750655,  0.04249104,  0.07152196,  0.02327256,\n",
       "        0.09552523, -0.01417615,  0.02035166,  0.0144865 ,  0.08213566,\n",
       "       -0.02966118,  0.01817592, -0.09873787, -0.00864013, -0.00069708,\n",
       "       -0.05857983,  0.07227555, -0.03864306,  0.03304464, -0.02894621,\n",
       "       -0.03966997,  0.06539807,  0.06476799,  0.07565451, -0.05343197,\n",
       "        0.02788899, -0.01028855,  0.06161506, -0.063576  , -0.02935321,\n",
       "       -0.03499812], dtype=float32)"
      ]
     },
     "execution_count": 36,
     "metadata": {},
     "output_type": "execute_result"
    }
   ],
   "source": []
  },
  {
   "cell_type": "code",
   "execution_count": null,
   "id": "e1fa351c",
   "metadata": {},
   "outputs": [],
   "source": []
  }
 ],
 "metadata": {
  "kernelspec": {
   "display_name": "Python 3",
   "language": "python",
   "name": "python3"
  },
  "language_info": {
   "codemirror_mode": {
    "name": "ipython",
    "version": 3
   },
   "file_extension": ".py",
   "mimetype": "text/x-python",
   "name": "python",
   "nbconvert_exporter": "python",
   "pygments_lexer": "ipython3",
   "version": "3.8.16"
  }
 },
 "nbformat": 4,
 "nbformat_minor": 5
}
