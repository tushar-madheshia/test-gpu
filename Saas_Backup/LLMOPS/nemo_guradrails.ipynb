{
 "cells": [
  {
   "cell_type": "code",
   "execution_count": 5,
   "id": "c6bb564c",
   "metadata": {},
   "outputs": [],
   "source": [
    "import os\n",
    "\n",
    "from langchain_core.messages import HumanMessage\n",
    "from langchain_openai import AzureChatOpenAI\n",
    "\n",
    "os.environ[\"AZURE_OPENAI_API_KEY\"] = \"38002279fa574fbcba0fbc424ae056d5\"\n",
    "os.environ[\"AZURE_OPENAI_ENDPOINT\"] = \"https://lumin-azure-openai-rnd.openai.azure.com/\"\n",
    "\n",
    "model = AzureChatOpenAI(\n",
    "    openai_api_version=\"2023-03-15-preview\",\n",
    "    azure_deployment='lumin-rnd-gpt-4-32k',\n",
    ")"
   ]
  },
  {
   "cell_type": "markdown",
   "id": "65df584c",
   "metadata": {},
   "source": [
    "# Without guardrails"
   ]
  },
  {
   "cell_type": "code",
   "execution_count": 6,
   "id": "65403247",
   "metadata": {},
   "outputs": [
    {
     "name": "stderr",
     "output_type": "stream",
     "text": [
      "/tmp/pip_packages/langchain_core/_api/deprecation.py:117: LangChainDeprecationWarning: The function `__call__` was deprecated in LangChain 0.1.7 and will be removed in 0.2.0. Use invoke instead.\n",
      "  warn_deprecated(\n"
     ]
    },
    {
     "data": {
      "text/plain": [
       "'Indian politics, diverse and complex, involves two major parties, Congress and BJP, regional parties, intense rivalry, power struggles, and coalition governments.'"
      ]
     },
     "execution_count": 6,
     "metadata": {},
     "output_type": "execute_result"
    }
   ],
   "source": [
    "message = HumanMessage(\n",
    "    content=\"tell me about indian politics in 20 words\"\n",
    ")\n",
    "model([message]).content"
   ]
  },
  {
   "cell_type": "markdown",
   "id": "df4b2c87",
   "metadata": {},
   "source": [
    "# With guardrails"
   ]
  },
  {
   "cell_type": "code",
   "execution_count": 7,
   "id": "ab198500",
   "metadata": {},
   "outputs": [],
   "source": [
    "colang_content = \"\"\"\n",
    "\n",
    "# define niceties\n",
    "define user express greeting\n",
    "    \"hello\"\n",
    "    \"hi\"\n",
    "    \"what's up?\"\n",
    "\n",
    "define flow greeting\n",
    "    user express greeting\n",
    "    bot express greeting\n",
    "    bot ask how are you\n",
    "\n",
    "# define off topics\n",
    "define user ask off topic\n",
    "  \"How's the weather today?\"\n",
    "  \"election details\"\n",
    "  \"Can you recommend a good restaurant nearby?\"\n",
    "  \"What's your opinion on the latest political news?\"\n",
    "  \"How do I cook spaghetti?\"\n",
    "  \"latest indian political status\"\n",
    "  \"What are the best tourist attractions in Paris?\"\n",
    "\n",
    "define bot explain cant off topic\n",
    "  \"\"I'm the FDC copilot, I don't like to talk about this topic. Please feel free to ask any FDC related questions\"\"\n",
    "\n",
    "define flow\n",
    "  user ask off topic\n",
    "  bot explain cant off topic\n",
    "\"\"\"\n",
    "from nemoguardrails import LLMRails, RailsConfig\n",
    "\n",
    "config = RailsConfig.from_content(\n",
    "    colang_content=colang_content\n",
    ")\n",
    "#app = LLMRails(config,llm=model)\n",
    "app = LLMRails(config,llm=model)"
   ]
  },
  {
   "cell_type": "code",
   "execution_count": 8,
   "id": "83eeb0e5",
   "metadata": {},
   "outputs": [
    {
     "name": "stderr",
     "output_type": "stream",
     "text": [
      "Error in LoggingCallbackHandler.on_chat_model_start callback: TypeError('can only concatenate list (not \"str\") to list')\n"
     ]
    },
    {
     "name": "stdout",
     "output_type": "stream",
     "text": [
      "\"I'm the FDC copilot, I don't like to talk about this topic. Please feel free to ask any FDC related questions\"\n"
     ]
    }
   ],
   "source": [
    "res = await app.generate_async(prompt=\"Can you recommend a good restaurant nearby?\")\n",
    "print(res)"
   ]
  },
  {
   "cell_type": "code",
   "execution_count": 1,
   "id": "7cfa7793",
   "metadata": {},
   "outputs": [
    {
     "name": "stdout",
     "output_type": "stream",
     "text": [
      "Collecting nemoguardrails\n",
      "  Using cached https://files.pythonhosted.org/packages/30/f7/1606875a545c4d659e73549533cc7990902a19150409eab3395156fb7d9c/nemoguardrails-0.8.3-py3-none-any.whl\n",
      "Collecting pydantic>=1.10\n",
      "  Using cached https://files.pythonhosted.org/packages/ed/76/9a17032880ed27f2dbd490c77a3431cbc80f47ba81534131de3c2846e736/pydantic-2.7.1-py3-none-any.whl\n",
      "Collecting starlette>=0.27.0\n",
      "  Using cached https://files.pythonhosted.org/packages/fd/18/31fa32ed6c68ba66220204ef0be798c349d0a20c1901f9d4a794e08c76d8/starlette-0.37.2-py3-none-any.whl\n",
      "Collecting httpx>=0.24.1\n",
      "  Using cached https://files.pythonhosted.org/packages/41/7b/ddacf6dcebb42466abd03f368782142baa82e08fc0c1f8eaa05b4bae87d5/httpx-0.27.0-py3-none-any.whl\n",
      "Collecting prompt-toolkit>=3.0\n",
      "  Using cached https://files.pythonhosted.org/packages/ee/fd/ca7bf3869e7caa7a037e23078539467b433a4e01eebd93f77180ab927766/prompt_toolkit-3.0.43-py3-none-any.whl\n",
      "Collecting nest-asyncio>=1.5.6\n",
      "  Using cached https://files.pythonhosted.org/packages/a0/c4/c2971a3ba4c6103a3d10c4b0f24f461ddc027f0f09763220cf35ca1401b3/nest_asyncio-1.6.0-py3-none-any.whl\n",
      "Collecting aiohttp>=3.9.2\n",
      "  Using cached https://files.pythonhosted.org/packages/bf/85/6166b71dc124cbca726f1d062218a61f2541d7c5192bef8c9b518b787132/aiohttp-3.9.5-cp38-cp38-manylinux_2_17_x86_64.manylinux2014_x86_64.whl\n",
      "Collecting annoy>=1.17.3\n",
      "  Using cached https://files.pythonhosted.org/packages/07/38/e321b0e05d8cc068a594279fb7c097efb1df66231c295d482d7ad51b6473/annoy-1.17.3.tar.gz\n",
      "Collecting jinja2>=3.1.3\n",
      "  Using cached https://files.pythonhosted.org/packages/31/80/3a54838c3fb461f6fec263ebf3a3a41771bd05190238de3486aae8540c36/jinja2-3.1.4-py3-none-any.whl\n",
      "Collecting rich>=13.5.2\n",
      "  Using cached https://files.pythonhosted.org/packages/87/67/a37f6214d0e9fe57f6ae54b2956d550ca8365857f42a1ce0392bb21d9410/rich-13.7.1-py3-none-any.whl\n",
      "Collecting fastembed>=0.2.2\n",
      "  Using cached https://files.pythonhosted.org/packages/d8/bb/fa7620fd49aa073c16d410e6cbdb4f992b0c52135f4f12ca0b1dbff47287/fastembed-0.2.7-py3-none-any.whl\n",
      "Collecting uvicorn>=0.23\n",
      "  Using cached https://files.pythonhosted.org/packages/73/f5/cbb16fcbe277c1e0b8b3ddd188f2df0e0947f545c49119b589643632d156/uvicorn-0.29.0-py3-none-any.whl\n",
      "Collecting langchain-core!=0.1.26,>=0.1.0\n",
      "  Using cached https://files.pythonhosted.org/packages/92/4c/e2f8a26eacd2fedb4c3b450bfeb054f6ee65872114ea9d81a179d759fc2c/langchain_core-0.1.50-py3-none-any.whl\n",
      "Collecting fastapi>=0.103.0\n",
      "  Using cached https://files.pythonhosted.org/packages/e6/33/de41e554e5a187d583906e10d53bfae5fd6c07e98cbf4fe5262bd37e739a/fastapi-0.111.0-py3-none-any.whl\n",
      "Collecting langchain!=0.1.9,<0.2.0,>=0.1.0\n",
      "  Using cached https://files.pythonhosted.org/packages/c8/bc/607cd3254800a26b60da9e2ca6b10785e60170db7e85dc3d0328b5ab3a9c/langchain-0.1.17-py3-none-any.whl\n",
      "Collecting langchain-community<0.1.0,>=0.0.16\n",
      "  Using cached https://files.pythonhosted.org/packages/ef/20/df5eb4eaf6a027fb185ac97720f5d365d11c972a122bb9fa2ba8a435b8ea/langchain_community-0.0.36-py3-none-any.whl\n",
      "Collecting pyyaml>=6.0\n",
      "  Using cached https://files.pythonhosted.org/packages/c8/6b/6600ac24725c7388255b2f5add93f91e58a5d7efaf4af244fdbcc11a541b/PyYAML-6.0.1-cp38-cp38-manylinux_2_17_x86_64.manylinux2014_x86_64.whl\n",
      "Collecting watchdog>=3.0.0\n",
      "  Using cached https://files.pythonhosted.org/packages/91/7b/26d2f43aa9fe428416be21ee1cb9ac75638cf302466b7e706c14eeaea42c/watchdog-4.0.0-py3-none-manylinux2014_x86_64.whl\n",
      "Collecting lark~=1.1.7\n",
      "  Using cached https://files.pythonhosted.org/packages/e7/9c/eef7c591e6dc952f3636cfe0df712c0f9916cedf317810a3bb53ccb65cdd/lark-1.1.9-py3-none-any.whl\n",
      "Collecting typer>=0.7.0\n",
      "  Using cached https://files.pythonhosted.org/packages/20/b5/11cf2e34fbb11b937e006286ab5b8cfd334fde1c8fa4dd7f491226931180/typer-0.12.3-py3-none-any.whl\n",
      "Collecting simpleeval>=0.9.13\n",
      "  Using cached https://files.pythonhosted.org/packages/0a/51/bedb4af4f3fe4bb32a3cabfd285be388958c6d676f6b0fa65997812a381b/simpleeval-0.9.13-py2.py3-none-any.whl\n",
      "Collecting annotated-types>=0.4.0\n",
      "  Using cached https://files.pythonhosted.org/packages/28/78/d31230046e58c207284c6b2c4e8d96e6d3cb4e52354721b944d3e1ee4aa5/annotated_types-0.6.0-py3-none-any.whl\n",
      "Collecting pydantic-core==2.18.2\n",
      "  Using cached https://files.pythonhosted.org/packages/a6/80/0f2fb0deada2fbfadfec6b4dd1f5536767a4eb66dc3b7bd46539a1e232a0/pydantic_core-2.18.2-cp38-cp38-manylinux_2_17_x86_64.manylinux2014_x86_64.whl\n",
      "Collecting typing-extensions>=4.6.1\n",
      "  Using cached https://files.pythonhosted.org/packages/01/f3/936e209267d6ef7510322191003885de524fc48d1b43269810cd589ceaf5/typing_extensions-4.11.0-py3-none-any.whl\n",
      "Collecting anyio<5,>=3.4.0\n",
      "  Using cached https://files.pythonhosted.org/packages/14/fd/2f20c40b45e4fb4324834aea24bd4afdf1143390242c0b33774da0e2e34f/anyio-4.3.0-py3-none-any.whl\n",
      "Collecting sniffio\n",
      "  Using cached https://files.pythonhosted.org/packages/e9/44/75a9c9421471a6c4805dbf2356f7c181a29c1879239abab1ea2cc8f38b40/sniffio-1.3.1-py3-none-any.whl\n",
      "Collecting idna\n",
      "  Using cached https://files.pythonhosted.org/packages/e5/3e/741d8c82801c347547f8a2a06aa57dbb1992be9e948df2ea0eda2c8b79e8/idna-3.7-py3-none-any.whl\n",
      "Collecting httpcore==1.*\n",
      "  Using cached https://files.pythonhosted.org/packages/78/d4/e5d7e4f2174f8a4d63c8897d79eb8fe2503f7ecc03282fee1fa2719c2704/httpcore-1.0.5-py3-none-any.whl\n",
      "Collecting certifi\n",
      "  Using cached https://files.pythonhosted.org/packages/ba/06/a07f096c664aeb9f01624f858c3add0a4e913d6c96257acb4fce61e7de14/certifi-2024.2.2-py3-none-any.whl\n",
      "Collecting wcwidth\n",
      "  Using cached https://files.pythonhosted.org/packages/fd/84/fd2ba7aafacbad3c4201d395674fc6348826569da3c0937e75505ead3528/wcwidth-0.2.13-py2.py3-none-any.whl\n",
      "Collecting attrs>=17.3.0\n",
      "  Using cached https://files.pythonhosted.org/packages/e0/44/827b2a91a5816512fcaf3cc4ebc465ccd5d598c45cefa6703fcf4a79018f/attrs-23.2.0-py3-none-any.whl\n",
      "Collecting aiosignal>=1.1.2\n",
      "  Using cached https://files.pythonhosted.org/packages/76/ac/a7305707cb852b7e16ff80eaf5692309bde30e2b1100a1fcacdc8f731d97/aiosignal-1.3.1-py3-none-any.whl\n",
      "Collecting async-timeout<5.0,>=4.0; python_version < \"3.11\"\n",
      "  Using cached https://files.pythonhosted.org/packages/a7/fa/e01228c2938de91d47b307831c62ab9e4001e747789d0b05baf779a6488c/async_timeout-4.0.3-py3-none-any.whl\n",
      "Collecting yarl<2.0,>=1.0\n",
      "  Using cached https://files.pythonhosted.org/packages/58/c0/8d9a1c02f217f900f248e0ee31377849f4041aff3d36b71b1f30b4a0fa33/yarl-1.9.4-cp38-cp38-manylinux_2_17_x86_64.manylinux2014_x86_64.whl\n",
      "Collecting multidict<7.0,>=4.5\n",
      "  Using cached https://files.pythonhosted.org/packages/61/a3/c307d4af64e695d13e8587d3f996a51b134156c0e8e2e26f4135bb2bf517/multidict-6.0.5-cp38-cp38-manylinux_2_17_x86_64.manylinux2014_x86_64.whl\n",
      "Collecting frozenlist>=1.1.1\n",
      "  Using cached https://files.pythonhosted.org/packages/45/4d/175b16d42daae8013bb1872f6d0870abd87da93e0a36706da4c9ba655d19/frozenlist-1.4.1-cp38-cp38-manylinux_2_5_x86_64.manylinux1_x86_64.manylinux_2_17_x86_64.manylinux2014_x86_64.whl\n",
      "Collecting MarkupSafe>=2.0\n",
      "  Using cached https://files.pythonhosted.org/packages/c7/bd/50319665ce81bb10e90d1cf76f9e1aa269ea6f7fa30ab4521f14d122a3df/MarkupSafe-2.1.5-cp38-cp38-manylinux_2_17_x86_64.manylinux2014_x86_64.whl\n",
      "Collecting markdown-it-py>=2.2.0\n",
      "  Using cached https://files.pythonhosted.org/packages/42/d7/1ec15b46af6af88f19b8e5ffea08fa375d433c998b8a7639e76935c14f1f/markdown_it_py-3.0.0-py3-none-any.whl\n",
      "Collecting pygments<3.0.0,>=2.13.0\n",
      "  Using cached https://files.pythonhosted.org/packages/f7/3f/01c8b82017c199075f8f788d0d906b9ffbbc5a47dc9918a945e13d5a2bda/pygments-2.18.0-py3-none-any.whl\n",
      "\u001b[31mERROR: Could not find a version that satisfies the requirement onnxruntime<2.0.0,>=1.17.0 (from fastembed>=0.2.2->nemoguardrails) (from versions: 1.2.0, 1.3.0, 1.4.0, 1.5.1, 1.5.2, 1.6.0, 1.7.0, 1.8.0, 1.8.1, 1.9.0, 1.10.0, 1.11.0, 1.11.1, 1.12.0, 1.12.1, 1.13.1, 1.14.0, 1.14.1, 1.15.0, 1.15.1, 1.16.0, 1.16.1, 1.16.2, 1.16.3)\u001b[0m\n",
      "\u001b[31mERROR: No matching distribution found for onnxruntime<2.0.0,>=1.17.0 (from fastembed>=0.2.2->nemoguardrails)\u001b[0m\n"
     ]
    }
   ],
   "source": [
    "!pip install nemoguardrails"
   ]
  },
  {
   "cell_type": "code",
   "execution_count": null,
   "id": "426a9fda",
   "metadata": {},
   "outputs": [],
   "source": []
  }
 ],
 "metadata": {
  "kernelspec": {
   "display_name": "Python 3",
   "language": "python",
   "name": "python3"
  },
  "language_info": {
   "codemirror_mode": {
    "name": "ipython",
    "version": 3
   },
   "file_extension": ".py",
   "mimetype": "text/x-python",
   "name": "python",
   "nbconvert_exporter": "python",
   "pygments_lexer": "ipython3",
   "version": "3.8.16"
  }
 },
 "nbformat": 4,
 "nbformat_minor": 5
}
