{
 "cells": [
  {
   "cell_type": "code",
   "execution_count": 3,
   "id": "1bfc391f",
   "metadata": {},
   "outputs": [],
   "source": [
    "#!sudo pip install --upgrade transformers"
   ]
  },
  {
   "cell_type": "code",
   "execution_count": null,
   "id": "cb264e8f",
   "metadata": {},
   "outputs": [],
   "source": []
  },
  {
   "cell_type": "code",
   "execution_count": 1,
   "id": "ff5453fa",
   "metadata": {},
   "outputs": [
    {
     "name": "stderr",
     "output_type": "stream",
     "text": [
      "/opt/conda/lib/python3.8/site-packages/_distutils_hack/__init__.py:33: UserWarning: Setuptools is replacing distutils.\n",
      "  warnings.warn(\"Setuptools is replacing distutils.\")\n"
     ]
    }
   ],
   "source": [
    "from refractml import *\n",
    "from refractml.constants import MLModelFlavours\n",
    "# # new score functions\n",
    "from mosaic_utils.ai.score.base import ScoreBase\n",
    "from typing import Tuple, Union, List, Any\n",
    "import numpy as np"
   ]
  },
  {
   "cell_type": "code",
   "execution_count": 3,
   "id": "b47d45a1",
   "metadata": {},
   "outputs": [],
   "source": [
    "# import json\n",
    "# print(json.dumps(payload,indent=2))"
   ]
  },
  {
   "cell_type": "code",
   "execution_count": 4,
   "id": "64598c71",
   "metadata": {},
   "outputs": [],
   "source": [
    "context ={\n",
    "    \"MEASURE\": [{\"ENTITY\": \"Discount\", \"other names\": [\"discount\", \"discount rate\", \"discount value\", \"deduction\"]},\n",
    "                {\"ENTITY\": \"Purchase Vol\", \"other names\": [\"purchase\", \"purchase value\", \"purchase model\"]},\n",
    "                {\"ENTITY\": \"Quantity\", \"other names\": [\"quantity\", \"volume\"]},\n",
    "                {\"ENTITY\": \"Sales\", \"other names\": [\"sales\", \"sale\"]}],\n",
    "    \"DATE VARIABLE\": [\n",
    "        {\"ENTITY\": \"Order Date\", \"other names\": [\"order date\", \"date\", \"trend\", \"time\", \"when\", \"mom\", \"yoy\"]}]\n",
    "}"
   ]
  },
  {
   "cell_type": "code",
   "execution_count": 6,
   "id": "51831cf4",
   "metadata": {},
   "outputs": [],
   "source": [
    "class ScoreTemplateExample(ScoreBase):\n",
    "    \"\"\"\n",
    "    This Class Demonstrate How To Implements ScoreBase Interface Class And It Basic Usage.\n",
    "    \"\"\"    \n",
    "    def __init__(self):\n",
    "        super().__init__()\n",
    "        self.model_loaded = None\n",
    "        self.model_name =\"/data/huggingface/cache/models--openchat--openchat_3.5/snapshots/2d39b2e68fc16446e1760700e0de14721434cbbf\"\n",
    "        #self.date_input = {\n",
    "        #    \"start_date\": \"01/01/2020\",\n",
    "        #   \"end_date\": \"15/09/2023\"}\n",
    "\n",
    "        self.base_prompt = \"\" #Add your prompt here \n",
    "        from transformers import AutoTokenizer, AutoModelForCausalLM\n",
    "        import time\n",
    "        import torch\n",
    "        from huggingface_hub.utils import disable_progress_bars\n",
    "        disable_progress_bars()\n",
    "        if self.model_loaded is None:\n",
    "            print(\"Model is Loading from data cache\")\n",
    "            self.model_loaded = AutoModelForCausalLM.from_pretrained(self.model_name, device_map=\"auto\", torch_dtype=torch.bfloat16)\n",
    "            self.tokenizer = AutoTokenizer.from_pretrained(self.model_name, trust_remote_code=True,\n",
    "                                          # add_eos_token=True,\n",
    "                                          use_fast=False)\n",
    "            #self.tokenizer.pad_token = self.tokenizer.eos_token\n",
    "            #self.tokenizer.padding_side = \"right\"\n",
    "    def request_processing_fn(self, request) :\n",
    "        \"\"\"\n",
    "        Processes Request Object -> List[{\"question\": \"\",\"context\":\"\"},{\"question\": \"\",\"context\":\"\"},...]\n",
    "\n",
    "        :return: (n_inputs, payload's)\n",
    "\n",
    "        Warnings:\n",
    "        1. Do not reshape your final output for single sample here, do it in prediction.\n",
    "           Else payloads will be invalidated for extraction at raw and extraction level.\n",
    "        \"\"\"\n",
    "        final_payload = []\n",
    "        raw_payload = request.json[\"payload\"]\n",
    "        return (len(raw_payload), raw_payload) \n",
    "    \n",
    "    def pre_processing_fn(self,payload):\n",
    "        return payload\n",
    "\n",
    "    \n",
    "    def prediction_fn(self,\n",
    "                      model: Any,\n",
    "                      input_query\n",
    "                       ):\n",
    "        \"\"\"\n",
    "                Does the main prediction on pre_processed_input(Single Sample) using supplied model .\n",
    "\n",
    "                :param model: Supported Model\n",
    "                :param pre_processed_input: Single Preprocessed Payload\n",
    "                :return: Prediction Value From the model\n",
    "                \n",
    "                Important Notes:\n",
    "                - Reshape your data array.reshape(1, -1) before predictions as it contains a single sample.\n",
    "                    \n",
    "        \"\"\"\n",
    "        question = input_query.get(\"question\")\n",
    "        context = input_query.get(\"context\")\n",
    "        date_info = input_query.get(\"date_info\")\n",
    "        query = \"\"\"Now Based on this following context: \\n \"\"\"+ str(context) + \"\\n return a response for this question:\\n\" + question + \"\\n\"\n",
    "        prompt = \" \"#Reneder your inputs in the prompt form here\n",
    "        print(\"Prompting has started\")\n",
    "        import time\n",
    "        start = time.time()\n",
    "        model_input = self.tokenizer(prompt, return_tensors=\"pt\")#.to(\"cuda\")\n",
    "        response=  self.tokenizer.decode(self.model_loaded.generate(**model_input, max_length=1024*6)[0], skip_special_tokens=True)\n",
    "        print(f\"Total time taken = {time.time()-start}\")\n",
    "        #response = response[0][\"generated_text\"]\n",
    "        preds = response.split(\"[SOL]\")[-1].split(\"[/SOL]\")[0]\n",
    "        print(\"prediction is \\n: \",preds)\n",
    "        return preds"
   ]
  },
  {
   "cell_type": "code",
   "execution_count": 1,
   "id": "413712e9",
   "metadata": {},
   "outputs": [],
   "source": [
    "# check the model class\n",
    "score = ScoreTemplateExample()\n",
    "req = requests.Request()\n",
    "#payload that is required for inference\n",
    "req.json = {\"payload\":[{}]}\n",
    "score.score(None, req, dry_run=True)"
   ]
  },
  {
   "cell_type": "code",
   "execution_count": null,
   "id": "69ba82ad",
   "metadata": {},
   "outputs": [],
   "source": []
  },
  {
   "cell_type": "code",
   "execution_count": null,
   "id": "26f18cfd",
   "metadata": {},
   "outputs": [],
   "source": []
  },
  {
   "cell_type": "code",
   "execution_count": null,
   "id": "39ef83a1",
   "metadata": {},
   "outputs": [],
   "source": []
  },
  {
   "cell_type": "code",
   "execution_count": 8,
   "id": "6e3b7ea1",
   "metadata": {},
   "outputs": [],
   "source": [
    "model=\"/data/huggingface/cache/models--openchat--openchat_3.5/snapshots/2d39b2e68fc16446e1760700e0de14721434cbbf\""
   ]
  },
  {
   "cell_type": "code",
   "execution_count": 9,
   "id": "4590e224",
   "metadata": {
    "scrolled": true
   },
   "outputs": [
    {
     "name": "stderr",
     "output_type": "stream",
     "text": [
      "INFO:root:PASS:: Mandatory Validation :: dict_keys(['name', 'description', 'flavour', 'scoring_func'])\n",
      "INFO:root:PASS:: AlphaNumeric Validation :: dict_keys(['name'])\n",
      "INFO:root:PASS:: Validation/IfPresentTypeCheck :: dict_keys(['schema', 'metadata_info', 'tags'])\n",
      "INFO:root:PASS:: Validation/IfPresentSubfieldMustExist :: dict_keys(['kyd'])\n",
      "DEBUG:urllib3.connectionpool:Starting new HTTP connection (1): mosaic-ai-backend:5000\n",
      "DEBUG:urllib3.connectionpool:http://mosaic-ai-backend:5000 \"POST /registry/api/v1/ml-model/register HTTP/1.1\" 200 6940\n",
      "DEBUG:urllib3.connectionpool:Starting new HTTP connection (1): mosaic-ai-backend:5000\n",
      "DEBUG:urllib3.connectionpool:http://mosaic-ai-backend:5000 \"GET /registry/api/v1/ml-model/6ed23fdd-6fff-4354-9047-913b00cf916a HTTP/1.1\" 200 6933\n",
      "DEBUG:urllib3.connectionpool:Starting new HTTP connection (1): mosaic-ai-backend:5000\n",
      "DEBUG:urllib3.connectionpool:http://mosaic-ai-backend:5000 \"GET /registry/api/v1/ml-model/6ed23fdd-6fff-4354-9047-913b00cf916a HTTP/1.1\" 200 6933\n"
     ]
    },
    {
     "data": {
      "application/vnd.jupyter.widget-view+json": {
       "model_id": "efa79afd86dc4fce85d9dcba632f24d3",
       "version_major": 2,
       "version_minor": 0
      },
      "text/plain": [
       "VBox(children=(HTML(value='<style>.grad_1{background: #2468a4;} .grad_2{ color:white; background: #2468a4;}</s…"
      ]
     },
     "metadata": {},
     "output_type": "display_data"
    }
   ],
   "source": [
    "register_model(model,#model Path\n",
    "               ScoreTemplateExample, #Model Class\n",
    "               \"Open_Chat_iMQL_Generator_for_GPU_01\", #Registry name\n",
    "               \"IMQL_Generator_using_open_chat_3_5_for_GPU01\", #Registry description\n",
    "               MLModelFlavours.pytorch, #Flavour\n",
    "               init_script=\"\"\"sudo chmod -R 777 /home/mosaic-ai/.cache\\\\npip install torch \\\\npip install --upgrade transformers\\\\npip install accelerate\"\"\"\n",
    "              )"
   ]
  },
  {
   "cell_type": "code",
   "execution_count": null,
   "id": "32c9d796",
   "metadata": {},
   "outputs": [],
   "source": []
  }
 ],
 "metadata": {
  "kernelspec": {
   "display_name": "Python 3",
   "language": "python",
   "name": "python3"
  },
  "language_info": {
   "codemirror_mode": {
    "name": "ipython",
    "version": 3
   },
   "file_extension": ".py",
   "mimetype": "text/x-python",
   "name": "python",
   "nbconvert_exporter": "python",
   "pygments_lexer": "ipython3",
   "version": "3.8.16"
  }
 },
 "nbformat": 4,
 "nbformat_minor": 5
}
