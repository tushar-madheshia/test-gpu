{
 "cells": [
  {
   "cell_type": "code",
   "execution_count": 1,
   "id": "f1d3f6a4",
   "metadata": {},
   "outputs": [],
   "source": [
    "import requests\n",
    "import csv\n",
    "\n",
    "def feedback():\n",
    "    resp = requests.get(\"https://leni-stage-nlp-configms-nlu-39-bf3mds3yyq-de.a.run.app/n\"\n",
    "                        \"lp-config/v1/feedbackQueryunderstanding?account_id=64369afa98f0f00001428aa3\")\n",
    "    data = resp.json()\n",
    "\n",
    "    l = []\n",
    "    for x in data[\"data\"]:\n",
    "        try:\n",
    "            model_1 = x[\"model_question_type\"]\n",
    "            model_2 = x[\"model_entities\"]\n",
    "            time = x[\"time_stamp\"]\n",
    "        except:\n",
    "            model_1 = \"\"\n",
    "            model_2 = \"\"\n",
    "            time = \"\"\n",
    "        l.append([x[\"dataset_id\"], model_1, model_2, time, x[\"query\"], x[\"question_type\"], x[\"entity_details\"]])\n",
    "\n",
    "    with open('out_11.csv', 'w', newline='') as f:\n",
    "        writer = csv.writer(f)\n",
    "        writer.writerows(l)\n",
    "\n",
    "feedback()"
   ]
  }
 ],
 "metadata": {
  "kernelspec": {
   "display_name": "Python 3",
   "language": "python",
   "name": "python3"
  },
  "language_info": {
   "codemirror_mode": {
    "name": "ipython",
    "version": 3
   },
   "file_extension": ".py",
   "mimetype": "text/x-python",
   "name": "python",
   "nbconvert_exporter": "python",
   "pygments_lexer": "ipython3",
   "version": "3.9.18"
  }
 },
 "nbformat": 4,
 "nbformat_minor": 5
}
