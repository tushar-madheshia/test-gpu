{
 "cells": [
  {
   "cell_type": "code",
   "execution_count": 14,
   "id": "06dcc636",
   "metadata": {
    "scrolled": true
   },
   "outputs": [
    {
     "name": "stdout",
     "output_type": "stream",
     "text": [
      "Collecting git+https://github.com/huggingface/transformers\n",
      "  Cloning https://github.com/huggingface/transformers to /tmp/pip-req-build-trh2sisn\n",
      "  Running command git clone -q https://github.com/huggingface/transformers /tmp/pip-req-build-trh2sisn\n",
      "  Installing build dependencies ... \u001b[?25ldone\n",
      "\u001b[?25h  Getting requirements to build wheel ... \u001b[?25ldone\n",
      "\u001b[?25h    Preparing wheel metadata ... \u001b[?25ldone\n",
      "\u001b[?25hRequirement already satisfied (use --upgrade to upgrade): transformers==4.35.0.dev0 from git+https://github.com/huggingface/transformers in /opt/conda/lib/python3.8/site-packages\n",
      "Requirement already satisfied: safetensors>=0.3.1 in /opt/conda/lib/python3.8/site-packages (from transformers==4.35.0.dev0) (0.3.2)\n",
      "Requirement already satisfied: packaging>=20.0 in /opt/conda/lib/python3.8/site-packages (from transformers==4.35.0.dev0) (23.0)\n",
      "Requirement already satisfied: tokenizers<0.15,>=0.14 in /opt/conda/lib/python3.8/site-packages (from transformers==4.35.0.dev0) (0.14.1)\n",
      "Requirement already satisfied: regex!=2019.12.17 in /opt/conda/lib/python3.8/site-packages (from transformers==4.35.0.dev0) (2023.6.3)\n",
      "Requirement already satisfied: tqdm>=4.27 in /opt/conda/lib/python3.8/site-packages (from transformers==4.35.0.dev0) (4.65.0)\n",
      "Requirement already satisfied: pyyaml>=5.1 in /opt/conda/lib/python3.8/site-packages (from transformers==4.35.0.dev0) (6.0)\n",
      "Requirement already satisfied: huggingface-hub<1.0,>=0.16.4 in /opt/conda/lib/python3.8/site-packages (from transformers==4.35.0.dev0) (0.16.4)\n",
      "Requirement already satisfied: requests in /opt/conda/lib/python3.8/site-packages (from transformers==4.35.0.dev0) (2.29.0)\n",
      "Requirement already satisfied: filelock in /opt/conda/lib/python3.8/site-packages (from transformers==4.35.0.dev0) (3.9.0)\n",
      "Requirement already satisfied: numpy>=1.17 in /opt/conda/lib/python3.8/site-packages (from transformers==4.35.0.dev0) (1.21.1)\n",
      "Requirement already satisfied: fsspec in /opt/conda/lib/python3.8/site-packages (from huggingface-hub<1.0,>=0.16.4->transformers==4.35.0.dev0) (2023.6.0)\n",
      "Requirement already satisfied: typing-extensions>=3.7.4.3 in /opt/conda/lib/python3.8/site-packages (from huggingface-hub<1.0,>=0.16.4->transformers==4.35.0.dev0) (4.1.1)\n",
      "Requirement already satisfied: idna<4,>=2.5 in /opt/conda/lib/python3.8/site-packages (from requests->transformers==4.35.0.dev0) (3.4)\n",
      "Requirement already satisfied: certifi>=2017.4.17 in /opt/conda/lib/python3.8/site-packages (from requests->transformers==4.35.0.dev0) (2023.5.7)\n",
      "Requirement already satisfied: charset-normalizer<4,>=2 in /opt/conda/lib/python3.8/site-packages (from requests->transformers==4.35.0.dev0) (2.0.4)\n",
      "Requirement already satisfied: urllib3<1.27,>=1.21.1 in /opt/conda/lib/python3.8/site-packages (from requests->transformers==4.35.0.dev0) (1.26.15)\n",
      "Building wheels for collected packages: transformers\n",
      "  Building wheel for transformers (PEP 517) ... \u001b[?25ldone\n",
      "\u001b[?25h  Created wheel for transformers: filename=transformers-4.35.0.dev0-cp38-none-any.whl size=7745571 sha256=1579164fe15f6770db25f1446834711dadc436be813e0a292ca926dbb222dac1\n",
      "  Stored in directory: /tmp/pip-ephem-wheel-cache-1tldflap/wheels/70/d3/52/b3fa4f8b8ef04167ac62e5bb2accb62ae764db2a378247490e\n",
      "Successfully built transformers\n"
     ]
    }
   ],
   "source": [
    "!sudo pip install git+https://github.com/huggingface/transformers"
   ]
  },
  {
   "cell_type": "code",
   "execution_count": 1,
   "id": "a1b437fa",
   "metadata": {},
   "outputs": [
    {
     "data": {
      "text/plain": [
       "'4.35.0.dev0'"
      ]
     },
     "execution_count": 1,
     "metadata": {},
     "output_type": "execute_result"
    }
   ],
   "source": [
    "import transformers\n",
    "transformers.__version__"
   ]
  },
  {
   "cell_type": "code",
   "execution_count": 2,
   "id": "ef7ece4d",
   "metadata": {},
   "outputs": [],
   "source": [
    "!sudo pip install -q accelerate peft==0.4.0 bitsandbytes trl==0.4.7"
   ]
  },
  {
   "cell_type": "code",
   "execution_count": 3,
   "id": "bc267d24",
   "metadata": {},
   "outputs": [
    {
     "name": "stdout",
     "output_type": "stream",
     "text": [
      "bitsandbytes==0.41.1\r\n"
     ]
    }
   ],
   "source": [
    "!pip freeze | grep bits"
   ]
  },
  {
   "cell_type": "code",
   "execution_count": 4,
   "id": "57fbc6b6",
   "metadata": {},
   "outputs": [
    {
     "name": "stderr",
     "output_type": "stream",
     "text": [
      "/opt/conda/lib/python3.8/site-packages/bitsandbytes/cextension.py:34: UserWarning: The installed version of bitsandbytes was compiled without GPU support. 8-bit optimizers, 8-bit multiplication, and GPU quantization are unavailable.\n",
      "  warn(\"The installed version of bitsandbytes was compiled without GPU support. \"\n"
     ]
    },
    {
     "name": "stdout",
     "output_type": "stream",
     "text": [
      "/opt/conda/lib/python3.8/site-packages/bitsandbytes/libbitsandbytes_cpu.so: undefined symbol: cadam32bit_grad_fp32\n"
     ]
    }
   ],
   "source": [
    "import os\n",
    "import torch\n",
    "from datasets import load_dataset\n",
    "from datasets import Dataset\n",
    "from transformers import (\n",
    "    AutoModelForCausalLM,\n",
    "    AutoTokenizer,\n",
    "    BitsAndBytesConfig,\n",
    "    HfArgumentParser,\n",
    "    TrainingArguments,\n",
    "    pipeline,\n",
    "    logging,\n",
    ")\n",
    "#from peft import LoraConfig, PeftModel\n",
    "#from trl import SFTTrainer\n",
    "import pandas as pd"
   ]
  },
  {
   "cell_type": "code",
   "execution_count": 5,
   "id": "02bb11f9",
   "metadata": {
    "slideshow": {
     "slide_type": "slide"
    }
   },
   "outputs": [
    {
     "data": {
      "text/html": [
       "<div>\n",
       "<style scoped>\n",
       "    .dataframe tbody tr th:only-of-type {\n",
       "        vertical-align: middle;\n",
       "    }\n",
       "\n",
       "    .dataframe tbody tr th {\n",
       "        vertical-align: top;\n",
       "    }\n",
       "\n",
       "    .dataframe thead th {\n",
       "        text-align: right;\n",
       "    }\n",
       "</style>\n",
       "<table border=\"1\" class=\"dataframe\">\n",
       "  <thead>\n",
       "    <tr style=\"text-align: right;\">\n",
       "      <th></th>\n",
       "      <th>question</th>\n",
       "      <th>user query</th>\n",
       "    </tr>\n",
       "  </thead>\n",
       "  <tbody>\n",
       "    <tr>\n",
       "      <th>0</th>\n",
       "      <td>What is the sales in 2020</td>\n",
       "      <td>What were the 2020 sales figures?</td>\n",
       "    </tr>\n",
       "    <tr>\n",
       "      <th>1</th>\n",
       "      <td>What is the sales in 2020</td>\n",
       "      <td>How much were the sales in 2020?</td>\n",
       "    </tr>\n",
       "    <tr>\n",
       "      <th>2</th>\n",
       "      <td>What is the sales in 2020</td>\n",
       "      <td>What was the sales volume in 2020?</td>\n",
       "    </tr>\n",
       "    <tr>\n",
       "      <th>3</th>\n",
       "      <td>What is the sales in 2020</td>\n",
       "      <td>What did the 2020 sales amount to?</td>\n",
       "    </tr>\n",
       "    <tr>\n",
       "      <th>4</th>\n",
       "      <td>What is the sales in 2020</td>\n",
       "      <td>What were the total sales for 2020?</td>\n",
       "    </tr>\n",
       "    <tr>\n",
       "      <th>...</th>\n",
       "      <td>...</td>\n",
       "      <td>...</td>\n",
       "    </tr>\n",
       "    <tr>\n",
       "      <th>2485</th>\n",
       "      <td>What is the sales of paper in februaury 2023</td>\n",
       "      <td>Paper sales in 2nd month of 2023?</td>\n",
       "    </tr>\n",
       "    <tr>\n",
       "      <th>2486</th>\n",
       "      <td>What is the sales of paper in februaury 2023</td>\n",
       "      <td>Sales figures for paper, 02/23?</td>\n",
       "    </tr>\n",
       "    <tr>\n",
       "      <th>2487</th>\n",
       "      <td>What is the sales of paper in februaury 2023</td>\n",
       "      <td>Feb 2023's paper sales?</td>\n",
       "    </tr>\n",
       "    <tr>\n",
       "      <th>2488</th>\n",
       "      <td>What is the sales of paper in februaury 2023</td>\n",
       "      <td>Paper sales during 02/2023?</td>\n",
       "    </tr>\n",
       "    <tr>\n",
       "      <th>2489</th>\n",
       "      <td>What is the sales of paper in februaury 2023</td>\n",
       "      <td>2023's Feb paper sales?</td>\n",
       "    </tr>\n",
       "  </tbody>\n",
       "</table>\n",
       "<p>2490 rows × 2 columns</p>\n",
       "</div>"
      ],
      "text/plain": [
       "                                          question  \\\n",
       "0                        What is the sales in 2020   \n",
       "1                        What is the sales in 2020   \n",
       "2                        What is the sales in 2020   \n",
       "3                        What is the sales in 2020   \n",
       "4                        What is the sales in 2020   \n",
       "...                                            ...   \n",
       "2485  What is the sales of paper in februaury 2023   \n",
       "2486  What is the sales of paper in februaury 2023   \n",
       "2487  What is the sales of paper in februaury 2023   \n",
       "2488  What is the sales of paper in februaury 2023   \n",
       "2489  What is the sales of paper in februaury 2023   \n",
       "\n",
       "                               user query  \n",
       "0       What were the 2020 sales figures?  \n",
       "1        How much were the sales in 2020?  \n",
       "2      What was the sales volume in 2020?  \n",
       "3      What did the 2020 sales amount to?  \n",
       "4     What were the total sales for 2020?  \n",
       "...                                   ...  \n",
       "2485    Paper sales in 2nd month of 2023?  \n",
       "2486      Sales figures for paper, 02/23?  \n",
       "2487              Feb 2023's paper sales?  \n",
       "2488          Paper sales during 02/2023?  \n",
       "2489              2023's Feb paper sales?  \n",
       "\n",
       "[2490 rows x 2 columns]"
      ]
     },
     "execution_count": 5,
     "metadata": {},
     "output_type": "execute_result"
    }
   ],
   "source": [
    "df = pd.read_csv('template_and_user_query_v2.csv')\n",
    "df"
   ]
  },
  {
   "cell_type": "code",
   "execution_count": 6,
   "id": "56a6d654",
   "metadata": {
    "slideshow": {
     "slide_type": "slide"
    }
   },
   "outputs": [],
   "source": [
    "#val_df1 = df.iloc[::9,:]\n",
    "val_df = df.iloc[::10,:]\n",
    "val_df.reset_index(drop=True, inplace=True)\n",
    "df = pd.concat([df,val_df]).drop_duplicates(keep=False).reset_index()\n",
    "df.drop(columns=['index'], inplace=True)"
   ]
  },
  {
   "cell_type": "code",
   "execution_count": 7,
   "id": "b549721b",
   "metadata": {},
   "outputs": [],
   "source": [
    "#val_df = pd.concat([val_df1, val_df2])"
   ]
  },
  {
   "cell_type": "code",
   "execution_count": 8,
   "id": "4de7a082",
   "metadata": {},
   "outputs": [],
   "source": [
    "#val_df.to_csv('val_df.csv', index=False)"
   ]
  },
  {
   "cell_type": "code",
   "execution_count": 9,
   "id": "9060e905",
   "metadata": {},
   "outputs": [],
   "source": [
    "#df = df.sample(frac=1).reset_index(drop=True)"
   ]
  },
  {
   "cell_type": "code",
   "execution_count": 10,
   "id": "c37f45b7",
   "metadata": {},
   "outputs": [],
   "source": [
    "# The model that you want to train from the Hugging Face hub\n",
    "model_name = \"mistralai/Mistral-7B-Instruct-v0.1\"\n",
    "\n",
    "# The instruction dataset to use\n",
    "#dataset_name = \"\"\n",
    "\n",
    "# Fine-tuned model name\n",
    "#new_model = \"mistral-ft-peft-on-template_and_user_query-data\""
   ]
  },
  {
   "cell_type": "code",
   "execution_count": 11,
   "id": "7f2ceeb8",
   "metadata": {},
   "outputs": [],
   "source": [
    "################################################################################\n",
    "# QLoRA parameters\n",
    "################################################################################\n",
    "\n",
    "# LoRA attention dimension\n",
    "lora_r = 64\n",
    "\n",
    "# Alpha parameter for LoRA scaling\n",
    "lora_alpha = 16\n",
    "\n",
    "# Dropout probability for LoRA layers\n",
    "lora_dropout = 0.1"
   ]
  },
  {
   "cell_type": "code",
   "execution_count": 12,
   "id": "f83e1317",
   "metadata": {},
   "outputs": [],
   "source": [
    "################################################################################\n",
    "# bitsandbytes parameters\n",
    "################################################################################\n",
    "\n",
    "# Activate 4-bit precision base model loading\n",
    "use_4bit = True\n",
    "\n",
    "# Compute dtype for 4-bit base models\n",
    "bnb_4bit_compute_dtype = \"float16\"\n",
    "\n",
    "# Quantization type (fp4 or nf4)\n",
    "bnb_4bit_quant_type = \"nf4\"\n",
    "\n",
    "# Activate nested quantization for 4-bit base models (double quantization)\n",
    "use_nested_quant = True"
   ]
  },
  {
   "cell_type": "code",
   "execution_count": 13,
   "id": "6b95b0ea",
   "metadata": {},
   "outputs": [],
   "source": [
    "################################################################################\n",
    "# TrainingArguments parameters\n",
    "################################################################################\n",
    "\n",
    "# Output directory where the model predictions and checkpoints will be stored\n",
    "output_dir = \"/data/mistral/oct-3\"\n",
    "\n",
    "# Number of training epochs\n",
    "num_train_epochs = 15\n",
    "\n",
    "# Enable fp16/bf16 training (set bf16 to True with an A100)\n",
    "fp16 = False\n",
    "bf16 = False\n",
    "\n",
    "# Batch size per GPU for training\n",
    "per_device_train_batch_size = 8\n",
    "\n",
    "# Batch size per GPU for evaluation\n",
    "per_device_eval_batch_size = 8\n",
    "\n",
    "# Number of update steps to accumulate the gradients for\n",
    "gradient_accumulation_steps = 1\n",
    "\n",
    "# Enable gradient checkpointing\n",
    "gradient_checkpointing = True\n",
    "\n",
    "\n",
    "# Maximum gradient normal (gradient clipping)\n",
    "max_grad_norm = 0.3\n",
    "\n",
    "# Initial learning rate (AdamW optimizer)\n",
    "learning_rate = 2e-4\n",
    "\n",
    "# Weight decay to apply to all layers except bias/LayerNorm weights\n",
    "weight_decay = 0.001\n",
    "\n",
    "# Optimizer to use\n",
    "optim = \"paged_adamw_32bit\"\n",
    "\n",
    "# Learning rate schedule (constant a bit better than cosine)\n",
    "lr_scheduler_type = \"constant\"\n",
    "\n",
    "# Number of training steps (overrides num_train_epochs)\n",
    "max_steps = 1000\n",
    "\n",
    "# Ratio of steps for a linear warmup (from 0 to learning rate)\n",
    "warmup_ratio = 0.03\n",
    "\n",
    "# Group sequences into batches with same length\n",
    "# Saves memory and speeds up training considerably\n",
    "group_by_length = True\n",
    "\n",
    "# Save checkpoint every X updates steps\n",
    "save_steps = 30\n",
    "\n",
    "# Log every X updates steps\n",
    "logging_steps = 30"
   ]
  },
  {
   "cell_type": "code",
   "execution_count": 14,
   "id": "fd83a980",
   "metadata": {},
   "outputs": [],
   "source": [
    "################################################################################\n",
    "# SFT parameters\n",
    "################################################################################\n",
    "\n",
    "# Maximum sequence length to use\n",
    "max_seq_length = None\n",
    "\n",
    "# Pack multiple short examples in the same input sequence to increase efficiency\n",
    "packing = False\n",
    "\n",
    "# Load the entire model on the GPU 0\n",
    "device_map = {\"\": 0}"
   ]
  },
  {
   "cell_type": "code",
   "execution_count": 15,
   "id": "33b17057",
   "metadata": {},
   "outputs": [],
   "source": [
    "promt_template_v2 = \"\"\"<s>[INST]<<SYS>>\n",
    "You are an advanced template converter that converts user question to a specific template which answers the user question.\n",
    "\n",
    "<</SYS>>\n",
    "\n",
    "{user_query}\n",
    "[/INST]\n",
    "[LUMINTEMPLATE]\n",
    "{template_query}\n",
    "[/LUMINTEMPLATE]</s>\"\"\""
   ]
  },
  {
   "cell_type": "code",
   "execution_count": 16,
   "id": "50d534e7",
   "metadata": {},
   "outputs": [
    {
     "data": {
      "text/plain": [
       "Index(['question', 'user query'], dtype='object')"
      ]
     },
     "execution_count": 16,
     "metadata": {},
     "output_type": "execute_result"
    }
   ],
   "source": [
    "df.columns"
   ]
  },
  {
   "cell_type": "code",
   "execution_count": 17,
   "id": "78a95227",
   "metadata": {},
   "outputs": [],
   "source": [
    "def create_fine_tuning_dataset(row):\n",
    "    user_query = row['user query']\n",
    "    template_query = row['question']\n",
    "    formated = promt_template_v2.format(user_query=user_query,\n",
    "                                      template_query=template_query)\n",
    "    # data_point = str({'question': formated, \"answer\":template_query})\n",
    "    return formated"
   ]
  },
  {
   "cell_type": "code",
   "execution_count": 18,
   "id": "d6859de9",
   "metadata": {},
   "outputs": [],
   "source": [
    "df['fine_tuning_dataset']=df.apply(create_fine_tuning_dataset, axis=1)"
   ]
  },
  {
   "cell_type": "code",
   "execution_count": 19,
   "id": "8c4fcb76",
   "metadata": {},
   "outputs": [
    {
     "name": "stderr",
     "output_type": "stream",
     "text": [
      "<ipython-input-19-4d814f599e38>:1: SettingWithCopyWarning: \n",
      "A value is trying to be set on a copy of a slice from a DataFrame.\n",
      "Try using .loc[row_indexer,col_indexer] = value instead\n",
      "\n",
      "See the caveats in the documentation: https://pandas.pydata.org/pandas-docs/stable/user_guide/indexing.html#returning-a-view-versus-a-copy\n",
      "  val_df['fine_tuning_dataset']=val_df.apply(create_fine_tuning_dataset, axis=1)\n"
     ]
    }
   ],
   "source": [
    "val_df['fine_tuning_dataset']=val_df.apply(create_fine_tuning_dataset, axis=1)"
   ]
  },
  {
   "cell_type": "code",
   "execution_count": 20,
   "id": "0550eb5e",
   "metadata": {},
   "outputs": [
    {
     "data": {
      "text/plain": [
       "'<s>[INST]<<SYS>>\\nYou are an advanced template converter that converts user question to a specific template which answers the user question.\\n\\n<</SYS>>\\n\\nWhat were the 2020 sales figures?\\n[/INST]\\n[LUMINTEMPLATE]\\nWhat is the sales in 2020\\n[/LUMINTEMPLATE]</s>'"
      ]
     },
     "execution_count": 20,
     "metadata": {},
     "output_type": "execute_result"
    }
   ],
   "source": [
    "val_df['fine_tuning_dataset'][0]"
   ]
  },
  {
   "cell_type": "code",
   "execution_count": 21,
   "id": "8af15320",
   "metadata": {},
   "outputs": [
    {
     "data": {
      "text/plain": [
       "'<s>[INST]<<SYS>>\\nYou are an advanced template converter that converts user question to a specific template which answers the user question.\\n\\n<</SYS>>\\n\\nHow much were the sales in 2020?\\n[/INST]\\n[LUMINTEMPLATE]\\nWhat is the sales in 2020\\n[/LUMINTEMPLATE]</s>'"
      ]
     },
     "execution_count": 21,
     "metadata": {},
     "output_type": "execute_result"
    }
   ],
   "source": [
    "df['fine_tuning_dataset'][0]"
   ]
  },
  {
   "cell_type": "code",
   "execution_count": 22,
   "id": "e1650ba1",
   "metadata": {
    "scrolled": true
   },
   "outputs": [],
   "source": [
    "df.drop(columns=['question','user query'], inplace=True)"
   ]
  },
  {
   "cell_type": "code",
   "execution_count": 23,
   "id": "f5f60dfa",
   "metadata": {},
   "outputs": [
    {
     "data": {
      "text/plain": [
       "Index(['fine_tuning_dataset'], dtype='object')"
      ]
     },
     "execution_count": 23,
     "metadata": {},
     "output_type": "execute_result"
    }
   ],
   "source": [
    "df.columns"
   ]
  },
  {
   "cell_type": "code",
   "execution_count": 24,
   "id": "52047531",
   "metadata": {},
   "outputs": [
    {
     "name": "stderr",
     "output_type": "stream",
     "text": [
      "<ipython-input-24-8b82424b847f>:1: SettingWithCopyWarning: \n",
      "A value is trying to be set on a copy of a slice from a DataFrame\n",
      "\n",
      "See the caveats in the documentation: https://pandas.pydata.org/pandas-docs/stable/user_guide/indexing.html#returning-a-view-versus-a-copy\n",
      "  val_df.drop(columns=['question','user query'], inplace=True)\n"
     ]
    }
   ],
   "source": [
    "val_df.drop(columns=['question','user query'], inplace=True)"
   ]
  },
  {
   "cell_type": "code",
   "execution_count": 25,
   "id": "f7c871e1",
   "metadata": {},
   "outputs": [
    {
     "data": {
      "text/plain": [
       "(249, 1)"
      ]
     },
     "execution_count": 25,
     "metadata": {},
     "output_type": "execute_result"
    }
   ],
   "source": [
    "val_df.shape"
   ]
  },
  {
   "cell_type": "code",
   "execution_count": 26,
   "id": "0f4c4086",
   "metadata": {},
   "outputs": [],
   "source": [
    "train_dataset = Dataset.from_pandas(df)\n",
    "val_dataset = Dataset.from_pandas(val_df)"
   ]
  },
  {
   "cell_type": "code",
   "execution_count": 27,
   "id": "af0efa36",
   "metadata": {},
   "outputs": [
    {
     "data": {
      "text/plain": [
       "Dataset({\n",
       "    features: ['fine_tuning_dataset'],\n",
       "    num_rows: 2235\n",
       "})"
      ]
     },
     "execution_count": 27,
     "metadata": {},
     "output_type": "execute_result"
    }
   ],
   "source": [
    "train_dataset"
   ]
  },
  {
   "cell_type": "code",
   "execution_count": 28,
   "id": "555e910f",
   "metadata": {},
   "outputs": [
    {
     "data": {
      "text/plain": [
       "Dataset({\n",
       "    features: ['fine_tuning_dataset'],\n",
       "    num_rows: 249\n",
       "})"
      ]
     },
     "execution_count": 28,
     "metadata": {},
     "output_type": "execute_result"
    }
   ],
   "source": [
    "val_dataset"
   ]
  },
  {
   "cell_type": "code",
   "execution_count": 29,
   "id": "68cc3cf7",
   "metadata": {},
   "outputs": [],
   "source": [
    "# Load tokenizer and model with QLoRA configuration\n",
    "compute_dtype = getattr(torch, bnb_4bit_compute_dtype)\n",
    "\n",
    "bnb_config = BitsAndBytesConfig(\n",
    "    load_in_4bit=use_4bit,\n",
    "    bnb_4bit_quant_type=bnb_4bit_quant_type,\n",
    "    bnb_4bit_compute_dtype=compute_dtype,\n",
    "    bnb_4bit_use_double_quant=use_nested_quant,\n",
    ")"
   ]
  },
  {
   "cell_type": "code",
   "execution_count": 30,
   "id": "ed25c775",
   "metadata": {},
   "outputs": [
    {
     "data": {
      "text/plain": [
       "'nf4'"
      ]
     },
     "execution_count": 30,
     "metadata": {},
     "output_type": "execute_result"
    }
   ],
   "source": [
    "bnb_4bit_quant_type"
   ]
  },
  {
   "cell_type": "code",
   "execution_count": 31,
   "id": "6664ecee",
   "metadata": {},
   "outputs": [
    {
     "data": {
      "text/plain": [
       "torch.float16"
      ]
     },
     "execution_count": 31,
     "metadata": {},
     "output_type": "execute_result"
    }
   ],
   "source": [
    "compute_dtype"
   ]
  },
  {
   "cell_type": "code",
   "execution_count": 32,
   "id": "8e2c3788",
   "metadata": {},
   "outputs": [
    {
     "ename": "AssertionError",
     "evalue": "Torch not compiled with CUDA enabled",
     "output_type": "error",
     "traceback": [
      "\u001b[0;31m---------------------------------------------------------------------------\u001b[0m",
      "\u001b[0;31mAssertionError\u001b[0m                            Traceback (most recent call last)",
      "Cell \u001b[0;32mIn[32], line 3\u001b[0m\n\u001b[1;32m      1\u001b[0m \u001b[38;5;66;03m# Check GPU compatibility with bfloat16\u001b[39;00m\n\u001b[1;32m      2\u001b[0m \u001b[38;5;28;01mif\u001b[39;00m compute_dtype \u001b[38;5;241m==\u001b[39m torch\u001b[38;5;241m.\u001b[39mfloat16 \u001b[38;5;129;01mand\u001b[39;00m use_4bit:\n\u001b[0;32m----> 3\u001b[0m     major, _ \u001b[38;5;241m=\u001b[39m \u001b[43mtorch\u001b[49m\u001b[38;5;241;43m.\u001b[39;49m\u001b[43mcuda\u001b[49m\u001b[38;5;241;43m.\u001b[39;49m\u001b[43mget_device_capability\u001b[49m\u001b[43m(\u001b[49m\u001b[43m)\u001b[49m\n\u001b[1;32m      4\u001b[0m     \u001b[38;5;28;01mif\u001b[39;00m major \u001b[38;5;241m>\u001b[39m\u001b[38;5;241m=\u001b[39m \u001b[38;5;241m8\u001b[39m:\n\u001b[1;32m      5\u001b[0m         \u001b[38;5;28mprint\u001b[39m(\u001b[38;5;124m\"\u001b[39m\u001b[38;5;124m=\u001b[39m\u001b[38;5;124m\"\u001b[39m \u001b[38;5;241m*\u001b[39m \u001b[38;5;241m80\u001b[39m)\n",
      "File \u001b[0;32m/opt/conda/lib/python3.8/site-packages/torch/cuda/__init__.py:381\u001b[0m, in \u001b[0;36mget_device_capability\u001b[0;34m(device)\u001b[0m\n\u001b[1;32m    368\u001b[0m \u001b[38;5;28;01mdef\u001b[39;00m \u001b[38;5;21mget_device_capability\u001b[39m(device: Optional[_device_t] \u001b[38;5;241m=\u001b[39m \u001b[38;5;28;01mNone\u001b[39;00m) \u001b[38;5;241m-\u001b[39m\u001b[38;5;241m>\u001b[39m Tuple[\u001b[38;5;28mint\u001b[39m, \u001b[38;5;28mint\u001b[39m]:\n\u001b[1;32m    369\u001b[0m \u001b[38;5;250m    \u001b[39m\u001b[38;5;124mr\u001b[39m\u001b[38;5;124;03m\"\"\"Gets the cuda capability of a device.\u001b[39;00m\n\u001b[1;32m    370\u001b[0m \n\u001b[1;32m    371\u001b[0m \u001b[38;5;124;03m    Args:\u001b[39;00m\n\u001b[0;32m   (...)\u001b[0m\n\u001b[1;32m    379\u001b[0m \u001b[38;5;124;03m        tuple(int, int): the major and minor cuda capability of the device\u001b[39;00m\n\u001b[1;32m    380\u001b[0m \u001b[38;5;124;03m    \"\"\"\u001b[39;00m\n\u001b[0;32m--> 381\u001b[0m     prop \u001b[38;5;241m=\u001b[39m \u001b[43mget_device_properties\u001b[49m\u001b[43m(\u001b[49m\u001b[43mdevice\u001b[49m\u001b[43m)\u001b[49m\n\u001b[1;32m    382\u001b[0m     \u001b[38;5;28;01mreturn\u001b[39;00m prop\u001b[38;5;241m.\u001b[39mmajor, prop\u001b[38;5;241m.\u001b[39mminor\n",
      "File \u001b[0;32m/opt/conda/lib/python3.8/site-packages/torch/cuda/__init__.py:395\u001b[0m, in \u001b[0;36mget_device_properties\u001b[0;34m(device)\u001b[0m\n\u001b[1;32m    385\u001b[0m \u001b[38;5;28;01mdef\u001b[39;00m \u001b[38;5;21mget_device_properties\u001b[39m(device: _device_t) \u001b[38;5;241m-\u001b[39m\u001b[38;5;241m>\u001b[39m _CudaDeviceProperties:\n\u001b[1;32m    386\u001b[0m \u001b[38;5;250m    \u001b[39m\u001b[38;5;124mr\u001b[39m\u001b[38;5;124;03m\"\"\"Gets the properties of a device.\u001b[39;00m\n\u001b[1;32m    387\u001b[0m \n\u001b[1;32m    388\u001b[0m \u001b[38;5;124;03m    Args:\u001b[39;00m\n\u001b[0;32m   (...)\u001b[0m\n\u001b[1;32m    393\u001b[0m \u001b[38;5;124;03m        _CudaDeviceProperties: the properties of the device\u001b[39;00m\n\u001b[1;32m    394\u001b[0m \u001b[38;5;124;03m    \"\"\"\u001b[39;00m\n\u001b[0;32m--> 395\u001b[0m     \u001b[43m_lazy_init\u001b[49m\u001b[43m(\u001b[49m\u001b[43m)\u001b[49m  \u001b[38;5;66;03m# will define _get_device_properties\u001b[39;00m\n\u001b[1;32m    396\u001b[0m     device \u001b[38;5;241m=\u001b[39m _get_device_index(device, optional\u001b[38;5;241m=\u001b[39m\u001b[38;5;28;01mTrue\u001b[39;00m)\n\u001b[1;32m    397\u001b[0m     \u001b[38;5;28;01mif\u001b[39;00m device \u001b[38;5;241m<\u001b[39m \u001b[38;5;241m0\u001b[39m \u001b[38;5;129;01mor\u001b[39;00m device \u001b[38;5;241m>\u001b[39m\u001b[38;5;241m=\u001b[39m device_count():\n",
      "File \u001b[0;32m/opt/conda/lib/python3.8/site-packages/torch/cuda/__init__.py:239\u001b[0m, in \u001b[0;36m_lazy_init\u001b[0;34m()\u001b[0m\n\u001b[1;32m    235\u001b[0m     \u001b[38;5;28;01mraise\u001b[39;00m \u001b[38;5;167;01mRuntimeError\u001b[39;00m(\n\u001b[1;32m    236\u001b[0m         \u001b[38;5;124m\"\u001b[39m\u001b[38;5;124mCannot re-initialize CUDA in forked subprocess. To use CUDA with \u001b[39m\u001b[38;5;124m\"\u001b[39m\n\u001b[1;32m    237\u001b[0m         \u001b[38;5;124m\"\u001b[39m\u001b[38;5;124mmultiprocessing, you must use the \u001b[39m\u001b[38;5;124m'\u001b[39m\u001b[38;5;124mspawn\u001b[39m\u001b[38;5;124m'\u001b[39m\u001b[38;5;124m start method\u001b[39m\u001b[38;5;124m\"\u001b[39m)\n\u001b[1;32m    238\u001b[0m \u001b[38;5;28;01mif\u001b[39;00m \u001b[38;5;129;01mnot\u001b[39;00m \u001b[38;5;28mhasattr\u001b[39m(torch\u001b[38;5;241m.\u001b[39m_C, \u001b[38;5;124m'\u001b[39m\u001b[38;5;124m_cuda_getDeviceCount\u001b[39m\u001b[38;5;124m'\u001b[39m):\n\u001b[0;32m--> 239\u001b[0m     \u001b[38;5;28;01mraise\u001b[39;00m \u001b[38;5;167;01mAssertionError\u001b[39;00m(\u001b[38;5;124m\"\u001b[39m\u001b[38;5;124mTorch not compiled with CUDA enabled\u001b[39m\u001b[38;5;124m\"\u001b[39m)\n\u001b[1;32m    240\u001b[0m \u001b[38;5;28;01mif\u001b[39;00m _cudart \u001b[38;5;129;01mis\u001b[39;00m \u001b[38;5;28;01mNone\u001b[39;00m:\n\u001b[1;32m    241\u001b[0m     \u001b[38;5;28;01mraise\u001b[39;00m \u001b[38;5;167;01mAssertionError\u001b[39;00m(\n\u001b[1;32m    242\u001b[0m         \u001b[38;5;124m\"\u001b[39m\u001b[38;5;124mlibcudart functions unavailable. It looks like you have a broken build?\u001b[39m\u001b[38;5;124m\"\u001b[39m)\n",
      "\u001b[0;31mAssertionError\u001b[0m: Torch not compiled with CUDA enabled"
     ]
    }
   ],
   "source": [
    "# Check GPU compatibility with bfloat16\n",
    "if compute_dtype == torch.float16 and use_4bit:\n",
    "    major, _ = torch.cuda.get_device_capability()\n",
    "    if major >= 8:\n",
    "        print(\"=\" * 80)\n",
    "        print(\"Your GPU supports bfloat16: accelerate training with bf16=True\")\n",
    "        print(\"=\" * 80)"
   ]
  },
  {
   "cell_type": "code",
   "execution_count": 33,
   "id": "a38e3e5d",
   "metadata": {},
   "outputs": [],
   "source": [
    "model_name = \"mistralai/Mistral-7B-Instruct-v0.1\""
   ]
  },
  {
   "cell_type": "code",
   "execution_count": 34,
   "id": "0f49a0ae",
   "metadata": {
    "slideshow": {
     "slide_type": "-"
    }
   },
   "outputs": [
    {
     "name": "stdout",
     "output_type": "stream",
     "text": [
      "Collecting pynvml\n",
      "\u001b[?25l  Downloading https://files.pythonhosted.org/packages/5b/9c/adb8070059caaa15d5a572b66bccd95900d8c1b9fa54d6ecea6ae97448d1/pynvml-11.5.0-py3-none-any.whl (53kB)\n",
      "\u001b[K     |████████████████████████████████| 61kB 1.9MB/s eta 0:00:011\n",
      "\u001b[?25hInstalling collected packages: pynvml\n",
      "Successfully installed pynvml-11.5.0\n"
     ]
    }
   ],
   "source": [
    "!sudo pip install pynvml"
   ]
  },
  {
   "cell_type": "code",
   "execution_count": 34,
   "id": "e994711a",
   "metadata": {},
   "outputs": [
    {
     "data": {
      "text/plain": [
       "{'gpu': [{'fb_memory_usage': {'total': 16384.0,\n",
       "    'free': 15972.9375,\n",
       "    'unit': 'MiB'}}]}"
      ]
     },
     "execution_count": 34,
     "metadata": {},
     "output_type": "execute_result"
    }
   ],
   "source": [
    "from pynvml.smi import nvidia_smi\n",
    "nvsmi = nvidia_smi.getInstance()\n",
    "nvsmi.DeviceQuery('memory.free, memory.total')"
   ]
  },
  {
   "cell_type": "code",
   "execution_count": 35,
   "id": "eec98fb5",
   "metadata": {
    "scrolled": true
   },
   "outputs": [],
   "source": [
    "#!df -H"
   ]
  },
  {
   "cell_type": "code",
   "execution_count": 35,
   "id": "ba0a15e6",
   "metadata": {},
   "outputs": [
    {
     "ename": "ImportError",
     "evalue": "Using `load_in_8bit=True` requires Accelerate: `pip install accelerate` and the latest version of bitsandbytes `pip install -i https://test.pypi.org/simple/ bitsandbytes` or pip install bitsandbytes` ",
     "output_type": "error",
     "traceback": [
      "\u001b[0;31m---------------------------------------------------------------------------\u001b[0m",
      "\u001b[0;31mImportError\u001b[0m                               Traceback (most recent call last)",
      "Cell \u001b[0;32mIn[35], line 2\u001b[0m\n\u001b[1;32m      1\u001b[0m \u001b[38;5;66;03m# Load base model\u001b[39;00m\n\u001b[0;32m----> 2\u001b[0m model \u001b[38;5;241m=\u001b[39m \u001b[43mAutoModelForCausalLM\u001b[49m\u001b[38;5;241;43m.\u001b[39;49m\u001b[43mfrom_pretrained\u001b[49m\u001b[43m(\u001b[49m\n\u001b[1;32m      3\u001b[0m \u001b[43m    \u001b[49m\u001b[43mmodel_name\u001b[49m\u001b[43m,\u001b[49m\n\u001b[1;32m      4\u001b[0m \u001b[43m    \u001b[49m\u001b[43mquantization_config\u001b[49m\u001b[38;5;241;43m=\u001b[39;49m\u001b[43mbnb_config\u001b[49m\n\u001b[1;32m      5\u001b[0m \u001b[43m    \u001b[49m\u001b[38;5;66;43;03m#device_map=\"auto\"\u001b[39;49;00m\n\u001b[1;32m      6\u001b[0m \u001b[43m)\u001b[49m\n\u001b[1;32m      7\u001b[0m model\u001b[38;5;241m.\u001b[39mconfig\u001b[38;5;241m.\u001b[39muse_cache \u001b[38;5;241m=\u001b[39m \u001b[38;5;28;01mFalse\u001b[39;00m\n\u001b[1;32m      8\u001b[0m model\u001b[38;5;241m.\u001b[39mconfig\u001b[38;5;241m.\u001b[39mpretraining_tp \u001b[38;5;241m=\u001b[39m \u001b[38;5;241m1\u001b[39m\n",
      "File \u001b[0;32m/opt/conda/lib/python3.8/site-packages/transformers/models/auto/auto_factory.py:565\u001b[0m, in \u001b[0;36m_BaseAutoModelClass.from_pretrained\u001b[0;34m(cls, pretrained_model_name_or_path, *model_args, **kwargs)\u001b[0m\n\u001b[1;32m    563\u001b[0m \u001b[38;5;28;01melif\u001b[39;00m \u001b[38;5;28mtype\u001b[39m(config) \u001b[38;5;129;01min\u001b[39;00m \u001b[38;5;28mcls\u001b[39m\u001b[38;5;241m.\u001b[39m_model_mapping\u001b[38;5;241m.\u001b[39mkeys():\n\u001b[1;32m    564\u001b[0m     model_class \u001b[38;5;241m=\u001b[39m _get_model_class(config, \u001b[38;5;28mcls\u001b[39m\u001b[38;5;241m.\u001b[39m_model_mapping)\n\u001b[0;32m--> 565\u001b[0m     \u001b[38;5;28;01mreturn\u001b[39;00m \u001b[43mmodel_class\u001b[49m\u001b[38;5;241;43m.\u001b[39;49m\u001b[43mfrom_pretrained\u001b[49m\u001b[43m(\u001b[49m\n\u001b[1;32m    566\u001b[0m \u001b[43m        \u001b[49m\u001b[43mpretrained_model_name_or_path\u001b[49m\u001b[43m,\u001b[49m\u001b[43m \u001b[49m\u001b[38;5;241;43m*\u001b[39;49m\u001b[43mmodel_args\u001b[49m\u001b[43m,\u001b[49m\u001b[43m \u001b[49m\u001b[43mconfig\u001b[49m\u001b[38;5;241;43m=\u001b[39;49m\u001b[43mconfig\u001b[49m\u001b[43m,\u001b[49m\u001b[43m \u001b[49m\u001b[38;5;241;43m*\u001b[39;49m\u001b[38;5;241;43m*\u001b[39;49m\u001b[43mhub_kwargs\u001b[49m\u001b[43m,\u001b[49m\u001b[43m \u001b[49m\u001b[38;5;241;43m*\u001b[39;49m\u001b[38;5;241;43m*\u001b[39;49m\u001b[43mkwargs\u001b[49m\n\u001b[1;32m    567\u001b[0m \u001b[43m    \u001b[49m\u001b[43m)\u001b[49m\n\u001b[1;32m    568\u001b[0m \u001b[38;5;28;01mraise\u001b[39;00m \u001b[38;5;167;01mValueError\u001b[39;00m(\n\u001b[1;32m    569\u001b[0m     \u001b[38;5;124mf\u001b[39m\u001b[38;5;124m\"\u001b[39m\u001b[38;5;124mUnrecognized configuration class \u001b[39m\u001b[38;5;132;01m{\u001b[39;00mconfig\u001b[38;5;241m.\u001b[39m\u001b[38;5;18m__class__\u001b[39m\u001b[38;5;132;01m}\u001b[39;00m\u001b[38;5;124m for this kind of AutoModel: \u001b[39m\u001b[38;5;132;01m{\u001b[39;00m\u001b[38;5;28mcls\u001b[39m\u001b[38;5;241m.\u001b[39m\u001b[38;5;18m__name__\u001b[39m\u001b[38;5;132;01m}\u001b[39;00m\u001b[38;5;124m.\u001b[39m\u001b[38;5;130;01m\\n\u001b[39;00m\u001b[38;5;124m\"\u001b[39m\n\u001b[1;32m    570\u001b[0m     \u001b[38;5;124mf\u001b[39m\u001b[38;5;124m\"\u001b[39m\u001b[38;5;124mModel type should be one of \u001b[39m\u001b[38;5;132;01m{\u001b[39;00m\u001b[38;5;124m'\u001b[39m\u001b[38;5;124m, \u001b[39m\u001b[38;5;124m'\u001b[39m\u001b[38;5;241m.\u001b[39mjoin(c\u001b[38;5;241m.\u001b[39m\u001b[38;5;18m__name__\u001b[39m\u001b[38;5;250m \u001b[39m\u001b[38;5;28;01mfor\u001b[39;00m\u001b[38;5;250m \u001b[39mc\u001b[38;5;250m \u001b[39m\u001b[38;5;129;01min\u001b[39;00m\u001b[38;5;250m \u001b[39m\u001b[38;5;28mcls\u001b[39m\u001b[38;5;241m.\u001b[39m_model_mapping\u001b[38;5;241m.\u001b[39mkeys())\u001b[38;5;132;01m}\u001b[39;00m\u001b[38;5;124m.\u001b[39m\u001b[38;5;124m\"\u001b[39m\n\u001b[1;32m    571\u001b[0m )\n",
      "File \u001b[0;32m/opt/conda/lib/python3.8/site-packages/transformers/modeling_utils.py:2616\u001b[0m, in \u001b[0;36mPreTrainedModel.from_pretrained\u001b[0;34m(cls, pretrained_model_name_or_path, config, cache_dir, ignore_mismatched_sizes, force_download, local_files_only, token, revision, use_safetensors, *model_args, **kwargs)\u001b[0m\n\u001b[1;32m   2614\u001b[0m \u001b[38;5;28;01mif\u001b[39;00m load_in_8bit \u001b[38;5;129;01mor\u001b[39;00m load_in_4bit:\n\u001b[1;32m   2615\u001b[0m     \u001b[38;5;28;01mif\u001b[39;00m \u001b[38;5;129;01mnot\u001b[39;00m (is_accelerate_available() \u001b[38;5;129;01mand\u001b[39;00m is_bitsandbytes_available()):\n\u001b[0;32m-> 2616\u001b[0m         \u001b[38;5;28;01mraise\u001b[39;00m \u001b[38;5;167;01mImportError\u001b[39;00m(\n\u001b[1;32m   2617\u001b[0m             \u001b[38;5;124m\"\u001b[39m\u001b[38;5;124mUsing `load_in_8bit=True` requires Accelerate: `pip install accelerate` and the latest version of\u001b[39m\u001b[38;5;124m\"\u001b[39m\n\u001b[1;32m   2618\u001b[0m             \u001b[38;5;124m\"\u001b[39m\u001b[38;5;124m bitsandbytes `pip install -i https://test.pypi.org/simple/ bitsandbytes` or\u001b[39m\u001b[38;5;124m\"\u001b[39m\n\u001b[1;32m   2619\u001b[0m             \u001b[38;5;124m\"\u001b[39m\u001b[38;5;124m pip install bitsandbytes` \u001b[39m\u001b[38;5;124m\"\u001b[39m\n\u001b[1;32m   2620\u001b[0m         )\n\u001b[1;32m   2622\u001b[0m     \u001b[38;5;28;01mif\u001b[39;00m torch_dtype \u001b[38;5;129;01mis\u001b[39;00m \u001b[38;5;28;01mNone\u001b[39;00m:\n\u001b[1;32m   2623\u001b[0m         \u001b[38;5;66;03m# We force the `dtype` to be float16, this is a requirement from `bitsandbytes`\u001b[39;00m\n\u001b[1;32m   2624\u001b[0m         logger\u001b[38;5;241m.\u001b[39minfo(\n\u001b[1;32m   2625\u001b[0m             \u001b[38;5;124mf\u001b[39m\u001b[38;5;124m\"\u001b[39m\u001b[38;5;124mOverriding torch_dtype=\u001b[39m\u001b[38;5;132;01m{\u001b[39;00mtorch_dtype\u001b[38;5;132;01m}\u001b[39;00m\u001b[38;5;124m with `torch_dtype=torch.float16` due to \u001b[39m\u001b[38;5;124m\"\u001b[39m\n\u001b[1;32m   2626\u001b[0m             \u001b[38;5;124m\"\u001b[39m\u001b[38;5;124mrequirements of `bitsandbytes` to enable model loading in 8-bit or 4-bit. \u001b[39m\u001b[38;5;124m\"\u001b[39m\n\u001b[1;32m   2627\u001b[0m             \u001b[38;5;124m\"\u001b[39m\u001b[38;5;124mPass your own torch_dtype to specify the dtype of the remaining non-linear layers or pass\u001b[39m\u001b[38;5;124m\"\u001b[39m\n\u001b[1;32m   2628\u001b[0m             \u001b[38;5;124m\"\u001b[39m\u001b[38;5;124m torch_dtype=torch.float16 to remove this warning.\u001b[39m\u001b[38;5;124m\"\u001b[39m\n\u001b[1;32m   2629\u001b[0m         )\n",
      "\u001b[0;31mImportError\u001b[0m: Using `load_in_8bit=True` requires Accelerate: `pip install accelerate` and the latest version of bitsandbytes `pip install -i https://test.pypi.org/simple/ bitsandbytes` or pip install bitsandbytes` "
     ]
    }
   ],
   "source": [
    "# Load base model\n",
    "model = AutoModelForCausalLM.from_pretrained(\n",
    "    model_name,\n",
    "    quantization_config=bnb_config\n",
    "    #device_map=\"auto\"\n",
    ")\n",
    "model.config.use_cache = False\n",
    "model.config.pretraining_tp = 1"
   ]
  },
  {
   "cell_type": "code",
   "execution_count": 37,
   "id": "ef60f964",
   "metadata": {},
   "outputs": [
    {
     "name": "stderr",
     "output_type": "stream",
     "text": [
      "Special tokens have been added in the vocabulary, make sure the associated word embeddings are fine-tuned or trained.\n"
     ]
    }
   ],
   "source": [
    "# Load LLaMA tokenizer\n",
    "tokenizer = AutoTokenizer.from_pretrained(model_name, trust_remote_code=True,\n",
    "                                          # add_eos_token=True,\n",
    "                                          use_fast=False)\n",
    "tokenizer.pad_token = tokenizer.eos_token\n",
    "tokenizer.padding_side = \"right\""
   ]
  },
  {
   "cell_type": "code",
   "execution_count": null,
   "id": "a785744a",
   "metadata": {},
   "outputs": [],
   "source": []
  },
  {
   "cell_type": "code",
   "execution_count": 37,
   "id": "a6716c5d",
   "metadata": {},
   "outputs": [
    {
     "data": {
      "text/plain": [
       "120"
      ]
     },
     "execution_count": 37,
     "metadata": {},
     "output_type": "execute_result"
    }
   ],
   "source": [
    "max([len(tokenizer.encode(df['fine_tuning_dataset'][i])) for i in range(1800)])"
   ]
  },
  {
   "cell_type": "code",
   "execution_count": null,
   "id": "5fc5bf25",
   "metadata": {
    "scrolled": true
   },
   "outputs": [],
   "source": []
  },
  {
   "cell_type": "code",
   "execution_count": 38,
   "id": "92a7efe8",
   "metadata": {},
   "outputs": [
    {
     "data": {
      "text/plain": [
       "'</s>'"
      ]
     },
     "execution_count": 38,
     "metadata": {},
     "output_type": "execute_result"
    }
   ],
   "source": [
    "tokenizer.decode([2])"
   ]
  },
  {
   "cell_type": "code",
   "execution_count": null,
   "id": "e9379705",
   "metadata": {},
   "outputs": [],
   "source": []
  },
  {
   "cell_type": "code",
   "execution_count": 22,
   "id": "75ffc6f1",
   "metadata": {},
   "outputs": [],
   "source": [
    "# LoRA configuration\n",
    "peft_config = LoraConfig(\n",
    "    lora_alpha=lora_alpha,\n",
    "    lora_dropout=lora_dropout,\n",
    "    target_modules = [\"q_proj\", \"v_proj\"],\n",
    "    r=lora_r,\n",
    "    bias=\"none\",\n",
    "    task_type=\"CAUSAL_LM\",\n",
    ")"
   ]
  },
  {
   "cell_type": "code",
   "execution_count": 57,
   "id": "7e30b281",
   "metadata": {},
   "outputs": [],
   "source": [
    "# Set training parameters\n",
    "training_arguments = TrainingArguments(\n",
    "    output_dir=output_dir,\n",
    "    num_train_epochs=num_train_epochs,\n",
    "    per_device_train_batch_size=per_device_train_batch_size,\n",
    "    gradient_accumulation_steps=gradient_accumulation_steps,\n",
    "    optim=optim,\n",
    "    save_steps=save_steps,\n",
    "    eval_steps=30,\n",
    "    per_device_eval_batch_size=1, # Batch size for evaluation\n",
    "    evaluation_strategy=\"steps\",\n",
    "    logging_strategy=\"steps\",\n",
    "    logging_steps=1,\n",
    "    learning_rate=learning_rate,\n",
    "    weight_decay=weight_decay,\n",
    "    fp16=fp16,\n",
    "    bf16=bf16,\n",
    "    max_grad_norm=max_grad_norm,\n",
    "    max_steps=1000,\n",
    "    warmup_ratio=warmup_ratio,\n",
    "    group_by_length=group_by_length,\n",
    "    lr_scheduler_type=lr_scheduler_type,\n",
    "    report_to=\"tensorboard\",\n",
    "    load_best_model_at_end=True,\n",
    "    save_total_limit=1,\n",
    "    metric_for_best_model=\"eval_loss\",\n",
    "    greater_is_better=False\n",
    ")"
   ]
  },
  {
   "cell_type": "code",
   "execution_count": 58,
   "id": "6ee91f4d",
   "metadata": {},
   "outputs": [
    {
     "name": "stdout",
     "output_type": "stream",
     "text": [
      "Memory footprint 5.076180992 GB\n",
      "Flops 21843.947814912 GFLOPs\n"
     ]
    }
   ],
   "source": [
    "## Getting FLOPs of model\n",
    "\n",
    "model_flops = (\n",
    "  model.floating_point_ops(\n",
    "    {\n",
    "       \"input_ids\": torch.zeros(\n",
    "           (1, 512)\n",
    "      )\n",
    "    }\n",
    "  )\n",
    "  * training_arguments.gradient_accumulation_steps\n",
    ")\n",
    "\n",
    "#print(model)\n",
    "print(\"Memory footprint\", model.get_memory_footprint() / 1e9, \"GB\")\n",
    "print(\"Flops\", model_flops / 1e9, \"GFLOPs\")"
   ]
  },
  {
   "cell_type": "code",
   "execution_count": 59,
   "id": "de52effd",
   "metadata": {},
   "outputs": [
    {
     "data": {
      "text/plain": [
       "Dataset({\n",
       "    features: ['fine_tuning_dataset'],\n",
       "    num_rows: 2235\n",
       "})"
      ]
     },
     "execution_count": 59,
     "metadata": {},
     "output_type": "execute_result"
    }
   ],
   "source": [
    "train_dataset"
   ]
  },
  {
   "cell_type": "code",
   "execution_count": 60,
   "id": "f8bf5981",
   "metadata": {},
   "outputs": [
    {
     "data": {
      "application/vnd.jupyter.widget-view+json": {
       "model_id": "45a8613f691840019e43d65c7d581c67",
       "version_major": 2,
       "version_minor": 0
      },
      "text/plain": [
       "Map:   0%|          | 0/2235 [00:00<?, ? examples/s]"
      ]
     },
     "metadata": {},
     "output_type": "display_data"
    },
    {
     "data": {
      "application/vnd.jupyter.widget-view+json": {
       "model_id": "f74a4197d2624ae4bc2903adb6b9271f",
       "version_major": 2,
       "version_minor": 0
      },
      "text/plain": [
       "Map:   0%|          | 0/249 [00:00<?, ? examples/s]"
      ]
     },
     "metadata": {},
     "output_type": "display_data"
    }
   ],
   "source": [
    "# Set supervised fine-tuning parameters\n",
    "trainer = SFTTrainer(\n",
    "    model=model,\n",
    "    train_dataset=train_dataset,\n",
    "    eval_dataset=val_dataset,\n",
    "    peft_config=peft_config,\n",
    "    dataset_text_field=\"fine_tuning_dataset\",\n",
    "    max_seq_length=512,\n",
    "    tokenizer=tokenizer,\n",
    "    args=training_arguments,\n",
    "    packing=packing,\n",
    ")"
   ]
  },
  {
   "cell_type": "code",
   "execution_count": 61,
   "id": "d942d91c",
   "metadata": {},
   "outputs": [
    {
     "data": {
      "text/plain": [
       "{'fine_tuning_dataset': '<s>[INST]<<SYS>>\\nYou are an advanced template converter that converts user question to a specific template which answers the user question.\\n\\n<</SYS>>\\n\\nHow much were the sales in 2020?\\n[/INST]\\n[LUMINTEMPLATE]\\nWhat is the sales in 2020\\n[/LUMINTEMPLATE]</s>'}"
      ]
     },
     "execution_count": 61,
     "metadata": {},
     "output_type": "execute_result"
    }
   ],
   "source": [
    "train_dataset[0]"
   ]
  },
  {
   "cell_type": "code",
   "execution_count": null,
   "id": "b5769042",
   "metadata": {
    "scrolled": false
   },
   "outputs": [
    {
     "data": {
      "text/html": [
       "\n",
       "    <div>\n",
       "      \n",
       "      <progress value='865' max='1000' style='width:300px; height:20px; vertical-align: middle;'></progress>\n",
       "      [ 865/1000 3:27:08 < 32:24, 0.07 it/s, Epoch 3.09/4]\n",
       "    </div>\n",
       "    <table border=\"1\" class=\"dataframe\">\n",
       "  <thead>\n",
       " <tr style=\"text-align: left;\">\n",
       "      <th>Step</th>\n",
       "      <th>Training Loss</th>\n",
       "      <th>Validation Loss</th>\n",
       "    </tr>\n",
       "  </thead>\n",
       "  <tbody>\n",
       "    <tr>\n",
       "      <td>30</td>\n",
       "      <td>0.803300</td>\n",
       "      <td>0.649614</td>\n",
       "    </tr>\n",
       "    <tr>\n",
       "      <td>60</td>\n",
       "      <td>0.567300</td>\n",
       "      <td>0.503824</td>\n",
       "    </tr>\n",
       "    <tr>\n",
       "      <td>90</td>\n",
       "      <td>0.443200</td>\n",
       "      <td>0.434802</td>\n",
       "    </tr>\n",
       "    <tr>\n",
       "      <td>120</td>\n",
       "      <td>0.410700</td>\n",
       "      <td>0.363093</td>\n",
       "    </tr>\n",
       "    <tr>\n",
       "      <td>150</td>\n",
       "      <td>0.222900</td>\n",
       "      <td>0.267483</td>\n",
       "    </tr>\n",
       "    <tr>\n",
       "      <td>180</td>\n",
       "      <td>0.238100</td>\n",
       "      <td>0.240358</td>\n",
       "    </tr>\n",
       "    <tr>\n",
       "      <td>210</td>\n",
       "      <td>0.231700</td>\n",
       "      <td>0.242928</td>\n",
       "    </tr>\n",
       "    <tr>\n",
       "      <td>240</td>\n",
       "      <td>0.231800</td>\n",
       "      <td>0.227741</td>\n",
       "    </tr>\n",
       "    <tr>\n",
       "      <td>270</td>\n",
       "      <td>0.269900</td>\n",
       "      <td>0.225194</td>\n",
       "    </tr>\n",
       "    <tr>\n",
       "      <td>300</td>\n",
       "      <td>0.207300</td>\n",
       "      <td>0.225780</td>\n",
       "    </tr>\n",
       "    <tr>\n",
       "      <td>330</td>\n",
       "      <td>0.197300</td>\n",
       "      <td>0.240528</td>\n",
       "    </tr>\n",
       "    <tr>\n",
       "      <td>360</td>\n",
       "      <td>0.224200</td>\n",
       "      <td>0.215253</td>\n",
       "    </tr>\n",
       "    <tr>\n",
       "      <td>390</td>\n",
       "      <td>0.246500</td>\n",
       "      <td>0.222082</td>\n",
       "    </tr>\n",
       "    <tr>\n",
       "      <td>420</td>\n",
       "      <td>0.206600</td>\n",
       "      <td>0.225371</td>\n",
       "    </tr>\n",
       "    <tr>\n",
       "      <td>450</td>\n",
       "      <td>0.230500</td>\n",
       "      <td>0.203124</td>\n",
       "    </tr>\n",
       "    <tr>\n",
       "      <td>480</td>\n",
       "      <td>0.169100</td>\n",
       "      <td>0.231902</td>\n",
       "    </tr>\n",
       "    <tr>\n",
       "      <td>510</td>\n",
       "      <td>0.201800</td>\n",
       "      <td>0.204016</td>\n",
       "    </tr>\n",
       "    <tr>\n",
       "      <td>540</td>\n",
       "      <td>0.221000</td>\n",
       "      <td>0.220791</td>\n",
       "    </tr>\n",
       "    <tr>\n",
       "      <td>570</td>\n",
       "      <td>0.185400</td>\n",
       "      <td>0.206649</td>\n",
       "    </tr>\n",
       "    <tr>\n",
       "      <td>600</td>\n",
       "      <td>0.190700</td>\n",
       "      <td>0.207694</td>\n",
       "    </tr>\n",
       "    <tr>\n",
       "      <td>630</td>\n",
       "      <td>0.208600</td>\n",
       "      <td>0.203604</td>\n",
       "    </tr>\n",
       "    <tr>\n",
       "      <td>660</td>\n",
       "      <td>0.182400</td>\n",
       "      <td>0.205654</td>\n",
       "    </tr>\n",
       "    <tr>\n",
       "      <td>690</td>\n",
       "      <td>0.215700</td>\n",
       "      <td>0.188954</td>\n",
       "    </tr>\n",
       "    <tr>\n",
       "      <td>720</td>\n",
       "      <td>0.162300</td>\n",
       "      <td>0.199351</td>\n",
       "    </tr>\n",
       "    <tr>\n",
       "      <td>750</td>\n",
       "      <td>0.219600</td>\n",
       "      <td>0.203594</td>\n",
       "    </tr>\n",
       "    <tr>\n",
       "      <td>780</td>\n",
       "      <td>0.195500</td>\n",
       "      <td>0.197228</td>\n",
       "    </tr>\n",
       "    <tr>\n",
       "      <td>810</td>\n",
       "      <td>0.183800</td>\n",
       "      <td>0.204021</td>\n",
       "    </tr>\n",
       "    <tr>\n",
       "      <td>840</td>\n",
       "      <td>0.202800</td>\n",
       "      <td>0.196513</td>\n",
       "    </tr>\n",
       "  </tbody>\n",
       "</table><p>"
      ],
      "text/plain": [
       "<IPython.core.display.HTML object>"
      ]
     },
     "metadata": {},
     "output_type": "display_data"
    }
   ],
   "source": [
    "# Train model\n",
    "trainer.train()"
   ]
  },
  {
   "cell_type": "code",
   "execution_count": null,
   "id": "06f0633f",
   "metadata": {},
   "outputs": [],
   "source": [
    "# Fine-tuned model name\n",
    "new_model = \"mistral-ft-peft-v1-lr-64-new-template\""
   ]
  },
  {
   "cell_type": "code",
   "execution_count": null,
   "id": "1b5c3526",
   "metadata": {},
   "outputs": [],
   "source": [
    "# Save trained model\n",
    "trainer.model.save_pretrained(new_model)"
   ]
  },
  {
   "cell_type": "code",
   "execution_count": 41,
   "id": "c5cbfc1f",
   "metadata": {
    "scrolled": true
   },
   "outputs": [
    {
     "data": {
      "text/plain": [
       "PeftModelForCausalLM(\n",
       "  (base_model): LoraModel(\n",
       "    (model): LlamaForCausalLM(\n",
       "      (model): LlamaModel(\n",
       "        (embed_tokens): Embedding(32000, 4096, padding_idx=0)\n",
       "        (layers): ModuleList(\n",
       "          (0-31): 32 x LlamaDecoderLayer(\n",
       "            (self_attn): LlamaAttention(\n",
       "              (q_proj): Linear4bit(\n",
       "                in_features=4096, out_features=4096, bias=False\n",
       "                (lora_dropout): ModuleDict(\n",
       "                  (default): Dropout(p=0.1, inplace=False)\n",
       "                )\n",
       "                (lora_A): ModuleDict(\n",
       "                  (default): Linear(in_features=4096, out_features=8, bias=False)\n",
       "                )\n",
       "                (lora_B): ModuleDict(\n",
       "                  (default): Linear(in_features=8, out_features=4096, bias=False)\n",
       "                )\n",
       "                (lora_embedding_A): ParameterDict()\n",
       "                (lora_embedding_B): ParameterDict()\n",
       "              )\n",
       "              (k_proj): Linear4bit(in_features=4096, out_features=4096, bias=False)\n",
       "              (v_proj): Linear4bit(\n",
       "                in_features=4096, out_features=4096, bias=False\n",
       "                (lora_dropout): ModuleDict(\n",
       "                  (default): Dropout(p=0.1, inplace=False)\n",
       "                )\n",
       "                (lora_A): ModuleDict(\n",
       "                  (default): Linear(in_features=4096, out_features=8, bias=False)\n",
       "                )\n",
       "                (lora_B): ModuleDict(\n",
       "                  (default): Linear(in_features=8, out_features=4096, bias=False)\n",
       "                )\n",
       "                (lora_embedding_A): ParameterDict()\n",
       "                (lora_embedding_B): ParameterDict()\n",
       "              )\n",
       "              (o_proj): Linear4bit(in_features=4096, out_features=4096, bias=False)\n",
       "              (rotary_emb): LlamaRotaryEmbedding()\n",
       "            )\n",
       "            (mlp): LlamaMLP(\n",
       "              (gate_proj): Linear4bit(in_features=4096, out_features=11008, bias=False)\n",
       "              (up_proj): Linear4bit(in_features=4096, out_features=11008, bias=False)\n",
       "              (down_proj): Linear4bit(in_features=11008, out_features=4096, bias=False)\n",
       "              (act_fn): SiLUActivation()\n",
       "            )\n",
       "            (input_layernorm): LlamaRMSNorm()\n",
       "            (post_attention_layernorm): LlamaRMSNorm()\n",
       "          )\n",
       "        )\n",
       "        (norm): LlamaRMSNorm()\n",
       "      )\n",
       "      (lm_head): Linear(in_features=4096, out_features=32000, bias=False)\n",
       "    )\n",
       "  )\n",
       ")"
      ]
     },
     "execution_count": 41,
     "metadata": {},
     "output_type": "execute_result"
    }
   ],
   "source": [
    "trainer.model"
   ]
  },
  {
   "cell_type": "code",
   "execution_count": 43,
   "id": "84916548",
   "metadata": {},
   "outputs": [],
   "source": [
    "from peft import PeftModel, PeftConfig"
   ]
  },
  {
   "cell_type": "code",
   "execution_count": null,
   "id": "e10ab609",
   "metadata": {},
   "outputs": [],
   "source": [
    "# del model\n",
    "# torch.cuda.empty_cache()\n",
    "\n",
    "# from peft import AutoPeftModelForCausalLM\n",
    "\n",
    "# model = AutoPeftModelForCausalLM.from_pretrained(new_model_name, device_map=\"auto\", torch_dtype=torch.bfloat16)\n",
    "# model = model.merge_and_unload()"
   ]
  },
  {
   "cell_type": "code",
   "execution_count": null,
   "id": "b4ad5254",
   "metadata": {},
   "outputs": [],
   "source": [
    "# output_merged_dir = os.path.join(new_model_name, \"final_merged_checkpoint\")\n",
    "# model.save_pretrained(output_merged_dir, safe_serialization=True)"
   ]
  },
  {
   "cell_type": "code",
   "execution_count": 49,
   "id": "99617b75",
   "metadata": {},
   "outputs": [],
   "source": [
    "model_to_merge = PeftModel.from_pretrained(\n",
    "    model,\n",
    "    'llama-2-7b-fine-tuned-peft-v2')"
   ]
  },
  {
   "cell_type": "code",
   "execution_count": 44,
   "id": "da27f85c",
   "metadata": {},
   "outputs": [],
   "source": [
    "model_to_merge = PeftModel.from_pretrained(\n",
    "    model,\n",
    "    '/data/sept-23/checkpoint-810')"
   ]
  },
  {
   "cell_type": "code",
   "execution_count": 45,
   "id": "c83d80e5",
   "metadata": {},
   "outputs": [
    {
     "name": "stdout",
     "output_type": "stream",
     "text": [
      "Memory footprint 4.488974336 GB\n",
      "Flops 4083.474432 GFLOPs\n"
     ]
    }
   ],
   "source": [
    "## Getting FLOPs of model\n",
    "\n",
    "model_flops = (\n",
    "  model_to_merge.floating_point_ops(\n",
    "    {\n",
    "       \"input_ids\": torch.zeros(\n",
    "           (1, 200)\n",
    "      )\n",
    "    }\n",
    "  )\n",
    "  * training_arguments.gradient_accumulation_steps\n",
    ")\n",
    "\n",
    "#print(model)\n",
    "print(\"Memory footprint\", model.get_memory_footprint() / 1e9, \"GB\")\n",
    "print(\"Flops\", model_flops / 1e9, \"GFLOPs\")"
   ]
  },
  {
   "cell_type": "code",
   "execution_count": null,
   "id": "2d4d7fa6",
   "metadata": {},
   "outputs": [],
   "source": []
  },
  {
   "cell_type": "code",
   "execution_count": 12,
   "id": "7be81f79",
   "metadata": {},
   "outputs": [],
   "source": [
    "query_template_v2 = \"\"\"[INST]<<SYS>>\n",
    "You are an advanced template converter that converts user question to a specific template which answers the user question.\n",
    "\n",
    "<</SYS>>\n",
    "\n",
    "{user_query}\n",
    "[/INST]\n",
    "[LUMINTEMPLATE]\"\"\""
   ]
  },
  {
   "cell_type": "code",
   "execution_count": 24,
   "id": "acbc1fd5",
   "metadata": {
    "scrolled": true
   },
   "outputs": [],
   "source": [
    "#model_to_merge.to('cuda')"
   ]
  },
  {
   "cell_type": "code",
   "execution_count": 23,
   "id": "9a20b9a6",
   "metadata": {},
   "outputs": [
    {
     "name": "stdout",
     "output_type": "stream",
     "text": [
      "Collecting ninja\n",
      "\u001b[?25l  Downloading https://files.pythonhosted.org/packages/0f/58/854ce5aab0ff5c33d66e1341b0be42f0330797335011880f7fbd88449996/ninja-1.11.1-py2.py3-none-manylinux_2_12_x86_64.manylinux2010_x86_64.whl (145kB)\n",
      "\u001b[K     |████████████████████████████████| 153kB 6.9MB/s eta 0:00:01\n",
      "\u001b[?25hInstalling collected packages: ninja\n",
      "Successfully installed ninja-1.11.1\n"
     ]
    }
   ],
   "source": [
    "!sudo pip install ninja"
   ]
  },
  {
   "cell_type": "code",
   "execution_count": 24,
   "id": "f253b02c",
   "metadata": {},
   "outputs": [
    {
     "data": {
      "text/plain": [
       "'1.11.1'"
      ]
     },
     "execution_count": 24,
     "metadata": {},
     "output_type": "execute_result"
    }
   ],
   "source": [
    "import ninja\n",
    "ninja.__version__"
   ]
  },
  {
   "cell_type": "code",
   "execution_count": null,
   "id": "7c0a2339",
   "metadata": {},
   "outputs": [],
   "source": []
  },
  {
   "cell_type": "code",
   "execution_count": 13,
   "id": "e56cacb1",
   "metadata": {},
   "outputs": [],
   "source": [
    "torch.cuda.empty_cache()\n",
    "\n",
    "from peft import AutoPeftModelForCausalLM\n",
    "\n",
    "# model = AutoPeftModelForCausalLM.from_pretrained(new_model_name, device_map=\"auto\", torch_dtype=torch.bfloat16)\n",
    "# model = model.merge_and_unload()"
   ]
  },
  {
   "cell_type": "code",
   "execution_count": 12,
   "id": "f2b16910",
   "metadata": {},
   "outputs": [
    {
     "ename": "KeyError",
     "evalue": "'mistral'",
     "output_type": "error",
     "traceback": [
      "\u001b[0;31m---------------------------------------------------------------------------\u001b[0m",
      "\u001b[0;31mKeyError\u001b[0m                                  Traceback (most recent call last)",
      "Cell \u001b[0;32mIn[12], line 1\u001b[0m\n\u001b[0;32m----> 1\u001b[0m model \u001b[38;5;241m=\u001b[39m \u001b[43mAutoModelForCausalLM\u001b[49m\u001b[38;5;241;43m.\u001b[39;49m\u001b[43mfrom_pretrained\u001b[49m\u001b[43m(\u001b[49m\u001b[38;5;124;43m'\u001b[39;49m\u001b[38;5;124;43m/data/mistral/oct-3/merged_model\u001b[39;49m\u001b[38;5;124;43m'\u001b[39;49m\u001b[43m,\u001b[49m\u001b[43m \u001b[49m\u001b[43mdevice_map\u001b[49m\u001b[38;5;241;43m=\u001b[39;49m\u001b[38;5;124;43m\"\u001b[39;49m\u001b[38;5;124;43mauto\u001b[39;49m\u001b[38;5;124;43m\"\u001b[39;49m\u001b[43m,\u001b[49m\u001b[43m \u001b[49m\u001b[43mtorch_dtype\u001b[49m\u001b[38;5;241;43m=\u001b[39;49m\u001b[43mtorch\u001b[49m\u001b[38;5;241;43m.\u001b[39;49m\u001b[43mbfloat16\u001b[49m\u001b[43m)\u001b[49m\n",
      "File \u001b[0;32m/opt/conda/lib/python3.8/site-packages/transformers/models/auto/auto_factory.py:461\u001b[0m, in \u001b[0;36m_BaseAutoModelClass.from_pretrained\u001b[0;34m(cls, pretrained_model_name_or_path, *model_args, **kwargs)\u001b[0m\n\u001b[1;32m    458\u001b[0m \u001b[38;5;28;01mif\u001b[39;00m kwargs\u001b[38;5;241m.\u001b[39mget(\u001b[38;5;124m\"\u001b[39m\u001b[38;5;124mtorch_dtype\u001b[39m\u001b[38;5;124m\"\u001b[39m, \u001b[38;5;28;01mNone\u001b[39;00m) \u001b[38;5;241m==\u001b[39m \u001b[38;5;124m\"\u001b[39m\u001b[38;5;124mauto\u001b[39m\u001b[38;5;124m\"\u001b[39m:\n\u001b[1;32m    459\u001b[0m     _ \u001b[38;5;241m=\u001b[39m kwargs\u001b[38;5;241m.\u001b[39mpop(\u001b[38;5;124m\"\u001b[39m\u001b[38;5;124mtorch_dtype\u001b[39m\u001b[38;5;124m\"\u001b[39m)\n\u001b[0;32m--> 461\u001b[0m config, kwargs \u001b[38;5;241m=\u001b[39m \u001b[43mAutoConfig\u001b[49m\u001b[38;5;241;43m.\u001b[39;49m\u001b[43mfrom_pretrained\u001b[49m\u001b[43m(\u001b[49m\n\u001b[1;32m    462\u001b[0m \u001b[43m    \u001b[49m\u001b[43mpretrained_model_name_or_path\u001b[49m\u001b[43m,\u001b[49m\n\u001b[1;32m    463\u001b[0m \u001b[43m    \u001b[49m\u001b[43mreturn_unused_kwargs\u001b[49m\u001b[38;5;241;43m=\u001b[39;49m\u001b[38;5;28;43;01mTrue\u001b[39;49;00m\u001b[43m,\u001b[49m\n\u001b[1;32m    464\u001b[0m \u001b[43m    \u001b[49m\u001b[43mtrust_remote_code\u001b[49m\u001b[38;5;241;43m=\u001b[39;49m\u001b[43mtrust_remote_code\u001b[49m\u001b[43m,\u001b[49m\n\u001b[1;32m    465\u001b[0m \u001b[43m    \u001b[49m\u001b[38;5;241;43m*\u001b[39;49m\u001b[38;5;241;43m*\u001b[39;49m\u001b[43mhub_kwargs\u001b[49m\u001b[43m,\u001b[49m\n\u001b[1;32m    466\u001b[0m \u001b[43m    \u001b[49m\u001b[38;5;241;43m*\u001b[39;49m\u001b[38;5;241;43m*\u001b[39;49m\u001b[43mkwargs\u001b[49m\u001b[43m,\u001b[49m\n\u001b[1;32m    467\u001b[0m \u001b[43m\u001b[49m\u001b[43m)\u001b[49m\n\u001b[1;32m    469\u001b[0m \u001b[38;5;66;03m# if torch_dtype=auto was passed here, ensure to pass it on\u001b[39;00m\n\u001b[1;32m    470\u001b[0m \u001b[38;5;28;01mif\u001b[39;00m kwargs_orig\u001b[38;5;241m.\u001b[39mget(\u001b[38;5;124m\"\u001b[39m\u001b[38;5;124mtorch_dtype\u001b[39m\u001b[38;5;124m\"\u001b[39m, \u001b[38;5;28;01mNone\u001b[39;00m) \u001b[38;5;241m==\u001b[39m \u001b[38;5;124m\"\u001b[39m\u001b[38;5;124mauto\u001b[39m\u001b[38;5;124m\"\u001b[39m:\n",
      "File \u001b[0;32m/opt/conda/lib/python3.8/site-packages/transformers/models/auto/configuration_auto.py:998\u001b[0m, in \u001b[0;36mAutoConfig.from_pretrained\u001b[0;34m(cls, pretrained_model_name_or_path, **kwargs)\u001b[0m\n\u001b[1;32m    996\u001b[0m     \u001b[38;5;28;01mreturn\u001b[39;00m config_class\u001b[38;5;241m.\u001b[39mfrom_pretrained(pretrained_model_name_or_path, \u001b[38;5;241m*\u001b[39m\u001b[38;5;241m*\u001b[39mkwargs)\n\u001b[1;32m    997\u001b[0m \u001b[38;5;28;01melif\u001b[39;00m \u001b[38;5;124m\"\u001b[39m\u001b[38;5;124mmodel_type\u001b[39m\u001b[38;5;124m\"\u001b[39m \u001b[38;5;129;01min\u001b[39;00m config_dict:\n\u001b[0;32m--> 998\u001b[0m     config_class \u001b[38;5;241m=\u001b[39m \u001b[43mCONFIG_MAPPING\u001b[49m\u001b[43m[\u001b[49m\u001b[43mconfig_dict\u001b[49m\u001b[43m[\u001b[49m\u001b[38;5;124;43m\"\u001b[39;49m\u001b[38;5;124;43mmodel_type\u001b[39;49m\u001b[38;5;124;43m\"\u001b[39;49m\u001b[43m]\u001b[49m\u001b[43m]\u001b[49m\n\u001b[1;32m    999\u001b[0m     \u001b[38;5;28;01mreturn\u001b[39;00m config_class\u001b[38;5;241m.\u001b[39mfrom_dict(config_dict, \u001b[38;5;241m*\u001b[39m\u001b[38;5;241m*\u001b[39munused_kwargs)\n\u001b[1;32m   1000\u001b[0m \u001b[38;5;28;01melse\u001b[39;00m:\n\u001b[1;32m   1001\u001b[0m     \u001b[38;5;66;03m# Fallback: use pattern matching on the string.\u001b[39;00m\n\u001b[1;32m   1002\u001b[0m     \u001b[38;5;66;03m# We go from longer names to shorter names to catch roberta before bert (for instance)\u001b[39;00m\n",
      "File \u001b[0;32m/opt/conda/lib/python3.8/site-packages/transformers/models/auto/configuration_auto.py:710\u001b[0m, in \u001b[0;36m_LazyConfigMapping.__getitem__\u001b[0;34m(self, key)\u001b[0m\n\u001b[1;32m    708\u001b[0m     \u001b[38;5;28;01mreturn\u001b[39;00m \u001b[38;5;28mself\u001b[39m\u001b[38;5;241m.\u001b[39m_extra_content[key]\n\u001b[1;32m    709\u001b[0m \u001b[38;5;28;01mif\u001b[39;00m key \u001b[38;5;129;01mnot\u001b[39;00m \u001b[38;5;129;01min\u001b[39;00m \u001b[38;5;28mself\u001b[39m\u001b[38;5;241m.\u001b[39m_mapping:\n\u001b[0;32m--> 710\u001b[0m     \u001b[38;5;28;01mraise\u001b[39;00m \u001b[38;5;167;01mKeyError\u001b[39;00m(key)\n\u001b[1;32m    711\u001b[0m value \u001b[38;5;241m=\u001b[39m \u001b[38;5;28mself\u001b[39m\u001b[38;5;241m.\u001b[39m_mapping[key]\n\u001b[1;32m    712\u001b[0m module_name \u001b[38;5;241m=\u001b[39m model_type_to_module_name(key)\n",
      "\u001b[0;31mKeyError\u001b[0m: 'mistral'"
     ]
    }
   ],
   "source": [
    "model = AutoModelForCausalLM.from_pretrained('/data/mistral/oct-3/merged_model', device_map=\"auto\", torch_dtype=torch.bfloat16)"
   ]
  },
  {
   "cell_type": "code",
   "execution_count": null,
   "id": "e4530b9a",
   "metadata": {},
   "outputs": [],
   "source": []
  },
  {
   "cell_type": "code",
   "execution_count": 48,
   "id": "8a9a2513",
   "metadata": {},
   "outputs": [],
   "source": [
    "def predict_template_query_v3(user_query):\n",
    "    #inp = query_template_v2.format(user_query=user_query)\n",
    "    _inputs = tokenizer.encode(user_query, return_tensors=\"pt\")\n",
    "    outputs = model.generate(input_ids=_inputs.to('cuda'), max_length= 150, pad_token_id=tokenizer.eos_token_id)\n",
    "    output = tokenizer.decode(outputs[0])\n",
    "    return output\n",
    "    #output_new = output.split('[LUMINTEMPLATE]\\n')[1]\n",
    "    #return output_new.split('\\n[/LUMINTEMPLATE]')[0]"
   ]
  },
  {
   "cell_type": "code",
   "execution_count": null,
   "id": "55257a2e",
   "metadata": {},
   "outputs": [],
   "source": [
    "%%time\n",
    "predict_template_query_v3('generate a sas code to read a file and select 4 columns a,b,c,d')"
   ]
  },
  {
   "cell_type": "code",
   "execution_count": 49,
   "id": "be990ba5",
   "metadata": {},
   "outputs": [
    {
     "name": "stdout",
     "output_type": "stream",
     "text": [
      "CPU times: user 5.92 s, sys: 758 ms, total: 6.68 s\n",
      "Wall time: 6.68 s\n"
     ]
    },
    {
     "data": {
      "text/plain": [
       "'<s> trend of work hours in 2023\\n\\nI am looking for information on the trend of work hours in 2023. Can you provide me with any data or insights on this topic?</s>'"
      ]
     },
     "execution_count": 49,
     "metadata": {},
     "output_type": "execute_result"
    }
   ],
   "source": [
    "%%time\n",
    "predict_template_query_v3('trend of work hours in 2023')"
   ]
  },
  {
   "cell_type": "code",
   "execution_count": 19,
   "id": "caa891cb",
   "metadata": {},
   "outputs": [
    {
     "name": "stdout",
     "output_type": "stream",
     "text": [
      "CPU times: user 4.86 s, sys: 205 ms, total: 5.06 s\n",
      "Wall time: 5.06 s\n"
     ]
    },
    {
     "data": {
      "text/plain": [
       "'Which are the top 3 sub category based on sales in 2022'"
      ]
     },
     "execution_count": 19,
     "metadata": {},
     "output_type": "execute_result"
    }
   ],
   "source": [
    "%%time\n",
    "predict_template_query_v3('which are the 3 top selling category by sales in 2022')"
   ]
  },
  {
   "cell_type": "code",
   "execution_count": 20,
   "id": "c7bfd305",
   "metadata": {},
   "outputs": [
    {
     "name": "stdout",
     "output_type": "stream",
     "text": [
      "CPU times: user 4.83 s, sys: 221 ms, total: 5.05 s\n",
      "Wall time: 5.05 s\n"
     ]
    },
    {
     "data": {
      "text/plain": [
       "'Which are the top 3 sub category based on profit in 2022'"
      ]
     },
     "execution_count": 20,
     "metadata": {},
     "output_type": "execute_result"
    }
   ],
   "source": [
    "%%time\n",
    "predict_template_query_v3('which are the 3 top selling category by profit in 2022')"
   ]
  },
  {
   "cell_type": "code",
   "execution_count": 21,
   "id": "afff895e",
   "metadata": {},
   "outputs": [
    {
     "name": "stdout",
     "output_type": "stream",
     "text": [
      "CPU times: user 4.98 s, sys: 214 ms, total: 5.19 s\n",
      "Wall time: 5.19 s\n"
     ]
    },
    {
     "data": {
      "text/plain": [
       "'What is the sales of paper in februaury 2019'"
      ]
     },
     "execution_count": 21,
     "metadata": {},
     "output_type": "execute_result"
    }
   ],
   "source": [
    "%%time\n",
    "predict_template_query_v3(\"In 02/19 What was the sales of paper?\")"
   ]
  },
  {
   "cell_type": "code",
   "execution_count": 35,
   "id": "edbab272",
   "metadata": {},
   "outputs": [
    {
     "name": "stdout",
     "output_type": "stream",
     "text": [
      "CPU times: user 5.07 s, sys: 134 ms, total: 5.2 s\n",
      "Wall time: 5.2 s\n"
     ]
    },
    {
     "data": {
      "text/plain": [
       "'What is the sales of notebook in 2020'"
      ]
     },
     "execution_count": 35,
     "metadata": {},
     "output_type": "execute_result"
    }
   ],
   "source": [
    "%%time\n",
    "predict_template_query_v3(\"notebook sales in '20'?\")"
   ]
  },
  {
   "cell_type": "code",
   "execution_count": 36,
   "id": "43d8ed79",
   "metadata": {},
   "outputs": [
    {
     "name": "stdout",
     "output_type": "stream",
     "text": [
      "CPU times: user 5.3 s, sys: 138 ms, total: 5.44 s\n",
      "Wall time: 5.43 s\n"
     ]
    },
    {
     "data": {
      "text/plain": [
       "'What is the monthly trend of sales'"
      ]
     },
     "execution_count": 36,
     "metadata": {},
     "output_type": "execute_result"
    }
   ],
   "source": [
    "%%time\n",
    "predict_template_query_v3(\"monthly trend of sales\")"
   ]
  },
  {
   "cell_type": "code",
   "execution_count": 28,
   "id": "24d48ca8",
   "metadata": {},
   "outputs": [
    {
     "name": "stdout",
     "output_type": "stream",
     "text": [
      "CPU times: user 5.01 s, sys: 155 ms, total: 5.16 s\n",
      "Wall time: 5.16 s\n"
     ]
    },
    {
     "data": {
      "text/plain": [
       "'top sub category basis sales contribution in 2021'"
      ]
     },
     "execution_count": 28,
     "metadata": {},
     "output_type": "execute_result"
    }
   ],
   "source": [
    "%%time\n",
    "predict_template_query_v3(\"worst sub category in 2021\")"
   ]
  },
  {
   "cell_type": "code",
   "execution_count": 38,
   "id": "5fd067ee",
   "metadata": {},
   "outputs": [
    {
     "name": "stdout",
     "output_type": "stream",
     "text": [
      "CPU times: user 5 s, sys: 195 ms, total: 5.2 s\n",
      "Wall time: 5.2 s\n"
     ]
    },
    {
     "data": {
      "text/plain": [
       "'What is the sales of laptop in quarter4 2011'"
      ]
     },
     "execution_count": 38,
     "metadata": {},
     "output_type": "execute_result"
    }
   ],
   "source": [
    "%%time\n",
    "predict_template_query_v3(\"What was laptop sales in 4th quarter '11?\")"
   ]
  },
  {
   "cell_type": "code",
   "execution_count": 32,
   "id": "8c588a5b",
   "metadata": {},
   "outputs": [
    {
     "name": "stdout",
     "output_type": "stream",
     "text": [
      "CPU times: user 4.98 s, sys: 148 ms, total: 5.13 s\n",
      "Wall time: 5.13 s\n"
     ]
    },
    {
     "data": {
      "text/plain": [
       "'Which are the top 5 brands based on profit contribution in 2021'"
      ]
     },
     "execution_count": 32,
     "metadata": {},
     "output_type": "execute_result"
    }
   ],
   "source": [
    "%%time\n",
    "predict_template_query_v3(\"worst brands basis profit in 2021\")"
   ]
  },
  {
   "cell_type": "code",
   "execution_count": null,
   "id": "1e7932a5",
   "metadata": {},
   "outputs": [],
   "source": []
  },
  {
   "cell_type": "code",
   "execution_count": null,
   "id": "14c74351",
   "metadata": {},
   "outputs": [],
   "source": []
  },
  {
   "cell_type": "code",
   "execution_count": null,
   "id": "24c1d81c",
   "metadata": {},
   "outputs": [],
   "source": []
  },
  {
   "cell_type": "code",
   "execution_count": null,
   "id": "4fbd68c1",
   "metadata": {},
   "outputs": [],
   "source": []
  },
  {
   "cell_type": "code",
   "execution_count": null,
   "id": "d4d65470",
   "metadata": {},
   "outputs": [],
   "source": []
  },
  {
   "cell_type": "code",
   "execution_count": 17,
   "id": "2d569ccf",
   "metadata": {},
   "outputs": [],
   "source": [
    "prompt = query_template_v2.format(user_query='brands least profitable in 2021')"
   ]
  },
  {
   "cell_type": "code",
   "execution_count": 18,
   "id": "4b8cc7d7",
   "metadata": {},
   "outputs": [],
   "source": [
    "tokens = tokenizer.encode(prompt, return_tensors=\"pt\")"
   ]
  },
  {
   "cell_type": "code",
   "execution_count": 22,
   "id": "b2b1c1d4",
   "metadata": {},
   "outputs": [
    {
     "name": "stdout",
     "output_type": "stream",
     "text": [
      "CPU times: user 6.61 s, sys: 135 ms, total: 6.75 s\n",
      "Wall time: 6.75 s\n"
     ]
    }
   ],
   "source": [
    "%%time\n",
    "outputs = model.generate(input_ids=tokens.to('cuda'), max_length= 180, )"
   ]
  },
  {
   "cell_type": "code",
   "execution_count": 23,
   "id": "c00ba884",
   "metadata": {},
   "outputs": [
    {
     "data": {
      "text/plain": [
       "'<s>[INST]<<SYS>>\\nYou are an advanced template converter that converts user question to a specific template which answers the user question.\\n\\n<</SYS>>\\n\\nbrands least profitable in 2021\\n[/INST]\\n[LUMINTEMPLATE]\\nList of brands with lowest profit in 2021\\n[/LUMINTEMPLATE]\\n\\nWhich are the top 5 brands based on profit share in 2021\\n[/LUMINTEMPLATE]\\n\\nWhich are the top 5 brands based on market share in 2021\\n[/LUMINTEMPLATE]\\n\\nWhich are the top 5 brands based on sales share in 2021\\n[/LUMINTEMPLATE]\\n\\nWhich are the top 5'"
      ]
     },
     "execution_count": 23,
     "metadata": {},
     "output_type": "execute_result"
    }
   ],
   "source": [
    "tokenizer.decode(outputs[0])"
   ]
  },
  {
   "cell_type": "code",
   "execution_count": 48,
   "id": "c874042c",
   "metadata": {},
   "outputs": [],
   "source": []
  },
  {
   "cell_type": "code",
   "execution_count": null,
   "id": "ea90dc53",
   "metadata": {},
   "outputs": [],
   "source": []
  },
  {
   "cell_type": "code",
   "execution_count": null,
   "id": "a2945308",
   "metadata": {},
   "outputs": [],
   "source": []
  },
  {
   "cell_type": "code",
   "execution_count": null,
   "id": "6edbc306",
   "metadata": {},
   "outputs": [],
   "source": []
  },
  {
   "cell_type": "code",
   "execution_count": null,
   "id": "21f88861",
   "metadata": {},
   "outputs": [],
   "source": []
  },
  {
   "cell_type": "code",
   "execution_count": null,
   "id": "ec88bd26",
   "metadata": {},
   "outputs": [],
   "source": []
  },
  {
   "cell_type": "code",
   "execution_count": null,
   "id": "08da2299",
   "metadata": {},
   "outputs": [],
   "source": []
  },
  {
   "cell_type": "code",
   "execution_count": 132,
   "id": "bcd79a8f",
   "metadata": {},
   "outputs": [
    {
     "name": "stdout",
     "output_type": "stream",
     "text": [
      "CPU times: user 1min 4s, sys: 30.3 s, total: 1min 34s\n",
      "Wall time: 1min 34s\n"
     ]
    },
    {
     "data": {
      "text/plain": [
       "'What is the growth contribution to overall sales for phone'"
      ]
     },
     "execution_count": 132,
     "metadata": {},
     "output_type": "execute_result"
    }
   ],
   "source": [
    "%%time\n",
    "predict_template_query_v3(\"Growth rate of sales share of phone\")"
   ]
  },
  {
   "cell_type": "code",
   "execution_count": 133,
   "id": "1027b412",
   "metadata": {},
   "outputs": [
    {
     "name": "stdout",
     "output_type": "stream",
     "text": [
      "CPU times: user 1min 2s, sys: 28.8 s, total: 1min 31s\n",
      "Wall time: 1min 31s\n"
     ]
    },
    {
     "data": {
      "text/plain": [
       "'What is the growth contribution to overall sales for phone in 2021'"
      ]
     },
     "execution_count": 133,
     "metadata": {},
     "output_type": "execute_result"
    }
   ],
   "source": [
    "%%time\n",
    "predict_template_query_v3(\"What is the growth contribution to overall sales for phone in 2021\")"
   ]
  },
  {
   "cell_type": "code",
   "execution_count": 134,
   "id": "6535f165",
   "metadata": {},
   "outputs": [
    {
     "name": "stdout",
     "output_type": "stream",
     "text": [
      "CPU times: user 59.8 s, sys: 27.6 s, total: 1min 27s\n",
      "Wall time: 1min 27s\n"
     ]
    },
    {
     "data": {
      "text/plain": [
       "'Which are the top 3 sub category based on contribution to overall sales except paper'"
      ]
     },
     "execution_count": 134,
     "metadata": {},
     "output_type": "execute_result"
    }
   ],
   "source": [
    "%%time\n",
    "predict_template_query_v3(\"Which are the top 3 sub category based on share/contribution of sales across segment except paper\")"
   ]
  },
  {
   "cell_type": "code",
   "execution_count": 135,
   "id": "be5896a0",
   "metadata": {},
   "outputs": [
    {
     "name": "stdout",
     "output_type": "stream",
     "text": [
      "CPU times: user 59.3 s, sys: 26.9 s, total: 1min 26s\n",
      "Wall time: 1min 26s\n"
     ]
    },
    {
     "data": {
      "text/plain": [
       "'Which are the top sub category basis sales in 2023'"
      ]
     },
     "execution_count": 135,
     "metadata": {},
     "output_type": "execute_result"
    }
   ],
   "source": [
    "%%time\n",
    "predict_template_query_v3(\"which are the 5 top selling sub category by sales in 2023\")"
   ]
  },
  {
   "cell_type": "code",
   "execution_count": 136,
   "id": "f1607893",
   "metadata": {},
   "outputs": [
    {
     "name": "stdout",
     "output_type": "stream",
     "text": [
      "CPU times: user 1min 4s, sys: 29.4 s, total: 1min 33s\n",
      "Wall time: 1min 33s\n"
     ]
    },
    {
     "data": {
      "text/plain": [
       "'What is the trend of sales for phone in 2020'"
      ]
     },
     "execution_count": 136,
     "metadata": {},
     "output_type": "execute_result"
    }
   ],
   "source": [
    "%%time\n",
    "predict_template_query_v3(\"how does the sales change for phone in the last year\")"
   ]
  },
  {
   "cell_type": "code",
   "execution_count": 137,
   "id": "a63bdd99",
   "metadata": {},
   "outputs": [
    {
     "name": "stdout",
     "output_type": "stream",
     "text": [
      "CPU times: user 1min 2s, sys: 28.6 s, total: 1min 30s\n",
      "Wall time: 1min 30s\n"
     ]
    },
    {
     "data": {
      "text/plain": [
       "'What is the average monthly share of paper sales over the last 2.5 years'"
      ]
     },
     "execution_count": 137,
     "metadata": {},
     "output_type": "execute_result"
    }
   ],
   "source": [
    "%%time\n",
    "predict_template_query_v3(\"what is the average monthly market share of paper for the last two and a half years\")"
   ]
  },
  {
   "cell_type": "code",
   "execution_count": 138,
   "id": "a0dac6a0",
   "metadata": {},
   "outputs": [
    {
     "name": "stdout",
     "output_type": "stream",
     "text": [
      "CPU times: user 1min 3s, sys: 29 s, total: 1min 32s\n",
      "Wall time: 1min 32s\n"
     ]
    },
    {
     "data": {
      "text/plain": [
       "'When was the last time that sales of paper across months was lowest'"
      ]
     },
     "execution_count": 138,
     "metadata": {},
     "output_type": "execute_result"
    }
   ],
   "source": [
    "%%time\n",
    "predict_template_query_v3(\"when was the monthly selling of paper recorded the lowest?\")"
   ]
  },
  {
   "cell_type": "code",
   "execution_count": null,
   "id": "4d6d84c1",
   "metadata": {},
   "outputs": [],
   "source": []
  },
  {
   "cell_type": "code",
   "execution_count": 49,
   "id": "0769d358",
   "metadata": {},
   "outputs": [
    {
     "name": "stderr",
     "output_type": "stream",
     "text": [
      "/opt/conda/lib/python3.8/site-packages/transformers/generation/utils.py:1270: UserWarning: You have modified the pretrained model configuration to control generation. This is a deprecated strategy to control generation and will be removed soon, in a future version. Please use a generation configuration file (see https://huggingface.co/docs/transformers/main_classes/text_generation )\n",
      "  warnings.warn(\n",
      "/opt/conda/lib/python3.8/site-packages/transformers/generation/utils.py:2415: UserWarning: Specified kernel cache directory could not be created! This disables kernel caching. Specified directory is /home/mosaic-ai/.cache/torch/kernels. This warning will appear only once per process. (Triggered internally at ../aten/src/ATen/native/cuda/jit_utils.cpp:1442.)\n",
      "  next_tokens.tile(eos_token_id_tensor.shape[0], 1).ne(eos_token_id_tensor.unsqueeze(1)).prod(dim=0)\n"
     ]
    },
    {
     "name": "stdout",
     "output_type": "stream",
     "text": [
      "CPU times: user 23.8 s, sys: 5.03 s, total: 28.8 s\n",
      "Wall time: 28.8 s\n"
     ]
    },
    {
     "data": {
      "text/plain": [
       "'What is the sales in 2023'"
      ]
     },
     "execution_count": 49,
     "metadata": {},
     "output_type": "execute_result"
    }
   ],
   "source": [
    "%%time\n",
    "predict_template_query_v3(\"What were the sales in '23?\")"
   ]
  },
  {
   "cell_type": "code",
   "execution_count": 50,
   "id": "8a7e5e92",
   "metadata": {},
   "outputs": [
    {
     "name": "stdout",
     "output_type": "stream",
     "text": [
      "CPU times: user 22.7 s, sys: 5.03 s, total: 27.8 s\n",
      "Wall time: 27.8 s\n"
     ]
    },
    {
     "data": {
      "text/plain": [
       "'What is the sales in 2022'"
      ]
     },
     "execution_count": 50,
     "metadata": {},
     "output_type": "execute_result"
    }
   ],
   "source": [
    "%%time\n",
    "predict_template_query_v3(\"sales number in year 2022?\")"
   ]
  },
  {
   "cell_type": "code",
   "execution_count": 53,
   "id": "1d5bbbb2",
   "metadata": {},
   "outputs": [
    {
     "name": "stdout",
     "output_type": "stream",
     "text": [
      "CPU times: user 1min 4s, sys: 30.3 s, total: 1min 34s\n",
      "Wall time: 1min 34s\n"
     ]
    },
    {
     "data": {
      "text/plain": [
       "'What is the sales in 2020'"
      ]
     },
     "execution_count": 53,
     "metadata": {},
     "output_type": "execute_result"
    }
   ],
   "source": [
    "%%time\n",
    "predict_template_query_v3(\"what was profit for the year 2020?\")"
   ]
  },
  {
   "cell_type": "code",
   "execution_count": 49,
   "id": "54524b28",
   "metadata": {},
   "outputs": [
    {
     "name": "stdout",
     "output_type": "stream",
     "text": [
      "CPU times: user 1min 10s, sys: 33.4 s, total: 1min 43s\n",
      "Wall time: 1min 43s\n"
     ]
    },
    {
     "data": {
      "text/plain": [
       "'What is the sales in 2020'"
      ]
     },
     "execution_count": 49,
     "metadata": {},
     "output_type": "execute_result"
    }
   ],
   "source": [
    "%%time\n",
    "predict_template_query_v3(\"what was sales in 11/20?\")"
   ]
  },
  {
   "cell_type": "code",
   "execution_count": 51,
   "id": "ce37bd02",
   "metadata": {
    "scrolled": true
   },
   "outputs": [
    {
     "name": "stdout",
     "output_type": "stream",
     "text": [
      "CPU times: user 1min 2s, sys: 29.1 s, total: 1min 31s\n",
      "Wall time: 1min 31s\n"
     ]
    },
    {
     "data": {
      "text/plain": [
       "'What is the sales and discount percentage in 1983 vs 1984'"
      ]
     },
     "execution_count": 51,
     "metadata": {},
     "output_type": "execute_result"
    }
   ],
   "source": [
    "%%time\n",
    "predict_template_query_v3(\"Compare 1983 and 1984 sales and discount percentages.\")"
   ]
  },
  {
   "cell_type": "code",
   "execution_count": 54,
   "id": "9753588d",
   "metadata": {},
   "outputs": [
    {
     "name": "stdout",
     "output_type": "stream",
     "text": [
      "CPU times: user 23.9 s, sys: 5.52 s, total: 29.4 s\n",
      "Wall time: 29.4 s\n"
     ]
    },
    {
     "data": {
      "text/plain": [
       "'What is the sales in 2022'"
      ]
     },
     "execution_count": 54,
     "metadata": {},
     "output_type": "execute_result"
    }
   ],
   "source": [
    "%%time\n",
    "predict_template_query_v3(\"what was sales in twenty twenty two?\")"
   ]
  },
  {
   "cell_type": "code",
   "execution_count": 52,
   "id": "9b50d7f1",
   "metadata": {},
   "outputs": [
    {
     "name": "stdout",
     "output_type": "stream",
     "text": [
      "CPU times: user 1min 7s, sys: 31.3 s, total: 1min 38s\n",
      "Wall time: 1min 38s\n"
     ]
    },
    {
     "data": {
      "text/plain": [
       "'What is the monthly trend of profit'"
      ]
     },
     "execution_count": 52,
     "metadata": {},
     "output_type": "execute_result"
    }
   ],
   "source": [
    "%%time\n",
    "predict_template_query_v3(\"what are profit each months\")"
   ]
  },
  {
   "cell_type": "code",
   "execution_count": 45,
   "id": "2b3e9fd1",
   "metadata": {},
   "outputs": [
    {
     "name": "stdout",
     "output_type": "stream",
     "text": [
      "CPU times: user 1min 5s, sys: 29.9 s, total: 1min 35s\n",
      "Wall time: 1min 35s\n"
     ]
    },
    {
     "data": {
      "text/plain": [
       "'When was the last time that sales of phone was lowest'"
      ]
     },
     "execution_count": 45,
     "metadata": {},
     "output_type": "execute_result"
    }
   ],
   "source": [
    "%%time\n",
    "predict_template_query_v3(\"When did the previous low in phone sales take place?\")"
   ]
  },
  {
   "cell_type": "code",
   "execution_count": 46,
   "id": "2053ff2a",
   "metadata": {},
   "outputs": [
    {
     "name": "stdout",
     "output_type": "stream",
     "text": [
      "CPU times: user 1min 8s, sys: 31.8 s, total: 1min 40s\n",
      "Wall time: 1min 40s\n"
     ]
    },
    {
     "data": {
      "text/plain": [
       "'When was the last time that sales of phone was lowest'"
      ]
     },
     "execution_count": 46,
     "metadata": {},
     "output_type": "execute_result"
    }
   ],
   "source": [
    "%%time\n",
    "predict_template_query_v3(\"When was phone sales lowest recently?\")"
   ]
  },
  {
   "cell_type": "code",
   "execution_count": null,
   "id": "17f34064",
   "metadata": {},
   "outputs": [],
   "source": []
  },
  {
   "cell_type": "code",
   "execution_count": null,
   "id": "75bf002e",
   "metadata": {},
   "outputs": [],
   "source": []
  },
  {
   "cell_type": "code",
   "execution_count": 67,
   "id": "ff5b23c6",
   "metadata": {
    "scrolled": true
   },
   "outputs": [
    {
     "name": "stdout",
     "output_type": "stream",
     "text": [
      "CPU times: user 1min 47s, sys: 50 s, total: 2min 37s\n",
      "Wall time: 2min 37s\n"
     ]
    }
   ],
   "source": [
    "%%time\n",
    "\n",
    "inp = 'what are you doing'\n",
    "inp = tokenizer.encode(inp, return_tensors='pt')\n",
    "output = model.generate(input_ids=inp.to('cuda'), max_length= 200)\n",
    "output = tokenizer.decode(outputs[0])"
   ]
  },
  {
   "cell_type": "code",
   "execution_count": 49,
   "id": "cb192915",
   "metadata": {},
   "outputs": [],
   "source": [
    "from tqdm import tqdm"
   ]
  },
  {
   "cell_type": "code",
   "execution_count": 50,
   "id": "c210030a",
   "metadata": {},
   "outputs": [],
   "source": [
    "df2 = pd.read_csv('template_and_user_query.csv')"
   ]
  },
  {
   "cell_type": "code",
   "execution_count": 51,
   "id": "621010b7",
   "metadata": {},
   "outputs": [],
   "source": [
    "val_df2 = df2.iloc[::10,:]\n",
    "val_df2.reset_index(drop=True, inplace=True)\n",
    "df2 = pd.concat([df2,val_df2]).drop_duplicates(keep=False).reset_index()\n",
    "df2.drop(columns=['index'], inplace=True)"
   ]
  },
  {
   "cell_type": "code",
   "execution_count": 57,
   "id": "00927e23",
   "metadata": {
    "scrolled": true
   },
   "outputs": [],
   "source": [
    "df2_new = df2[300:500]"
   ]
  },
  {
   "cell_type": "code",
   "execution_count": 60,
   "id": "eef5a6c3",
   "metadata": {},
   "outputs": [
    {
     "name": "stderr",
     "output_type": "stream",
     "text": [
      "200it [1:42:11, 30.66s/it]"
     ]
    },
    {
     "name": "stdout",
     "output_type": "stream",
     "text": [
      "CPU times: user 1h 21min 28s, sys: 20min 42s, total: 1h 42min 10s\n",
      "Wall time: 1h 42min 11s\n"
     ]
    },
    {
     "name": "stderr",
     "output_type": "stream",
     "text": [
      "\n"
     ]
    }
   ],
   "source": [
    "%%time\n",
    "output_list_300_500 = []\n",
    "for i, row in tqdm(df2_new.iterrows()):\n",
    "    inp = row['user query']\n",
    "    try:\n",
    "        output = predict_template_query_v3(inp)\n",
    "    except:\n",
    "        output = None\n",
    "        print(f\"Got exception while processing : {inp}\")\n",
    "    output_list_300_500.append(output)"
   ]
  },
  {
   "cell_type": "code",
   "execution_count": null,
   "id": "67ef0663",
   "metadata": {},
   "outputs": [],
   "source": []
  },
  {
   "cell_type": "code",
   "execution_count": 62,
   "id": "a21081b2",
   "metadata": {
    "scrolled": true
   },
   "outputs": [],
   "source": [
    "df = pd.DataFrame(output_list_300_500, columns=['predicted_template'])\n",
    "df.to_csv('predict_df_300_500.csv', index=False)"
   ]
  },
  {
   "cell_type": "code",
   "execution_count": 61,
   "id": "02e731ba",
   "metadata": {},
   "outputs": [
    {
     "data": {
      "text/plain": [
       "['What is the sales of phone and paper in 2020',\n",
       " 'What is the sales of phone and paper in 2020',\n",
       " 'What is the sales of phone and paper in 2020',\n",
       " 'What is the sales of phone and paper in 2020',\n",
       " 'What is the sales of phone and paper in 2020',\n",
       " 'What is the sales of phone and paper in 2020',\n",
       " 'What is the sales of phone and paper in 2020',\n",
       " 'What is the sales of phone and paper in 2020',\n",
       " 'What is the sales of phone and paper in 2020',\n",
       " 'What is the sales of phone and paper in 2020',\n",
       " 'What is the sales of phone and paper across months',\n",
       " 'What is the sales of phone and paper across months',\n",
       " 'What is the sales of phone and paper across months',\n",
       " 'What is the sales of phone and paper across months',\n",
       " 'What is the sales of phone and paper across months',\n",
       " 'What is the sales of phone and paper across months',\n",
       " 'What is the sales of phone and paper across months',\n",
       " 'What is the sales of phone and paper across months',\n",
       " 'What is the sales of phone and paper across months',\n",
       " 'What is the sales of phone and paper across months',\n",
       " 'What is the sales of phone and paper across months in 2020',\n",
       " 'What is the sales of phone and paper across months in 2020',\n",
       " 'What is the sales of phone and paper across months in 2020',\n",
       " 'What is the sales of phone and paper across months in 2020',\n",
       " 'What is the sales of phone and paper across months in 2020',\n",
       " 'What is the sales of phone and paper across months in 2020',\n",
       " 'What is the sales of phone and paper across months in 2020',\n",
       " 'What is the sales of phone and paper across months in 2020',\n",
       " 'What is the sales of phone and paper across months in 2020',\n",
       " 'What is the sales of phone and paper across months in 2020',\n",
       " 'List of sub category',\n",
       " 'List of sub category',\n",
       " 'List of sub category',\n",
       " 'List of sub category',\n",
       " 'List of sub category',\n",
       " 'List of sub category',\n",
       " 'List of sub category',\n",
       " 'List of sub category',\n",
       " 'List of sub category',\n",
       " 'List of sub category',\n",
       " 'List of sub category in 2020',\n",
       " 'List of sub category in 2020',\n",
       " 'List of sub category in 2020',\n",
       " 'List of sub category in 2020',\n",
       " 'List of sub category in 2020',\n",
       " 'List of sub category in 2020',\n",
       " 'List of sub category in 2020',\n",
       " 'List of sub category in 2020',\n",
       " 'List of sub category in 2020',\n",
       " 'List of sub category in 2020',\n",
       " 'List of sub category and country',\n",
       " 'List of sub category and country',\n",
       " 'List of sub category and country',\n",
       " 'List of sub category and country',\n",
       " 'List of sub category and country',\n",
       " 'List of sub category and country',\n",
       " 'List of sub category and country',\n",
       " 'List of sub category and country',\n",
       " 'List of sub category and country',\n",
       " 'List of sub category and country',\n",
       " 'List of sub category and country in 2020',\n",
       " 'List of sub category and country in 2020',\n",
       " 'List of sub category and country in 2020',\n",
       " 'List of sub category and country in 2020',\n",
       " 'List of sub category and country in 2020',\n",
       " 'List of sub category and country in 2020',\n",
       " 'List of sub category and country in 2020',\n",
       " 'List of sub category and country in 2020',\n",
       " 'List of sub category and country in 2020',\n",
       " 'List of sub category and country in 2020',\n",
       " 'List of sub category having sales more than 10k',\n",
       " 'List of sub category having sales contribution more than 10k',\n",
       " 'List of sub category having sales contribution more than 10k',\n",
       " 'List of sub category having sales contribution more than 10k',\n",
       " 'List of sub category having sales more than 10k',\n",
       " 'List of sub category having sales more than 10k',\n",
       " 'List of sub category having sales contribution more than 10k',\n",
       " 'List of sub category having sales more than 10k',\n",
       " 'List of sub category having sales more than 10k',\n",
       " 'List of sub category having sales more than 10k',\n",
       " 'List of sub category having sales more than 10k in 2020',\n",
       " 'List of sub category with sales contribution more than 10k in 2020',\n",
       " 'List of sub category having sales more than 10k in 2020',\n",
       " 'List of sub category having sales more than 10k in 2020',\n",
       " 'List of sub category with sales contribution more than 10k in 2020',\n",
       " 'List of sub category having sales more than 10k in 2020',\n",
       " 'List of sub category having sales contribution more than 10k in 2020',\n",
       " 'List of sub category having sales more than 10k in 2020',\n",
       " 'List of sub category having sales more than 10k in 2020',\n",
       " 'List of sub category having sales more than 10k in 2020',\n",
       " 'List of sub category and country having sales more than 10k',\n",
       " 'List of sub category and country having sales more than 10k',\n",
       " 'List of sub category and country having sales more than 10k',\n",
       " 'List of sub category and country having sales more than 10k',\n",
       " 'List of sub category and country having sales more than 10k',\n",
       " 'List of sub category and country having sales more than 10k',\n",
       " 'List of sub category and country having sales more than 10k',\n",
       " 'List of sub category and country having sales more than 10k',\n",
       " 'List of sub category and country having sales more than 10k',\n",
       " 'List of sub category and country having sales more than 10k',\n",
       " 'List of sub category and country having sales more than 10k in 2020',\n",
       " 'List of sub category and country having sales more than 10k in 2020',\n",
       " 'List of sub category and country having sales more than 10k in 2020',\n",
       " 'List of sub category and country having sales more than 10k in 2020',\n",
       " 'List of sub category and country having sales more than 10k in 2020',\n",
       " 'List of sub category and country having sales more than 10k in 2020',\n",
       " 'List of sub category and country having sales more than 10k in 2020',\n",
       " 'List of sub category and country having sales more than 10k in 2020',\n",
       " 'List of sub category and country having sales more than 10k in 2020',\n",
       " 'List of sub category and country having sales more than 10k in 2020',\n",
       " 'List of sub category except chairs',\n",
       " 'List of sub category except chairs',\n",
       " 'List of sub category except chairs',\n",
       " 'List of sub category except chairs',\n",
       " 'List of sub category except chairs',\n",
       " 'List of sub category except chairs',\n",
       " 'List of sub category except chairs',\n",
       " 'List of sub category except chairs',\n",
       " 'List of sub category except chairs',\n",
       " 'List of sub category except chairs',\n",
       " 'List of sub category across months',\n",
       " 'List of sub category across months',\n",
       " 'List of sub category across months',\n",
       " 'List of sub category across months',\n",
       " 'List of sub category across months',\n",
       " 'List of sub category across months',\n",
       " 'List of sub category across months',\n",
       " 'List of sub category across months',\n",
       " 'List of sub category across months',\n",
       " 'List of sub category across months',\n",
       " 'List of sub category except chairs across months',\n",
       " 'List of sub category except chairs across months',\n",
       " 'List of sub category except chairs across months',\n",
       " 'List of sub category except chairs across months',\n",
       " 'List of sub category except chairs across months',\n",
       " 'List of sub category except chairs across months',\n",
       " 'List of sub category except chairs across months',\n",
       " 'List of sub category except chairs across months',\n",
       " 'List of sub category except chairs across months',\n",
       " 'List of sub category except chairs across months',\n",
       " 'How many sub category are there',\n",
       " 'How many sub category are there',\n",
       " 'How many sub category are there',\n",
       " 'How many sub category are there',\n",
       " 'How many sub category are there',\n",
       " 'How many sub category are there',\n",
       " 'How many sub category are there',\n",
       " 'How many sub category are there',\n",
       " 'How many sub category are there',\n",
       " 'How many sub category are there',\n",
       " 'How many sub category across months',\n",
       " 'How many sub category across months',\n",
       " 'How many sub category across months',\n",
       " 'How many sub category across months',\n",
       " 'How many sub category across months',\n",
       " 'How many sub category across months',\n",
       " 'How many sub category across months',\n",
       " 'How many sub category across months',\n",
       " 'How many sub category across months',\n",
       " 'How many sub category across months',\n",
       " 'How many sub category where sales is more than 10k',\n",
       " 'How many sub category where sales is more than 10k',\n",
       " 'How many sub category where sales is more than 10k',\n",
       " 'How many sub category where sales is more than 10k',\n",
       " 'How many sub category where sales is more than 10k',\n",
       " 'How many sub category where sales is more than 10k',\n",
       " 'How many sub category where sales is more than 10k',\n",
       " 'How many sub category where sales is more than 10k',\n",
       " 'How many sub category where sales is more than 10k',\n",
       " 'How many sub category where sales is more than 10k',\n",
       " 'How many sub category across months where sales is more than 10k',\n",
       " 'How many sub category across months where sales is more than 10k',\n",
       " 'How many sub category across months where sales is more than 10k',\n",
       " 'How many sub category across months where sales is more than 10k',\n",
       " 'How many sub category across months where sales is more than 10k',\n",
       " 'How many sub category across months where sales is more than 10k',\n",
       " 'What are the sub category with sales more than 10k across months',\n",
       " 'How many sub category across months where sales is more than 10k',\n",
       " 'How many sub category across months where sales is more than 10k',\n",
       " 'How many sub category across months where sales is more than 10k',\n",
       " 'How many sub category contributing to growth of sales across months',\n",
       " 'How many sub category contributing to growth of sales across months',\n",
       " 'How many sub category contributing to growth of sales across months',\n",
       " 'How many sub category contributing to growth of sales across months',\n",
       " 'How many sub category contributing to growth of sales across months',\n",
       " 'How many sub category contributing to growth of sales across months',\n",
       " 'How many sub category contributing to growth of sales across months',\n",
       " 'How many sub category contributing to growth of sales across months',\n",
       " 'How many sub category contributing to growth of sales across months',\n",
       " 'How many sub category contributing to growth of sales across months',\n",
       " 'When was sales lowest',\n",
       " 'When was sales lowest',\n",
       " 'When was sales lowest',\n",
       " 'When was the last time that sales lowest',\n",
       " 'When was sales lowest',\n",
       " 'When was sales lowest',\n",
       " 'When was sales lowest',\n",
       " 'When was the last time that sales lowest',\n",
       " 'When was sales lowest',\n",
       " 'When was sales lowest']"
      ]
     },
     "execution_count": 61,
     "metadata": {},
     "output_type": "execute_result"
    }
   ],
   "source": [
    "output_list_300_500"
   ]
  },
  {
   "cell_type": "code",
   "execution_count": 86,
   "id": "eb6f4b81",
   "metadata": {
    "scrolled": true
   },
   "outputs": [
    {
     "data": {
      "text/plain": [
       "['What is the sales and discount percentage by sub category across months',\n",
       " 'What is the sales and discount percentage by sub category across months',\n",
       " 'What is the sales and discount percentage by sub category across months',\n",
       " 'What is the sales and discount percentage by sub category across months',\n",
       " 'What is the sales and discount percentage by sub category across months',\n",
       " 'What is the sales and discount percentage by sub category across months',\n",
       " 'What is the sales and discount percentage by sub category across months',\n",
       " 'What is the sales and discount percentage by sub category across months',\n",
       " 'What is the sales and discount percentage by sub category across months',\n",
       " 'What is the sales and discount percentage by sub category across months',\n",
       " 'What is the sales and discount percentage by sub category and country across months',\n",
       " 'What is the sales and discount percentage by sub category and country across months',\n",
       " 'What is the sales and discount percentage by sub category and country across months',\n",
       " 'What is the sales and discount percentage by sub category and country across months',\n",
       " 'What is the sales and discount percentage by sub category and country across months',\n",
       " 'What is the sales and discount percentage by sub category and country across months',\n",
       " 'What is the sales and discount percentage by sub category and country across months',\n",
       " 'What is the sales and discount percentage by sub category and country across months',\n",
       " 'What is the sales and discount percentage by sub category and country across months',\n",
       " 'What is the sales and discount percentage by sub category and country across months',\n",
       " 'List of sub category with sales contribution more than 10k across months',\n",
       " 'List of sub category with sales contribution more than 10k across months',\n",
       " 'List of sub category with sales contribution more than 10k across months',\n",
       " 'List of sub category with sales contribution more than 10k across months',\n",
       " 'Which are the top sub category with sales more than 10k across months',\n",
       " 'List of sub category with sales contribution more than 10k across months',\n",
       " 'What are the sub category with sales more than 10k across months',\n",
       " 'List of sub category with sales contribution more than 10k across months',\n",
       " 'What are the sub category with sales more than 10k across months',\n",
       " 'List of sub category having sales more than 10k across months',\n",
       " 'What is the sales of sub category except chairs across months',\n",
       " 'What is the sales of sub category except chairs across months',\n",
       " 'What is the sales of sub category except chairs across months',\n",
       " 'What is the sales of sub category except chairs across months',\n",
       " 'What is the sales of sub category except chairs across months',\n",
       " 'What is the sales of sub category except chairs across months',\n",
       " 'What is the sales by sub category except chairs across months',\n",
       " 'What is the sales of sub category except chairs across months',\n",
       " 'What is the sales of sub category except chairs across months',\n",
       " 'What is the sales of sub category except chairs across months',\n",
       " 'What is the sales , discount percentage and discount across months',\n",
       " 'What is the sales , discount percentage and discount across months',\n",
       " 'What is the sales , discount percentage and discount across months',\n",
       " 'What is the sales , discount percentage and discount across months',\n",
       " 'What is the sales , discount percentage and discount across months',\n",
       " 'What is the monthly trend of sales , discount percentage and discount',\n",
       " 'What is the sales , discount percentage and discount across months',\n",
       " 'What is the sales , discount percentage and discount across months',\n",
       " 'What is the sales , discount percentage and discount across months',\n",
       " 'What is the sales , discount percentage and discount across months',\n",
       " 'What is the sales , discount percentage and discount by sub category across months',\n",
       " 'What is the sales , discount percentage and discount by sub category across months',\n",
       " 'What is the sales , discount percentage and discount by sub category across months',\n",
       " 'What is the sales , discount percentage and discount by sub category across months',\n",
       " 'What is the sales , discount percentage and discount by sub category across months',\n",
       " 'What is the sales , discount percentage and discount by sub category across months',\n",
       " 'What is the sales , discount percentage and discount by sub category across months',\n",
       " 'What is the sales , discount percentage and discount by sub category across months',\n",
       " 'What is the sales , discount percentage and discount by sub category across months',\n",
       " 'What is the sales , discount percentage and discount by sub category across months',\n",
       " 'What is the sales , discount percentage and discount in 2020',\n",
       " 'What is the sales , discount percentage and discount in 2020',\n",
       " 'What is the sales , discount percentage and discount in 2020',\n",
       " 'What is the sales , discount percentage and discount in 2020',\n",
       " 'What is the sales , discount percentage and discount in 2020',\n",
       " 'What is the sales , discount percentage and discount in 2020',\n",
       " 'What is the sales , discount percentage and discount in 2020',\n",
       " 'Diagnose sales , discount percentage and discount in 2020',\n",
       " 'What is the sales , discount percentage and discount in 2020',\n",
       " 'What is the sales , discount percentage and discount in 2020',\n",
       " 'What is the sales , discount percentage and discount of sub category in 2020',\n",
       " 'What is the sales , discount percentage and discount of sub category in 2020',\n",
       " 'What is the sales , discount percentage and discount of sub category in 2020',\n",
       " 'What is the sales , discount percentage and discount by sub category in 2020',\n",
       " 'What is the sales , discount percentage and discount of sub category in 2020',\n",
       " 'What is the sales , discount percentage and discount of sub category in 2020',\n",
       " 'What is the sales , discount percentage and discount of sub category in 2020',\n",
       " 'What is the sales , discount percentage and discount of sub category in 2020',\n",
       " 'What is the sales , discount percentage and discount by sub category in 2020',\n",
       " 'What is the sales , discount percentage and discount of sub category in 2020',\n",
       " 'Which sub category have sales more than 10k',\n",
       " 'Which sub category have sales more than 10k',\n",
       " 'List the top sub category having sales more than 10k',\n",
       " 'Which sub category have sales more than 10k',\n",
       " 'Which sub category have sales more than 10k',\n",
       " 'Which sub category have sales more than 10k',\n",
       " 'Which sub category have sales more than 10k',\n",
       " 'Which sub category have sales more than 10k',\n",
       " 'Which sub category have sales more than 10k',\n",
       " 'Which sub category have sales more than 10k',\n",
       " 'Which sub category have sales more than 10k in 2020',\n",
       " 'Which sub category have sales more than 10k in 2020',\n",
       " 'List the top sub category having sales more than 10k in 2020',\n",
       " 'Which sub category have sales more than 10k in 2020',\n",
       " 'List the top sub category having sales more than 10k in 2020',\n",
       " 'Which sub category have sales more than 10k in 2020',\n",
       " 'Which sub category have sales more than 10k in 2020',\n",
       " 'Which sub category have sales more than 10k in 2020',\n",
       " 'Which sub category have sales more than 10k in 2020',\n",
       " 'Which sub category have sales more than 10k in 2020']"
      ]
     },
     "execution_count": 86,
     "metadata": {},
     "output_type": "execute_result"
    }
   ],
   "source": [
    "output_list_200_300"
   ]
  },
  {
   "cell_type": "code",
   "execution_count": 81,
   "id": "1a12e330",
   "metadata": {
    "scrolled": true
   },
   "outputs": [
    {
     "data": {
      "text/plain": [
       "['What is the sales and discount percentage by sub category and country in 2020',\n",
       " 'What is the sales and discount percentage by sub category and country in 2020',\n",
       " 'What is the sales and discount percentage by sub category and country in 2020',\n",
       " 'What is the sales and discount percentage by sub category and country in 2020',\n",
       " 'What is the sales and discount percentage by sub category and country in 2020',\n",
       " 'What is the sales and discount percentage by sub category and country in 2020',\n",
       " 'What is the sales and discount percentage by sub category and country in 2020',\n",
       " 'What is the sales and discount percentage by sub category and country in 2020',\n",
       " 'What is the sales and discount percentage by sub category and country in 2020',\n",
       " 'What is the sales and discount percentage by sub category and country in 2020',\n",
       " 'What is the sales and discount percentage in 2020 vs 2021',\n",
       " 'What is the sales and discount percentage in 2020 vs 2021',\n",
       " 'What is the sales and discount percentage in 2020 vs 2021',\n",
       " 'What is the sales and discount percentage in 2020 vs 2021',\n",
       " 'What is the sales and discount percentage in 2020 vs 2021',\n",
       " 'What is the sales and discount percentage in 2020 vs 2021',\n",
       " 'What is the sales and discount percentage in 2020 vs 2021',\n",
       " 'What is the sales and discount percentage change from 2020 to 2021',\n",
       " 'What is the sales and discount percentage in 2020 vs 2021',\n",
       " 'What is the sales and discount percentage in 2020 vs 2021',\n",
       " 'What is the sales and discount percentage by sub category in 2020 vs 2021',\n",
       " 'What is the sales and discount percentage by sub category in 2020 vs 2021',\n",
       " 'What is the sales and discount percentage by sub category in 2020 vs 2021',\n",
       " 'What is the sales and discount percentage by sub category in 2020 vs 2021',\n",
       " 'What is the sales and discount percentage by sub category in 2020 vs 2021',\n",
       " 'What is the sales and discount percentage by sub category in 2020 vs 2021',\n",
       " 'What is the trend of sales and discount percentage by sub category in 2020 vs 2021',\n",
       " 'What is the sales and discount percentage by sub category in 2020 vs 2021',\n",
       " 'What is the sales and discount percentage by sub category in 2020 vs 2021',\n",
       " 'What is the sales and discount percentage by sub category in 2020 vs 2021',\n",
       " 'What is the sales and discount percentage by sub category and country in 2020 vs 2021',\n",
       " 'What is the sales and discount percentage by sub category and country in 2020 vs 2021',\n",
       " 'What is the sales and discount percentage by sub category and country in 2020 vs 2021',\n",
       " 'What is the sales and discount percentage by sub category and country in 2020 vs 2021',\n",
       " 'What is the sales and discount percentage by sub category and country in 2020 vs 2021',\n",
       " 'What is the sales and discount percentage by sub category and country in 2020 vs 2021',\n",
       " 'What is the sales and discount percentage by sub category and country in 2020 vs 2021',\n",
       " 'What is the sales and discount percentage by sub category and country in 2020 vs 2021',\n",
       " 'What is the sales and discount percentage by sub category and country in 2020 vs 2021',\n",
       " 'What is the sales and discount percentage by sub category and country in 2020 vs 2021',\n",
       " 'List of sub category having sales more than 10k',\n",
       " 'List of sub category having sales contribution more than 10k',\n",
       " 'List of sub category having sales contribution more than 10k',\n",
       " 'List of sub category having sales contribution more than 10k',\n",
       " 'How many sub category where sales is more than 10k',\n",
       " 'List of sub category having sales contribution more than 10k',\n",
       " 'List of sub category having sales more than 10k',\n",
       " 'List of sub category having sales more than 10k',\n",
       " 'List of sub category having sales contribution more than 10k',\n",
       " 'What are the sub category with sales contribution more than 10k',\n",
       " 'What is the sales of sub category except chairs',\n",
       " 'What is the sales of sub category except chairs',\n",
       " 'What is the sales of sub category except chairs',\n",
       " 'What is the sales of sub category except chairs',\n",
       " 'What is the sales of sub category except chairs',\n",
       " 'What is the sales of sub category except chairs',\n",
       " 'What is the sales of sub category except chairs',\n",
       " 'What is the sales of sub category except chairs',\n",
       " 'What is the sales of sub category except chairs',\n",
       " 'What is the sales of sub category except chairs',\n",
       " 'What is the sales across months',\n",
       " 'What is the sales across months',\n",
       " 'What is the sales across months',\n",
       " 'What is the sales across months',\n",
       " 'What is the sales across months',\n",
       " 'What is the sales across months',\n",
       " 'What is the sales across months',\n",
       " 'What is the sales across months',\n",
       " 'What is the sales across months',\n",
       " 'What is the sales across months',\n",
       " 'What is the sales by sub category across months',\n",
       " 'What is the sales by sub category across months',\n",
       " 'What is the sales by sub category across months',\n",
       " 'What is the sales by sub category across months',\n",
       " 'What is the sales by sub category across months',\n",
       " 'What is the sales by sub category across months',\n",
       " 'What is the sales by sub category across months',\n",
       " 'What is the sales by sub category across months',\n",
       " 'What is the sales by sub category across months',\n",
       " 'What is the sales by sub category across months',\n",
       " 'What is the sales of phone across months',\n",
       " 'What is the sales of phone across months',\n",
       " 'What is the sales of phone across months',\n",
       " 'What is the sales of phone across months',\n",
       " 'What is the sales of phone across months',\n",
       " 'What is the sales of phone across months',\n",
       " 'What is the sales of phone across months',\n",
       " 'What is the sales of phone across months',\n",
       " 'What is the sales of phone across months',\n",
       " 'What is the sales of phone across months',\n",
       " 'What is the sales and discount percentage across months',\n",
       " 'What is the sales and discount percentage across months',\n",
       " 'What is the sales and discount percentage across months',\n",
       " 'What is the sales and discount percentage across months',\n",
       " 'What is the monthly trend of sales and discount percentage',\n",
       " 'What is the sales and discount percentage across months',\n",
       " 'What is the sales and discount percentage across months',\n",
       " 'What is the sales and discount percentage across months',\n",
       " 'What is the sales and discount percentage across months',\n",
       " 'What is the sales and discount percentage across months']"
      ]
     },
     "execution_count": 81,
     "metadata": {},
     "output_type": "execute_result"
    }
   ],
   "source": [
    "output_list_100_200"
   ]
  },
  {
   "cell_type": "code",
   "execution_count": 78,
   "id": "331e3190",
   "metadata": {
    "scrolled": true
   },
   "outputs": [
    {
     "data": {
      "text/plain": [
       "['What is the sales in 2020',\n",
       " 'What is the sales in 2020',\n",
       " 'What is the sales in 2020',\n",
       " 'What is the sales in 2020',\n",
       " 'What is the sales in 2020',\n",
       " 'What is the sales in 2020',\n",
       " 'What is the sales in 2020',\n",
       " 'What is the sales in 2020',\n",
       " 'What is the sales in 2020',\n",
       " 'What is the sales in 2020',\n",
       " 'What is the sales across months in 2020',\n",
       " 'What is the sales across months in 2020',\n",
       " 'What is the sales across months in 2020',\n",
       " 'What is the sales across months in 2020',\n",
       " 'What is the sales across months in 2020',\n",
       " 'What is the sales across months in 2020',\n",
       " 'What is the sales across months in 2020',\n",
       " 'What is the sales across months in 2020',\n",
       " 'What is the sales across months in 2020',\n",
       " 'What is the sales across months in 2020',\n",
       " 'What is the sales by sub category in 2020',\n",
       " 'What is the sales by sub category in 2020',\n",
       " 'What is the sales by sub category in 2020',\n",
       " 'What is the sales by sub category in 2020',\n",
       " 'What is the sales by sub category in 2020',\n",
       " 'What is the sales by sub category in 2020',\n",
       " 'What is the sales by sub category in 2020',\n",
       " 'What is the sales by sub category in 2020',\n",
       " 'What is the sales by sub category in 2020',\n",
       " 'What is the sales by sub category in 2020',\n",
       " 'What is the sales by sub category across months in 2020',\n",
       " 'What is the sales by sub category across months in 2020',\n",
       " 'What is the sales by sub category across months in 2020',\n",
       " 'What is the sales by sub category across months in 2020',\n",
       " 'What is the sales by sub category across months in 2020',\n",
       " 'What is the sales by sub category across months in 2020',\n",
       " 'What is the sales by sub category across months in 2020',\n",
       " 'What is the sales by sub category across months in 2020',\n",
       " 'What is the sales by sub category across months in 2020',\n",
       " 'What is the sales by sub category across months in 2020',\n",
       " 'What is the sales of phone in 2020',\n",
       " 'What is the sales of phone in 2020',\n",
       " 'What is the sales of phone in 2020',\n",
       " 'What is the sales of phone in 2020',\n",
       " 'What is the sales of phone in 2020',\n",
       " 'What is the sales of phone in 2020',\n",
       " 'What is the sales of phone in 2020',\n",
       " 'What is the sales of phone in 2020',\n",
       " 'What is the sales of phone in 2020',\n",
       " 'What is the sales of phone in 2020',\n",
       " 'What is the sales of phone across months in 2020',\n",
       " 'What is the sales of phone across months in 2020',\n",
       " 'What is the sales of phone across months in 2020',\n",
       " 'What is the sales of phone across months in 2020',\n",
       " 'What is the sales of phone across months in 2020',\n",
       " 'What is the sales of phone across months in 2020',\n",
       " 'What is the sales of phone across months in 2020',\n",
       " 'What is the sales of phone across months in 2020',\n",
       " 'What is the sales of phone across months in 2020',\n",
       " 'What is the sales of phone across months in 2020',\n",
       " 'What is the sales by sub category in 2020 vs 2021',\n",
       " 'What is the sales by sub category in 2020 vs 2021',\n",
       " 'What is the sales by sub category in 2020 vs 2021',\n",
       " 'What is the sales by sub category in 2020 vs 2021',\n",
       " 'What is the sales by sub category in 2020 vs 2021',\n",
       " 'What is the sales by sub category in 2020 vs 2021',\n",
       " 'Diagnose sales by sub category in 2020 vs 2021',\n",
       " 'What is the sales by sub category in 2020 vs 2021',\n",
       " 'What is the trend of sales by sub category in 2020 vs 2021',\n",
       " 'What is the sales by sub category in 2020 vs 2021',\n",
       " 'What is the sales in 2020 vs 2021',\n",
       " 'What is the sales in 2020 vs 2021',\n",
       " 'What is the sales in 2020 vs 2021',\n",
       " 'What is the sales in 2020 vs 2021',\n",
       " 'What is the sales in 2020 vs 2021',\n",
       " 'What is the sales in 2020 vs 2021',\n",
       " 'What is the sales in 2020 vs 2021',\n",
       " 'What is the sales in 2020 vs 2021',\n",
       " 'What is the sales in 2020 vs 2021',\n",
       " 'What is the sales in 2020 vs 2021',\n",
       " 'What is the sales and discount percentage in 2020',\n",
       " 'What is the sales and discount percentage in 2020',\n",
       " 'What is the sales and discount percentage in 2020',\n",
       " 'What is the contribution of sales and discounts in 2020',\n",
       " 'What is the sales and discount percentage in 2020',\n",
       " 'What is the sales and discount percentage in 2020',\n",
       " 'What is the sales and discount percentage in 2020',\n",
       " 'What is the sales and discount percentage in 2020',\n",
       " 'What is the sales and discount percentage in 2020',\n",
       " 'What is the sales and discount percentage in 2020',\n",
       " 'What is the sales and discount percentage by sub category in 2020',\n",
       " 'What is the sales and discount percentage by sub category in 2020',\n",
       " 'What is the sales and discount percentage by sub category in 2020',\n",
       " 'What is the sales and discount percentage by sub category in 2020',\n",
       " 'What is the sales and discount percentage by sub category in 2020',\n",
       " 'What is the sales and discount percentage by sub category in 2020',\n",
       " 'What is the sales and discount percentage by sub category in 2020',\n",
       " 'What is the sales and discount percentage by sub category in 2020',\n",
       " 'What is the sales and discount percentage by sub category in 2020',\n",
       " 'What is the sales and discount percentage by sub category in 2020']"
      ]
     },
     "execution_count": 78,
     "metadata": {},
     "output_type": "execute_result"
    }
   ],
   "source": [
    "output_list"
   ]
  },
  {
   "cell_type": "code",
   "execution_count": null,
   "id": "670ccb24",
   "metadata": {},
   "outputs": [],
   "source": []
  },
  {
   "cell_type": "code",
   "execution_count": null,
   "id": "cd9b8832",
   "metadata": {},
   "outputs": [],
   "source": []
  },
  {
   "cell_type": "code",
   "execution_count": null,
   "id": "eb61f802",
   "metadata": {},
   "outputs": [],
   "source": []
  },
  {
   "cell_type": "code",
   "execution_count": 40,
   "id": "196a3d84",
   "metadata": {},
   "outputs": [],
   "source": [
    "def predict_template_query(user_query):\n",
    "    question = query_template.format(user_query=user_query)\n",
    "    _input = str({'question': question})\n",
    "#     print(_input)\n",
    "    _inputs = tokenizer.encode(_input, return_tensors=\"pt\")\n",
    "#     print(_inputs)\n",
    "#     print(type(_inputs))\n",
    "    outputs = model_to_merge.generate(input_ids=_inputs.to('cuda'), max_length= 200)\n",
    "    output = tokenizer.decode(outputs[0])\n",
    "    # print(output)\n",
    "    # a = output.split(\"_LUMIN_ Answer\",1)[1]\n",
    "    #print(a)\n",
    "    return output"
   ]
  },
  {
   "cell_type": "code",
   "execution_count": null,
   "id": "5a3fb6e7",
   "metadata": {},
   "outputs": [],
   "source": [
    "model_to_merge.to('cuda')"
   ]
  },
  {
   "cell_type": "code",
   "execution_count": 63,
   "id": "7323583f",
   "metadata": {},
   "outputs": [],
   "source": [
    "def process_output(a):\n",
    "    b=a.split(\"### Answer\",1)[1]\n",
    "    return b.split(\"\\n\")[1]"
   ]
  },
  {
   "cell_type": "code",
   "execution_count": null,
   "id": "476faf99",
   "metadata": {},
   "outputs": [],
   "source": []
  },
  {
   "cell_type": "code",
   "execution_count": null,
   "id": "3972fa6e",
   "metadata": {},
   "outputs": [],
   "source": []
  },
  {
   "cell_type": "code",
   "execution_count": null,
   "id": "8c353855",
   "metadata": {},
   "outputs": [],
   "source": []
  },
  {
   "cell_type": "code",
   "execution_count": 5,
   "id": "7a1a7769",
   "metadata": {},
   "outputs": [],
   "source": [
    "# inp = \"why production dropped for bikes in 1st quarter 2022\"\n",
    "# predict_template_query(inp)"
   ]
  },
  {
   "cell_type": "code",
   "execution_count": 4,
   "id": "ac29f8f8",
   "metadata": {
    "scrolled": false
   },
   "outputs": [],
   "source": [
    "# inp = 'why sales of texas increase in 1st quarter 2023'\n",
    "# a = predict_template_query(inp)"
   ]
  },
  {
   "cell_type": "code",
   "execution_count": null,
   "id": "b83e75fc",
   "metadata": {},
   "outputs": [],
   "source": []
  },
  {
   "cell_type": "code",
   "execution_count": null,
   "id": "d2e6bd05",
   "metadata": {},
   "outputs": [],
   "source": []
  },
  {
   "cell_type": "code",
   "execution_count": 2,
   "id": "0e68c1d4",
   "metadata": {
    "scrolled": true
   },
   "outputs": [],
   "source": [
    "# inp = 'drivers of profit'\n",
    "# predict_template_query(inp)"
   ]
  },
  {
   "cell_type": "code",
   "execution_count": 3,
   "id": "b1023e87",
   "metadata": {},
   "outputs": [],
   "source": [
    "# inp = \"why sales dropped for bikes in 1st quarter 2022\"\n",
    "# predict_template_query(inp).split('\\n')[1]"
   ]
  },
  {
   "cell_type": "code",
   "execution_count": null,
   "id": "eba9f621",
   "metadata": {},
   "outputs": [],
   "source": []
  },
  {
   "cell_type": "code",
   "execution_count": null,
   "id": "912f2759",
   "metadata": {},
   "outputs": [],
   "source": []
  }
 ],
 "metadata": {
  "kernelspec": {
   "display_name": "Python 3",
   "language": "python",
   "name": "python3"
  },
  "language_info": {
   "codemirror_mode": {
    "name": "ipython",
    "version": 3
   },
   "file_extension": ".py",
   "mimetype": "text/x-python",
   "name": "python",
   "nbconvert_exporter": "python",
   "pygments_lexer": "ipython3",
   "version": "3.8.16"
  }
 },
 "nbformat": 4,
 "nbformat_minor": 5
}
