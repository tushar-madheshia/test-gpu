{
 "cells": [
  {
   "cell_type": "markdown",
   "id": "73377c2e",
   "metadata": {},
   "source": [
    "### Distill step by step finetuning approach - trying enhanced rationale with specific reasoning for date conversion"
   ]
  },
  {
   "cell_type": "code",
   "execution_count": 1,
   "id": "06dcc636",
   "metadata": {
    "scrolled": true
   },
   "outputs": [],
   "source": [
    "!sudo pip install -q transformers --upgrade\n",
    "!sudo pip install -q peft"
   ]
  },
  {
   "cell_type": "code",
   "execution_count": 2,
   "id": "a1b437fa",
   "metadata": {},
   "outputs": [
    {
     "data": {
      "text/plain": [
       "'4.35.0'"
      ]
     },
     "execution_count": 2,
     "metadata": {},
     "output_type": "execute_result"
    }
   ],
   "source": [
    "import transformers\n",
    "transformers.__version__"
   ]
  },
  {
   "cell_type": "code",
   "execution_count": 3,
   "id": "57fbc6b6",
   "metadata": {},
   "outputs": [],
   "source": [
    "import os\n",
    "import torch\n",
    "from datasets import load_dataset\n",
    "from datasets import Dataset\n",
    "from transformers import (\n",
    "    AutoModelForCausalLM,\n",
    "    AutoTokenizer,\n",
    "    BitsAndBytesConfig,\n",
    "    HfArgumentParser,\n",
    "    TrainingArguments,\n",
    "    pipeline,\n",
    "    logging,\n",
    ")\n",
    "from peft import LoraConfig, PeftModel\n",
    "import pandas as pd\n",
    "import torch"
   ]
  },
  {
   "cell_type": "code",
   "execution_count": 4,
   "id": "c37f45b7",
   "metadata": {},
   "outputs": [],
   "source": [
    "# The model that you want to train from the Hugging Face hub\n",
    "model_name = \"mistralai/Mistral-7B-Instruct-v0.1\""
   ]
  },
  {
   "cell_type": "code",
   "execution_count": 5,
   "id": "1d55d834",
   "metadata": {},
   "outputs": [],
   "source": [
    "context2 = \"\"\"{\n",
    "    \"MEASURE\": [{'ENTITY': 'TRx', 'other names': ['total_prescriptions', 'overall_rx', 'complete_rx_count', 'full_prescription_volume', 'entire_rx_number']},\n",
    "                {'ENTITY': 'NRx', 'other names': ['new_prescriptions', 'fresh_rx', 'recent_rx_count', 'initial_prescription_volume', 'first_rx_number']},\n",
    "                {'ENTITY': 'NBRx', 'other names': ['new_to_brand_prescriptions', 'fresh_brand_rx', 'recent_brand_rx_count', 'initial_brand_prescription_volume', 'first_brand_rx_number']}],\n",
    "    \"DIMENSION\": [{'ENTITY': 'Address', 'other names': ['location', 'street', 'residence', 'place', 'site']},\n",
    "                  {'ENTITY': 'State', 'other names': ['province', 'region', 'territory', 'district', 'area']},\n",
    "                  {'ENTITY': 'City', 'other names': ['town', 'municipality', 'urban_area', 'locality', 'metropolis']},\n",
    "                  {'ENTITY': 'Zip_Code', 'other names': ['postal_code', 'zipcode', 'post_code', 'mailing_code', 'zip']},\n",
    "                  {'ENTITY': 'Physician Name', 'other names': ['doctor_name', 'medical_practitioner', 'healthcare_provider', 'doc_fullname', 'practitioner']},\n",
    "                  {'ENTITY': 'Specialty', 'other names': ['expertise', 'medical_field', 'healthcare_area', 'practice_focus', 'specialization']},\n",
    "                  {'ENTITY': 'Specialty Group', 'other names': ['expertise_group', 'medical_field_category', 'healthcare_area_group', 'practice_focus_group', 'specialization_group']}],\n",
    "    \"FILTER\": [{\"ENTITY\": \"Healdsburg\", \"other names\": [], \"parent\": \"State\"},\n",
    "               {\"ENTITY\": \"Brownsville\", \"other names\": [], \"parent\": \"State\"},\n",
    "               {\"ENTITY\": \"Oncology\", \"other names\": [], \"parent\": \"Specialty\"},\n",
    "               {\"ENTITY\": \"Pulmonary Disease\", \"other names\": [], \"parent\": \"Specialty\"},\n",
    "               {\"ENTITY\": \"Cardiovascular Diseases\", \"other names\": [], \"parent\": \"Specialty\"}],\n",
    "    \"DERIVED MEASURE\": [{\"ENTITY\": \"Ratio\",\n",
    "             \"other names\": [\"ratio\", \"share\", \"contribution\", \"percentage\", \"proportion\", \"contributing\"]},\n",
    "            {\"ENTITY\": \"Why\", \"other names\": [\"why\", \"cause of\", \"reason for\", \"diagnose\"]},\n",
    "            {\"ENTITY\": \"contribution_to_growth\", \"other names\": [\"contribution to growth\", \"growth\", \"grown\"]},\n",
    "            {\"ENTITY\": \"kda_transactional\", \"other names\": [\"kda\", \"key drivers\", \"key driver\", \"drivers\", \"driver\"]},\n",
    "            {\"ENTITY\": \"Growth Rate\", \"other names\": [\"growth rate\", \"growth\", \"grown\"]},\n",
    "            {\"ENTITY\": \"correlation\",\n",
    "             \"other names\": [\"associate\", \"associated\", \"association\", \"associations\", \"correlate\", \"correlated\",\n",
    "                             \"correlation\", \"correlations\", \"relate\", \"related\", \"relation\", \"relations\",\n",
    "                             \"relationship\",\n",
    "                             \"relationships\"]}\n",
    "            ],\n",
    "    \"DATE VARIABLE\": [{\"ENTITY\": \"Data Date\", \"other names\": [\"data date\", \"date\", \"trend\", \"time\", \"when\", \"mom\", \"yoy\"]}]\n",
    "    }\"\"\""
   ]
  },
  {
   "cell_type": "code",
   "execution_count": null,
   "id": "787d63bd",
   "metadata": {},
   "outputs": [],
   "source": []
  },
  {
   "cell_type": "code",
   "execution_count": null,
   "id": "7e793ecb",
   "metadata": {},
   "outputs": [],
   "source": []
  },
  {
   "cell_type": "code",
   "execution_count": null,
   "id": "61d6b0ab",
   "metadata": {},
   "outputs": [],
   "source": []
  },
  {
   "cell_type": "code",
   "execution_count": 6,
   "id": "78a95227",
   "metadata": {},
   "outputs": [],
   "source": [
    "date_input = {\n",
    "    \"start_date\": \"01/01/2019\",\n",
    "    \"end_date\": \"10/11/2023\"\n",
    "}"
   ]
  },
  {
   "cell_type": "code",
   "execution_count": 7,
   "id": "202bb865",
   "metadata": {},
   "outputs": [
    {
     "data": {
      "text/plain": [
       "True"
      ]
     },
     "execution_count": 7,
     "metadata": {},
     "output_type": "execute_result"
    }
   ],
   "source": [
    "torch.cuda.is_available()"
   ]
  },
  {
   "cell_type": "code",
   "execution_count": 8,
   "id": "ef60f964",
   "metadata": {},
   "outputs": [],
   "source": [
    "# Load LLaMA tokenizer\n",
    "tokenizer = AutoTokenizer.from_pretrained(model_name, trust_remote_code=True,\n",
    "                                          # add_eos_token=True,\n",
    "                                          use_fast=False)\n",
    "tokenizer.pad_token = tokenizer.eos_token\n",
    "tokenizer.padding_side = \"right\""
   ]
  },
  {
   "cell_type": "code",
   "execution_count": 9,
   "id": "84916548",
   "metadata": {},
   "outputs": [],
   "source": [
    "from peft import PeftModel, PeftConfig"
   ]
  },
  {
   "cell_type": "code",
   "execution_count": 10,
   "id": "e3ad3884",
   "metadata": {},
   "outputs": [],
   "source": [
    "new_model_name = \"/data/mistral/query-to-mql/exp-9/nov-01/checkpoint-4000\""
   ]
  },
  {
   "cell_type": "code",
   "execution_count": 11,
   "id": "e10ab609",
   "metadata": {},
   "outputs": [
    {
     "data": {
      "application/vnd.jupyter.widget-view+json": {
       "model_id": "5be52942cc53499787be34f9602b2741",
       "version_major": 2,
       "version_minor": 0
      },
      "text/plain": [
       "Loading checkpoint shards:   0%|          | 0/2 [00:00<?, ?it/s]"
      ]
     },
     "metadata": {},
     "output_type": "display_data"
    }
   ],
   "source": [
    "from peft import AutoPeftModelForCausalLM\n",
    "\n",
    "model = AutoPeftModelForCausalLM.from_pretrained(new_model_name, device_map=\"auto\", torch_dtype=torch.bfloat16)\n",
    "model = model.merge_and_unload()"
   ]
  },
  {
   "cell_type": "code",
   "execution_count": 12,
   "id": "fc15d293",
   "metadata": {
    "scrolled": true
   },
   "outputs": [],
   "source": [
    "#model.to('cuda')"
   ]
  },
  {
   "cell_type": "code",
   "execution_count": 14,
   "id": "7be81f79",
   "metadata": {},
   "outputs": [],
   "source": [
    "query_template_v1 = \"\"\"Given the context : {context} and date reference: {date_input}, the query: {user_query}, is converted into below shown structured output.\n",
    "[MQL]\n",
    "\"\"\""
   ]
  },
  {
   "cell_type": "code",
   "execution_count": 15,
   "id": "8a9a2513",
   "metadata": {},
   "outputs": [],
   "source": [
    "def predict_template_query_v1(user_query):\n",
    "    inp = query_template_v1.format(context=context2,\n",
    "                                   user_query=user_query,\n",
    "                                  date_input=date_input)\n",
    "    _inputs = tokenizer.encode(inp, return_tensors=\"pt\")\n",
    "    outputs = model.generate(input_ids=_inputs.to('cuda'), max_length= 1600, pad_token_id=tokenizer.eos_token_id)\n",
    "    output = tokenizer.decode(outputs[0])\n",
    "    output_new = output.split('[MQL]\\n')[1]\n",
    "    return output_new.split('\\n[/MQL]')[0], output\n",
    "#     return output"
   ]
  },
  {
   "cell_type": "code",
   "execution_count": 17,
   "id": "556fe256",
   "metadata": {},
   "outputs": [],
   "source": [
    "test_df = pd.read_csv('/data/mistral/query-to-mql/exp-9/testing-data-exp-9-part2.csv')"
   ]
  },
  {
   "cell_type": "code",
   "execution_count": 18,
   "id": "d2372879",
   "metadata": {},
   "outputs": [
    {
     "data": {
      "text/html": [
       "<div>\n",
       "<style scoped>\n",
       "    .dataframe tbody tr th:only-of-type {\n",
       "        vertical-align: middle;\n",
       "    }\n",
       "\n",
       "    .dataframe tbody tr th {\n",
       "        vertical-align: top;\n",
       "    }\n",
       "\n",
       "    .dataframe thead th {\n",
       "        text-align: right;\n",
       "    }\n",
       "</style>\n",
       "<table border=\"1\" class=\"dataframe\">\n",
       "  <thead>\n",
       "    <tr style=\"text-align: right;\">\n",
       "      <th></th>\n",
       "      <th>Query</th>\n",
       "    </tr>\n",
       "  </thead>\n",
       "  <tbody>\n",
       "    <tr>\n",
       "      <th>0</th>\n",
       "      <td>what is growth rate of new prescription in car...</td>\n",
       "    </tr>\n",
       "    <tr>\n",
       "      <th>1</th>\n",
       "      <td>what is correlation of new prescription for pu...</td>\n",
       "    </tr>\n",
       "  </tbody>\n",
       "</table>\n",
       "</div>"
      ],
      "text/plain": [
       "                                               Query\n",
       "0  what is growth rate of new prescription in car...\n",
       "1  what is correlation of new prescription for pu..."
      ]
     },
     "execution_count": 18,
     "metadata": {},
     "output_type": "execute_result"
    }
   ],
   "source": [
    "test_df.head(2)"
   ]
  },
  {
   "cell_type": "code",
   "execution_count": 20,
   "id": "5b5ab64a",
   "metadata": {},
   "outputs": [],
   "source": [
    "user_query_list = list(test_df['Query'])"
   ]
  },
  {
   "cell_type": "code",
   "execution_count": 21,
   "id": "4fe579c0",
   "metadata": {},
   "outputs": [],
   "source": [
    "import csv"
   ]
  },
  {
   "cell_type": "code",
   "execution_count": 22,
   "id": "87f707c2",
   "metadata": {},
   "outputs": [],
   "source": [
    "from tqdm import tqdm"
   ]
  },
  {
   "cell_type": "code",
   "execution_count": 23,
   "id": "1995b7ad",
   "metadata": {},
   "outputs": [
    {
     "name": "stderr",
     "output_type": "stream",
     "text": [
      "100%|██████████| 24/24 [17:20<00:00, 43.35s/it]"
     ]
    },
    {
     "name": "stdout",
     "output_type": "stream",
     "text": [
      "CPU times: user 16min 50s, sys: 30.5 s, total: 17min 20s\n",
      "Wall time: 17min 20s\n"
     ]
    },
    {
     "name": "stderr",
     "output_type": "stream",
     "text": [
      "\n"
     ]
    }
   ],
   "source": [
    "%%time \n",
    "data_fin = []\n",
    "for user_query in tqdm(user_query_list):\n",
    "    output, raw = predict_template_query_v1(user_query=user_query)\n",
    "    steps = 'Step 1:' +raw.split('\\nStep 1:')[1]\n",
    "    data_fin.append([user_query,eval(output), steps])\n",
    "\n",
    "with open('prediction_on_pharma_context-02.csv', 'a', newline='') as csvfile:\n",
    "    csvwriter = csv.writer(csvfile)\n",
    "    csvwriter.writerow([\"Query\", \"Intermediate MQL\", \"Reasoning\"])\n",
    "\n",
    "# Write data iteratively\n",
    "    for row in data_fin[0:]:\n",
    "        csvwriter.writerow(row)"
   ]
  },
  {
   "cell_type": "code",
   "execution_count": 16,
   "id": "5c56a945",
   "metadata": {},
   "outputs": [
    {
     "name": "stdout",
     "output_type": "stream",
     "text": [
      "user query:  what are total prescription in brownsville\n",
      "----------------------------------------------------------------------------------------------------\n"
     ]
    },
    {
     "name": "stderr",
     "output_type": "stream",
     "text": [
      "/opt/conda/lib/python3.8/site-packages/transformers/generation/utils.py:2574: UserWarning: Specified kernel cache directory could not be created! This disables kernel caching. Specified directory is /home/mosaic-ai/.cache/torch/kernels. This warning will appear only once per process. (Triggered internally at ../aten/src/ATen/native/cuda/jit_utils.cpp:1442.)\n",
      "  next_tokens.tile(eos_token_id_tensor.shape[0], 1).ne(eos_token_id_tensor.unsqueeze(1)).prod(dim=0)\n"
     ]
    },
    {
     "name": "stdout",
     "output_type": "stream",
     "text": [
      "{'MEASURE': {'total_prescriptions': [{'ENTITY': 'TRx', 'MEASURE CONSTRAINT': [{'COMPARISON VALUE': '', 'COMPARSION OPERATOR': ''}]}]}, 'FILTER': {'brownsville': [{'ENTITY': 'Brownsville', 'PARENT': 'State'}]}}\n",
      "----------------------------------------------------------------------------------------------------\n",
      "Step 1: Identify the components in the query\n",
      "- The query asks for \"total prescriptions\" in \"brownsville\".\n",
      "\n",
      "Step 2: Match the components to the context\n",
      "- \"total prescriptions\" can be matched to the \"TRx\" entity in the MEASURE context.\n",
      "- \"brownsville\" can be matched to the \"Brownsville\" entity in the FILTER context.\n",
      "\n",
      "Step 3: Convert the query into a structured output\n",
      "- Add the \"TRx\" entity from the MEASURE context to the structured output.\n",
      "- Add the \"Brownsville\" entity from the FILTER context to the structured output.\n",
      "\n",
      "Step 4: Check for date components\n",
      "- The query does not have any date components, so the date reference is not utilized in this case.\n",
      "\n",
      "Step 5: Review and validate the structured output\n",
      "- The structured output should include the \"TRx\" entity from the MEASURE context and the \"Brownsville\" entity from the FILTER context.\n",
      "- The date reference is not utilized in this case as there are no date components in the query.\n",
      "\n",
      "Rationale:\n",
      "- The query asks for the total number of prescriptions in Brownsville, so we need to identify the relevant entities from the context and add them to the structured output.\n",
      "- The \"TRx\" entity from the MEASURE context represents the total prescriptions, while the \"Brownsville\" entity from the FILTER context specifies the location for which we want the prescriptions.\n",
      "- The date reference is not utilized in this case as the query does not have any date components.\n",
      "\n",
      "Overall, the structured output should include the \"TRx\" entity from the MEASURE context and the \"Brownsville\" entity from the FILTER context.\n",
      "\n",
      "\n",
      "\n",
      "\n",
      "\n",
      "\n",
      "\n",
      "\n",
      "\n",
      "\n",
      "\n",
      "\n",
      "\n",
      "\n",
      "\n",
      "\n",
      "\n",
      "\n",
      "\n",
      "\n",
      "\n",
      "\n",
      "\n",
      "\n",
      "\n",
      "\n",
      "\n",
      "\n",
      "\n",
      "\n",
      "\n",
      "\n",
      "\n",
      "\n",
      "\n",
      "\n",
      "\n",
      "\n",
      "\n",
      "\n",
      "\n",
      "\n",
      "\n",
      "\n",
      "\n",
      "\n",
      "\n",
      "\n",
      "\n",
      "\n",
      "\n",
      "CPU times: user 42.5 s, sys: 1.21 s, total: 43.7 s\n",
      "Wall time: 43.7 s\n"
     ]
    }
   ],
   "source": [
    "%%time\n",
    "user_query = 'what are total prescription in brownsville'\n",
    "print('user query: ', user_query)\n",
    "print('-'*100)\n",
    "output, raw = predict_template_query_v1(user_query=user_query)\n",
    "print(eval(output))\n",
    "print('-'*100)\n",
    "print('Step 1:' +raw.split('\\nStep 1:')[1])"
   ]
  },
  {
   "cell_type": "code",
   "execution_count": null,
   "id": "a87b6abc",
   "metadata": {},
   "outputs": [],
   "source": []
  },
  {
   "cell_type": "code",
   "execution_count": null,
   "id": "11d41385",
   "metadata": {},
   "outputs": [],
   "source": []
  },
  {
   "cell_type": "code",
   "execution_count": null,
   "id": "fbbf7ae4",
   "metadata": {},
   "outputs": [],
   "source": []
  },
  {
   "cell_type": "code",
   "execution_count": null,
   "id": "1b7b27cb",
   "metadata": {},
   "outputs": [],
   "source": []
  },
  {
   "cell_type": "code",
   "execution_count": 7,
   "id": "bcca9365",
   "metadata": {},
   "outputs": [],
   "source": [
    "# context1 = \"\"\"{\n",
    "#     \"MEASURE\": [{\"ENTITY\": \"Insurance covergae\", \"other names\": [\"insurance amount\", \"total insurance coverage\", \"coverage\"]},\n",
    "#                 {\"ENTITY\": \"Hospital bill\", \"other names\": [\"bill\", \"hospital expenses\", \"expenses\"]},\n",
    "#                 {\"ENTITY\": \"Count\", \"other names\": [\"quantity\", \"counts\"]}],\n",
    "#     \"DIMENSION\": [{\"ENTITY\": \"Disease\", \"other names\": [\"disease\", \"Diseases\", \"health issues\"]},\n",
    "#                   {\"ENTITY\": \"State\", \"other names\": [\"segment\", \"segments\", \"units\", \"divisions\"]},\n",
    "#                   {\"ENTITY\": \"Insurer\", \"other names\": [\"insurer\", \"insurance provider\"]}],\n",
    "#     \"FILTER\": [{\"ENTITY\": \"Covid\", \"other names\": [\"covid-19\", \"covid19\",\"Covid 19\"], \"parent\": \"Disease\"},\n",
    "#                {\"ENTITY\": \"Cancer\", \"other names\": [\"cancers\", \"cancer\", \"tumour\"], \"parent\": \"Disease\"},\n",
    "#                {\"ENTITY\": \"Delhi\", \"other names\": [\"New Delhi\", \"delhi\"], \"parent\": \"State\"},\n",
    "#                {\"ENTITY\": \"Maharashtra\", \"other names\": [\"corporates\", \"corporate\"], \"parent\": \"State\"},\n",
    "#                {\"ENTITY\": \"HDFC ergo\", \"other names\": [\"hdfc\",\"HDFC\",\"HDFC health insurance\",\"hdfc insurance], \"parent\": \"Insurer\"},\n",
    "#                {\"ENTITY\": \"Aditya Birla\", \"other names\": [\"aditya birla health insurance\",\"aditya birla insurance\"], \"parent\": \"Insurer\"}],\n",
    "#     \"DERIVED MEASURE\": [{\"ENTITY\": \"Ratio\",\n",
    "#              \"other names\": [\"ratio\", \"share\", \"contribution\", \"percentage\", \"proportion\", \"contributing\"]},\n",
    "#             {\"ENTITY\": \"Why\", \"other names\": [\"why\", \"cause of\", \"reason for\", \"diagnose\"]},\n",
    "#             {\"ENTITY\": \"contribution_to_growth\", \"other names\": [\"contribution to growth\", \"growth\", \"grown\"]},\n",
    "#             {\"ENTITY\": \"kda_transactional\", \"other names\": [\"kda\", \"key drivers\", \"key driver\", \"drivers\", \"driver\"]},\n",
    "#             {\"ENTITY\": \"Growth Rate\", \"other names\": [\"growth rate\", \"growth\", \"grown\"]},\n",
    "#             {\"ENTITY\": \"correlation\",\n",
    "#              \"other names\": [\"associate\", \"associated\", \"association\", \"associations\", \"correlate\", \"correlated\",\n",
    "#                              \"correlation\", \"correlations\", \"relate\", \"related\", \"relation\", \"relations\",\n",
    "#                              \"relationship\",\n",
    "#                              \"relationships\"]}\n",
    "#             ],\n",
    "#     \"DATE VARIABLE\": [{\"ENTITY\": \"Admit Date\", \"other names\": [\"admit date\", \"date\", \"trend\", \"time\", \"when\", \"mom\", \"yoy\"]}]\n",
    "#     }\"\"\""
   ]
  },
  {
   "cell_type": "code",
   "execution_count": null,
   "id": "bd2aee97",
   "metadata": {},
   "outputs": [],
   "source": []
  },
  {
   "cell_type": "code",
   "execution_count": null,
   "id": "6a3f0bb3",
   "metadata": {},
   "outputs": [],
   "source": []
  },
  {
   "cell_type": "code",
   "execution_count": 14,
   "id": "dc44339e",
   "metadata": {},
   "outputs": [],
   "source": [
    "def inference(user_query):\n",
    "    output, raw = predict_template_query_v1(user_query=user_query)\n",
    "    mql = eval(output)\n",
    "    steps = 'Step 1:' +raw.split('\\nStep 1:')[1]\n",
    "    return mql, steps"
   ]
  },
  {
   "cell_type": "code",
   "execution_count": null,
   "id": "154aff9d",
   "metadata": {},
   "outputs": [],
   "source": [
    "%%time\n",
    "user_query = 'why sales changed in last 2 weeks of Nov 2021'\n",
    "inference(user_query)"
   ]
  },
  {
   "cell_type": "code",
   "execution_count": 5,
   "id": "47730f44",
   "metadata": {},
   "outputs": [],
   "source": [
    "# context = \"\"\"{\n",
    "#     \"MEASURE\": [{\"ENTITY\": \"Discount\", \"other names\": [\"discount\", \"discount rate\", \"discount value\", \"deduction\"]},\n",
    "#                 {\"ENTITY\": \"Purchase Vol\", \"other names\": [\"purchase\", \"purchase value\", \"purchase model\"]},\n",
    "#                 {\"ENTITY\": \"Quantity\", \"other names\": [\"quantity\", \"volume\"]},\n",
    "#                 {\"ENTITY\": \"Sales\", \"other names\": [\"sales\", \"sale\"]}],\n",
    "#     \"DIMENSION\": [{\"ENTITY\": \"Sub-Category\", \"other names\": [\"sub-category\", \"sub category\", \"categories\", \"section\"]},\n",
    "#                   {\"ENTITY\": \"Segment\", \"other names\": [\"segment\", \"segments\", \"units\", \"divisions\"]},\n",
    "#                   {\"ENTITY\": \"Parts\", \"other names\": [\"parts\", \"part\", \"section\", \"divisions\"]},\n",
    "#                   {\"ENTITY\": \"Country\", \"other names\": [\"country\", \"countries\"]}],\n",
    "#     \"FILTER\": [{\"ENTITY\": \"Consumer\", \"other names\": [\"consumers\", \"consumer\"], \"parent\": \"Segment\"},\n",
    "#                {\"ENTITY\": \"Phone\", \"other names\": [\"phone\", \"phones\", \"mobile phones\"], \"parent\": \"Sub-Category\"},\n",
    "#                {\"ENTITY\": \"Binder\", \"other names\": [\"binders\", \"binder\"], \"parent\": \"Sub-Category\"},\n",
    "#                {\"ENTITY\": \"Corporate\", \"other names\": [\"corporates\", \"corporate\"], \"parent\": \"Segment\"},\n",
    "#                {\"ENTITY\": \"India\", \"other names\": [\"india\"], \"parent\": \"Country\"},\n",
    "#                {\"ENTITY\": \"Dubai\", \"other names\": [\"dubai\"], \"parent\": \"Country\"}],\n",
    "#     \"DERIVED MEASURE\": [{\"ENTITY\": \"Ratio\",\n",
    "#              \"other names\": [\"ratio\", \"share\", \"contribution\", \"percentage\", \"proportion\", \"contributing\"]},\n",
    "#             {\"ENTITY\": \"Why\", \"other names\": [\"why\", \"cause of\", \"reason for\", \"diagnose\"]},\n",
    "#             {\"ENTITY\": \"contribution_to_growth\", \"other names\": [\"contribution to growth\", \"growth\", \"grown\"]},\n",
    "#             {\"ENTITY\": \"kda_transactional\", \"other names\": [\"kda\", \"key drivers\", \"key driver\", \"drivers\", \"driver\"]},\n",
    "#             {\"ENTITY\": \"Growth Rate\", \"other names\": [\"growth rate\", \"growth\", \"grown\"]},\n",
    "#             {\"ENTITY\": \"correlation\",\n",
    "#              \"other names\": [\"associate\", \"associated\", \"association\", \"associations\", \"correlate\", \"correlated\",\n",
    "#                              \"correlation\", \"correlations\", \"relate\", \"related\", \"relation\", \"relations\",\n",
    "#                              \"relationship\",\n",
    "#                              \"relationships\"]}\n",
    "#             ],\n",
    "#     \"DATE VARIABLE\": [{\"ENTITY\": \"Order Date\", \"other names\": [\"order date\", \"date\", \"trend\", \"time\", \"when\", \"mom\", \"yoy\"]}]\n",
    "#     }\"\"\""
   ]
  }
 ],
 "metadata": {
  "kernelspec": {
   "display_name": "Python 3",
   "language": "python",
   "name": "python3"
  },
  "language_info": {
   "codemirror_mode": {
    "name": "ipython",
    "version": 3
   },
   "file_extension": ".py",
   "mimetype": "text/x-python",
   "name": "python",
   "nbconvert_exporter": "python",
   "pygments_lexer": "ipython3",
   "version": "3.8.16"
  }
 },
 "nbformat": 4,
 "nbformat_minor": 5
}
