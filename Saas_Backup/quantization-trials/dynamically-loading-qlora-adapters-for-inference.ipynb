{
 "cells": [
  {
   "cell_type": "markdown",
   "id": "30a8dda2",
   "metadata": {},
   "source": [
    "Reference\n",
    "\n",
    "- https://github.com/adapter-hub/adapters\n",
    "- https://docs.adapterhub.ml/loading.html\n",
    "- https://docs.adapterhub.ml/adapter_composition.html\n",
    "\n",
    "\n",
    "-https://huggingface.co/docs/transformers/peft"
   ]
  },
  {
   "cell_type": "code",
   "execution_count": 1,
   "id": "b2a65d29",
   "metadata": {
    "scrolled": true
   },
   "outputs": [],
   "source": [
    "!sudo -H pip install -Uq transformers"
   ]
  },
  {
   "cell_type": "code",
   "execution_count": 2,
   "id": "5d080809",
   "metadata": {},
   "outputs": [],
   "source": [
    "#!pip install peft==0.3.0"
   ]
  },
  {
   "cell_type": "code",
   "execution_count": 3,
   "id": "f598ead7",
   "metadata": {},
   "outputs": [],
   "source": [
    "import os\n",
    "import torch\n",
    "from datasets import load_dataset\n",
    "from datasets import Dataset\n",
    "from transformers import (\n",
    "    AutoModelForCausalLM,\n",
    "    AutoTokenizer,\n",
    "    BitsAndBytesConfig,\n",
    "    HfArgumentParser,\n",
    "    TrainingArguments,\n",
    "    pipeline,\n",
    "    logging,\n",
    ")\n",
    "# from peft import LoraConfig, PeftModel\n",
    "# from trl import SFTTrainer\n",
    "import pandas as pd\n",
    "import torch"
   ]
  },
  {
   "cell_type": "markdown",
   "id": "bdf89efd",
   "metadata": {},
   "source": [
    "## 1. With base model in quantized form"
   ]
  },
  {
   "cell_type": "code",
   "execution_count": 4,
   "id": "d34574c4",
   "metadata": {},
   "outputs": [],
   "source": [
    "################################################################################\n",
    "# bitsandbytes parameters\n",
    "################################################################################\n",
    "\n",
    "# Activate 4-bit precision base model loading\n",
    "use_4bit = True\n",
    "\n",
    "# Compute dtype for 4-bit base models\n",
    "bnb_4bit_compute_dtype = \"float16\"\n",
    "\n",
    "# Quantization type (fp4 or nf4)\n",
    "bnb_4bit_quant_type = \"nf4\"\n",
    "\n",
    "# Activate nested quantization for 4-bit base models (double quantization)\n",
    "use_nested_quant = True\n",
    "\n",
    "\n",
    "# Load tokenizer and model with QLoRA configuration\n",
    "compute_dtype = getattr(torch, bnb_4bit_compute_dtype)\n",
    "\n",
    "bnb_config = BitsAndBytesConfig(\n",
    "    load_in_4bit=use_4bit,\n",
    "    bnb_4bit_quant_type=bnb_4bit_quant_type,\n",
    "    bnb_4bit_compute_dtype=compute_dtype,\n",
    "    bnb_4bit_use_double_quant=use_nested_quant,\n",
    ")\n",
    "\n",
    "\n",
    "model_name = \"facebook/opt-iml-max-1.3b\"\n",
    "\n",
    "# Load base model\n",
    "model = AutoModelForCausalLM.from_pretrained(\n",
    "    model_name,\n",
    "    quantization_config=bnb_config,\n",
    "    device_map=\"auto\",\n",
    "#     load_in_8bit=False,\n",
    "#     torch_dtype=torch.float16\n",
    ")\n",
    "model.config.use_cache = False\n",
    "model.config.pretraining_tp = 1"
   ]
  },
  {
   "cell_type": "code",
   "execution_count": 5,
   "id": "28238ad5",
   "metadata": {},
   "outputs": [],
   "source": [
    "tokenizer = AutoTokenizer.from_pretrained(model_name)"
   ]
  },
  {
   "cell_type": "code",
   "execution_count": 6,
   "id": "d06e6a96",
   "metadata": {},
   "outputs": [],
   "source": [
    "from peft import PeftModel, PeftConfig"
   ]
  },
  {
   "cell_type": "code",
   "execution_count": 7,
   "id": "c6c92c13",
   "metadata": {},
   "outputs": [],
   "source": [
    "adapter1 = \"/data/quantization-trials/checkpoint-50\"\n",
    "adapter2 = \"/data/quantization-trials/checkpoint-10\""
   ]
  },
  {
   "cell_type": "code",
   "execution_count": 8,
   "id": "e4b88e08",
   "metadata": {},
   "outputs": [],
   "source": [
    "from peft import LoraConfig, get_peft_model\n",
    "\n",
    "peft_config = LoraConfig(\n",
    "    lora_alpha=16,\n",
    "    lora_dropout=0.1,\n",
    "    target_modules = [\"q_proj\", \"v_proj\"],\n",
    "    r=16,\n",
    "    bias=\"none\",\n",
    "    task_type=\"CAUSAL_LM\",\n",
    ")"
   ]
  },
  {
   "cell_type": "code",
   "execution_count": 9,
   "id": "fea37167",
   "metadata": {},
   "outputs": [
    {
     "name": "stderr",
     "output_type": "stream",
     "text": [
      "CUDA extension not installed.\n",
      "CUDA extension not installed.\n"
     ]
    }
   ],
   "source": [
    "peft_model = get_peft_model(model, peft_config)"
   ]
  },
  {
   "cell_type": "code",
   "execution_count": 10,
   "id": "3fe36150",
   "metadata": {},
   "outputs": [
    {
     "data": {
      "text/plain": [
       "_IncompatibleKeys(missing_keys=['base_model.model.model.decoder.embed_tokens.weight', 'base_model.model.model.decoder.embed_positions.weight', 'base_model.model.model.decoder.final_layer_norm.weight', 'base_model.model.model.decoder.final_layer_norm.bias', 'base_model.model.model.decoder.layers.0.self_attn.k_proj.weight', 'base_model.model.model.decoder.layers.0.self_attn.k_proj.bias', 'base_model.model.model.decoder.layers.0.self_attn.v_proj.weight', 'base_model.model.model.decoder.layers.0.self_attn.v_proj.bias', 'base_model.model.model.decoder.layers.0.self_attn.v_proj.lora_A.default.weight', 'base_model.model.model.decoder.layers.0.self_attn.v_proj.lora_B.default.weight', 'base_model.model.model.decoder.layers.0.self_attn.q_proj.weight', 'base_model.model.model.decoder.layers.0.self_attn.q_proj.bias', 'base_model.model.model.decoder.layers.0.self_attn.q_proj.lora_A.default.weight', 'base_model.model.model.decoder.layers.0.self_attn.q_proj.lora_B.default.weight', 'base_model.model.model.decoder.layers.0.self_attn.out_proj.weight', 'base_model.model.model.decoder.layers.0.self_attn.out_proj.bias', 'base_model.model.model.decoder.layers.0.self_attn_layer_norm.weight', 'base_model.model.model.decoder.layers.0.self_attn_layer_norm.bias', 'base_model.model.model.decoder.layers.0.fc1.weight', 'base_model.model.model.decoder.layers.0.fc1.bias', 'base_model.model.model.decoder.layers.0.fc2.weight', 'base_model.model.model.decoder.layers.0.fc2.bias', 'base_model.model.model.decoder.layers.0.final_layer_norm.weight', 'base_model.model.model.decoder.layers.0.final_layer_norm.bias', 'base_model.model.model.decoder.layers.1.self_attn.k_proj.weight', 'base_model.model.model.decoder.layers.1.self_attn.k_proj.bias', 'base_model.model.model.decoder.layers.1.self_attn.v_proj.weight', 'base_model.model.model.decoder.layers.1.self_attn.v_proj.bias', 'base_model.model.model.decoder.layers.1.self_attn.v_proj.lora_A.default.weight', 'base_model.model.model.decoder.layers.1.self_attn.v_proj.lora_B.default.weight', 'base_model.model.model.decoder.layers.1.self_attn.q_proj.weight', 'base_model.model.model.decoder.layers.1.self_attn.q_proj.bias', 'base_model.model.model.decoder.layers.1.self_attn.q_proj.lora_A.default.weight', 'base_model.model.model.decoder.layers.1.self_attn.q_proj.lora_B.default.weight', 'base_model.model.model.decoder.layers.1.self_attn.out_proj.weight', 'base_model.model.model.decoder.layers.1.self_attn.out_proj.bias', 'base_model.model.model.decoder.layers.1.self_attn_layer_norm.weight', 'base_model.model.model.decoder.layers.1.self_attn_layer_norm.bias', 'base_model.model.model.decoder.layers.1.fc1.weight', 'base_model.model.model.decoder.layers.1.fc1.bias', 'base_model.model.model.decoder.layers.1.fc2.weight', 'base_model.model.model.decoder.layers.1.fc2.bias', 'base_model.model.model.decoder.layers.1.final_layer_norm.weight', 'base_model.model.model.decoder.layers.1.final_layer_norm.bias', 'base_model.model.model.decoder.layers.2.self_attn.k_proj.weight', 'base_model.model.model.decoder.layers.2.self_attn.k_proj.bias', 'base_model.model.model.decoder.layers.2.self_attn.v_proj.weight', 'base_model.model.model.decoder.layers.2.self_attn.v_proj.bias', 'base_model.model.model.decoder.layers.2.self_attn.v_proj.lora_A.default.weight', 'base_model.model.model.decoder.layers.2.self_attn.v_proj.lora_B.default.weight', 'base_model.model.model.decoder.layers.2.self_attn.q_proj.weight', 'base_model.model.model.decoder.layers.2.self_attn.q_proj.bias', 'base_model.model.model.decoder.layers.2.self_attn.q_proj.lora_A.default.weight', 'base_model.model.model.decoder.layers.2.self_attn.q_proj.lora_B.default.weight', 'base_model.model.model.decoder.layers.2.self_attn.out_proj.weight', 'base_model.model.model.decoder.layers.2.self_attn.out_proj.bias', 'base_model.model.model.decoder.layers.2.self_attn_layer_norm.weight', 'base_model.model.model.decoder.layers.2.self_attn_layer_norm.bias', 'base_model.model.model.decoder.layers.2.fc1.weight', 'base_model.model.model.decoder.layers.2.fc1.bias', 'base_model.model.model.decoder.layers.2.fc2.weight', 'base_model.model.model.decoder.layers.2.fc2.bias', 'base_model.model.model.decoder.layers.2.final_layer_norm.weight', 'base_model.model.model.decoder.layers.2.final_layer_norm.bias', 'base_model.model.model.decoder.layers.3.self_attn.k_proj.weight', 'base_model.model.model.decoder.layers.3.self_attn.k_proj.bias', 'base_model.model.model.decoder.layers.3.self_attn.v_proj.weight', 'base_model.model.model.decoder.layers.3.self_attn.v_proj.bias', 'base_model.model.model.decoder.layers.3.self_attn.v_proj.lora_A.default.weight', 'base_model.model.model.decoder.layers.3.self_attn.v_proj.lora_B.default.weight', 'base_model.model.model.decoder.layers.3.self_attn.q_proj.weight', 'base_model.model.model.decoder.layers.3.self_attn.q_proj.bias', 'base_model.model.model.decoder.layers.3.self_attn.q_proj.lora_A.default.weight', 'base_model.model.model.decoder.layers.3.self_attn.q_proj.lora_B.default.weight', 'base_model.model.model.decoder.layers.3.self_attn.out_proj.weight', 'base_model.model.model.decoder.layers.3.self_attn.out_proj.bias', 'base_model.model.model.decoder.layers.3.self_attn_layer_norm.weight', 'base_model.model.model.decoder.layers.3.self_attn_layer_norm.bias', 'base_model.model.model.decoder.layers.3.fc1.weight', 'base_model.model.model.decoder.layers.3.fc1.bias', 'base_model.model.model.decoder.layers.3.fc2.weight', 'base_model.model.model.decoder.layers.3.fc2.bias', 'base_model.model.model.decoder.layers.3.final_layer_norm.weight', 'base_model.model.model.decoder.layers.3.final_layer_norm.bias', 'base_model.model.model.decoder.layers.4.self_attn.k_proj.weight', 'base_model.model.model.decoder.layers.4.self_attn.k_proj.bias', 'base_model.model.model.decoder.layers.4.self_attn.v_proj.weight', 'base_model.model.model.decoder.layers.4.self_attn.v_proj.bias', 'base_model.model.model.decoder.layers.4.self_attn.v_proj.lora_A.default.weight', 'base_model.model.model.decoder.layers.4.self_attn.v_proj.lora_B.default.weight', 'base_model.model.model.decoder.layers.4.self_attn.q_proj.weight', 'base_model.model.model.decoder.layers.4.self_attn.q_proj.bias', 'base_model.model.model.decoder.layers.4.self_attn.q_proj.lora_A.default.weight', 'base_model.model.model.decoder.layers.4.self_attn.q_proj.lora_B.default.weight', 'base_model.model.model.decoder.layers.4.self_attn.out_proj.weight', 'base_model.model.model.decoder.layers.4.self_attn.out_proj.bias', 'base_model.model.model.decoder.layers.4.self_attn_layer_norm.weight', 'base_model.model.model.decoder.layers.4.self_attn_layer_norm.bias', 'base_model.model.model.decoder.layers.4.fc1.weight', 'base_model.model.model.decoder.layers.4.fc1.bias', 'base_model.model.model.decoder.layers.4.fc2.weight', 'base_model.model.model.decoder.layers.4.fc2.bias', 'base_model.model.model.decoder.layers.4.final_layer_norm.weight', 'base_model.model.model.decoder.layers.4.final_layer_norm.bias', 'base_model.model.model.decoder.layers.5.self_attn.k_proj.weight', 'base_model.model.model.decoder.layers.5.self_attn.k_proj.bias', 'base_model.model.model.decoder.layers.5.self_attn.v_proj.weight', 'base_model.model.model.decoder.layers.5.self_attn.v_proj.bias', 'base_model.model.model.decoder.layers.5.self_attn.v_proj.lora_A.default.weight', 'base_model.model.model.decoder.layers.5.self_attn.v_proj.lora_B.default.weight', 'base_model.model.model.decoder.layers.5.self_attn.q_proj.weight', 'base_model.model.model.decoder.layers.5.self_attn.q_proj.bias', 'base_model.model.model.decoder.layers.5.self_attn.q_proj.lora_A.default.weight', 'base_model.model.model.decoder.layers.5.self_attn.q_proj.lora_B.default.weight', 'base_model.model.model.decoder.layers.5.self_attn.out_proj.weight', 'base_model.model.model.decoder.layers.5.self_attn.out_proj.bias', 'base_model.model.model.decoder.layers.5.self_attn_layer_norm.weight', 'base_model.model.model.decoder.layers.5.self_attn_layer_norm.bias', 'base_model.model.model.decoder.layers.5.fc1.weight', 'base_model.model.model.decoder.layers.5.fc1.bias', 'base_model.model.model.decoder.layers.5.fc2.weight', 'base_model.model.model.decoder.layers.5.fc2.bias', 'base_model.model.model.decoder.layers.5.final_layer_norm.weight', 'base_model.model.model.decoder.layers.5.final_layer_norm.bias', 'base_model.model.model.decoder.layers.6.self_attn.k_proj.weight', 'base_model.model.model.decoder.layers.6.self_attn.k_proj.bias', 'base_model.model.model.decoder.layers.6.self_attn.v_proj.weight', 'base_model.model.model.decoder.layers.6.self_attn.v_proj.bias', 'base_model.model.model.decoder.layers.6.self_attn.v_proj.lora_A.default.weight', 'base_model.model.model.decoder.layers.6.self_attn.v_proj.lora_B.default.weight', 'base_model.model.model.decoder.layers.6.self_attn.q_proj.weight', 'base_model.model.model.decoder.layers.6.self_attn.q_proj.bias', 'base_model.model.model.decoder.layers.6.self_attn.q_proj.lora_A.default.weight', 'base_model.model.model.decoder.layers.6.self_attn.q_proj.lora_B.default.weight', 'base_model.model.model.decoder.layers.6.self_attn.out_proj.weight', 'base_model.model.model.decoder.layers.6.self_attn.out_proj.bias', 'base_model.model.model.decoder.layers.6.self_attn_layer_norm.weight', 'base_model.model.model.decoder.layers.6.self_attn_layer_norm.bias', 'base_model.model.model.decoder.layers.6.fc1.weight', 'base_model.model.model.decoder.layers.6.fc1.bias', 'base_model.model.model.decoder.layers.6.fc2.weight', 'base_model.model.model.decoder.layers.6.fc2.bias', 'base_model.model.model.decoder.layers.6.final_layer_norm.weight', 'base_model.model.model.decoder.layers.6.final_layer_norm.bias', 'base_model.model.model.decoder.layers.7.self_attn.k_proj.weight', 'base_model.model.model.decoder.layers.7.self_attn.k_proj.bias', 'base_model.model.model.decoder.layers.7.self_attn.v_proj.weight', 'base_model.model.model.decoder.layers.7.self_attn.v_proj.bias', 'base_model.model.model.decoder.layers.7.self_attn.v_proj.lora_A.default.weight', 'base_model.model.model.decoder.layers.7.self_attn.v_proj.lora_B.default.weight', 'base_model.model.model.decoder.layers.7.self_attn.q_proj.weight', 'base_model.model.model.decoder.layers.7.self_attn.q_proj.bias', 'base_model.model.model.decoder.layers.7.self_attn.q_proj.lora_A.default.weight', 'base_model.model.model.decoder.layers.7.self_attn.q_proj.lora_B.default.weight', 'base_model.model.model.decoder.layers.7.self_attn.out_proj.weight', 'base_model.model.model.decoder.layers.7.self_attn.out_proj.bias', 'base_model.model.model.decoder.layers.7.self_attn_layer_norm.weight', 'base_model.model.model.decoder.layers.7.self_attn_layer_norm.bias', 'base_model.model.model.decoder.layers.7.fc1.weight', 'base_model.model.model.decoder.layers.7.fc1.bias', 'base_model.model.model.decoder.layers.7.fc2.weight', 'base_model.model.model.decoder.layers.7.fc2.bias', 'base_model.model.model.decoder.layers.7.final_layer_norm.weight', 'base_model.model.model.decoder.layers.7.final_layer_norm.bias', 'base_model.model.model.decoder.layers.8.self_attn.k_proj.weight', 'base_model.model.model.decoder.layers.8.self_attn.k_proj.bias', 'base_model.model.model.decoder.layers.8.self_attn.v_proj.weight', 'base_model.model.model.decoder.layers.8.self_attn.v_proj.bias', 'base_model.model.model.decoder.layers.8.self_attn.v_proj.lora_A.default.weight', 'base_model.model.model.decoder.layers.8.self_attn.v_proj.lora_B.default.weight', 'base_model.model.model.decoder.layers.8.self_attn.q_proj.weight', 'base_model.model.model.decoder.layers.8.self_attn.q_proj.bias', 'base_model.model.model.decoder.layers.8.self_attn.q_proj.lora_A.default.weight', 'base_model.model.model.decoder.layers.8.self_attn.q_proj.lora_B.default.weight', 'base_model.model.model.decoder.layers.8.self_attn.out_proj.weight', 'base_model.model.model.decoder.layers.8.self_attn.out_proj.bias', 'base_model.model.model.decoder.layers.8.self_attn_layer_norm.weight', 'base_model.model.model.decoder.layers.8.self_attn_layer_norm.bias', 'base_model.model.model.decoder.layers.8.fc1.weight', 'base_model.model.model.decoder.layers.8.fc1.bias', 'base_model.model.model.decoder.layers.8.fc2.weight', 'base_model.model.model.decoder.layers.8.fc2.bias', 'base_model.model.model.decoder.layers.8.final_layer_norm.weight', 'base_model.model.model.decoder.layers.8.final_layer_norm.bias', 'base_model.model.model.decoder.layers.9.self_attn.k_proj.weight', 'base_model.model.model.decoder.layers.9.self_attn.k_proj.bias', 'base_model.model.model.decoder.layers.9.self_attn.v_proj.weight', 'base_model.model.model.decoder.layers.9.self_attn.v_proj.bias', 'base_model.model.model.decoder.layers.9.self_attn.v_proj.lora_A.default.weight', 'base_model.model.model.decoder.layers.9.self_attn.v_proj.lora_B.default.weight', 'base_model.model.model.decoder.layers.9.self_attn.q_proj.weight', 'base_model.model.model.decoder.layers.9.self_attn.q_proj.bias', 'base_model.model.model.decoder.layers.9.self_attn.q_proj.lora_A.default.weight', 'base_model.model.model.decoder.layers.9.self_attn.q_proj.lora_B.default.weight', 'base_model.model.model.decoder.layers.9.self_attn.out_proj.weight', 'base_model.model.model.decoder.layers.9.self_attn.out_proj.bias', 'base_model.model.model.decoder.layers.9.self_attn_layer_norm.weight', 'base_model.model.model.decoder.layers.9.self_attn_layer_norm.bias', 'base_model.model.model.decoder.layers.9.fc1.weight', 'base_model.model.model.decoder.layers.9.fc1.bias', 'base_model.model.model.decoder.layers.9.fc2.weight', 'base_model.model.model.decoder.layers.9.fc2.bias', 'base_model.model.model.decoder.layers.9.final_layer_norm.weight', 'base_model.model.model.decoder.layers.9.final_layer_norm.bias', 'base_model.model.model.decoder.layers.10.self_attn.k_proj.weight', 'base_model.model.model.decoder.layers.10.self_attn.k_proj.bias', 'base_model.model.model.decoder.layers.10.self_attn.v_proj.weight', 'base_model.model.model.decoder.layers.10.self_attn.v_proj.bias', 'base_model.model.model.decoder.layers.10.self_attn.v_proj.lora_A.default.weight', 'base_model.model.model.decoder.layers.10.self_attn.v_proj.lora_B.default.weight', 'base_model.model.model.decoder.layers.10.self_attn.q_proj.weight', 'base_model.model.model.decoder.layers.10.self_attn.q_proj.bias', 'base_model.model.model.decoder.layers.10.self_attn.q_proj.lora_A.default.weight', 'base_model.model.model.decoder.layers.10.self_attn.q_proj.lora_B.default.weight', 'base_model.model.model.decoder.layers.10.self_attn.out_proj.weight', 'base_model.model.model.decoder.layers.10.self_attn.out_proj.bias', 'base_model.model.model.decoder.layers.10.self_attn_layer_norm.weight', 'base_model.model.model.decoder.layers.10.self_attn_layer_norm.bias', 'base_model.model.model.decoder.layers.10.fc1.weight', 'base_model.model.model.decoder.layers.10.fc1.bias', 'base_model.model.model.decoder.layers.10.fc2.weight', 'base_model.model.model.decoder.layers.10.fc2.bias', 'base_model.model.model.decoder.layers.10.final_layer_norm.weight', 'base_model.model.model.decoder.layers.10.final_layer_norm.bias', 'base_model.model.model.decoder.layers.11.self_attn.k_proj.weight', 'base_model.model.model.decoder.layers.11.self_attn.k_proj.bias', 'base_model.model.model.decoder.layers.11.self_attn.v_proj.weight', 'base_model.model.model.decoder.layers.11.self_attn.v_proj.bias', 'base_model.model.model.decoder.layers.11.self_attn.v_proj.lora_A.default.weight', 'base_model.model.model.decoder.layers.11.self_attn.v_proj.lora_B.default.weight', 'base_model.model.model.decoder.layers.11.self_attn.q_proj.weight', 'base_model.model.model.decoder.layers.11.self_attn.q_proj.bias', 'base_model.model.model.decoder.layers.11.self_attn.q_proj.lora_A.default.weight', 'base_model.model.model.decoder.layers.11.self_attn.q_proj.lora_B.default.weight', 'base_model.model.model.decoder.layers.11.self_attn.out_proj.weight', 'base_model.model.model.decoder.layers.11.self_attn.out_proj.bias', 'base_model.model.model.decoder.layers.11.self_attn_layer_norm.weight', 'base_model.model.model.decoder.layers.11.self_attn_layer_norm.bias', 'base_model.model.model.decoder.layers.11.fc1.weight', 'base_model.model.model.decoder.layers.11.fc1.bias', 'base_model.model.model.decoder.layers.11.fc2.weight', 'base_model.model.model.decoder.layers.11.fc2.bias', 'base_model.model.model.decoder.layers.11.final_layer_norm.weight', 'base_model.model.model.decoder.layers.11.final_layer_norm.bias', 'base_model.model.model.decoder.layers.12.self_attn.k_proj.weight', 'base_model.model.model.decoder.layers.12.self_attn.k_proj.bias', 'base_model.model.model.decoder.layers.12.self_attn.v_proj.weight', 'base_model.model.model.decoder.layers.12.self_attn.v_proj.bias', 'base_model.model.model.decoder.layers.12.self_attn.v_proj.lora_A.default.weight', 'base_model.model.model.decoder.layers.12.self_attn.v_proj.lora_B.default.weight', 'base_model.model.model.decoder.layers.12.self_attn.q_proj.weight', 'base_model.model.model.decoder.layers.12.self_attn.q_proj.bias', 'base_model.model.model.decoder.layers.12.self_attn.q_proj.lora_A.default.weight', 'base_model.model.model.decoder.layers.12.self_attn.q_proj.lora_B.default.weight', 'base_model.model.model.decoder.layers.12.self_attn.out_proj.weight', 'base_model.model.model.decoder.layers.12.self_attn.out_proj.bias', 'base_model.model.model.decoder.layers.12.self_attn_layer_norm.weight', 'base_model.model.model.decoder.layers.12.self_attn_layer_norm.bias', 'base_model.model.model.decoder.layers.12.fc1.weight', 'base_model.model.model.decoder.layers.12.fc1.bias', 'base_model.model.model.decoder.layers.12.fc2.weight', 'base_model.model.model.decoder.layers.12.fc2.bias', 'base_model.model.model.decoder.layers.12.final_layer_norm.weight', 'base_model.model.model.decoder.layers.12.final_layer_norm.bias', 'base_model.model.model.decoder.layers.13.self_attn.k_proj.weight', 'base_model.model.model.decoder.layers.13.self_attn.k_proj.bias', 'base_model.model.model.decoder.layers.13.self_attn.v_proj.weight', 'base_model.model.model.decoder.layers.13.self_attn.v_proj.bias', 'base_model.model.model.decoder.layers.13.self_attn.v_proj.lora_A.default.weight', 'base_model.model.model.decoder.layers.13.self_attn.v_proj.lora_B.default.weight', 'base_model.model.model.decoder.layers.13.self_attn.q_proj.weight', 'base_model.model.model.decoder.layers.13.self_attn.q_proj.bias', 'base_model.model.model.decoder.layers.13.self_attn.q_proj.lora_A.default.weight', 'base_model.model.model.decoder.layers.13.self_attn.q_proj.lora_B.default.weight', 'base_model.model.model.decoder.layers.13.self_attn.out_proj.weight', 'base_model.model.model.decoder.layers.13.self_attn.out_proj.bias', 'base_model.model.model.decoder.layers.13.self_attn_layer_norm.weight', 'base_model.model.model.decoder.layers.13.self_attn_layer_norm.bias', 'base_model.model.model.decoder.layers.13.fc1.weight', 'base_model.model.model.decoder.layers.13.fc1.bias', 'base_model.model.model.decoder.layers.13.fc2.weight', 'base_model.model.model.decoder.layers.13.fc2.bias', 'base_model.model.model.decoder.layers.13.final_layer_norm.weight', 'base_model.model.model.decoder.layers.13.final_layer_norm.bias', 'base_model.model.model.decoder.layers.14.self_attn.k_proj.weight', 'base_model.model.model.decoder.layers.14.self_attn.k_proj.bias', 'base_model.model.model.decoder.layers.14.self_attn.v_proj.weight', 'base_model.model.model.decoder.layers.14.self_attn.v_proj.bias', 'base_model.model.model.decoder.layers.14.self_attn.v_proj.lora_A.default.weight', 'base_model.model.model.decoder.layers.14.self_attn.v_proj.lora_B.default.weight', 'base_model.model.model.decoder.layers.14.self_attn.q_proj.weight', 'base_model.model.model.decoder.layers.14.self_attn.q_proj.bias', 'base_model.model.model.decoder.layers.14.self_attn.q_proj.lora_A.default.weight', 'base_model.model.model.decoder.layers.14.self_attn.q_proj.lora_B.default.weight', 'base_model.model.model.decoder.layers.14.self_attn.out_proj.weight', 'base_model.model.model.decoder.layers.14.self_attn.out_proj.bias', 'base_model.model.model.decoder.layers.14.self_attn_layer_norm.weight', 'base_model.model.model.decoder.layers.14.self_attn_layer_norm.bias', 'base_model.model.model.decoder.layers.14.fc1.weight', 'base_model.model.model.decoder.layers.14.fc1.bias', 'base_model.model.model.decoder.layers.14.fc2.weight', 'base_model.model.model.decoder.layers.14.fc2.bias', 'base_model.model.model.decoder.layers.14.final_layer_norm.weight', 'base_model.model.model.decoder.layers.14.final_layer_norm.bias', 'base_model.model.model.decoder.layers.15.self_attn.k_proj.weight', 'base_model.model.model.decoder.layers.15.self_attn.k_proj.bias', 'base_model.model.model.decoder.layers.15.self_attn.v_proj.weight', 'base_model.model.model.decoder.layers.15.self_attn.v_proj.bias', 'base_model.model.model.decoder.layers.15.self_attn.v_proj.lora_A.default.weight', 'base_model.model.model.decoder.layers.15.self_attn.v_proj.lora_B.default.weight', 'base_model.model.model.decoder.layers.15.self_attn.q_proj.weight', 'base_model.model.model.decoder.layers.15.self_attn.q_proj.bias', 'base_model.model.model.decoder.layers.15.self_attn.q_proj.lora_A.default.weight', 'base_model.model.model.decoder.layers.15.self_attn.q_proj.lora_B.default.weight', 'base_model.model.model.decoder.layers.15.self_attn.out_proj.weight', 'base_model.model.model.decoder.layers.15.self_attn.out_proj.bias', 'base_model.model.model.decoder.layers.15.self_attn_layer_norm.weight', 'base_model.model.model.decoder.layers.15.self_attn_layer_norm.bias', 'base_model.model.model.decoder.layers.15.fc1.weight', 'base_model.model.model.decoder.layers.15.fc1.bias', 'base_model.model.model.decoder.layers.15.fc2.weight', 'base_model.model.model.decoder.layers.15.fc2.bias', 'base_model.model.model.decoder.layers.15.final_layer_norm.weight', 'base_model.model.model.decoder.layers.15.final_layer_norm.bias', 'base_model.model.model.decoder.layers.16.self_attn.k_proj.weight', 'base_model.model.model.decoder.layers.16.self_attn.k_proj.bias', 'base_model.model.model.decoder.layers.16.self_attn.v_proj.weight', 'base_model.model.model.decoder.layers.16.self_attn.v_proj.bias', 'base_model.model.model.decoder.layers.16.self_attn.v_proj.lora_A.default.weight', 'base_model.model.model.decoder.layers.16.self_attn.v_proj.lora_B.default.weight', 'base_model.model.model.decoder.layers.16.self_attn.q_proj.weight', 'base_model.model.model.decoder.layers.16.self_attn.q_proj.bias', 'base_model.model.model.decoder.layers.16.self_attn.q_proj.lora_A.default.weight', 'base_model.model.model.decoder.layers.16.self_attn.q_proj.lora_B.default.weight', 'base_model.model.model.decoder.layers.16.self_attn.out_proj.weight', 'base_model.model.model.decoder.layers.16.self_attn.out_proj.bias', 'base_model.model.model.decoder.layers.16.self_attn_layer_norm.weight', 'base_model.model.model.decoder.layers.16.self_attn_layer_norm.bias', 'base_model.model.model.decoder.layers.16.fc1.weight', 'base_model.model.model.decoder.layers.16.fc1.bias', 'base_model.model.model.decoder.layers.16.fc2.weight', 'base_model.model.model.decoder.layers.16.fc2.bias', 'base_model.model.model.decoder.layers.16.final_layer_norm.weight', 'base_model.model.model.decoder.layers.16.final_layer_norm.bias', 'base_model.model.model.decoder.layers.17.self_attn.k_proj.weight', 'base_model.model.model.decoder.layers.17.self_attn.k_proj.bias', 'base_model.model.model.decoder.layers.17.self_attn.v_proj.weight', 'base_model.model.model.decoder.layers.17.self_attn.v_proj.bias', 'base_model.model.model.decoder.layers.17.self_attn.v_proj.lora_A.default.weight', 'base_model.model.model.decoder.layers.17.self_attn.v_proj.lora_B.default.weight', 'base_model.model.model.decoder.layers.17.self_attn.q_proj.weight', 'base_model.model.model.decoder.layers.17.self_attn.q_proj.bias', 'base_model.model.model.decoder.layers.17.self_attn.q_proj.lora_A.default.weight', 'base_model.model.model.decoder.layers.17.self_attn.q_proj.lora_B.default.weight', 'base_model.model.model.decoder.layers.17.self_attn.out_proj.weight', 'base_model.model.model.decoder.layers.17.self_attn.out_proj.bias', 'base_model.model.model.decoder.layers.17.self_attn_layer_norm.weight', 'base_model.model.model.decoder.layers.17.self_attn_layer_norm.bias', 'base_model.model.model.decoder.layers.17.fc1.weight', 'base_model.model.model.decoder.layers.17.fc1.bias', 'base_model.model.model.decoder.layers.17.fc2.weight', 'base_model.model.model.decoder.layers.17.fc2.bias', 'base_model.model.model.decoder.layers.17.final_layer_norm.weight', 'base_model.model.model.decoder.layers.17.final_layer_norm.bias', 'base_model.model.model.decoder.layers.18.self_attn.k_proj.weight', 'base_model.model.model.decoder.layers.18.self_attn.k_proj.bias', 'base_model.model.model.decoder.layers.18.self_attn.v_proj.weight', 'base_model.model.model.decoder.layers.18.self_attn.v_proj.bias', 'base_model.model.model.decoder.layers.18.self_attn.v_proj.lora_A.default.weight', 'base_model.model.model.decoder.layers.18.self_attn.v_proj.lora_B.default.weight', 'base_model.model.model.decoder.layers.18.self_attn.q_proj.weight', 'base_model.model.model.decoder.layers.18.self_attn.q_proj.bias', 'base_model.model.model.decoder.layers.18.self_attn.q_proj.lora_A.default.weight', 'base_model.model.model.decoder.layers.18.self_attn.q_proj.lora_B.default.weight', 'base_model.model.model.decoder.layers.18.self_attn.out_proj.weight', 'base_model.model.model.decoder.layers.18.self_attn.out_proj.bias', 'base_model.model.model.decoder.layers.18.self_attn_layer_norm.weight', 'base_model.model.model.decoder.layers.18.self_attn_layer_norm.bias', 'base_model.model.model.decoder.layers.18.fc1.weight', 'base_model.model.model.decoder.layers.18.fc1.bias', 'base_model.model.model.decoder.layers.18.fc2.weight', 'base_model.model.model.decoder.layers.18.fc2.bias', 'base_model.model.model.decoder.layers.18.final_layer_norm.weight', 'base_model.model.model.decoder.layers.18.final_layer_norm.bias', 'base_model.model.model.decoder.layers.19.self_attn.k_proj.weight', 'base_model.model.model.decoder.layers.19.self_attn.k_proj.bias', 'base_model.model.model.decoder.layers.19.self_attn.v_proj.weight', 'base_model.model.model.decoder.layers.19.self_attn.v_proj.bias', 'base_model.model.model.decoder.layers.19.self_attn.v_proj.lora_A.default.weight', 'base_model.model.model.decoder.layers.19.self_attn.v_proj.lora_B.default.weight', 'base_model.model.model.decoder.layers.19.self_attn.q_proj.weight', 'base_model.model.model.decoder.layers.19.self_attn.q_proj.bias', 'base_model.model.model.decoder.layers.19.self_attn.q_proj.lora_A.default.weight', 'base_model.model.model.decoder.layers.19.self_attn.q_proj.lora_B.default.weight', 'base_model.model.model.decoder.layers.19.self_attn.out_proj.weight', 'base_model.model.model.decoder.layers.19.self_attn.out_proj.bias', 'base_model.model.model.decoder.layers.19.self_attn_layer_norm.weight', 'base_model.model.model.decoder.layers.19.self_attn_layer_norm.bias', 'base_model.model.model.decoder.layers.19.fc1.weight', 'base_model.model.model.decoder.layers.19.fc1.bias', 'base_model.model.model.decoder.layers.19.fc2.weight', 'base_model.model.model.decoder.layers.19.fc2.bias', 'base_model.model.model.decoder.layers.19.final_layer_norm.weight', 'base_model.model.model.decoder.layers.19.final_layer_norm.bias', 'base_model.model.model.decoder.layers.20.self_attn.k_proj.weight', 'base_model.model.model.decoder.layers.20.self_attn.k_proj.bias', 'base_model.model.model.decoder.layers.20.self_attn.v_proj.weight', 'base_model.model.model.decoder.layers.20.self_attn.v_proj.bias', 'base_model.model.model.decoder.layers.20.self_attn.v_proj.lora_A.default.weight', 'base_model.model.model.decoder.layers.20.self_attn.v_proj.lora_B.default.weight', 'base_model.model.model.decoder.layers.20.self_attn.q_proj.weight', 'base_model.model.model.decoder.layers.20.self_attn.q_proj.bias', 'base_model.model.model.decoder.layers.20.self_attn.q_proj.lora_A.default.weight', 'base_model.model.model.decoder.layers.20.self_attn.q_proj.lora_B.default.weight', 'base_model.model.model.decoder.layers.20.self_attn.out_proj.weight', 'base_model.model.model.decoder.layers.20.self_attn.out_proj.bias', 'base_model.model.model.decoder.layers.20.self_attn_layer_norm.weight', 'base_model.model.model.decoder.layers.20.self_attn_layer_norm.bias', 'base_model.model.model.decoder.layers.20.fc1.weight', 'base_model.model.model.decoder.layers.20.fc1.bias', 'base_model.model.model.decoder.layers.20.fc2.weight', 'base_model.model.model.decoder.layers.20.fc2.bias', 'base_model.model.model.decoder.layers.20.final_layer_norm.weight', 'base_model.model.model.decoder.layers.20.final_layer_norm.bias', 'base_model.model.model.decoder.layers.21.self_attn.k_proj.weight', 'base_model.model.model.decoder.layers.21.self_attn.k_proj.bias', 'base_model.model.model.decoder.layers.21.self_attn.v_proj.weight', 'base_model.model.model.decoder.layers.21.self_attn.v_proj.bias', 'base_model.model.model.decoder.layers.21.self_attn.v_proj.lora_A.default.weight', 'base_model.model.model.decoder.layers.21.self_attn.v_proj.lora_B.default.weight', 'base_model.model.model.decoder.layers.21.self_attn.q_proj.weight', 'base_model.model.model.decoder.layers.21.self_attn.q_proj.bias', 'base_model.model.model.decoder.layers.21.self_attn.q_proj.lora_A.default.weight', 'base_model.model.model.decoder.layers.21.self_attn.q_proj.lora_B.default.weight', 'base_model.model.model.decoder.layers.21.self_attn.out_proj.weight', 'base_model.model.model.decoder.layers.21.self_attn.out_proj.bias', 'base_model.model.model.decoder.layers.21.self_attn_layer_norm.weight', 'base_model.model.model.decoder.layers.21.self_attn_layer_norm.bias', 'base_model.model.model.decoder.layers.21.fc1.weight', 'base_model.model.model.decoder.layers.21.fc1.bias', 'base_model.model.model.decoder.layers.21.fc2.weight', 'base_model.model.model.decoder.layers.21.fc2.bias', 'base_model.model.model.decoder.layers.21.final_layer_norm.weight', 'base_model.model.model.decoder.layers.21.final_layer_norm.bias', 'base_model.model.model.decoder.layers.22.self_attn.k_proj.weight', 'base_model.model.model.decoder.layers.22.self_attn.k_proj.bias', 'base_model.model.model.decoder.layers.22.self_attn.v_proj.weight', 'base_model.model.model.decoder.layers.22.self_attn.v_proj.bias', 'base_model.model.model.decoder.layers.22.self_attn.v_proj.lora_A.default.weight', 'base_model.model.model.decoder.layers.22.self_attn.v_proj.lora_B.default.weight', 'base_model.model.model.decoder.layers.22.self_attn.q_proj.weight', 'base_model.model.model.decoder.layers.22.self_attn.q_proj.bias', 'base_model.model.model.decoder.layers.22.self_attn.q_proj.lora_A.default.weight', 'base_model.model.model.decoder.layers.22.self_attn.q_proj.lora_B.default.weight', 'base_model.model.model.decoder.layers.22.self_attn.out_proj.weight', 'base_model.model.model.decoder.layers.22.self_attn.out_proj.bias', 'base_model.model.model.decoder.layers.22.self_attn_layer_norm.weight', 'base_model.model.model.decoder.layers.22.self_attn_layer_norm.bias', 'base_model.model.model.decoder.layers.22.fc1.weight', 'base_model.model.model.decoder.layers.22.fc1.bias', 'base_model.model.model.decoder.layers.22.fc2.weight', 'base_model.model.model.decoder.layers.22.fc2.bias', 'base_model.model.model.decoder.layers.22.final_layer_norm.weight', 'base_model.model.model.decoder.layers.22.final_layer_norm.bias', 'base_model.model.model.decoder.layers.23.self_attn.k_proj.weight', 'base_model.model.model.decoder.layers.23.self_attn.k_proj.bias', 'base_model.model.model.decoder.layers.23.self_attn.v_proj.weight', 'base_model.model.model.decoder.layers.23.self_attn.v_proj.bias', 'base_model.model.model.decoder.layers.23.self_attn.v_proj.lora_A.default.weight', 'base_model.model.model.decoder.layers.23.self_attn.v_proj.lora_B.default.weight', 'base_model.model.model.decoder.layers.23.self_attn.q_proj.weight', 'base_model.model.model.decoder.layers.23.self_attn.q_proj.bias', 'base_model.model.model.decoder.layers.23.self_attn.q_proj.lora_A.default.weight', 'base_model.model.model.decoder.layers.23.self_attn.q_proj.lora_B.default.weight', 'base_model.model.model.decoder.layers.23.self_attn.out_proj.weight', 'base_model.model.model.decoder.layers.23.self_attn.out_proj.bias', 'base_model.model.model.decoder.layers.23.self_attn_layer_norm.weight', 'base_model.model.model.decoder.layers.23.self_attn_layer_norm.bias', 'base_model.model.model.decoder.layers.23.fc1.weight', 'base_model.model.model.decoder.layers.23.fc1.bias', 'base_model.model.model.decoder.layers.23.fc2.weight', 'base_model.model.model.decoder.layers.23.fc2.bias', 'base_model.model.model.decoder.layers.23.final_layer_norm.weight', 'base_model.model.model.decoder.layers.23.final_layer_norm.bias', 'base_model.model.lm_head.weight'], unexpected_keys=[])"
      ]
     },
     "execution_count": 10,
     "metadata": {},
     "output_type": "execute_result"
    }
   ],
   "source": [
    "peft_model.load_adapter(adapter1, adapter_name = 'adapter1')"
   ]
  },
  {
   "cell_type": "code",
   "execution_count": 11,
   "id": "f1602ac6",
   "metadata": {},
   "outputs": [
    {
     "data": {
      "text/plain": [
       "_IncompatibleKeys(missing_keys=['base_model.model.model.decoder.embed_tokens.weight', 'base_model.model.model.decoder.embed_positions.weight', 'base_model.model.model.decoder.final_layer_norm.weight', 'base_model.model.model.decoder.final_layer_norm.bias', 'base_model.model.model.decoder.layers.0.self_attn.k_proj.weight', 'base_model.model.model.decoder.layers.0.self_attn.k_proj.bias', 'base_model.model.model.decoder.layers.0.self_attn.v_proj.weight', 'base_model.model.model.decoder.layers.0.self_attn.v_proj.bias', 'base_model.model.model.decoder.layers.0.self_attn.v_proj.lora_A.default.weight', 'base_model.model.model.decoder.layers.0.self_attn.v_proj.lora_A.adapter1.weight', 'base_model.model.model.decoder.layers.0.self_attn.v_proj.lora_B.default.weight', 'base_model.model.model.decoder.layers.0.self_attn.v_proj.lora_B.adapter1.weight', 'base_model.model.model.decoder.layers.0.self_attn.q_proj.weight', 'base_model.model.model.decoder.layers.0.self_attn.q_proj.bias', 'base_model.model.model.decoder.layers.0.self_attn.q_proj.lora_A.default.weight', 'base_model.model.model.decoder.layers.0.self_attn.q_proj.lora_A.adapter1.weight', 'base_model.model.model.decoder.layers.0.self_attn.q_proj.lora_B.default.weight', 'base_model.model.model.decoder.layers.0.self_attn.q_proj.lora_B.adapter1.weight', 'base_model.model.model.decoder.layers.0.self_attn.out_proj.weight', 'base_model.model.model.decoder.layers.0.self_attn.out_proj.bias', 'base_model.model.model.decoder.layers.0.self_attn_layer_norm.weight', 'base_model.model.model.decoder.layers.0.self_attn_layer_norm.bias', 'base_model.model.model.decoder.layers.0.fc1.weight', 'base_model.model.model.decoder.layers.0.fc1.bias', 'base_model.model.model.decoder.layers.0.fc2.weight', 'base_model.model.model.decoder.layers.0.fc2.bias', 'base_model.model.model.decoder.layers.0.final_layer_norm.weight', 'base_model.model.model.decoder.layers.0.final_layer_norm.bias', 'base_model.model.model.decoder.layers.1.self_attn.k_proj.weight', 'base_model.model.model.decoder.layers.1.self_attn.k_proj.bias', 'base_model.model.model.decoder.layers.1.self_attn.v_proj.weight', 'base_model.model.model.decoder.layers.1.self_attn.v_proj.bias', 'base_model.model.model.decoder.layers.1.self_attn.v_proj.lora_A.default.weight', 'base_model.model.model.decoder.layers.1.self_attn.v_proj.lora_A.adapter1.weight', 'base_model.model.model.decoder.layers.1.self_attn.v_proj.lora_B.default.weight', 'base_model.model.model.decoder.layers.1.self_attn.v_proj.lora_B.adapter1.weight', 'base_model.model.model.decoder.layers.1.self_attn.q_proj.weight', 'base_model.model.model.decoder.layers.1.self_attn.q_proj.bias', 'base_model.model.model.decoder.layers.1.self_attn.q_proj.lora_A.default.weight', 'base_model.model.model.decoder.layers.1.self_attn.q_proj.lora_A.adapter1.weight', 'base_model.model.model.decoder.layers.1.self_attn.q_proj.lora_B.default.weight', 'base_model.model.model.decoder.layers.1.self_attn.q_proj.lora_B.adapter1.weight', 'base_model.model.model.decoder.layers.1.self_attn.out_proj.weight', 'base_model.model.model.decoder.layers.1.self_attn.out_proj.bias', 'base_model.model.model.decoder.layers.1.self_attn_layer_norm.weight', 'base_model.model.model.decoder.layers.1.self_attn_layer_norm.bias', 'base_model.model.model.decoder.layers.1.fc1.weight', 'base_model.model.model.decoder.layers.1.fc1.bias', 'base_model.model.model.decoder.layers.1.fc2.weight', 'base_model.model.model.decoder.layers.1.fc2.bias', 'base_model.model.model.decoder.layers.1.final_layer_norm.weight', 'base_model.model.model.decoder.layers.1.final_layer_norm.bias', 'base_model.model.model.decoder.layers.2.self_attn.k_proj.weight', 'base_model.model.model.decoder.layers.2.self_attn.k_proj.bias', 'base_model.model.model.decoder.layers.2.self_attn.v_proj.weight', 'base_model.model.model.decoder.layers.2.self_attn.v_proj.bias', 'base_model.model.model.decoder.layers.2.self_attn.v_proj.lora_A.default.weight', 'base_model.model.model.decoder.layers.2.self_attn.v_proj.lora_A.adapter1.weight', 'base_model.model.model.decoder.layers.2.self_attn.v_proj.lora_B.default.weight', 'base_model.model.model.decoder.layers.2.self_attn.v_proj.lora_B.adapter1.weight', 'base_model.model.model.decoder.layers.2.self_attn.q_proj.weight', 'base_model.model.model.decoder.layers.2.self_attn.q_proj.bias', 'base_model.model.model.decoder.layers.2.self_attn.q_proj.lora_A.default.weight', 'base_model.model.model.decoder.layers.2.self_attn.q_proj.lora_A.adapter1.weight', 'base_model.model.model.decoder.layers.2.self_attn.q_proj.lora_B.default.weight', 'base_model.model.model.decoder.layers.2.self_attn.q_proj.lora_B.adapter1.weight', 'base_model.model.model.decoder.layers.2.self_attn.out_proj.weight', 'base_model.model.model.decoder.layers.2.self_attn.out_proj.bias', 'base_model.model.model.decoder.layers.2.self_attn_layer_norm.weight', 'base_model.model.model.decoder.layers.2.self_attn_layer_norm.bias', 'base_model.model.model.decoder.layers.2.fc1.weight', 'base_model.model.model.decoder.layers.2.fc1.bias', 'base_model.model.model.decoder.layers.2.fc2.weight', 'base_model.model.model.decoder.layers.2.fc2.bias', 'base_model.model.model.decoder.layers.2.final_layer_norm.weight', 'base_model.model.model.decoder.layers.2.final_layer_norm.bias', 'base_model.model.model.decoder.layers.3.self_attn.k_proj.weight', 'base_model.model.model.decoder.layers.3.self_attn.k_proj.bias', 'base_model.model.model.decoder.layers.3.self_attn.v_proj.weight', 'base_model.model.model.decoder.layers.3.self_attn.v_proj.bias', 'base_model.model.model.decoder.layers.3.self_attn.v_proj.lora_A.default.weight', 'base_model.model.model.decoder.layers.3.self_attn.v_proj.lora_A.adapter1.weight', 'base_model.model.model.decoder.layers.3.self_attn.v_proj.lora_B.default.weight', 'base_model.model.model.decoder.layers.3.self_attn.v_proj.lora_B.adapter1.weight', 'base_model.model.model.decoder.layers.3.self_attn.q_proj.weight', 'base_model.model.model.decoder.layers.3.self_attn.q_proj.bias', 'base_model.model.model.decoder.layers.3.self_attn.q_proj.lora_A.default.weight', 'base_model.model.model.decoder.layers.3.self_attn.q_proj.lora_A.adapter1.weight', 'base_model.model.model.decoder.layers.3.self_attn.q_proj.lora_B.default.weight', 'base_model.model.model.decoder.layers.3.self_attn.q_proj.lora_B.adapter1.weight', 'base_model.model.model.decoder.layers.3.self_attn.out_proj.weight', 'base_model.model.model.decoder.layers.3.self_attn.out_proj.bias', 'base_model.model.model.decoder.layers.3.self_attn_layer_norm.weight', 'base_model.model.model.decoder.layers.3.self_attn_layer_norm.bias', 'base_model.model.model.decoder.layers.3.fc1.weight', 'base_model.model.model.decoder.layers.3.fc1.bias', 'base_model.model.model.decoder.layers.3.fc2.weight', 'base_model.model.model.decoder.layers.3.fc2.bias', 'base_model.model.model.decoder.layers.3.final_layer_norm.weight', 'base_model.model.model.decoder.layers.3.final_layer_norm.bias', 'base_model.model.model.decoder.layers.4.self_attn.k_proj.weight', 'base_model.model.model.decoder.layers.4.self_attn.k_proj.bias', 'base_model.model.model.decoder.layers.4.self_attn.v_proj.weight', 'base_model.model.model.decoder.layers.4.self_attn.v_proj.bias', 'base_model.model.model.decoder.layers.4.self_attn.v_proj.lora_A.default.weight', 'base_model.model.model.decoder.layers.4.self_attn.v_proj.lora_A.adapter1.weight', 'base_model.model.model.decoder.layers.4.self_attn.v_proj.lora_B.default.weight', 'base_model.model.model.decoder.layers.4.self_attn.v_proj.lora_B.adapter1.weight', 'base_model.model.model.decoder.layers.4.self_attn.q_proj.weight', 'base_model.model.model.decoder.layers.4.self_attn.q_proj.bias', 'base_model.model.model.decoder.layers.4.self_attn.q_proj.lora_A.default.weight', 'base_model.model.model.decoder.layers.4.self_attn.q_proj.lora_A.adapter1.weight', 'base_model.model.model.decoder.layers.4.self_attn.q_proj.lora_B.default.weight', 'base_model.model.model.decoder.layers.4.self_attn.q_proj.lora_B.adapter1.weight', 'base_model.model.model.decoder.layers.4.self_attn.out_proj.weight', 'base_model.model.model.decoder.layers.4.self_attn.out_proj.bias', 'base_model.model.model.decoder.layers.4.self_attn_layer_norm.weight', 'base_model.model.model.decoder.layers.4.self_attn_layer_norm.bias', 'base_model.model.model.decoder.layers.4.fc1.weight', 'base_model.model.model.decoder.layers.4.fc1.bias', 'base_model.model.model.decoder.layers.4.fc2.weight', 'base_model.model.model.decoder.layers.4.fc2.bias', 'base_model.model.model.decoder.layers.4.final_layer_norm.weight', 'base_model.model.model.decoder.layers.4.final_layer_norm.bias', 'base_model.model.model.decoder.layers.5.self_attn.k_proj.weight', 'base_model.model.model.decoder.layers.5.self_attn.k_proj.bias', 'base_model.model.model.decoder.layers.5.self_attn.v_proj.weight', 'base_model.model.model.decoder.layers.5.self_attn.v_proj.bias', 'base_model.model.model.decoder.layers.5.self_attn.v_proj.lora_A.default.weight', 'base_model.model.model.decoder.layers.5.self_attn.v_proj.lora_A.adapter1.weight', 'base_model.model.model.decoder.layers.5.self_attn.v_proj.lora_B.default.weight', 'base_model.model.model.decoder.layers.5.self_attn.v_proj.lora_B.adapter1.weight', 'base_model.model.model.decoder.layers.5.self_attn.q_proj.weight', 'base_model.model.model.decoder.layers.5.self_attn.q_proj.bias', 'base_model.model.model.decoder.layers.5.self_attn.q_proj.lora_A.default.weight', 'base_model.model.model.decoder.layers.5.self_attn.q_proj.lora_A.adapter1.weight', 'base_model.model.model.decoder.layers.5.self_attn.q_proj.lora_B.default.weight', 'base_model.model.model.decoder.layers.5.self_attn.q_proj.lora_B.adapter1.weight', 'base_model.model.model.decoder.layers.5.self_attn.out_proj.weight', 'base_model.model.model.decoder.layers.5.self_attn.out_proj.bias', 'base_model.model.model.decoder.layers.5.self_attn_layer_norm.weight', 'base_model.model.model.decoder.layers.5.self_attn_layer_norm.bias', 'base_model.model.model.decoder.layers.5.fc1.weight', 'base_model.model.model.decoder.layers.5.fc1.bias', 'base_model.model.model.decoder.layers.5.fc2.weight', 'base_model.model.model.decoder.layers.5.fc2.bias', 'base_model.model.model.decoder.layers.5.final_layer_norm.weight', 'base_model.model.model.decoder.layers.5.final_layer_norm.bias', 'base_model.model.model.decoder.layers.6.self_attn.k_proj.weight', 'base_model.model.model.decoder.layers.6.self_attn.k_proj.bias', 'base_model.model.model.decoder.layers.6.self_attn.v_proj.weight', 'base_model.model.model.decoder.layers.6.self_attn.v_proj.bias', 'base_model.model.model.decoder.layers.6.self_attn.v_proj.lora_A.default.weight', 'base_model.model.model.decoder.layers.6.self_attn.v_proj.lora_A.adapter1.weight', 'base_model.model.model.decoder.layers.6.self_attn.v_proj.lora_B.default.weight', 'base_model.model.model.decoder.layers.6.self_attn.v_proj.lora_B.adapter1.weight', 'base_model.model.model.decoder.layers.6.self_attn.q_proj.weight', 'base_model.model.model.decoder.layers.6.self_attn.q_proj.bias', 'base_model.model.model.decoder.layers.6.self_attn.q_proj.lora_A.default.weight', 'base_model.model.model.decoder.layers.6.self_attn.q_proj.lora_A.adapter1.weight', 'base_model.model.model.decoder.layers.6.self_attn.q_proj.lora_B.default.weight', 'base_model.model.model.decoder.layers.6.self_attn.q_proj.lora_B.adapter1.weight', 'base_model.model.model.decoder.layers.6.self_attn.out_proj.weight', 'base_model.model.model.decoder.layers.6.self_attn.out_proj.bias', 'base_model.model.model.decoder.layers.6.self_attn_layer_norm.weight', 'base_model.model.model.decoder.layers.6.self_attn_layer_norm.bias', 'base_model.model.model.decoder.layers.6.fc1.weight', 'base_model.model.model.decoder.layers.6.fc1.bias', 'base_model.model.model.decoder.layers.6.fc2.weight', 'base_model.model.model.decoder.layers.6.fc2.bias', 'base_model.model.model.decoder.layers.6.final_layer_norm.weight', 'base_model.model.model.decoder.layers.6.final_layer_norm.bias', 'base_model.model.model.decoder.layers.7.self_attn.k_proj.weight', 'base_model.model.model.decoder.layers.7.self_attn.k_proj.bias', 'base_model.model.model.decoder.layers.7.self_attn.v_proj.weight', 'base_model.model.model.decoder.layers.7.self_attn.v_proj.bias', 'base_model.model.model.decoder.layers.7.self_attn.v_proj.lora_A.default.weight', 'base_model.model.model.decoder.layers.7.self_attn.v_proj.lora_A.adapter1.weight', 'base_model.model.model.decoder.layers.7.self_attn.v_proj.lora_B.default.weight', 'base_model.model.model.decoder.layers.7.self_attn.v_proj.lora_B.adapter1.weight', 'base_model.model.model.decoder.layers.7.self_attn.q_proj.weight', 'base_model.model.model.decoder.layers.7.self_attn.q_proj.bias', 'base_model.model.model.decoder.layers.7.self_attn.q_proj.lora_A.default.weight', 'base_model.model.model.decoder.layers.7.self_attn.q_proj.lora_A.adapter1.weight', 'base_model.model.model.decoder.layers.7.self_attn.q_proj.lora_B.default.weight', 'base_model.model.model.decoder.layers.7.self_attn.q_proj.lora_B.adapter1.weight', 'base_model.model.model.decoder.layers.7.self_attn.out_proj.weight', 'base_model.model.model.decoder.layers.7.self_attn.out_proj.bias', 'base_model.model.model.decoder.layers.7.self_attn_layer_norm.weight', 'base_model.model.model.decoder.layers.7.self_attn_layer_norm.bias', 'base_model.model.model.decoder.layers.7.fc1.weight', 'base_model.model.model.decoder.layers.7.fc1.bias', 'base_model.model.model.decoder.layers.7.fc2.weight', 'base_model.model.model.decoder.layers.7.fc2.bias', 'base_model.model.model.decoder.layers.7.final_layer_norm.weight', 'base_model.model.model.decoder.layers.7.final_layer_norm.bias', 'base_model.model.model.decoder.layers.8.self_attn.k_proj.weight', 'base_model.model.model.decoder.layers.8.self_attn.k_proj.bias', 'base_model.model.model.decoder.layers.8.self_attn.v_proj.weight', 'base_model.model.model.decoder.layers.8.self_attn.v_proj.bias', 'base_model.model.model.decoder.layers.8.self_attn.v_proj.lora_A.default.weight', 'base_model.model.model.decoder.layers.8.self_attn.v_proj.lora_A.adapter1.weight', 'base_model.model.model.decoder.layers.8.self_attn.v_proj.lora_B.default.weight', 'base_model.model.model.decoder.layers.8.self_attn.v_proj.lora_B.adapter1.weight', 'base_model.model.model.decoder.layers.8.self_attn.q_proj.weight', 'base_model.model.model.decoder.layers.8.self_attn.q_proj.bias', 'base_model.model.model.decoder.layers.8.self_attn.q_proj.lora_A.default.weight', 'base_model.model.model.decoder.layers.8.self_attn.q_proj.lora_A.adapter1.weight', 'base_model.model.model.decoder.layers.8.self_attn.q_proj.lora_B.default.weight', 'base_model.model.model.decoder.layers.8.self_attn.q_proj.lora_B.adapter1.weight', 'base_model.model.model.decoder.layers.8.self_attn.out_proj.weight', 'base_model.model.model.decoder.layers.8.self_attn.out_proj.bias', 'base_model.model.model.decoder.layers.8.self_attn_layer_norm.weight', 'base_model.model.model.decoder.layers.8.self_attn_layer_norm.bias', 'base_model.model.model.decoder.layers.8.fc1.weight', 'base_model.model.model.decoder.layers.8.fc1.bias', 'base_model.model.model.decoder.layers.8.fc2.weight', 'base_model.model.model.decoder.layers.8.fc2.bias', 'base_model.model.model.decoder.layers.8.final_layer_norm.weight', 'base_model.model.model.decoder.layers.8.final_layer_norm.bias', 'base_model.model.model.decoder.layers.9.self_attn.k_proj.weight', 'base_model.model.model.decoder.layers.9.self_attn.k_proj.bias', 'base_model.model.model.decoder.layers.9.self_attn.v_proj.weight', 'base_model.model.model.decoder.layers.9.self_attn.v_proj.bias', 'base_model.model.model.decoder.layers.9.self_attn.v_proj.lora_A.default.weight', 'base_model.model.model.decoder.layers.9.self_attn.v_proj.lora_A.adapter1.weight', 'base_model.model.model.decoder.layers.9.self_attn.v_proj.lora_B.default.weight', 'base_model.model.model.decoder.layers.9.self_attn.v_proj.lora_B.adapter1.weight', 'base_model.model.model.decoder.layers.9.self_attn.q_proj.weight', 'base_model.model.model.decoder.layers.9.self_attn.q_proj.bias', 'base_model.model.model.decoder.layers.9.self_attn.q_proj.lora_A.default.weight', 'base_model.model.model.decoder.layers.9.self_attn.q_proj.lora_A.adapter1.weight', 'base_model.model.model.decoder.layers.9.self_attn.q_proj.lora_B.default.weight', 'base_model.model.model.decoder.layers.9.self_attn.q_proj.lora_B.adapter1.weight', 'base_model.model.model.decoder.layers.9.self_attn.out_proj.weight', 'base_model.model.model.decoder.layers.9.self_attn.out_proj.bias', 'base_model.model.model.decoder.layers.9.self_attn_layer_norm.weight', 'base_model.model.model.decoder.layers.9.self_attn_layer_norm.bias', 'base_model.model.model.decoder.layers.9.fc1.weight', 'base_model.model.model.decoder.layers.9.fc1.bias', 'base_model.model.model.decoder.layers.9.fc2.weight', 'base_model.model.model.decoder.layers.9.fc2.bias', 'base_model.model.model.decoder.layers.9.final_layer_norm.weight', 'base_model.model.model.decoder.layers.9.final_layer_norm.bias', 'base_model.model.model.decoder.layers.10.self_attn.k_proj.weight', 'base_model.model.model.decoder.layers.10.self_attn.k_proj.bias', 'base_model.model.model.decoder.layers.10.self_attn.v_proj.weight', 'base_model.model.model.decoder.layers.10.self_attn.v_proj.bias', 'base_model.model.model.decoder.layers.10.self_attn.v_proj.lora_A.default.weight', 'base_model.model.model.decoder.layers.10.self_attn.v_proj.lora_A.adapter1.weight', 'base_model.model.model.decoder.layers.10.self_attn.v_proj.lora_B.default.weight', 'base_model.model.model.decoder.layers.10.self_attn.v_proj.lora_B.adapter1.weight', 'base_model.model.model.decoder.layers.10.self_attn.q_proj.weight', 'base_model.model.model.decoder.layers.10.self_attn.q_proj.bias', 'base_model.model.model.decoder.layers.10.self_attn.q_proj.lora_A.default.weight', 'base_model.model.model.decoder.layers.10.self_attn.q_proj.lora_A.adapter1.weight', 'base_model.model.model.decoder.layers.10.self_attn.q_proj.lora_B.default.weight', 'base_model.model.model.decoder.layers.10.self_attn.q_proj.lora_B.adapter1.weight', 'base_model.model.model.decoder.layers.10.self_attn.out_proj.weight', 'base_model.model.model.decoder.layers.10.self_attn.out_proj.bias', 'base_model.model.model.decoder.layers.10.self_attn_layer_norm.weight', 'base_model.model.model.decoder.layers.10.self_attn_layer_norm.bias', 'base_model.model.model.decoder.layers.10.fc1.weight', 'base_model.model.model.decoder.layers.10.fc1.bias', 'base_model.model.model.decoder.layers.10.fc2.weight', 'base_model.model.model.decoder.layers.10.fc2.bias', 'base_model.model.model.decoder.layers.10.final_layer_norm.weight', 'base_model.model.model.decoder.layers.10.final_layer_norm.bias', 'base_model.model.model.decoder.layers.11.self_attn.k_proj.weight', 'base_model.model.model.decoder.layers.11.self_attn.k_proj.bias', 'base_model.model.model.decoder.layers.11.self_attn.v_proj.weight', 'base_model.model.model.decoder.layers.11.self_attn.v_proj.bias', 'base_model.model.model.decoder.layers.11.self_attn.v_proj.lora_A.default.weight', 'base_model.model.model.decoder.layers.11.self_attn.v_proj.lora_A.adapter1.weight', 'base_model.model.model.decoder.layers.11.self_attn.v_proj.lora_B.default.weight', 'base_model.model.model.decoder.layers.11.self_attn.v_proj.lora_B.adapter1.weight', 'base_model.model.model.decoder.layers.11.self_attn.q_proj.weight', 'base_model.model.model.decoder.layers.11.self_attn.q_proj.bias', 'base_model.model.model.decoder.layers.11.self_attn.q_proj.lora_A.default.weight', 'base_model.model.model.decoder.layers.11.self_attn.q_proj.lora_A.adapter1.weight', 'base_model.model.model.decoder.layers.11.self_attn.q_proj.lora_B.default.weight', 'base_model.model.model.decoder.layers.11.self_attn.q_proj.lora_B.adapter1.weight', 'base_model.model.model.decoder.layers.11.self_attn.out_proj.weight', 'base_model.model.model.decoder.layers.11.self_attn.out_proj.bias', 'base_model.model.model.decoder.layers.11.self_attn_layer_norm.weight', 'base_model.model.model.decoder.layers.11.self_attn_layer_norm.bias', 'base_model.model.model.decoder.layers.11.fc1.weight', 'base_model.model.model.decoder.layers.11.fc1.bias', 'base_model.model.model.decoder.layers.11.fc2.weight', 'base_model.model.model.decoder.layers.11.fc2.bias', 'base_model.model.model.decoder.layers.11.final_layer_norm.weight', 'base_model.model.model.decoder.layers.11.final_layer_norm.bias', 'base_model.model.model.decoder.layers.12.self_attn.k_proj.weight', 'base_model.model.model.decoder.layers.12.self_attn.k_proj.bias', 'base_model.model.model.decoder.layers.12.self_attn.v_proj.weight', 'base_model.model.model.decoder.layers.12.self_attn.v_proj.bias', 'base_model.model.model.decoder.layers.12.self_attn.v_proj.lora_A.default.weight', 'base_model.model.model.decoder.layers.12.self_attn.v_proj.lora_A.adapter1.weight', 'base_model.model.model.decoder.layers.12.self_attn.v_proj.lora_B.default.weight', 'base_model.model.model.decoder.layers.12.self_attn.v_proj.lora_B.adapter1.weight', 'base_model.model.model.decoder.layers.12.self_attn.q_proj.weight', 'base_model.model.model.decoder.layers.12.self_attn.q_proj.bias', 'base_model.model.model.decoder.layers.12.self_attn.q_proj.lora_A.default.weight', 'base_model.model.model.decoder.layers.12.self_attn.q_proj.lora_A.adapter1.weight', 'base_model.model.model.decoder.layers.12.self_attn.q_proj.lora_B.default.weight', 'base_model.model.model.decoder.layers.12.self_attn.q_proj.lora_B.adapter1.weight', 'base_model.model.model.decoder.layers.12.self_attn.out_proj.weight', 'base_model.model.model.decoder.layers.12.self_attn.out_proj.bias', 'base_model.model.model.decoder.layers.12.self_attn_layer_norm.weight', 'base_model.model.model.decoder.layers.12.self_attn_layer_norm.bias', 'base_model.model.model.decoder.layers.12.fc1.weight', 'base_model.model.model.decoder.layers.12.fc1.bias', 'base_model.model.model.decoder.layers.12.fc2.weight', 'base_model.model.model.decoder.layers.12.fc2.bias', 'base_model.model.model.decoder.layers.12.final_layer_norm.weight', 'base_model.model.model.decoder.layers.12.final_layer_norm.bias', 'base_model.model.model.decoder.layers.13.self_attn.k_proj.weight', 'base_model.model.model.decoder.layers.13.self_attn.k_proj.bias', 'base_model.model.model.decoder.layers.13.self_attn.v_proj.weight', 'base_model.model.model.decoder.layers.13.self_attn.v_proj.bias', 'base_model.model.model.decoder.layers.13.self_attn.v_proj.lora_A.default.weight', 'base_model.model.model.decoder.layers.13.self_attn.v_proj.lora_A.adapter1.weight', 'base_model.model.model.decoder.layers.13.self_attn.v_proj.lora_B.default.weight', 'base_model.model.model.decoder.layers.13.self_attn.v_proj.lora_B.adapter1.weight', 'base_model.model.model.decoder.layers.13.self_attn.q_proj.weight', 'base_model.model.model.decoder.layers.13.self_attn.q_proj.bias', 'base_model.model.model.decoder.layers.13.self_attn.q_proj.lora_A.default.weight', 'base_model.model.model.decoder.layers.13.self_attn.q_proj.lora_A.adapter1.weight', 'base_model.model.model.decoder.layers.13.self_attn.q_proj.lora_B.default.weight', 'base_model.model.model.decoder.layers.13.self_attn.q_proj.lora_B.adapter1.weight', 'base_model.model.model.decoder.layers.13.self_attn.out_proj.weight', 'base_model.model.model.decoder.layers.13.self_attn.out_proj.bias', 'base_model.model.model.decoder.layers.13.self_attn_layer_norm.weight', 'base_model.model.model.decoder.layers.13.self_attn_layer_norm.bias', 'base_model.model.model.decoder.layers.13.fc1.weight', 'base_model.model.model.decoder.layers.13.fc1.bias', 'base_model.model.model.decoder.layers.13.fc2.weight', 'base_model.model.model.decoder.layers.13.fc2.bias', 'base_model.model.model.decoder.layers.13.final_layer_norm.weight', 'base_model.model.model.decoder.layers.13.final_layer_norm.bias', 'base_model.model.model.decoder.layers.14.self_attn.k_proj.weight', 'base_model.model.model.decoder.layers.14.self_attn.k_proj.bias', 'base_model.model.model.decoder.layers.14.self_attn.v_proj.weight', 'base_model.model.model.decoder.layers.14.self_attn.v_proj.bias', 'base_model.model.model.decoder.layers.14.self_attn.v_proj.lora_A.default.weight', 'base_model.model.model.decoder.layers.14.self_attn.v_proj.lora_A.adapter1.weight', 'base_model.model.model.decoder.layers.14.self_attn.v_proj.lora_B.default.weight', 'base_model.model.model.decoder.layers.14.self_attn.v_proj.lora_B.adapter1.weight', 'base_model.model.model.decoder.layers.14.self_attn.q_proj.weight', 'base_model.model.model.decoder.layers.14.self_attn.q_proj.bias', 'base_model.model.model.decoder.layers.14.self_attn.q_proj.lora_A.default.weight', 'base_model.model.model.decoder.layers.14.self_attn.q_proj.lora_A.adapter1.weight', 'base_model.model.model.decoder.layers.14.self_attn.q_proj.lora_B.default.weight', 'base_model.model.model.decoder.layers.14.self_attn.q_proj.lora_B.adapter1.weight', 'base_model.model.model.decoder.layers.14.self_attn.out_proj.weight', 'base_model.model.model.decoder.layers.14.self_attn.out_proj.bias', 'base_model.model.model.decoder.layers.14.self_attn_layer_norm.weight', 'base_model.model.model.decoder.layers.14.self_attn_layer_norm.bias', 'base_model.model.model.decoder.layers.14.fc1.weight', 'base_model.model.model.decoder.layers.14.fc1.bias', 'base_model.model.model.decoder.layers.14.fc2.weight', 'base_model.model.model.decoder.layers.14.fc2.bias', 'base_model.model.model.decoder.layers.14.final_layer_norm.weight', 'base_model.model.model.decoder.layers.14.final_layer_norm.bias', 'base_model.model.model.decoder.layers.15.self_attn.k_proj.weight', 'base_model.model.model.decoder.layers.15.self_attn.k_proj.bias', 'base_model.model.model.decoder.layers.15.self_attn.v_proj.weight', 'base_model.model.model.decoder.layers.15.self_attn.v_proj.bias', 'base_model.model.model.decoder.layers.15.self_attn.v_proj.lora_A.default.weight', 'base_model.model.model.decoder.layers.15.self_attn.v_proj.lora_A.adapter1.weight', 'base_model.model.model.decoder.layers.15.self_attn.v_proj.lora_B.default.weight', 'base_model.model.model.decoder.layers.15.self_attn.v_proj.lora_B.adapter1.weight', 'base_model.model.model.decoder.layers.15.self_attn.q_proj.weight', 'base_model.model.model.decoder.layers.15.self_attn.q_proj.bias', 'base_model.model.model.decoder.layers.15.self_attn.q_proj.lora_A.default.weight', 'base_model.model.model.decoder.layers.15.self_attn.q_proj.lora_A.adapter1.weight', 'base_model.model.model.decoder.layers.15.self_attn.q_proj.lora_B.default.weight', 'base_model.model.model.decoder.layers.15.self_attn.q_proj.lora_B.adapter1.weight', 'base_model.model.model.decoder.layers.15.self_attn.out_proj.weight', 'base_model.model.model.decoder.layers.15.self_attn.out_proj.bias', 'base_model.model.model.decoder.layers.15.self_attn_layer_norm.weight', 'base_model.model.model.decoder.layers.15.self_attn_layer_norm.bias', 'base_model.model.model.decoder.layers.15.fc1.weight', 'base_model.model.model.decoder.layers.15.fc1.bias', 'base_model.model.model.decoder.layers.15.fc2.weight', 'base_model.model.model.decoder.layers.15.fc2.bias', 'base_model.model.model.decoder.layers.15.final_layer_norm.weight', 'base_model.model.model.decoder.layers.15.final_layer_norm.bias', 'base_model.model.model.decoder.layers.16.self_attn.k_proj.weight', 'base_model.model.model.decoder.layers.16.self_attn.k_proj.bias', 'base_model.model.model.decoder.layers.16.self_attn.v_proj.weight', 'base_model.model.model.decoder.layers.16.self_attn.v_proj.bias', 'base_model.model.model.decoder.layers.16.self_attn.v_proj.lora_A.default.weight', 'base_model.model.model.decoder.layers.16.self_attn.v_proj.lora_A.adapter1.weight', 'base_model.model.model.decoder.layers.16.self_attn.v_proj.lora_B.default.weight', 'base_model.model.model.decoder.layers.16.self_attn.v_proj.lora_B.adapter1.weight', 'base_model.model.model.decoder.layers.16.self_attn.q_proj.weight', 'base_model.model.model.decoder.layers.16.self_attn.q_proj.bias', 'base_model.model.model.decoder.layers.16.self_attn.q_proj.lora_A.default.weight', 'base_model.model.model.decoder.layers.16.self_attn.q_proj.lora_A.adapter1.weight', 'base_model.model.model.decoder.layers.16.self_attn.q_proj.lora_B.default.weight', 'base_model.model.model.decoder.layers.16.self_attn.q_proj.lora_B.adapter1.weight', 'base_model.model.model.decoder.layers.16.self_attn.out_proj.weight', 'base_model.model.model.decoder.layers.16.self_attn.out_proj.bias', 'base_model.model.model.decoder.layers.16.self_attn_layer_norm.weight', 'base_model.model.model.decoder.layers.16.self_attn_layer_norm.bias', 'base_model.model.model.decoder.layers.16.fc1.weight', 'base_model.model.model.decoder.layers.16.fc1.bias', 'base_model.model.model.decoder.layers.16.fc2.weight', 'base_model.model.model.decoder.layers.16.fc2.bias', 'base_model.model.model.decoder.layers.16.final_layer_norm.weight', 'base_model.model.model.decoder.layers.16.final_layer_norm.bias', 'base_model.model.model.decoder.layers.17.self_attn.k_proj.weight', 'base_model.model.model.decoder.layers.17.self_attn.k_proj.bias', 'base_model.model.model.decoder.layers.17.self_attn.v_proj.weight', 'base_model.model.model.decoder.layers.17.self_attn.v_proj.bias', 'base_model.model.model.decoder.layers.17.self_attn.v_proj.lora_A.default.weight', 'base_model.model.model.decoder.layers.17.self_attn.v_proj.lora_A.adapter1.weight', 'base_model.model.model.decoder.layers.17.self_attn.v_proj.lora_B.default.weight', 'base_model.model.model.decoder.layers.17.self_attn.v_proj.lora_B.adapter1.weight', 'base_model.model.model.decoder.layers.17.self_attn.q_proj.weight', 'base_model.model.model.decoder.layers.17.self_attn.q_proj.bias', 'base_model.model.model.decoder.layers.17.self_attn.q_proj.lora_A.default.weight', 'base_model.model.model.decoder.layers.17.self_attn.q_proj.lora_A.adapter1.weight', 'base_model.model.model.decoder.layers.17.self_attn.q_proj.lora_B.default.weight', 'base_model.model.model.decoder.layers.17.self_attn.q_proj.lora_B.adapter1.weight', 'base_model.model.model.decoder.layers.17.self_attn.out_proj.weight', 'base_model.model.model.decoder.layers.17.self_attn.out_proj.bias', 'base_model.model.model.decoder.layers.17.self_attn_layer_norm.weight', 'base_model.model.model.decoder.layers.17.self_attn_layer_norm.bias', 'base_model.model.model.decoder.layers.17.fc1.weight', 'base_model.model.model.decoder.layers.17.fc1.bias', 'base_model.model.model.decoder.layers.17.fc2.weight', 'base_model.model.model.decoder.layers.17.fc2.bias', 'base_model.model.model.decoder.layers.17.final_layer_norm.weight', 'base_model.model.model.decoder.layers.17.final_layer_norm.bias', 'base_model.model.model.decoder.layers.18.self_attn.k_proj.weight', 'base_model.model.model.decoder.layers.18.self_attn.k_proj.bias', 'base_model.model.model.decoder.layers.18.self_attn.v_proj.weight', 'base_model.model.model.decoder.layers.18.self_attn.v_proj.bias', 'base_model.model.model.decoder.layers.18.self_attn.v_proj.lora_A.default.weight', 'base_model.model.model.decoder.layers.18.self_attn.v_proj.lora_A.adapter1.weight', 'base_model.model.model.decoder.layers.18.self_attn.v_proj.lora_B.default.weight', 'base_model.model.model.decoder.layers.18.self_attn.v_proj.lora_B.adapter1.weight', 'base_model.model.model.decoder.layers.18.self_attn.q_proj.weight', 'base_model.model.model.decoder.layers.18.self_attn.q_proj.bias', 'base_model.model.model.decoder.layers.18.self_attn.q_proj.lora_A.default.weight', 'base_model.model.model.decoder.layers.18.self_attn.q_proj.lora_A.adapter1.weight', 'base_model.model.model.decoder.layers.18.self_attn.q_proj.lora_B.default.weight', 'base_model.model.model.decoder.layers.18.self_attn.q_proj.lora_B.adapter1.weight', 'base_model.model.model.decoder.layers.18.self_attn.out_proj.weight', 'base_model.model.model.decoder.layers.18.self_attn.out_proj.bias', 'base_model.model.model.decoder.layers.18.self_attn_layer_norm.weight', 'base_model.model.model.decoder.layers.18.self_attn_layer_norm.bias', 'base_model.model.model.decoder.layers.18.fc1.weight', 'base_model.model.model.decoder.layers.18.fc1.bias', 'base_model.model.model.decoder.layers.18.fc2.weight', 'base_model.model.model.decoder.layers.18.fc2.bias', 'base_model.model.model.decoder.layers.18.final_layer_norm.weight', 'base_model.model.model.decoder.layers.18.final_layer_norm.bias', 'base_model.model.model.decoder.layers.19.self_attn.k_proj.weight', 'base_model.model.model.decoder.layers.19.self_attn.k_proj.bias', 'base_model.model.model.decoder.layers.19.self_attn.v_proj.weight', 'base_model.model.model.decoder.layers.19.self_attn.v_proj.bias', 'base_model.model.model.decoder.layers.19.self_attn.v_proj.lora_A.default.weight', 'base_model.model.model.decoder.layers.19.self_attn.v_proj.lora_A.adapter1.weight', 'base_model.model.model.decoder.layers.19.self_attn.v_proj.lora_B.default.weight', 'base_model.model.model.decoder.layers.19.self_attn.v_proj.lora_B.adapter1.weight', 'base_model.model.model.decoder.layers.19.self_attn.q_proj.weight', 'base_model.model.model.decoder.layers.19.self_attn.q_proj.bias', 'base_model.model.model.decoder.layers.19.self_attn.q_proj.lora_A.default.weight', 'base_model.model.model.decoder.layers.19.self_attn.q_proj.lora_A.adapter1.weight', 'base_model.model.model.decoder.layers.19.self_attn.q_proj.lora_B.default.weight', 'base_model.model.model.decoder.layers.19.self_attn.q_proj.lora_B.adapter1.weight', 'base_model.model.model.decoder.layers.19.self_attn.out_proj.weight', 'base_model.model.model.decoder.layers.19.self_attn.out_proj.bias', 'base_model.model.model.decoder.layers.19.self_attn_layer_norm.weight', 'base_model.model.model.decoder.layers.19.self_attn_layer_norm.bias', 'base_model.model.model.decoder.layers.19.fc1.weight', 'base_model.model.model.decoder.layers.19.fc1.bias', 'base_model.model.model.decoder.layers.19.fc2.weight', 'base_model.model.model.decoder.layers.19.fc2.bias', 'base_model.model.model.decoder.layers.19.final_layer_norm.weight', 'base_model.model.model.decoder.layers.19.final_layer_norm.bias', 'base_model.model.model.decoder.layers.20.self_attn.k_proj.weight', 'base_model.model.model.decoder.layers.20.self_attn.k_proj.bias', 'base_model.model.model.decoder.layers.20.self_attn.v_proj.weight', 'base_model.model.model.decoder.layers.20.self_attn.v_proj.bias', 'base_model.model.model.decoder.layers.20.self_attn.v_proj.lora_A.default.weight', 'base_model.model.model.decoder.layers.20.self_attn.v_proj.lora_A.adapter1.weight', 'base_model.model.model.decoder.layers.20.self_attn.v_proj.lora_B.default.weight', 'base_model.model.model.decoder.layers.20.self_attn.v_proj.lora_B.adapter1.weight', 'base_model.model.model.decoder.layers.20.self_attn.q_proj.weight', 'base_model.model.model.decoder.layers.20.self_attn.q_proj.bias', 'base_model.model.model.decoder.layers.20.self_attn.q_proj.lora_A.default.weight', 'base_model.model.model.decoder.layers.20.self_attn.q_proj.lora_A.adapter1.weight', 'base_model.model.model.decoder.layers.20.self_attn.q_proj.lora_B.default.weight', 'base_model.model.model.decoder.layers.20.self_attn.q_proj.lora_B.adapter1.weight', 'base_model.model.model.decoder.layers.20.self_attn.out_proj.weight', 'base_model.model.model.decoder.layers.20.self_attn.out_proj.bias', 'base_model.model.model.decoder.layers.20.self_attn_layer_norm.weight', 'base_model.model.model.decoder.layers.20.self_attn_layer_norm.bias', 'base_model.model.model.decoder.layers.20.fc1.weight', 'base_model.model.model.decoder.layers.20.fc1.bias', 'base_model.model.model.decoder.layers.20.fc2.weight', 'base_model.model.model.decoder.layers.20.fc2.bias', 'base_model.model.model.decoder.layers.20.final_layer_norm.weight', 'base_model.model.model.decoder.layers.20.final_layer_norm.bias', 'base_model.model.model.decoder.layers.21.self_attn.k_proj.weight', 'base_model.model.model.decoder.layers.21.self_attn.k_proj.bias', 'base_model.model.model.decoder.layers.21.self_attn.v_proj.weight', 'base_model.model.model.decoder.layers.21.self_attn.v_proj.bias', 'base_model.model.model.decoder.layers.21.self_attn.v_proj.lora_A.default.weight', 'base_model.model.model.decoder.layers.21.self_attn.v_proj.lora_A.adapter1.weight', 'base_model.model.model.decoder.layers.21.self_attn.v_proj.lora_B.default.weight', 'base_model.model.model.decoder.layers.21.self_attn.v_proj.lora_B.adapter1.weight', 'base_model.model.model.decoder.layers.21.self_attn.q_proj.weight', 'base_model.model.model.decoder.layers.21.self_attn.q_proj.bias', 'base_model.model.model.decoder.layers.21.self_attn.q_proj.lora_A.default.weight', 'base_model.model.model.decoder.layers.21.self_attn.q_proj.lora_A.adapter1.weight', 'base_model.model.model.decoder.layers.21.self_attn.q_proj.lora_B.default.weight', 'base_model.model.model.decoder.layers.21.self_attn.q_proj.lora_B.adapter1.weight', 'base_model.model.model.decoder.layers.21.self_attn.out_proj.weight', 'base_model.model.model.decoder.layers.21.self_attn.out_proj.bias', 'base_model.model.model.decoder.layers.21.self_attn_layer_norm.weight', 'base_model.model.model.decoder.layers.21.self_attn_layer_norm.bias', 'base_model.model.model.decoder.layers.21.fc1.weight', 'base_model.model.model.decoder.layers.21.fc1.bias', 'base_model.model.model.decoder.layers.21.fc2.weight', 'base_model.model.model.decoder.layers.21.fc2.bias', 'base_model.model.model.decoder.layers.21.final_layer_norm.weight', 'base_model.model.model.decoder.layers.21.final_layer_norm.bias', 'base_model.model.model.decoder.layers.22.self_attn.k_proj.weight', 'base_model.model.model.decoder.layers.22.self_attn.k_proj.bias', 'base_model.model.model.decoder.layers.22.self_attn.v_proj.weight', 'base_model.model.model.decoder.layers.22.self_attn.v_proj.bias', 'base_model.model.model.decoder.layers.22.self_attn.v_proj.lora_A.default.weight', 'base_model.model.model.decoder.layers.22.self_attn.v_proj.lora_A.adapter1.weight', 'base_model.model.model.decoder.layers.22.self_attn.v_proj.lora_B.default.weight', 'base_model.model.model.decoder.layers.22.self_attn.v_proj.lora_B.adapter1.weight', 'base_model.model.model.decoder.layers.22.self_attn.q_proj.weight', 'base_model.model.model.decoder.layers.22.self_attn.q_proj.bias', 'base_model.model.model.decoder.layers.22.self_attn.q_proj.lora_A.default.weight', 'base_model.model.model.decoder.layers.22.self_attn.q_proj.lora_A.adapter1.weight', 'base_model.model.model.decoder.layers.22.self_attn.q_proj.lora_B.default.weight', 'base_model.model.model.decoder.layers.22.self_attn.q_proj.lora_B.adapter1.weight', 'base_model.model.model.decoder.layers.22.self_attn.out_proj.weight', 'base_model.model.model.decoder.layers.22.self_attn.out_proj.bias', 'base_model.model.model.decoder.layers.22.self_attn_layer_norm.weight', 'base_model.model.model.decoder.layers.22.self_attn_layer_norm.bias', 'base_model.model.model.decoder.layers.22.fc1.weight', 'base_model.model.model.decoder.layers.22.fc1.bias', 'base_model.model.model.decoder.layers.22.fc2.weight', 'base_model.model.model.decoder.layers.22.fc2.bias', 'base_model.model.model.decoder.layers.22.final_layer_norm.weight', 'base_model.model.model.decoder.layers.22.final_layer_norm.bias', 'base_model.model.model.decoder.layers.23.self_attn.k_proj.weight', 'base_model.model.model.decoder.layers.23.self_attn.k_proj.bias', 'base_model.model.model.decoder.layers.23.self_attn.v_proj.weight', 'base_model.model.model.decoder.layers.23.self_attn.v_proj.bias', 'base_model.model.model.decoder.layers.23.self_attn.v_proj.lora_A.default.weight', 'base_model.model.model.decoder.layers.23.self_attn.v_proj.lora_A.adapter1.weight', 'base_model.model.model.decoder.layers.23.self_attn.v_proj.lora_B.default.weight', 'base_model.model.model.decoder.layers.23.self_attn.v_proj.lora_B.adapter1.weight', 'base_model.model.model.decoder.layers.23.self_attn.q_proj.weight', 'base_model.model.model.decoder.layers.23.self_attn.q_proj.bias', 'base_model.model.model.decoder.layers.23.self_attn.q_proj.lora_A.default.weight', 'base_model.model.model.decoder.layers.23.self_attn.q_proj.lora_A.adapter1.weight', 'base_model.model.model.decoder.layers.23.self_attn.q_proj.lora_B.default.weight', 'base_model.model.model.decoder.layers.23.self_attn.q_proj.lora_B.adapter1.weight', 'base_model.model.model.decoder.layers.23.self_attn.out_proj.weight', 'base_model.model.model.decoder.layers.23.self_attn.out_proj.bias', 'base_model.model.model.decoder.layers.23.self_attn_layer_norm.weight', 'base_model.model.model.decoder.layers.23.self_attn_layer_norm.bias', 'base_model.model.model.decoder.layers.23.fc1.weight', 'base_model.model.model.decoder.layers.23.fc1.bias', 'base_model.model.model.decoder.layers.23.fc2.weight', 'base_model.model.model.decoder.layers.23.fc2.bias', 'base_model.model.model.decoder.layers.23.final_layer_norm.weight', 'base_model.model.model.decoder.layers.23.final_layer_norm.bias', 'base_model.model.lm_head.weight'], unexpected_keys=[])"
      ]
     },
     "execution_count": 11,
     "metadata": {},
     "output_type": "execute_result"
    }
   ],
   "source": [
    "# using load_adapter\n",
    "\n",
    "peft_model.load_adapter(adapter2, adapter_name = 'adapter2')"
   ]
  },
  {
   "cell_type": "code",
   "execution_count": 12,
   "id": "45604988",
   "metadata": {},
   "outputs": [
    {
     "name": "stdout",
     "output_type": "stream",
     "text": [
      "CPU times: user 2.68 ms, sys: 0 ns, total: 2.68 ms\n",
      "Wall time: 2.69 ms\n"
     ]
    }
   ],
   "source": [
    "%%time\n",
    "\n",
    "peft_model.set_adapter('adapter1')"
   ]
  },
  {
   "cell_type": "code",
   "execution_count": 13,
   "id": "01a36a55",
   "metadata": {},
   "outputs": [],
   "source": [
    "# %%time\n",
    "# model_to_merge = PeftModel.from_pretrained(model,adapter1)"
   ]
  },
  {
   "cell_type": "code",
   "execution_count": null,
   "id": "aeb748ed",
   "metadata": {
    "scrolled": true
   },
   "outputs": [],
   "source": []
  },
  {
   "cell_type": "code",
   "execution_count": 14,
   "id": "9452b260",
   "metadata": {
    "scrolled": true
   },
   "outputs": [],
   "source": [
    "# %%time\n",
    "# model_to_merge2 = PeftModel.from_pretrained(model,adapter2)\n",
    "# model_to_merge2.to('cuda')"
   ]
  },
  {
   "cell_type": "code",
   "execution_count": null,
   "id": "3e6e5aed",
   "metadata": {},
   "outputs": [],
   "source": []
  },
  {
   "cell_type": "code",
   "execution_count": 15,
   "id": "e4232e35",
   "metadata": {},
   "outputs": [],
   "source": [
    "def predict_template_query_v1(user_query):\n",
    "    inp = query_template_v1.format(context=context,\n",
    "                                   user_query=user_query,\n",
    "                                  date_input=date_input)\n",
    "    _inputs = tokenizer.encode(inp, return_tensors=\"pt\").to('cuda')\n",
    "    outputs = peft_model.generate(input_ids=_inputs, max_length= 1500, pad_token_id=tokenizer.eos_token_id)\n",
    "    output = tokenizer.decode(outputs[0])\n",
    "    return output\n",
    "#     output_new = output.split('[MQL]\\n')[1]\n",
    "#     return output_new.split('\\n[/MQL]')[0], output"
   ]
  },
  {
   "cell_type": "code",
   "execution_count": 27,
   "id": "b82c65a6",
   "metadata": {},
   "outputs": [],
   "source": [
    "context = \"\"\"{\n",
    "    \"MEASURE\": [{\"ENTITY\": \"Discount\", \"other names\": [\"discount\", \"discount rate\", \"discount value\", \"deduction\"]},\n",
    "                {\"ENTITY\": \"Purchase Vol\", \"other names\": [\"purchase\", \"purchase value\", \"purchase model\"]},\n",
    "                {\"ENTITY\": \"Quantity\", \"other names\": [\"quantity\", \"volume\"]},\n",
    "                {\"ENTITY\": \"Sales\", \"other names\": [\"sales\", \"sale\"]}],\n",
    "    \"DIMENSION\": [{\"ENTITY\": \"Sub-Category\", \"other names\": [\"sub-category\", \"sub category\", \"categories\", \"section\"]},\n",
    "                  {\"ENTITY\": \"Segment\", \"other names\": [\"segment\", \"segments\", \"units\", \"divisions\"]},\n",
    "                  {\"ENTITY\": \"Parts\", \"other names\": [\"parts\", \"part\", \"section\", \"divisions\"]},\n",
    "                  {\"ENTITY\": \"Country\", \"other names\": [\"country\", \"countries\"]}],\n",
    "    \"FILTER\": [{\"ENTITY\": \"Consumer\", \"other names\": [\"consumers\", \"consumer\"], \"parent\": \"Segment\"},\n",
    "               {\"ENTITY\": \"Phone\", \"other names\": [\"phone\", \"phones\", \"mobile phones\"], \"parent\": \"Sub-Category\"},\n",
    "               {\"ENTITY\": \"Binder\", \"other names\": [\"binders\", \"binder\"], \"parent\": \"Sub-Category\"},\n",
    "               {\"ENTITY\": \"Corporate\", \"other names\": [\"corporates\", \"corporate\"], \"parent\": \"Segment\"},\n",
    "               {\"ENTITY\": \"India\", \"other names\": [\"india\"], \"parent\": \"Country\"},\n",
    "               {\"ENTITY\": \"Dubai\", \"other names\": [\"dubai\"], \"parent\": \"Country\"}],\n",
    "    \"DERIVED MEASURE\": [{\"ENTITY\": \"Ratio\",\n",
    "             \"other names\": [\"ratio\", \"share\", \"contribution\", \"percentage\", \"proportion\", \"contributing\"]},\n",
    "            {\"ENTITY\": \"Why\", \"other names\": [\"why\", \"cause of\", \"reason for\", \"diagnose\"]},\n",
    "            {\"ENTITY\": \"contribution_to_growth\", \"other names\": [\"contribution to growth\", \"growth\", \"grown\"]},\n",
    "            {\"ENTITY\": \"kda_transactional\", \"other names\": [\"kda\", \"key drivers\", \"key driver\", \"drivers\", \"driver\"]},\n",
    "            {\"ENTITY\": \"Growth Rate\", \"other names\": [\"growth rate\", \"growth\", \"grown\"]},\n",
    "            {\"ENTITY\": \"correlation\",\n",
    "             \"other names\": [\"associate\", \"associated\", \"association\", \"associations\", \"correlate\", \"correlated\",\n",
    "                             \"correlation\", \"correlations\", \"relate\", \"related\", \"relation\", \"relations\",\n",
    "                             \"relationship\",\n",
    "                             \"relationships\"]}\n",
    "            ],\n",
    "    \"DATE VARIABLE\": [{\"ENTITY\": \"Order Date\", \"other names\": [\"order date\", \"date\", \"trend\", \"time\", \"when\", \"mom\", \"yoy\"]}]\n",
    "    }\"\"\"\n",
    "\n",
    "date_input = {\n",
    "    \"start_date\": \"01/01/2020\",\n",
    "    \"end_date\": \"15/09/2023\"\n",
    "}"
   ]
  },
  {
   "cell_type": "code",
   "execution_count": 16,
   "id": "74998d1e",
   "metadata": {},
   "outputs": [],
   "source": [
    "import time"
   ]
  },
  {
   "cell_type": "code",
   "execution_count": 20,
   "id": "24477f63",
   "metadata": {},
   "outputs": [],
   "source": [
    "query_template_v1 = \"\"\"Given the context : {context} and date reference: {date_input}, the query: {user_query}, is converted into below shown structured output.\n",
    "[MQL]\n",
    "\"\"\""
   ]
  },
  {
   "cell_type": "code",
   "execution_count": 21,
   "id": "6a798fc8",
   "metadata": {},
   "outputs": [],
   "source": [
    "## Setting adapter-1 active"
   ]
  },
  {
   "cell_type": "code",
   "execution_count": 22,
   "id": "1ea3dbb1",
   "metadata": {},
   "outputs": [
    {
     "name": "stdout",
     "output_type": "stream",
     "text": [
      "user query:  what is purchase across segments\n",
      "----------------------------------------------------------------------------------------------------\n"
     ]
    },
    {
     "ename": "NameError",
     "evalue": "name 'context' is not defined",
     "output_type": "error",
     "traceback": [
      "\u001b[0;31m---------------------------------------------------------------------------\u001b[0m",
      "\u001b[0;31mNameError\u001b[0m                                 Traceback (most recent call last)",
      "Cell \u001b[0;32mIn[22], line 6\u001b[0m\n\u001b[1;32m      4\u001b[0m \u001b[38;5;28mprint\u001b[39m(\u001b[38;5;124m'\u001b[39m\u001b[38;5;124muser query: \u001b[39m\u001b[38;5;124m'\u001b[39m, user_query)\n\u001b[1;32m      5\u001b[0m \u001b[38;5;28mprint\u001b[39m(\u001b[38;5;124m'\u001b[39m\u001b[38;5;124m-\u001b[39m\u001b[38;5;124m'\u001b[39m\u001b[38;5;241m*\u001b[39m\u001b[38;5;241m100\u001b[39m)\n\u001b[0;32m----> 6\u001b[0m output \u001b[38;5;241m=\u001b[39m \u001b[43mpredict_template_query_v1\u001b[49m\u001b[43m(\u001b[49m\u001b[43muser_query\u001b[49m\u001b[38;5;241;43m=\u001b[39;49m\u001b[43muser_query\u001b[49m\u001b[43m)\u001b[49m\n\u001b[1;32m      7\u001b[0m \u001b[38;5;28mprint\u001b[39m(\u001b[38;5;124m\"\u001b[39m\u001b[38;5;124mtime taken : \u001b[39m\u001b[38;5;124m\"\u001b[39m, time\u001b[38;5;241m.\u001b[39mtime()\u001b[38;5;241m-\u001b[39mstart)\n",
      "Cell \u001b[0;32mIn[15], line 2\u001b[0m, in \u001b[0;36mpredict_template_query_v1\u001b[0;34m(user_query)\u001b[0m\n\u001b[1;32m      1\u001b[0m \u001b[38;5;28;01mdef\u001b[39;00m \u001b[38;5;21mpredict_template_query_v1\u001b[39m(user_query):\n\u001b[0;32m----> 2\u001b[0m     inp \u001b[38;5;241m=\u001b[39m query_template_v1\u001b[38;5;241m.\u001b[39mformat(context\u001b[38;5;241m=\u001b[39m\u001b[43mcontext\u001b[49m,\n\u001b[1;32m      3\u001b[0m                                    user_query\u001b[38;5;241m=\u001b[39muser_query,\n\u001b[1;32m      4\u001b[0m                                   date_input\u001b[38;5;241m=\u001b[39mdate_input)\n\u001b[1;32m      5\u001b[0m     _inputs \u001b[38;5;241m=\u001b[39m tokenizer\u001b[38;5;241m.\u001b[39mencode(inp, return_tensors\u001b[38;5;241m=\u001b[39m\u001b[38;5;124m\"\u001b[39m\u001b[38;5;124mpt\u001b[39m\u001b[38;5;124m\"\u001b[39m)\u001b[38;5;241m.\u001b[39mto(\u001b[38;5;124m'\u001b[39m\u001b[38;5;124mcuda\u001b[39m\u001b[38;5;124m'\u001b[39m)\n\u001b[1;32m      6\u001b[0m     outputs \u001b[38;5;241m=\u001b[39m peft_model\u001b[38;5;241m.\u001b[39mgenerate(input_ids\u001b[38;5;241m=\u001b[39m_inputs, max_length\u001b[38;5;241m=\u001b[39m \u001b[38;5;241m1500\u001b[39m, pad_token_id\u001b[38;5;241m=\u001b[39mtokenizer\u001b[38;5;241m.\u001b[39meos_token_id)\n",
      "\u001b[0;31mNameError\u001b[0m: name 'context' is not defined"
     ]
    }
   ],
   "source": [
    "peft_model.set_adapter('adapter1')\n",
    "start = time.time()\n",
    "user_query = 'what is purchase across segments'\n",
    "print('user query: ', user_query)\n",
    "print('-'*100)\n",
    "output = predict_template_query_v1(user_query=user_query)\n",
    "print(\"time taken : \", time.time()-start)"
   ]
  },
  {
   "cell_type": "code",
   "execution_count": 23,
   "id": "97ddba2f",
   "metadata": {},
   "outputs": [
    {
     "ename": "NameError",
     "evalue": "name 'output' is not defined",
     "output_type": "error",
     "traceback": [
      "\u001b[0;31m---------------------------------------------------------------------------\u001b[0m",
      "\u001b[0;31mNameError\u001b[0m                                 Traceback (most recent call last)",
      "Cell \u001b[0;32mIn[23], line 1\u001b[0m\n\u001b[0;32m----> 1\u001b[0m \u001b[43moutput\u001b[49m\n",
      "\u001b[0;31mNameError\u001b[0m: name 'output' is not defined"
     ]
    }
   ],
   "source": [
    "output"
   ]
  },
  {
   "cell_type": "code",
   "execution_count": 24,
   "id": "6234a2cd",
   "metadata": {},
   "outputs": [],
   "source": [
    "## Setting adapter-2 active"
   ]
  },
  {
   "cell_type": "code",
   "execution_count": 25,
   "id": "382cfe54",
   "metadata": {},
   "outputs": [
    {
     "name": "stdout",
     "output_type": "stream",
     "text": [
      "user query:  what is purchase across segments\n",
      "----------------------------------------------------------------------------------------------------\n"
     ]
    },
    {
     "ename": "NameError",
     "evalue": "name 'context' is not defined",
     "output_type": "error",
     "traceback": [
      "\u001b[0;31m---------------------------------------------------------------------------\u001b[0m",
      "\u001b[0;31mNameError\u001b[0m                                 Traceback (most recent call last)",
      "Cell \u001b[0;32mIn[25], line 6\u001b[0m\n\u001b[1;32m      4\u001b[0m \u001b[38;5;28mprint\u001b[39m(\u001b[38;5;124m'\u001b[39m\u001b[38;5;124muser query: \u001b[39m\u001b[38;5;124m'\u001b[39m, user_query)\n\u001b[1;32m      5\u001b[0m \u001b[38;5;28mprint\u001b[39m(\u001b[38;5;124m'\u001b[39m\u001b[38;5;124m-\u001b[39m\u001b[38;5;124m'\u001b[39m\u001b[38;5;241m*\u001b[39m\u001b[38;5;241m100\u001b[39m)\n\u001b[0;32m----> 6\u001b[0m output \u001b[38;5;241m=\u001b[39m \u001b[43mpredict_template_query_v1\u001b[49m\u001b[43m(\u001b[49m\u001b[43muser_query\u001b[49m\u001b[38;5;241;43m=\u001b[39;49m\u001b[43muser_query\u001b[49m\u001b[43m)\u001b[49m\n\u001b[1;32m      7\u001b[0m \u001b[38;5;28mprint\u001b[39m(\u001b[38;5;124m\"\u001b[39m\u001b[38;5;124mtime taken : \u001b[39m\u001b[38;5;124m\"\u001b[39m, time\u001b[38;5;241m.\u001b[39mtime()\u001b[38;5;241m-\u001b[39mstart)\n",
      "Cell \u001b[0;32mIn[15], line 2\u001b[0m, in \u001b[0;36mpredict_template_query_v1\u001b[0;34m(user_query)\u001b[0m\n\u001b[1;32m      1\u001b[0m \u001b[38;5;28;01mdef\u001b[39;00m \u001b[38;5;21mpredict_template_query_v1\u001b[39m(user_query):\n\u001b[0;32m----> 2\u001b[0m     inp \u001b[38;5;241m=\u001b[39m query_template_v1\u001b[38;5;241m.\u001b[39mformat(context\u001b[38;5;241m=\u001b[39m\u001b[43mcontext\u001b[49m,\n\u001b[1;32m      3\u001b[0m                                    user_query\u001b[38;5;241m=\u001b[39muser_query,\n\u001b[1;32m      4\u001b[0m                                   date_input\u001b[38;5;241m=\u001b[39mdate_input)\n\u001b[1;32m      5\u001b[0m     _inputs \u001b[38;5;241m=\u001b[39m tokenizer\u001b[38;5;241m.\u001b[39mencode(inp, return_tensors\u001b[38;5;241m=\u001b[39m\u001b[38;5;124m\"\u001b[39m\u001b[38;5;124mpt\u001b[39m\u001b[38;5;124m\"\u001b[39m)\u001b[38;5;241m.\u001b[39mto(\u001b[38;5;124m'\u001b[39m\u001b[38;5;124mcuda\u001b[39m\u001b[38;5;124m'\u001b[39m)\n\u001b[1;32m      6\u001b[0m     outputs \u001b[38;5;241m=\u001b[39m peft_model\u001b[38;5;241m.\u001b[39mgenerate(input_ids\u001b[38;5;241m=\u001b[39m_inputs, max_length\u001b[38;5;241m=\u001b[39m \u001b[38;5;241m1500\u001b[39m, pad_token_id\u001b[38;5;241m=\u001b[39mtokenizer\u001b[38;5;241m.\u001b[39meos_token_id)\n",
      "\u001b[0;31mNameError\u001b[0m: name 'context' is not defined"
     ]
    }
   ],
   "source": [
    "peft_model.set_adapter('adapter2')\n",
    "start = time.time()\n",
    "user_query = 'what is purchase across segments'\n",
    "print('user query: ', user_query)\n",
    "print('-'*100)\n",
    "output = predict_template_query_v1(user_query=user_query)\n",
    "print(\"time taken : \", time.time()-start)"
   ]
  },
  {
   "cell_type": "code",
   "execution_count": 26,
   "id": "115330db",
   "metadata": {},
   "outputs": [
    {
     "ename": "NameError",
     "evalue": "name 'output' is not defined",
     "output_type": "error",
     "traceback": [
      "\u001b[0;31m---------------------------------------------------------------------------\u001b[0m",
      "\u001b[0;31mNameError\u001b[0m                                 Traceback (most recent call last)",
      "Cell \u001b[0;32mIn[26], line 1\u001b[0m\n\u001b[0;32m----> 1\u001b[0m \u001b[43moutput\u001b[49m \u001b[38;5;66;03m## can see that this output is different from when adapter-1 was active.\u001b[39;00m\n",
      "\u001b[0;31mNameError\u001b[0m: name 'output' is not defined"
     ]
    }
   ],
   "source": [
    "output ## can see that this output is different from when adapter-1 was active."
   ]
  },
  {
   "cell_type": "code",
   "execution_count": null,
   "id": "030b9618",
   "metadata": {},
   "outputs": [],
   "source": []
  },
  {
   "cell_type": "code",
   "execution_count": null,
   "id": "31a81300",
   "metadata": {},
   "outputs": [],
   "source": []
  },
  {
   "cell_type": "code",
   "execution_count": 23,
   "id": "346df33e",
   "metadata": {},
   "outputs": [
    {
     "data": {
      "text/plain": [
       "\"{'\""
      ]
     },
     "execution_count": 23,
     "metadata": {},
     "output_type": "execute_result"
    }
   ],
   "source": [
    "output"
   ]
  },
  {
   "cell_type": "code",
   "execution_count": null,
   "id": "51ef9629",
   "metadata": {},
   "outputs": [],
   "source": []
  },
  {
   "cell_type": "code",
   "execution_count": null,
   "id": "f1381698",
   "metadata": {},
   "outputs": [],
   "source": []
  },
  {
   "cell_type": "code",
   "execution_count": null,
   "id": "b86b39c1",
   "metadata": {},
   "outputs": [],
   "source": []
  },
  {
   "cell_type": "code",
   "execution_count": null,
   "id": "fc51a585",
   "metadata": {},
   "outputs": [],
   "source": []
  }
 ],
 "metadata": {
  "kernelspec": {
   "display_name": "Python 3",
   "language": "python",
   "name": "python3"
  },
  "language_info": {
   "codemirror_mode": {
    "name": "ipython",
    "version": 3
   },
   "file_extension": ".py",
   "mimetype": "text/x-python",
   "name": "python",
   "nbconvert_exporter": "python",
   "pygments_lexer": "ipython3",
   "version": "3.8.16"
  }
 },
 "nbformat": 4,
 "nbformat_minor": 5
}
