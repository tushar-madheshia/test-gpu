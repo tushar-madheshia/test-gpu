{
 "cells": [
  {
   "cell_type": "code",
   "execution_count": 1,
   "id": "1e45a29b",
   "metadata": {},
   "outputs": [],
   "source": [
    "!sudo pip install -q transformers==4.35.0"
   ]
  },
  {
   "cell_type": "code",
   "execution_count": 2,
   "id": "2c22a9c2",
   "metadata": {},
   "outputs": [],
   "source": [
    "from transformers import AutoModelForCausalLM, AutoTokenizer"
   ]
  },
  {
   "cell_type": "code",
   "execution_count": 3,
   "id": "274423b9",
   "metadata": {},
   "outputs": [],
   "source": [
    "import torch"
   ]
  },
  {
   "cell_type": "code",
   "execution_count": 4,
   "id": "dbe99c93",
   "metadata": {},
   "outputs": [],
   "source": [
    "model_name = \"mistralai/Mistral-7B-Instruct-v0.1\""
   ]
  },
  {
   "cell_type": "code",
   "execution_count": 5,
   "id": "e4d45373",
   "metadata": {},
   "outputs": [],
   "source": [
    "# Load LLaMA tokenizer\n",
    "tokenizer = AutoTokenizer.from_pretrained(model_name, trust_remote_code=True,\n",
    "                                          # add_eos_token=True,\n",
    "                                          use_fast=False)\n",
    "tokenizer.pad_token = tokenizer.eos_token\n",
    "tokenizer.padding_side = \"right\""
   ]
  },
  {
   "cell_type": "code",
   "execution_count": 6,
   "id": "d2ca8102",
   "metadata": {},
   "outputs": [
    {
     "data": {
      "application/vnd.jupyter.widget-view+json": {
       "model_id": "3567e0cde09d4cb19330a37ce6be4d7b",
       "version_major": 2,
       "version_minor": 0
      },
      "text/plain": [
       "Loading checkpoint shards:   0%|          | 0/3 [00:00<?, ?it/s]"
      ]
     },
     "metadata": {},
     "output_type": "display_data"
    }
   ],
   "source": [
    "model = AutoModelForCausalLM.from_pretrained(\"/data/mistral/query-to-mql/exp-10/nov-20/merged-model\",\n",
    "                                            torch_dtype=torch.bfloat16, device_map=\"cpu\")"
   ]
  },
  {
   "cell_type": "code",
   "execution_count": 7,
   "id": "1b2c50c1",
   "metadata": {},
   "outputs": [],
   "source": [
    "context = \"\"\"{\n",
    "    \"MEASURE\": [{\"ENTITY\": \"Discount\", \"other names\": [\"discount\", \"discount rate\", \"discount value\", \"deduction\"]},\n",
    "                {\"ENTITY\": \"Purchase Vol\", \"other names\": [\"purchase\", \"purchase value\", \"purchase model\"]},\n",
    "                {\"ENTITY\": \"Quantity\", \"other names\": [\"quantity\", \"volume\"]},\n",
    "                {\"ENTITY\": \"Sales\", \"other names\": [\"sales\", \"sale\"]}],\n",
    "    \"DIMENSION\": [{\"ENTITY\": \"Sub-Category\", \"other names\": [\"sub-category\", \"sub category\", \"categories\", \"section\"]},\n",
    "                  {\"ENTITY\": \"Segment\", \"other names\": [\"segment\", \"segments\", \"units\", \"divisions\"]},\n",
    "                  {\"ENTITY\": \"Parts\", \"other names\": [\"parts\", \"part\", \"section\", \"divisions\"]},\n",
    "                  {\"ENTITY\": \"Country\", \"other names\": [\"country\", \"countries\"]}],\n",
    "    \"FILTER\": [{\"ENTITY\": \"Consumer\", \"other names\": [\"consumers\", \"consumer\"], \"parent\": \"Segment\"},\n",
    "               {\"ENTITY\": \"Phone\", \"other names\": [\"phone\", \"phones\", \"mobile phones\"], \"parent\": \"Sub-Category\"},\n",
    "               {\"ENTITY\": \"Binder\", \"other names\": [\"binders\", \"binder\"], \"parent\": \"Sub-Category\"},\n",
    "               {\"ENTITY\": \"Corporate\", \"other names\": [\"corporates\", \"corporate\"], \"parent\": \"Segment\"},\n",
    "               {\"ENTITY\": \"India\", \"other names\": [\"india\"], \"parent\": \"Country\"},\n",
    "               {\"ENTITY\": \"Dubai\", \"other names\": [\"dubai\"], \"parent\": \"Country\"}],\n",
    "    \"DERIVED MEASURE\": [{\"ENTITY\": \"Ratio\",\n",
    "             \"other names\": [\"ratio\", \"share\", \"contribution\", \"percentage\", \"proportion\", \"contributing\"]},\n",
    "            {\"ENTITY\": \"Why\", \"other names\": [\"why\", \"cause of\", \"reason for\", \"diagnose\"]},\n",
    "            {\"ENTITY\": \"contribution_to_growth\", \"other names\": [\"contribution to growth\", \"growth\", \"grown\"]},\n",
    "            {\"ENTITY\": \"kda_transactional\", \"other names\": [\"kda\", \"key drivers\", \"key driver\", \"drivers\", \"driver\"]},\n",
    "            {\"ENTITY\": \"Growth Rate\", \"other names\": [\"growth rate\", \"growth\", \"grown\"]},\n",
    "            {\"ENTITY\": \"correlation\",\n",
    "             \"other names\": [\"associate\", \"associated\", \"association\", \"associations\", \"correlate\", \"correlated\",\n",
    "                             \"correlation\", \"correlations\", \"relate\", \"related\", \"relation\", \"relations\",\n",
    "                             \"relationship\",\n",
    "                             \"relationships\"]}\n",
    "            ],\n",
    "    \"DATE VARIABLE\": [{\"ENTITY\": \"Order Date\", \"other names\": [\"order date\", \"date\", \"trend\", \"time\", \"when\", \"mom\", \"yoy\"]}]\n",
    "    }\"\"\"\n",
    "\n",
    "date_input = {\n",
    "    \"start_date\": \"01/01/2020\",\n",
    "    \"end_date\": \"15/09/2023\"\n",
    "}"
   ]
  },
  {
   "cell_type": "code",
   "execution_count": 8,
   "id": "bcbd007d",
   "metadata": {},
   "outputs": [],
   "source": [
    "query_template_v1 = \"\"\"Given the context : {context} and date reference: {date_input}, the query: {user_query}, is converted into below shown structured output.\n",
    "[MQL]\n",
    "\"\"\""
   ]
  },
  {
   "cell_type": "code",
   "execution_count": 10,
   "id": "d511ecd8",
   "metadata": {},
   "outputs": [],
   "source": [
    "import pandas as pd\n",
    "df = pd.read_csv('/data/mistral/query-to-mql/exp-10/training_data.csv')\n",
    "\n",
    "df=df.head(100)"
   ]
  },
  {
   "cell_type": "code",
   "execution_count": 11,
   "id": "61197981",
   "metadata": {},
   "outputs": [
    {
     "data": {
      "text/plain": [
       "(100, 3)"
      ]
     },
     "execution_count": 11,
     "metadata": {},
     "output_type": "execute_result"
    }
   ],
   "source": [
    "df.shape"
   ]
  },
  {
   "cell_type": "code",
   "execution_count": 12,
   "id": "5faf7161",
   "metadata": {},
   "outputs": [],
   "source": [
    "def predict_template_query_v1(user_query):\n",
    "    inp = query_template_v1.format(context=context,\n",
    "                                   user_query=user_query,\n",
    "                                  date_input=date_input)\n",
    "    _inputs = tokenizer.encode(inp, return_tensors=\"pt\")\n",
    "    outputs = model.generate(input_ids=_inputs, max_new_tokens = 200, pad_token_id=tokenizer.eos_token_id)\n",
    "    output = tokenizer.decode(outputs[0])\n",
    "    output_new = output.split('[MQL]\\n')[1]\n",
    "    return output_new.split('\\n[/MQL]')[0], output"
   ]
  },
  {
   "cell_type": "code",
   "execution_count": 14,
   "id": "eab245ee",
   "metadata": {},
   "outputs": [],
   "source": [
    "from tqdm import tqdm"
   ]
  },
  {
   "cell_type": "code",
   "execution_count": 15,
   "id": "ef2c4a39",
   "metadata": {},
   "outputs": [
    {
     "name": "stderr",
     "output_type": "stream",
     "text": [
      "100it [2:43:43, 98.23s/it]\n"
     ]
    }
   ],
   "source": [
    "predicted_mql = {}\n",
    "\n",
    "for i, row in tqdm(df.iterrows()):\n",
    "    user_query = row['Query']\n",
    "    output, _ = predict_template_query_v1(user_query)\n",
    "    predicted_mql[user_query]=output"
   ]
  },
  {
   "cell_type": "code",
   "execution_count": 16,
   "id": "ca24d6d1",
   "metadata": {},
   "outputs": [],
   "source": [
    "new_df = pd.DataFrame(predicted_mql.items(), columns=['query', 'predicted_mql'])\n",
    "new_df.to_csv(\"predicted_mql_unquantized_model.csv\", index=False)"
   ]
  },
  {
   "cell_type": "code",
   "execution_count": 17,
   "id": "b237c6da",
   "metadata": {},
   "outputs": [
    {
     "data": {
      "text/html": [
       "<div>\n",
       "<style scoped>\n",
       "    .dataframe tbody tr th:only-of-type {\n",
       "        vertical-align: middle;\n",
       "    }\n",
       "\n",
       "    .dataframe tbody tr th {\n",
       "        vertical-align: top;\n",
       "    }\n",
       "\n",
       "    .dataframe thead th {\n",
       "        text-align: right;\n",
       "    }\n",
       "</style>\n",
       "<table border=\"1\" class=\"dataframe\">\n",
       "  <thead>\n",
       "    <tr style=\"text-align: right;\">\n",
       "      <th></th>\n",
       "      <th>query</th>\n",
       "      <th>predicted_mql</th>\n",
       "    </tr>\n",
       "  </thead>\n",
       "  <tbody>\n",
       "    <tr>\n",
       "      <th>0</th>\n",
       "      <td>what is purchase across segments</td>\n",
       "      <td>{'DIMENSION': {'segments': [{'ENTITY': 'Segmen...</td>\n",
       "    </tr>\n",
       "    <tr>\n",
       "      <th>1</th>\n",
       "      <td>discount rate of phone and binders</td>\n",
       "      <td>{'DATE': {'': []}, 'DERIVED MEASURE': {'discou...</td>\n",
       "    </tr>\n",
       "    <tr>\n",
       "      <th>2</th>\n",
       "      <td>discount rate of overall sub-category in corpo...</td>\n",
       "      <td>{'DIMENSION': {'sub-category': [{'ENTITY': 'Su...</td>\n",
       "    </tr>\n",
       "    <tr>\n",
       "      <th>3</th>\n",
       "      <td>maximum sales of phone for consumer segment</td>\n",
       "      <td>{'DIMENSION': {'segment': [{'ENTITY': 'Segment...</td>\n",
       "    </tr>\n",
       "    <tr>\n",
       "      <th>4</th>\n",
       "      <td>forecast of sales</td>\n",
       "      <td>{'MEASURE': {'sales': [{'ENTITY': 'Sales', 'ME...</td>\n",
       "    </tr>\n",
       "    <tr>\n",
       "      <th>...</th>\n",
       "      <td>...</td>\n",
       "      <td>...</td>\n",
       "    </tr>\n",
       "    <tr>\n",
       "      <th>95</th>\n",
       "      <td>Sales in 2nd last year</td>\n",
       "      <td>{'DATE VARIABLE': {'2nd last year': [{'CONVERT...</td>\n",
       "    </tr>\n",
       "    <tr>\n",
       "      <th>96</th>\n",
       "      <td>sales in last to last year</td>\n",
       "      <td>{'DATE VARIABLE': {'last to last year': [{'CON...</td>\n",
       "    </tr>\n",
       "    <tr>\n",
       "      <th>97</th>\n",
       "      <td>sales in last to last month</td>\n",
       "      <td>{'DATE VARIABLE': {'last to last month': [{'CO...</td>\n",
       "    </tr>\n",
       "    <tr>\n",
       "      <th>98</th>\n",
       "      <td>sales in second last month</td>\n",
       "      <td>{'DATE VARIABLE': {' second last month': [{'CO...</td>\n",
       "    </tr>\n",
       "    <tr>\n",
       "      <th>99</th>\n",
       "      <td>sales in 12.04.23</td>\n",
       "      <td>{'DATE VARIABLE': {'12.04.23': [{'CONVERTED TI...</td>\n",
       "    </tr>\n",
       "  </tbody>\n",
       "</table>\n",
       "<p>100 rows × 2 columns</p>\n",
       "</div>"
      ],
      "text/plain": [
       "                                                query  \\\n",
       "0                    what is purchase across segments   \n",
       "1                  discount rate of phone and binders   \n",
       "2   discount rate of overall sub-category in corpo...   \n",
       "3         maximum sales of phone for consumer segment   \n",
       "4                                   forecast of sales   \n",
       "..                                                ...   \n",
       "95                             Sales in 2nd last year   \n",
       "96                         sales in last to last year   \n",
       "97                        sales in last to last month   \n",
       "98                         sales in second last month   \n",
       "99                                  sales in 12.04.23   \n",
       "\n",
       "                                        predicted_mql  \n",
       "0   {'DIMENSION': {'segments': [{'ENTITY': 'Segmen...  \n",
       "1   {'DATE': {'': []}, 'DERIVED MEASURE': {'discou...  \n",
       "2   {'DIMENSION': {'sub-category': [{'ENTITY': 'Su...  \n",
       "3   {'DIMENSION': {'segment': [{'ENTITY': 'Segment...  \n",
       "4   {'MEASURE': {'sales': [{'ENTITY': 'Sales', 'ME...  \n",
       "..                                                ...  \n",
       "95  {'DATE VARIABLE': {'2nd last year': [{'CONVERT...  \n",
       "96  {'DATE VARIABLE': {'last to last year': [{'CON...  \n",
       "97  {'DATE VARIABLE': {'last to last month': [{'CO...  \n",
       "98  {'DATE VARIABLE': {' second last month': [{'CO...  \n",
       "99  {'DATE VARIABLE': {'12.04.23': [{'CONVERTED TI...  \n",
       "\n",
       "[100 rows x 2 columns]"
      ]
     },
     "execution_count": 17,
     "metadata": {},
     "output_type": "execute_result"
    }
   ],
   "source": [
    "new_df"
   ]
  },
  {
   "cell_type": "code",
   "execution_count": 19,
   "id": "2ea216c0",
   "metadata": {},
   "outputs": [],
   "source": [
    "q_df = pd.read_csv(\"predicted_mql_llama-cpp.csv\")"
   ]
  },
  {
   "cell_type": "code",
   "execution_count": 21,
   "id": "d5efe084",
   "metadata": {},
   "outputs": [],
   "source": [
    "q_df['unqunt_mql']=new_df['predicted_mql']"
   ]
  },
  {
   "cell_type": "code",
   "execution_count": 25,
   "id": "36a38a35",
   "metadata": {},
   "outputs": [],
   "source": [
    "a = q_df['predicted_mql']==q_df['unqunt_mql']"
   ]
  },
  {
   "cell_type": "code",
   "execution_count": 29,
   "id": "b320c737",
   "metadata": {},
   "outputs": [
    {
     "data": {
      "text/plain": [
       "True     88\n",
       "False    12\n",
       "Name: count, dtype: int64"
      ]
     },
     "execution_count": 29,
     "metadata": {},
     "output_type": "execute_result"
    }
   ],
   "source": [
    "a.value_counts()"
   ]
  },
  {
   "cell_type": "code",
   "execution_count": 30,
   "id": "8dfa22ac",
   "metadata": {},
   "outputs": [],
   "source": [
    "score = 88/100"
   ]
  },
  {
   "cell_type": "code",
   "execution_count": 31,
   "id": "2f842f08",
   "metadata": {},
   "outputs": [
    {
     "data": {
      "text/plain": [
       "0.88"
      ]
     },
     "execution_count": 31,
     "metadata": {},
     "output_type": "execute_result"
    }
   ],
   "source": [
    "score"
   ]
  },
  {
   "cell_type": "code",
   "execution_count": null,
   "id": "c6986d3d",
   "metadata": {},
   "outputs": [],
   "source": []
  }
 ],
 "metadata": {
  "kernelspec": {
   "display_name": "Python 3",
   "language": "python",
   "name": "python3"
  },
  "language_info": {
   "codemirror_mode": {
    "name": "ipython",
    "version": 3
   },
   "file_extension": ".py",
   "mimetype": "text/x-python",
   "name": "python",
   "nbconvert_exporter": "python",
   "pygments_lexer": "ipython3",
   "version": "3.8.16"
  }
 },
 "nbformat": 4,
 "nbformat_minor": 5
}
