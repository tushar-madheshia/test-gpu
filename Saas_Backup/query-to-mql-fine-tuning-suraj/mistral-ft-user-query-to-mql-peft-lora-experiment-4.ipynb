{
 "cells": [
  {
   "cell_type": "markdown",
   "id": "73377c2e",
   "metadata": {},
   "source": [
    "### Distill step by step finetuning approach"
   ]
  },
  {
   "cell_type": "code",
   "execution_count": 1,
   "id": "06dcc636",
   "metadata": {
    "scrolled": true
   },
   "outputs": [],
   "source": [
    "!sudo pip install -q transformers --upgrade"
   ]
  },
  {
   "cell_type": "code",
   "execution_count": 2,
   "id": "a1b437fa",
   "metadata": {},
   "outputs": [
    {
     "data": {
      "text/plain": [
       "'4.34.1'"
      ]
     },
     "execution_count": 2,
     "metadata": {},
     "output_type": "execute_result"
    }
   ],
   "source": [
    "import transformers\n",
    "transformers.__version__"
   ]
  },
  {
   "cell_type": "code",
   "execution_count": 3,
   "id": "ef7ece4d",
   "metadata": {},
   "outputs": [],
   "source": [
    "#!sudo pip install -q accelerate peft==0.4.0 bitsandbytes trl==0.4.7"
   ]
  },
  {
   "cell_type": "code",
   "execution_count": 4,
   "id": "57fbc6b6",
   "metadata": {},
   "outputs": [],
   "source": [
    "import os\n",
    "import torch\n",
    "from datasets import load_dataset\n",
    "from datasets import Dataset\n",
    "from transformers import (\n",
    "    AutoModelForCausalLM,\n",
    "    AutoTokenizer,\n",
    "    BitsAndBytesConfig,\n",
    "    HfArgumentParser,\n",
    "    TrainingArguments,\n",
    "    pipeline,\n",
    "    logging,\n",
    ")\n",
    "from peft import LoraConfig, PeftModel\n",
    "from trl import SFTTrainer\n",
    "import pandas as pd\n",
    "import torch"
   ]
  },
  {
   "cell_type": "code",
   "execution_count": 5,
   "id": "02bb11f9",
   "metadata": {
    "slideshow": {
     "slide_type": "slide"
    }
   },
   "outputs": [],
   "source": [
    "df = pd.read_csv('/data/mistral/query-to-mql/training-data.csv')"
   ]
  },
  {
   "cell_type": "code",
   "execution_count": 6,
   "id": "219fed17",
   "metadata": {},
   "outputs": [
    {
     "data": {
      "text/plain": [
       "Index(['Query', 'MQL', 'Rationale'], dtype='object')"
      ]
     },
     "execution_count": 6,
     "metadata": {},
     "output_type": "execute_result"
    }
   ],
   "source": [
    "df.columns"
   ]
  },
  {
   "cell_type": "code",
   "execution_count": 7,
   "id": "8070e590",
   "metadata": {},
   "outputs": [
    {
     "data": {
      "text/plain": [
       "(37, 3)"
      ]
     },
     "execution_count": 7,
     "metadata": {},
     "output_type": "execute_result"
    }
   ],
   "source": [
    "df.shape"
   ]
  },
  {
   "cell_type": "code",
   "execution_count": null,
   "id": "290a2a2b",
   "metadata": {},
   "outputs": [],
   "source": []
  },
  {
   "cell_type": "code",
   "execution_count": null,
   "id": "16b6b4c2",
   "metadata": {},
   "outputs": [],
   "source": []
  },
  {
   "cell_type": "code",
   "execution_count": 8,
   "id": "c37f45b7",
   "metadata": {},
   "outputs": [],
   "source": [
    "# The model that you want to train from the Hugging Face hub\n",
    "model_name = \"mistralai/Mistral-7B-Instruct-v0.1\"\n",
    "\n",
    "# The instruction dataset to use\n",
    "#dataset_name = \"\"\n",
    "\n",
    "# Fine-tuned model name\n",
    "#new_model = \"mistral-ft-peft-on-template_and_user_query-data\""
   ]
  },
  {
   "cell_type": "code",
   "execution_count": 9,
   "id": "7f2ceeb8",
   "metadata": {},
   "outputs": [],
   "source": [
    "################################################################################\n",
    "# QLoRA parameters\n",
    "################################################################################\n",
    "\n",
    "# LoRA attention dimension\n",
    "lora_r = 64\n",
    "\n",
    "# Alpha parameter for LoRA scaling\n",
    "lora_alpha = 16\n",
    "\n",
    "# Dropout probability for LoRA layers\n",
    "lora_dropout = 0.1"
   ]
  },
  {
   "cell_type": "code",
   "execution_count": 10,
   "id": "f83e1317",
   "metadata": {},
   "outputs": [],
   "source": [
    "################################################################################\n",
    "# bitsandbytes parameters\n",
    "################################################################################\n",
    "\n",
    "# Activate 4-bit precision base model loading\n",
    "use_4bit = True\n",
    "\n",
    "# Compute dtype for 4-bit base models\n",
    "bnb_4bit_compute_dtype = \"float16\"\n",
    "\n",
    "# Quantization type (fp4 or nf4)\n",
    "bnb_4bit_quant_type = \"nf4\"\n",
    "\n",
    "# Activate nested quantization for 4-bit base models (double quantization)\n",
    "use_nested_quant = True"
   ]
  },
  {
   "cell_type": "code",
   "execution_count": 11,
   "id": "6b95b0ea",
   "metadata": {},
   "outputs": [],
   "source": [
    "################################################################################\n",
    "# TrainingArguments parameters\n",
    "################################################################################\n",
    "\n",
    "# Output directory where the model predictions and checkpoints will be stored\n",
    "output_dir = \"/data/mistral/query-to-mql/oct-27\"\n",
    "\n",
    "# Number of training epochs\n",
    "num_train_epochs = 15\n",
    "\n",
    "# Enable fp16/bf16 training (set bf16 to True with an A100)\n",
    "# fp16 = False\n",
    "fp16 = True # not using quantisation\n",
    "bf16 = False\n",
    "\n",
    "# Batch size per GPU for training\n",
    "per_device_train_batch_size = 1\n",
    "\n",
    "# Batch size per GPU for evaluation\n",
    "per_device_eval_batch_size = 1\n",
    "\n",
    "# Number of update steps to accumulate the gradients for\n",
    "gradient_accumulation_steps = 1\n",
    "\n",
    "# Enable gradient checkpointing\n",
    "gradient_checkpointing = True\n",
    "\n",
    "\n",
    "# Maximum gradient normal (gradient clipping)\n",
    "max_grad_norm = 0.3\n",
    "\n",
    "# Initial learning rate (AdamW optimizer)\n",
    "learning_rate = 2e-4\n",
    "\n",
    "# Weight decay to apply to all layers except bias/LayerNorm weights\n",
    "weight_decay = 0.001\n",
    "\n",
    "# Optimizer to use\n",
    "optim = \"paged_adamw_32bit\"\n",
    "\n",
    "# Learning rate schedule (constant a bit better than cosine)\n",
    "lr_scheduler_type = \"constant\"\n",
    "\n",
    "# Number of training steps (overrides num_train_epochs)\n",
    "max_steps = 200\n",
    "\n",
    "# Ratio of steps for a linear warmup (from 0 to learning rate)\n",
    "warmup_ratio = 0.03\n",
    "\n",
    "# Group sequences into batches with same length\n",
    "# Saves memory and speeds up training considerably\n",
    "group_by_length = True\n",
    "\n",
    "# Save checkpoint every X updates steps\n",
    "save_steps = 20\n",
    "\n",
    "# Log every X updates steps\n",
    "logging_steps = 20"
   ]
  },
  {
   "cell_type": "code",
   "execution_count": 12,
   "id": "fd83a980",
   "metadata": {},
   "outputs": [],
   "source": [
    "################################################################################\n",
    "# SFT parameters\n",
    "################################################################################\n",
    "\n",
    "# Maximum sequence length to use\n",
    "max_seq_length = None\n",
    "\n",
    "# Pack multiple short examples in the same input sequence to increase efficiency\n",
    "packing = False\n",
    "\n",
    "# Load the entire model on the GPU 0\n",
    "device_map = {\"\": 0}"
   ]
  },
  {
   "cell_type": "code",
   "execution_count": 13,
   "id": "36063e2e",
   "metadata": {},
   "outputs": [],
   "source": [
    "promt_template_measure = \"\"\"<s>[INST]<<SYS>>\n",
    "Given the context : {context} and date reference: {date_input}, the query: {user_query}, is converted into below shown structured output.\n",
    "\n",
    "<</SYS>>\n",
    "[/INST]\n",
    "[MQL]\n",
    "{mql}\n",
    "[/MQL]\n",
    "\n",
    "the steps and rationale used to achieve above structured output is as below.\n",
    "{rationale}\n",
    "</s>\n",
    "\"\"\""
   ]
  },
  {
   "cell_type": "code",
   "execution_count": 14,
   "id": "7303ea0c",
   "metadata": {},
   "outputs": [],
   "source": [
    "promt_template = \"\"\"Given the context : {context} and date reference: {date_input}, the query: {user_query}, is converted into below shown structured output.\n",
    "[MQL]\n",
    "{mql}\n",
    "[/MQL]\n",
    "the steps and rationale used to achieve above structured output is as below.\n",
    "{rationale}\n",
    "\"\"\""
   ]
  },
  {
   "cell_type": "code",
   "execution_count": 15,
   "id": "50d534e7",
   "metadata": {},
   "outputs": [
    {
     "data": {
      "text/plain": [
       "Index(['Query', 'MQL', 'Rationale'], dtype='object')"
      ]
     },
     "execution_count": 15,
     "metadata": {},
     "output_type": "execute_result"
    }
   ],
   "source": [
    "df.columns"
   ]
  },
  {
   "cell_type": "code",
   "execution_count": 13,
   "id": "47730f44",
   "metadata": {},
   "outputs": [],
   "source": [
    "context = \"\"\"{\n",
    "    \"MEASURE\": [{\"ENTITY\": \"Discount\", \"other names\": [\"discount\", \"discount rate\", \"discount value\", \"deduction\"]},\n",
    "                {\"ENTITY\": \"Purchase Vol\", \"other names\": [\"purchase\", \"purchase value\", \"purchase model\"]},\n",
    "                {\"ENTITY\": \"Quantity\", \"other names\": [\"quantity\", \"volume\"]},\n",
    "                {\"ENTITY\": \"Sales\", \"other names\": [\"sales\", \"sale\"]}],\n",
    "    \"DIMENSION\": [{\"ENTITY\": \"Sub-Category\", \"other names\": [\"sub-category\", \"sub category\", \"categories\", \"section\"]},\n",
    "                  {\"ENTITY\": \"Segment\", \"other names\": [\"segment\", \"segments\", \"units\", \"divisions\"]},\n",
    "                  {\"ENTITY\": \"Parts\", \"other names\": [\"parts\", \"part\", \"section\", \"divisions\"]},\n",
    "                  {\"ENTITY\": \"Country\", \"other names\": [\"country\", \"countries\"]}],\n",
    "    \"FILTER\": [{\"ENTITY\": \"Consumer\", \"other names\": [\"consumers\", \"consumer\"], \"parent\": \"Segment\"},\n",
    "               {\"ENTITY\": \"Phone\", \"other names\": [\"phone\", \"phones\", \"mobile phones\"], \"parent\": \"Sub-Category\"},\n",
    "               {\"ENTITY\": \"Binder\", \"other names\": [\"binders\", \"binder\"], \"parent\": \"Sub-Category\"},\n",
    "               {\"ENTITY\": \"Corporate\", \"other names\": [\"corporates\", \"corporate\"], \"parent\": \"Segment\"},\n",
    "               {\"ENTITY\": \"India\", \"other names\": [\"india\"], \"parent\": \"Country\"},\n",
    "               {\"ENTITY\": \"Dubai\", \"other names\": [\"dubai\"], \"parent\": \"Country\"}],\n",
    "    \"DERIVED MEASURE\": [{\"ENTITY\": \"Ratio\",\n",
    "             \"other names\": [\"ratio\", \"share\", \"contribution\", \"percentage\", \"proportion\", \"contributing\"]},\n",
    "            {\"ENTITY\": \"Why\", \"other names\": [\"why\", \"cause of\", \"reason for\", \"diagnose\"]},\n",
    "            {\"ENTITY\": \"contribution_to_growth\", \"other names\": [\"contribution to growth\", \"growth\", \"grown\"]},\n",
    "            {\"ENTITY\": \"kda_transactional\", \"other names\": [\"kda\", \"key drivers\", \"key driver\", \"drivers\", \"driver\"]},\n",
    "            {\"ENTITY\": \"Growth Rate\", \"other names\": [\"growth rate\", \"growth\", \"grown\"]},\n",
    "            {\"ENTITY\": \"correlation\",\n",
    "             \"other names\": [\"associate\", \"associated\", \"association\", \"associations\", \"correlate\", \"correlated\",\n",
    "                             \"correlation\", \"correlations\", \"relate\", \"related\", \"relation\", \"relations\",\n",
    "                             \"relationship\",\n",
    "                             \"relationships\"]}\n",
    "            ],\n",
    "    \"DATE VARIABLE\": [{\"ENTITY\": \"Order Date\", \"other names\": [\"order date\", \"date\", \"trend\", \"time\", \"when\", \"mom\", \"yoy\"]}]\n",
    "    }\"\"\""
   ]
  },
  {
   "cell_type": "code",
   "execution_count": 14,
   "id": "78a95227",
   "metadata": {},
   "outputs": [],
   "source": [
    "date_input = {\n",
    "    \"start_date\": \"01/01/2020\",\n",
    "    \"end_date\": \"15/09/2023\"\n",
    "}"
   ]
  },
  {
   "cell_type": "code",
   "execution_count": 18,
   "id": "4bc719f9",
   "metadata": {},
   "outputs": [],
   "source": [
    "def create_fine_tuning_dataset(row):\n",
    "    mql = row['MQL']\n",
    "    user_query = row['Query']\n",
    "    rationale = row['Rationale']\n",
    "    formated = promt_template.format(context=context,\n",
    "                                             date_input=date_input,\n",
    "                                             user_query=user_query,\n",
    "                                             mql=mql,\n",
    "                                             rationale=rationale)\n",
    "    return formated"
   ]
  },
  {
   "cell_type": "code",
   "execution_count": 19,
   "id": "a558ea0b",
   "metadata": {},
   "outputs": [],
   "source": [
    "df['fine_tuning_dataset']=df.apply(create_fine_tuning_dataset, axis=1)"
   ]
  },
  {
   "cell_type": "code",
   "execution_count": 20,
   "id": "0550eb5e",
   "metadata": {},
   "outputs": [
    {
     "data": {
      "text/plain": [
       "(37, 1)"
      ]
     },
     "execution_count": 20,
     "metadata": {},
     "output_type": "execute_result"
    }
   ],
   "source": [
    "df.drop(columns=['Query', 'MQL', 'Rationale'], inplace=True)\n",
    "df.shape"
   ]
  },
  {
   "cell_type": "code",
   "execution_count": 21,
   "id": "0f4c4086",
   "metadata": {},
   "outputs": [],
   "source": [
    "train_dataset = Dataset.from_pandas(df)"
   ]
  },
  {
   "cell_type": "code",
   "execution_count": 22,
   "id": "af0efa36",
   "metadata": {},
   "outputs": [
    {
     "data": {
      "text/plain": [
       "Dataset({\n",
       "    features: ['fine_tuning_dataset'],\n",
       "    num_rows: 37\n",
       "})"
      ]
     },
     "execution_count": 22,
     "metadata": {},
     "output_type": "execute_result"
    }
   ],
   "source": [
    "train_dataset"
   ]
  },
  {
   "cell_type": "code",
   "execution_count": 23,
   "id": "555e910f",
   "metadata": {
    "scrolled": true
   },
   "outputs": [
    {
     "data": {
      "text/plain": [
       "'Given the context : {\\n    \"MEASURE\": [{\"ENTITY\": \"Discount\", \"other names\": [\"discount\", \"discount rate\", \"discount value\", \"deduction\"]},\\n                {\"ENTITY\": \"Purchase Vol\", \"other names\": [\"purchase\", \"purchase value\", \"purchase model\"]},\\n                {\"ENTITY\": \"Quantity\", \"other names\": [\"quantity\", \"volume\"]},\\n                {\"ENTITY\": \"Sales\", \"other names\": [\"sales\", \"sale\"]}],\\n    \"DIMENSION\": [{\"ENTITY\": \"Sub-Category\", \"other names\": [\"sub-category\", \"sub category\", \"categories\", \"section\"]},\\n                  {\"ENTITY\": \"Segment\", \"other names\": [\"segment\", \"segments\", \"units\", \"divisions\"]},\\n                  {\"ENTITY\": \"Parts\", \"other names\": [\"parts\", \"part\", \"section\", \"divisions\"]},\\n                  {\"ENTITY\": \"Country\", \"other names\": [\"country\", \"countries\"]}],\\n    \"FILTER\": [{\"ENTITY\": \"Consumer\", \"other names\": [\"consumers\", \"consumer\"], \"parent\": \"Segment\"},\\n               {\"ENTITY\": \"Phone\", \"other names\": [\"phone\", \"phones\", \"mobile phones\"], \"parent\": \"Sub-Category\"},\\n               {\"ENTITY\": \"Binder\", \"other names\": [\"binders\", \"binder\"], \"parent\": \"Sub-Category\"},\\n               {\"ENTITY\": \"Corporate\", \"other names\": [\"corporates\", \"corporate\"], \"parent\": \"Segment\"},\\n               {\"ENTITY\": \"India\", \"other names\": [\"india\"], \"parent\": \"Country\"},\\n               {\"ENTITY\": \"Dubai\", \"other names\": [\"dubai\"], \"parent\": \"Country\"}],\\n    \"DERIVED MEASURE\": [{\"ENTITY\": \"Ratio\",\\n             \"other names\": [\"ratio\", \"share\", \"contribution\", \"percentage\", \"proportion\", \"contributing\"]},\\n            {\"ENTITY\": \"Why\", \"other names\": [\"why\", \"cause of\", \"reason for\", \"diagnose\"]},\\n            {\"ENTITY\": \"contribution_to_growth\", \"other names\": [\"contribution to growth\", \"growth\", \"grown\"]},\\n            {\"ENTITY\": \"kda_transactional\", \"other names\": [\"kda\", \"key drivers\", \"key driver\", \"drivers\", \"driver\"]},\\n            {\"ENTITY\": \"Growth Rate\", \"other names\": [\"growth rate\", \"growth\", \"grown\"]},\\n            {\"ENTITY\": \"correlation\",\\n             \"other names\": [\"associate\", \"associated\", \"association\", \"associations\", \"correlate\", \"correlated\",\\n                             \"correlation\", \"correlations\", \"relate\", \"related\", \"relation\", \"relations\",\\n                             \"relationship\",\\n                             \"relationships\"]}\\n            ],\\n    \"DATE VARIABLE\": [{\"ENTITY\": \"Order Date\", \"other names\": [\"order date\", \"date\", \"trend\", \"time\", \"when\", \"mom\", \"yoy\"]}]\\n    } and date reference: {\\'start_date\\': \\'01/01/2020\\', \\'end_date\\': \\'15/09/2023\\'}, the query: what is purchase across segments, is converted into below shown structured output.\\n[MQL]\\n{\\n    \"DIMENSION\": {\\n        \"segments\": [\\n            {\\n                \"ENTITY\": \"Segment\",\\n                \"RANK\": [\\n                    {\\n                        \"RANK ADJECTIVE\": \"\",\\n                        \"RANK VALUE\": \"\"\\n                    }\\n                ]\\n            }\\n        ]\\n    },\\n    \"MEASURE\": {\\n        \"purchase\": [\\n            {\\n                \"ENTITY\": \"Purchase Vol\",\\n                \"MEASURE CONSTRAINT\": [\\n                    {\\n                        \"COMPARISON VALUE\": \"\",\\n                        \"COMPARSION OPERATOR\": \"\"\\n                    }\\n                ]\\n            }\\n        ]\\n    }\\n}\\n[/MQL]\\nthe steps and rationale used to achieve above structured output is as below.\\nStep 1: Identify the main components of the query\\nIn the given query \"what is purchase across segments\", the main components are \"purchase\" and \"segments\".\\n\\nStep 2: Map the components to the context\\n- \"purchase\" can be mapped to the \\'Purchase Vol\\' entity under \\'MEASURE\\' in the context.\\n- \"segments\" can be mapped to the \\'Segment\\' entity under \\'DIMENSION\\' in the context.\\n\\nStep 3: Create the structured output\\n- For the \\'DIMENSION\\' part of the output, we include the \\'Segment\\' entity since the query asks for purchase across segments.\\n- For the \\'MEASURE\\' part of the output, we include the \\'Purchase Vol\\' entity as the query is asking for the purchase value.\\n\\nRationale:\\nThe structured output is created by identifying the main components of the query and mapping them to the given context. This helps in understanding the user\\'s intent and provides a structured format that can be used for further analysis or processing.\\n'"
      ]
     },
     "execution_count": 23,
     "metadata": {},
     "output_type": "execute_result"
    }
   ],
   "source": [
    "train_dataset['fine_tuning_dataset'][0]"
   ]
  },
  {
   "cell_type": "code",
   "execution_count": 24,
   "id": "68cc3cf7",
   "metadata": {},
   "outputs": [],
   "source": [
    "# Load tokenizer and model with QLoRA configuration\n",
    "compute_dtype = getattr(torch, bnb_4bit_compute_dtype)\n",
    "\n",
    "bnb_config = BitsAndBytesConfig(\n",
    "    load_in_4bit=use_4bit,\n",
    "    bnb_4bit_quant_type=bnb_4bit_quant_type,\n",
    "    bnb_4bit_compute_dtype=compute_dtype,\n",
    "    bnb_4bit_use_double_quant=use_nested_quant,\n",
    ")"
   ]
  },
  {
   "cell_type": "code",
   "execution_count": 25,
   "id": "ed25c775",
   "metadata": {},
   "outputs": [
    {
     "data": {
      "text/plain": [
       "'nf4'"
      ]
     },
     "execution_count": 25,
     "metadata": {},
     "output_type": "execute_result"
    }
   ],
   "source": [
    "bnb_4bit_quant_type"
   ]
  },
  {
   "cell_type": "code",
   "execution_count": 26,
   "id": "6664ecee",
   "metadata": {},
   "outputs": [
    {
     "data": {
      "text/plain": [
       "torch.float16"
      ]
     },
     "execution_count": 26,
     "metadata": {},
     "output_type": "execute_result"
    }
   ],
   "source": [
    "compute_dtype"
   ]
  },
  {
   "cell_type": "code",
   "execution_count": 27,
   "id": "8e2c3788",
   "metadata": {},
   "outputs": [],
   "source": [
    "# Check GPU compatibility with bfloat16\n",
    "if compute_dtype == torch.float16 and use_4bit:\n",
    "    major, _ = torch.cuda.get_device_capability()\n",
    "    if major >= 8:\n",
    "        print(\"=\" * 80)\n",
    "        print(\"Your GPU supports bfloat16: accelerate training with bf16=True\")\n",
    "        print(\"=\" * 80)"
   ]
  },
  {
   "cell_type": "code",
   "execution_count": 15,
   "id": "a38e3e5d",
   "metadata": {},
   "outputs": [],
   "source": [
    "model_name = \"mistralai/Mistral-7B-Instruct-v0.1\""
   ]
  },
  {
   "cell_type": "code",
   "execution_count": 12,
   "id": "0f49a0ae",
   "metadata": {
    "slideshow": {
     "slide_type": "-"
    }
   },
   "outputs": [],
   "source": [
    "!sudo pip install -q pynvml"
   ]
  },
  {
   "cell_type": "code",
   "execution_count": 13,
   "id": "e994711a",
   "metadata": {},
   "outputs": [
    {
     "data": {
      "text/plain": [
       "{'gpu': [{'fb_memory_usage': {'total': 16384.0,\n",
       "    'free': 15972.9375,\n",
       "    'unit': 'MiB'}}]}"
      ]
     },
     "execution_count": 13,
     "metadata": {},
     "output_type": "execute_result"
    }
   ],
   "source": [
    "from pynvml.smi import nvidia_smi\n",
    "nvsmi = nvidia_smi.getInstance()\n",
    "nvsmi.DeviceQuery('memory.free, memory.total')"
   ]
  },
  {
   "cell_type": "code",
   "execution_count": 14,
   "id": "eec98fb5",
   "metadata": {
    "scrolled": true
   },
   "outputs": [],
   "source": [
    "#!df -H"
   ]
  },
  {
   "cell_type": "code",
   "execution_count": 15,
   "id": "202bb865",
   "metadata": {},
   "outputs": [
    {
     "data": {
      "text/plain": [
       "True"
      ]
     },
     "execution_count": 15,
     "metadata": {},
     "output_type": "execute_result"
    }
   ],
   "source": [
    "torch.cuda.is_available()"
   ]
  },
  {
   "cell_type": "code",
   "execution_count": 33,
   "id": "7ca0d0d1",
   "metadata": {},
   "outputs": [],
   "source": [
    "# del model\n",
    "# torch.cuda.empty_cache()"
   ]
  },
  {
   "cell_type": "code",
   "execution_count": 34,
   "id": "ba0a15e6",
   "metadata": {},
   "outputs": [
    {
     "data": {
      "application/vnd.jupyter.widget-view+json": {
       "model_id": "2892a1e3177c4a27a5fa1d3aa940d096",
       "version_major": 2,
       "version_minor": 0
      },
      "text/plain": [
       "Loading checkpoint shards:   0%|          | 0/2 [00:00<?, ?it/s]"
      ]
     },
     "metadata": {},
     "output_type": "display_data"
    }
   ],
   "source": [
    "# Load base model\n",
    "model = AutoModelForCausalLM.from_pretrained(\n",
    "    model_name,\n",
    "    quantization_config=bnb_config,\n",
    "#     torch_dtype=torch.bfloat16,\n",
    "    device_map=\"auto\"\n",
    ")\n",
    "model.config.use_cache = False\n",
    "model.config.pretraining_tp = 1"
   ]
  },
  {
   "cell_type": "code",
   "execution_count": 16,
   "id": "ef60f964",
   "metadata": {},
   "outputs": [],
   "source": [
    "# Load LLaMA tokenizer\n",
    "tokenizer = AutoTokenizer.from_pretrained(model_name, trust_remote_code=True,\n",
    "                                          # add_eos_token=True,\n",
    "                                          use_fast=False)\n",
    "tokenizer.pad_token = tokenizer.eos_token\n",
    "tokenizer.padding_side = \"right\""
   ]
  },
  {
   "cell_type": "code",
   "execution_count": 36,
   "id": "a6716c5d",
   "metadata": {},
   "outputs": [
    {
     "data": {
      "text/plain": [
       "1576"
      ]
     },
     "execution_count": 36,
     "metadata": {},
     "output_type": "execute_result"
    }
   ],
   "source": [
    "max([len(tokenizer.encode(df['fine_tuning_dataset'][i])) for i in range(df.shape[0])])"
   ]
  },
  {
   "cell_type": "code",
   "execution_count": null,
   "id": "5fc5bf25",
   "metadata": {
    "scrolled": true
   },
   "outputs": [],
   "source": []
  },
  {
   "cell_type": "code",
   "execution_count": 37,
   "id": "75ffc6f1",
   "metadata": {},
   "outputs": [],
   "source": [
    "# LoRA configuration\n",
    "peft_config = LoraConfig(\n",
    "    lora_alpha=lora_alpha,\n",
    "    lora_dropout=lora_dropout,\n",
    "    target_modules = [\"q_proj\", \"v_proj\"],\n",
    "    r=lora_r,\n",
    "    bias=\"none\",\n",
    "    task_type=\"CAUSAL_LM\",\n",
    ")"
   ]
  },
  {
   "cell_type": "code",
   "execution_count": null,
   "id": "85583ae7",
   "metadata": {},
   "outputs": [],
   "source": []
  },
  {
   "cell_type": "code",
   "execution_count": 38,
   "id": "7e30b281",
   "metadata": {},
   "outputs": [],
   "source": [
    "# Set training parameters\n",
    "training_arguments = TrainingArguments(\n",
    "    output_dir=output_dir,\n",
    "    num_train_epochs=num_train_epochs,\n",
    "    per_device_train_batch_size=per_device_train_batch_size,\n",
    "    gradient_accumulation_steps=gradient_accumulation_steps,\n",
    "    optim=optim,\n",
    "    save_steps=save_steps,\n",
    "#     eval_steps=50, # requires when eval_dataset is defined\n",
    "#     per_device_eval_batch_size=1, # Batch size for evaluation\n",
    "#     evaluation_strategy=\"steps\", # requires when eval_dataset is defined\n",
    "    logging_strategy=\"steps\",\n",
    "    logging_steps=5,\n",
    "    learning_rate=learning_rate,\n",
    "    weight_decay=weight_decay,\n",
    "    fp16=fp16,\n",
    "    bf16=bf16,\n",
    "    max_grad_norm=max_grad_norm,\n",
    "    max_steps=600,\n",
    "    warmup_ratio=warmup_ratio,\n",
    "    group_by_length=group_by_length,\n",
    "    lr_scheduler_type=lr_scheduler_type,\n",
    "    report_to=\"tensorboard\",\n",
    "#     load_best_model_at_end=True,\n",
    "#     save_total_limit=1,\n",
    "#     metric_for_best_model=\"eval_loss\",\n",
    "#     greater_is_better=False\n",
    ")"
   ]
  },
  {
   "cell_type": "code",
   "execution_count": 39,
   "id": "6ee91f4d",
   "metadata": {},
   "outputs": [
    {
     "name": "stdout",
     "output_type": "stream",
     "text": [
      "Memory footprint 4.551360512 GB\n",
      "Flops 87375.791259648 GFLOPs\n"
     ]
    }
   ],
   "source": [
    "## Getting FLOPs of model\n",
    "\n",
    "model_flops = (\n",
    "  model.floating_point_ops(\n",
    "    {\n",
    "       \"input_ids\": torch.zeros(\n",
    "           (1, 2048)\n",
    "      )\n",
    "    }\n",
    "  )\n",
    "  * training_arguments.gradient_accumulation_steps\n",
    ")\n",
    "\n",
    "#print(model)\n",
    "print(\"Memory footprint\", model.get_memory_footprint() / 1e9, \"GB\")\n",
    "print(\"Flops\", model_flops / 1e9, \"GFLOPs\")"
   ]
  },
  {
   "cell_type": "code",
   "execution_count": 40,
   "id": "de52effd",
   "metadata": {},
   "outputs": [
    {
     "data": {
      "text/plain": [
       "Dataset({\n",
       "    features: ['fine_tuning_dataset'],\n",
       "    num_rows: 37\n",
       "})"
      ]
     },
     "execution_count": 40,
     "metadata": {},
     "output_type": "execute_result"
    }
   ],
   "source": [
    "train_dataset"
   ]
  },
  {
   "cell_type": "code",
   "execution_count": 41,
   "id": "e9aa438a",
   "metadata": {
    "scrolled": true
   },
   "outputs": [],
   "source": [
    "#print(torch.cuda.memory_summary(device=None, abbreviated=False))"
   ]
  },
  {
   "cell_type": "code",
   "execution_count": 42,
   "id": "f8bf5981",
   "metadata": {},
   "outputs": [
    {
     "name": "stderr",
     "output_type": "stream",
     "text": [
      "/opt/conda/lib/python3.8/site-packages/peft/utils/other.py:122: FutureWarning: prepare_model_for_int8_training is deprecated and will be removed in a future version. Use prepare_model_for_kbit_training instead.\n",
      "  warnings.warn(\n"
     ]
    },
    {
     "data": {
      "application/vnd.jupyter.widget-view+json": {
       "model_id": "334268640b204c78819b86992641dc73",
       "version_major": 2,
       "version_minor": 0
      },
      "text/plain": [
       "Map:   0%|          | 0/37 [00:00<?, ? examples/s]"
      ]
     },
     "metadata": {},
     "output_type": "display_data"
    }
   ],
   "source": [
    "# Set supervised fine-tuning parameters\n",
    "trainer = SFTTrainer(\n",
    "    model=model,\n",
    "    train_dataset=train_dataset,\n",
    "#     eval_dataset=val_dataset,\n",
    "    peft_config=peft_config,\n",
    "    dataset_text_field=\"fine_tuning_dataset\",\n",
    "    max_seq_length=2048,\n",
    "    tokenizer=tokenizer,\n",
    "    args=training_arguments,\n",
    "    packing=packing,\n",
    ")"
   ]
  },
  {
   "cell_type": "code",
   "execution_count": null,
   "id": "d942d91c",
   "metadata": {
    "scrolled": true
   },
   "outputs": [],
   "source": []
  },
  {
   "cell_type": "code",
   "execution_count": 43,
   "id": "b5769042",
   "metadata": {
    "scrolled": true
   },
   "outputs": [
    {
     "data": {
      "text/html": [
       "\n",
       "    <div>\n",
       "      \n",
       "      <progress value='600' max='600' style='width:300px; height:20px; vertical-align: middle;'></progress>\n",
       "      [600/600 1:08:22, Epoch 16/17]\n",
       "    </div>\n",
       "    <table border=\"1\" class=\"dataframe\">\n",
       "  <thead>\n",
       " <tr style=\"text-align: left;\">\n",
       "      <th>Step</th>\n",
       "      <th>Training Loss</th>\n",
       "    </tr>\n",
       "  </thead>\n",
       "  <tbody>\n",
       "    <tr>\n",
       "      <td>5</td>\n",
       "      <td>0.893300</td>\n",
       "    </tr>\n",
       "    <tr>\n",
       "      <td>10</td>\n",
       "      <td>0.753500</td>\n",
       "    </tr>\n",
       "    <tr>\n",
       "      <td>15</td>\n",
       "      <td>0.552700</td>\n",
       "    </tr>\n",
       "    <tr>\n",
       "      <td>20</td>\n",
       "      <td>0.306200</td>\n",
       "    </tr>\n",
       "    <tr>\n",
       "      <td>25</td>\n",
       "      <td>0.216700</td>\n",
       "    </tr>\n",
       "    <tr>\n",
       "      <td>30</td>\n",
       "      <td>0.161100</td>\n",
       "    </tr>\n",
       "    <tr>\n",
       "      <td>35</td>\n",
       "      <td>0.164300</td>\n",
       "    </tr>\n",
       "    <tr>\n",
       "      <td>40</td>\n",
       "      <td>0.132500</td>\n",
       "    </tr>\n",
       "    <tr>\n",
       "      <td>45</td>\n",
       "      <td>0.128500</td>\n",
       "    </tr>\n",
       "    <tr>\n",
       "      <td>50</td>\n",
       "      <td>0.101700</td>\n",
       "    </tr>\n",
       "    <tr>\n",
       "      <td>55</td>\n",
       "      <td>0.080800</td>\n",
       "    </tr>\n",
       "    <tr>\n",
       "      <td>60</td>\n",
       "      <td>0.132300</td>\n",
       "    </tr>\n",
       "    <tr>\n",
       "      <td>65</td>\n",
       "      <td>0.108500</td>\n",
       "    </tr>\n",
       "    <tr>\n",
       "      <td>70</td>\n",
       "      <td>0.108500</td>\n",
       "    </tr>\n",
       "    <tr>\n",
       "      <td>75</td>\n",
       "      <td>0.088300</td>\n",
       "    </tr>\n",
       "    <tr>\n",
       "      <td>80</td>\n",
       "      <td>0.087700</td>\n",
       "    </tr>\n",
       "    <tr>\n",
       "      <td>85</td>\n",
       "      <td>0.063800</td>\n",
       "    </tr>\n",
       "    <tr>\n",
       "      <td>90</td>\n",
       "      <td>0.071500</td>\n",
       "    </tr>\n",
       "    <tr>\n",
       "      <td>95</td>\n",
       "      <td>0.064600</td>\n",
       "    </tr>\n",
       "    <tr>\n",
       "      <td>100</td>\n",
       "      <td>0.068800</td>\n",
       "    </tr>\n",
       "    <tr>\n",
       "      <td>105</td>\n",
       "      <td>0.061900</td>\n",
       "    </tr>\n",
       "    <tr>\n",
       "      <td>110</td>\n",
       "      <td>0.053800</td>\n",
       "    </tr>\n",
       "    <tr>\n",
       "      <td>115</td>\n",
       "      <td>0.044700</td>\n",
       "    </tr>\n",
       "    <tr>\n",
       "      <td>120</td>\n",
       "      <td>0.031800</td>\n",
       "    </tr>\n",
       "    <tr>\n",
       "      <td>125</td>\n",
       "      <td>0.055500</td>\n",
       "    </tr>\n",
       "    <tr>\n",
       "      <td>130</td>\n",
       "      <td>0.039200</td>\n",
       "    </tr>\n",
       "    <tr>\n",
       "      <td>135</td>\n",
       "      <td>0.042300</td>\n",
       "    </tr>\n",
       "    <tr>\n",
       "      <td>140</td>\n",
       "      <td>0.038900</td>\n",
       "    </tr>\n",
       "    <tr>\n",
       "      <td>145</td>\n",
       "      <td>0.038700</td>\n",
       "    </tr>\n",
       "    <tr>\n",
       "      <td>150</td>\n",
       "      <td>0.037200</td>\n",
       "    </tr>\n",
       "    <tr>\n",
       "      <td>155</td>\n",
       "      <td>0.041300</td>\n",
       "    </tr>\n",
       "    <tr>\n",
       "      <td>160</td>\n",
       "      <td>0.030000</td>\n",
       "    </tr>\n",
       "    <tr>\n",
       "      <td>165</td>\n",
       "      <td>0.029100</td>\n",
       "    </tr>\n",
       "    <tr>\n",
       "      <td>170</td>\n",
       "      <td>0.027900</td>\n",
       "    </tr>\n",
       "    <tr>\n",
       "      <td>175</td>\n",
       "      <td>0.026900</td>\n",
       "    </tr>\n",
       "    <tr>\n",
       "      <td>180</td>\n",
       "      <td>0.036200</td>\n",
       "    </tr>\n",
       "    <tr>\n",
       "      <td>185</td>\n",
       "      <td>0.029300</td>\n",
       "    </tr>\n",
       "    <tr>\n",
       "      <td>190</td>\n",
       "      <td>0.031400</td>\n",
       "    </tr>\n",
       "    <tr>\n",
       "      <td>195</td>\n",
       "      <td>0.019100</td>\n",
       "    </tr>\n",
       "    <tr>\n",
       "      <td>200</td>\n",
       "      <td>0.025700</td>\n",
       "    </tr>\n",
       "    <tr>\n",
       "      <td>205</td>\n",
       "      <td>0.022300</td>\n",
       "    </tr>\n",
       "    <tr>\n",
       "      <td>210</td>\n",
       "      <td>0.020700</td>\n",
       "    </tr>\n",
       "    <tr>\n",
       "      <td>215</td>\n",
       "      <td>0.028300</td>\n",
       "    </tr>\n",
       "    <tr>\n",
       "      <td>220</td>\n",
       "      <td>0.026700</td>\n",
       "    </tr>\n",
       "    <tr>\n",
       "      <td>225</td>\n",
       "      <td>0.022800</td>\n",
       "    </tr>\n",
       "    <tr>\n",
       "      <td>230</td>\n",
       "      <td>0.021100</td>\n",
       "    </tr>\n",
       "    <tr>\n",
       "      <td>235</td>\n",
       "      <td>0.020500</td>\n",
       "    </tr>\n",
       "    <tr>\n",
       "      <td>240</td>\n",
       "      <td>0.014900</td>\n",
       "    </tr>\n",
       "    <tr>\n",
       "      <td>245</td>\n",
       "      <td>0.022100</td>\n",
       "    </tr>\n",
       "    <tr>\n",
       "      <td>250</td>\n",
       "      <td>0.019000</td>\n",
       "    </tr>\n",
       "    <tr>\n",
       "      <td>255</td>\n",
       "      <td>0.020000</td>\n",
       "    </tr>\n",
       "    <tr>\n",
       "      <td>260</td>\n",
       "      <td>0.017700</td>\n",
       "    </tr>\n",
       "    <tr>\n",
       "      <td>265</td>\n",
       "      <td>0.014700</td>\n",
       "    </tr>\n",
       "    <tr>\n",
       "      <td>270</td>\n",
       "      <td>0.014000</td>\n",
       "    </tr>\n",
       "    <tr>\n",
       "      <td>275</td>\n",
       "      <td>0.016300</td>\n",
       "    </tr>\n",
       "    <tr>\n",
       "      <td>280</td>\n",
       "      <td>0.017600</td>\n",
       "    </tr>\n",
       "    <tr>\n",
       "      <td>285</td>\n",
       "      <td>0.019400</td>\n",
       "    </tr>\n",
       "    <tr>\n",
       "      <td>290</td>\n",
       "      <td>0.016600</td>\n",
       "    </tr>\n",
       "    <tr>\n",
       "      <td>295</td>\n",
       "      <td>0.018200</td>\n",
       "    </tr>\n",
       "    <tr>\n",
       "      <td>300</td>\n",
       "      <td>0.019200</td>\n",
       "    </tr>\n",
       "    <tr>\n",
       "      <td>305</td>\n",
       "      <td>0.016900</td>\n",
       "    </tr>\n",
       "    <tr>\n",
       "      <td>310</td>\n",
       "      <td>0.016500</td>\n",
       "    </tr>\n",
       "    <tr>\n",
       "      <td>315</td>\n",
       "      <td>0.018600</td>\n",
       "    </tr>\n",
       "    <tr>\n",
       "      <td>320</td>\n",
       "      <td>0.012800</td>\n",
       "    </tr>\n",
       "    <tr>\n",
       "      <td>325</td>\n",
       "      <td>0.015300</td>\n",
       "    </tr>\n",
       "    <tr>\n",
       "      <td>330</td>\n",
       "      <td>0.020300</td>\n",
       "    </tr>\n",
       "    <tr>\n",
       "      <td>335</td>\n",
       "      <td>0.017100</td>\n",
       "    </tr>\n",
       "    <tr>\n",
       "      <td>340</td>\n",
       "      <td>0.014100</td>\n",
       "    </tr>\n",
       "    <tr>\n",
       "      <td>345</td>\n",
       "      <td>0.014100</td>\n",
       "    </tr>\n",
       "    <tr>\n",
       "      <td>350</td>\n",
       "      <td>0.012800</td>\n",
       "    </tr>\n",
       "    <tr>\n",
       "      <td>355</td>\n",
       "      <td>0.016800</td>\n",
       "    </tr>\n",
       "    <tr>\n",
       "      <td>360</td>\n",
       "      <td>0.014700</td>\n",
       "    </tr>\n",
       "    <tr>\n",
       "      <td>365</td>\n",
       "      <td>0.012500</td>\n",
       "    </tr>\n",
       "    <tr>\n",
       "      <td>370</td>\n",
       "      <td>0.015400</td>\n",
       "    </tr>\n",
       "    <tr>\n",
       "      <td>375</td>\n",
       "      <td>0.011300</td>\n",
       "    </tr>\n",
       "    <tr>\n",
       "      <td>380</td>\n",
       "      <td>0.014500</td>\n",
       "    </tr>\n",
       "    <tr>\n",
       "      <td>385</td>\n",
       "      <td>0.011700</td>\n",
       "    </tr>\n",
       "    <tr>\n",
       "      <td>390</td>\n",
       "      <td>0.011500</td>\n",
       "    </tr>\n",
       "    <tr>\n",
       "      <td>395</td>\n",
       "      <td>0.015600</td>\n",
       "    </tr>\n",
       "    <tr>\n",
       "      <td>400</td>\n",
       "      <td>0.012700</td>\n",
       "    </tr>\n",
       "    <tr>\n",
       "      <td>405</td>\n",
       "      <td>0.013300</td>\n",
       "    </tr>\n",
       "    <tr>\n",
       "      <td>410</td>\n",
       "      <td>0.010300</td>\n",
       "    </tr>\n",
       "    <tr>\n",
       "      <td>415</td>\n",
       "      <td>0.012400</td>\n",
       "    </tr>\n",
       "    <tr>\n",
       "      <td>420</td>\n",
       "      <td>0.009800</td>\n",
       "    </tr>\n",
       "    <tr>\n",
       "      <td>425</td>\n",
       "      <td>0.011700</td>\n",
       "    </tr>\n",
       "    <tr>\n",
       "      <td>430</td>\n",
       "      <td>0.011200</td>\n",
       "    </tr>\n",
       "    <tr>\n",
       "      <td>435</td>\n",
       "      <td>0.012500</td>\n",
       "    </tr>\n",
       "    <tr>\n",
       "      <td>440</td>\n",
       "      <td>0.012200</td>\n",
       "    </tr>\n",
       "    <tr>\n",
       "      <td>445</td>\n",
       "      <td>0.011800</td>\n",
       "    </tr>\n",
       "    <tr>\n",
       "      <td>450</td>\n",
       "      <td>0.011000</td>\n",
       "    </tr>\n",
       "    <tr>\n",
       "      <td>455</td>\n",
       "      <td>0.011300</td>\n",
       "    </tr>\n",
       "    <tr>\n",
       "      <td>460</td>\n",
       "      <td>0.012200</td>\n",
       "    </tr>\n",
       "    <tr>\n",
       "      <td>465</td>\n",
       "      <td>0.014700</td>\n",
       "    </tr>\n",
       "    <tr>\n",
       "      <td>470</td>\n",
       "      <td>0.011900</td>\n",
       "    </tr>\n",
       "    <tr>\n",
       "      <td>475</td>\n",
       "      <td>0.011300</td>\n",
       "    </tr>\n",
       "    <tr>\n",
       "      <td>480</td>\n",
       "      <td>0.018500</td>\n",
       "    </tr>\n",
       "    <tr>\n",
       "      <td>485</td>\n",
       "      <td>0.011600</td>\n",
       "    </tr>\n",
       "    <tr>\n",
       "      <td>490</td>\n",
       "      <td>0.009800</td>\n",
       "    </tr>\n",
       "    <tr>\n",
       "      <td>495</td>\n",
       "      <td>0.011300</td>\n",
       "    </tr>\n",
       "    <tr>\n",
       "      <td>500</td>\n",
       "      <td>0.015600</td>\n",
       "    </tr>\n",
       "    <tr>\n",
       "      <td>505</td>\n",
       "      <td>0.012900</td>\n",
       "    </tr>\n",
       "    <tr>\n",
       "      <td>510</td>\n",
       "      <td>0.011400</td>\n",
       "    </tr>\n",
       "    <tr>\n",
       "      <td>515</td>\n",
       "      <td>0.014600</td>\n",
       "    </tr>\n",
       "    <tr>\n",
       "      <td>520</td>\n",
       "      <td>0.012000</td>\n",
       "    </tr>\n",
       "    <tr>\n",
       "      <td>525</td>\n",
       "      <td>0.010100</td>\n",
       "    </tr>\n",
       "    <tr>\n",
       "      <td>530</td>\n",
       "      <td>0.010300</td>\n",
       "    </tr>\n",
       "    <tr>\n",
       "      <td>535</td>\n",
       "      <td>0.011800</td>\n",
       "    </tr>\n",
       "    <tr>\n",
       "      <td>540</td>\n",
       "      <td>0.011700</td>\n",
       "    </tr>\n",
       "    <tr>\n",
       "      <td>545</td>\n",
       "      <td>0.010300</td>\n",
       "    </tr>\n",
       "    <tr>\n",
       "      <td>550</td>\n",
       "      <td>0.013300</td>\n",
       "    </tr>\n",
       "    <tr>\n",
       "      <td>555</td>\n",
       "      <td>0.011500</td>\n",
       "    </tr>\n",
       "    <tr>\n",
       "      <td>560</td>\n",
       "      <td>0.009600</td>\n",
       "    </tr>\n",
       "    <tr>\n",
       "      <td>565</td>\n",
       "      <td>0.008600</td>\n",
       "    </tr>\n",
       "    <tr>\n",
       "      <td>570</td>\n",
       "      <td>0.009700</td>\n",
       "    </tr>\n",
       "    <tr>\n",
       "      <td>575</td>\n",
       "      <td>0.011200</td>\n",
       "    </tr>\n",
       "    <tr>\n",
       "      <td>580</td>\n",
       "      <td>0.010300</td>\n",
       "    </tr>\n",
       "    <tr>\n",
       "      <td>585</td>\n",
       "      <td>0.013000</td>\n",
       "    </tr>\n",
       "    <tr>\n",
       "      <td>590</td>\n",
       "      <td>0.016100</td>\n",
       "    </tr>\n",
       "    <tr>\n",
       "      <td>595</td>\n",
       "      <td>0.008900</td>\n",
       "    </tr>\n",
       "    <tr>\n",
       "      <td>600</td>\n",
       "      <td>0.007400</td>\n",
       "    </tr>\n",
       "  </tbody>\n",
       "</table><p>"
      ],
      "text/plain": [
       "<IPython.core.display.HTML object>"
      ]
     },
     "metadata": {},
     "output_type": "display_data"
    },
    {
     "data": {
      "text/plain": [
       "TrainOutput(global_step=600, training_loss=0.05151911248763402, metrics={'train_runtime': 4108.884, 'train_samples_per_second': 0.146, 'train_steps_per_second': 0.146, 'total_flos': 3.411337635970253e+16, 'train_loss': 0.05151911248763402, 'epoch': 16.22})"
      ]
     },
     "execution_count": 43,
     "metadata": {},
     "output_type": "execute_result"
    }
   ],
   "source": [
    "# Train model\n",
    "trainer.train()"
   ]
  },
  {
   "cell_type": "code",
   "execution_count": null,
   "id": "06f0633f",
   "metadata": {},
   "outputs": [],
   "source": [
    "# Fine-tuned model name\n",
    "new_model_name = \"mistral-ft-peft-v1-lr-64-with-more-data\""
   ]
  },
  {
   "cell_type": "code",
   "execution_count": null,
   "id": "1b5c3526",
   "metadata": {},
   "outputs": [],
   "source": [
    "# Save trained model\n",
    "trainer.model.save_pretrained(new_model)"
   ]
  },
  {
   "cell_type": "code",
   "execution_count": 59,
   "id": "c5cbfc1f",
   "metadata": {
    "scrolled": true
   },
   "outputs": [
    {
     "data": {
      "text/plain": [
       "PeftModelForCausalLM(\n",
       "  (base_model): LoraModel(\n",
       "    (model): MistralForCausalLM(\n",
       "      (model): MistralModel(\n",
       "        (embed_tokens): Embedding(32000, 4096)\n",
       "        (layers): ModuleList(\n",
       "          (0-31): 32 x MistralDecoderLayer(\n",
       "            (self_attn): MistralAttention(\n",
       "              (q_proj): Linear4bit(\n",
       "                in_features=4096, out_features=4096, bias=False\n",
       "                (lora_dropout): ModuleDict(\n",
       "                  (default): Dropout(p=0.1, inplace=False)\n",
       "                )\n",
       "                (lora_A): ModuleDict(\n",
       "                  (default): Linear(in_features=4096, out_features=64, bias=False)\n",
       "                )\n",
       "                (lora_B): ModuleDict(\n",
       "                  (default): Linear(in_features=64, out_features=4096, bias=False)\n",
       "                )\n",
       "                (lora_embedding_A): ParameterDict()\n",
       "                (lora_embedding_B): ParameterDict()\n",
       "              )\n",
       "              (k_proj): Linear4bit(in_features=4096, out_features=1024, bias=False)\n",
       "              (v_proj): Linear4bit(\n",
       "                in_features=4096, out_features=1024, bias=False\n",
       "                (lora_dropout): ModuleDict(\n",
       "                  (default): Dropout(p=0.1, inplace=False)\n",
       "                )\n",
       "                (lora_A): ModuleDict(\n",
       "                  (default): Linear(in_features=4096, out_features=64, bias=False)\n",
       "                )\n",
       "                (lora_B): ModuleDict(\n",
       "                  (default): Linear(in_features=64, out_features=1024, bias=False)\n",
       "                )\n",
       "                (lora_embedding_A): ParameterDict()\n",
       "                (lora_embedding_B): ParameterDict()\n",
       "              )\n",
       "              (o_proj): Linear4bit(in_features=4096, out_features=4096, bias=False)\n",
       "              (rotary_emb): MistralRotaryEmbedding()\n",
       "            )\n",
       "            (mlp): MistralMLP(\n",
       "              (gate_proj): Linear4bit(in_features=4096, out_features=14336, bias=False)\n",
       "              (up_proj): Linear4bit(in_features=4096, out_features=14336, bias=False)\n",
       "              (down_proj): Linear4bit(in_features=14336, out_features=4096, bias=False)\n",
       "              (act_fn): SiLUActivation()\n",
       "            )\n",
       "            (input_layernorm): MistralRMSNorm()\n",
       "            (post_attention_layernorm): MistralRMSNorm()\n",
       "          )\n",
       "        )\n",
       "        (norm): MistralRMSNorm()\n",
       "      )\n",
       "      (lm_head): Linear(in_features=4096, out_features=32000, bias=False)\n",
       "    )\n",
       "  )\n",
       ")"
      ]
     },
     "execution_count": 59,
     "metadata": {},
     "output_type": "execute_result"
    }
   ],
   "source": [
    "trainer.model"
   ]
  },
  {
   "cell_type": "code",
   "execution_count": 17,
   "id": "84916548",
   "metadata": {},
   "outputs": [],
   "source": [
    "from peft import PeftModel, PeftConfig"
   ]
  },
  {
   "cell_type": "code",
   "execution_count": 18,
   "id": "e3ad3884",
   "metadata": {},
   "outputs": [],
   "source": [
    "new_model_name = \"/data/mistral/query-to-mql/oct-27/checkpoint-600\""
   ]
  },
  {
   "cell_type": "code",
   "execution_count": 45,
   "id": "5e0e40bb",
   "metadata": {},
   "outputs": [],
   "source": [
    "del model\n",
    "# del trainer\n",
    "torch.cuda.empty_cache()"
   ]
  },
  {
   "cell_type": "code",
   "execution_count": 46,
   "id": "fb064755",
   "metadata": {},
   "outputs": [
    {
     "data": {
      "text/plain": [
       "{'gpu': [{'fb_memory_usage': {'total': 16384.0,\n",
       "    'free': 9456.9375,\n",
       "    'unit': 'MiB'}}]}"
      ]
     },
     "execution_count": 46,
     "metadata": {},
     "output_type": "execute_result"
    }
   ],
   "source": [
    "nvsmi = nvidia_smi.getInstance()\n",
    "nvsmi.DeviceQuery('memory.free, memory.total')"
   ]
  },
  {
   "cell_type": "code",
   "execution_count": 19,
   "id": "e10ab609",
   "metadata": {},
   "outputs": [
    {
     "data": {
      "application/vnd.jupyter.widget-view+json": {
       "model_id": "d1ce0004af9e4f90afdab68782124c5a",
       "version_major": 2,
       "version_minor": 0
      },
      "text/plain": [
       "Loading checkpoint shards:   0%|          | 0/2 [00:00<?, ?it/s]"
      ]
     },
     "metadata": {},
     "output_type": "display_data"
    }
   ],
   "source": [
    "# del model\n",
    "torch.cuda.empty_cache()\n",
    "\n",
    "from peft import AutoPeftModelForCausalLM\n",
    "\n",
    "model = AutoPeftModelForCausalLM.from_pretrained(new_model_name, device_map=\"auto\", torch_dtype=torch.bfloat16)\n",
    "model = model.merge_and_unload()"
   ]
  },
  {
   "cell_type": "code",
   "execution_count": null,
   "id": "1a87991b",
   "metadata": {
    "scrolled": true
   },
   "outputs": [],
   "source": []
  },
  {
   "cell_type": "code",
   "execution_count": null,
   "id": "b4ad5254",
   "metadata": {
    "scrolled": true
   },
   "outputs": [],
   "source": []
  },
  {
   "cell_type": "code",
   "execution_count": null,
   "id": "c83d80e5",
   "metadata": {},
   "outputs": [],
   "source": []
  },
  {
   "cell_type": "code",
   "execution_count": null,
   "id": "2d4d7fa6",
   "metadata": {},
   "outputs": [],
   "source": []
  },
  {
   "cell_type": "code",
   "execution_count": 20,
   "id": "7be81f79",
   "metadata": {},
   "outputs": [],
   "source": [
    "query_template_v1 = \"\"\"Given the context : {context} and date reference: {date_input}, the query: {user_query}, is converted into below shown structured output.\n",
    "[MQL]\n",
    "\"\"\""
   ]
  },
  {
   "cell_type": "code",
   "execution_count": null,
   "id": "acbc1fd5",
   "metadata": {
    "scrolled": true
   },
   "outputs": [],
   "source": []
  },
  {
   "cell_type": "code",
   "execution_count": null,
   "id": "e4530b9a",
   "metadata": {},
   "outputs": [],
   "source": []
  },
  {
   "cell_type": "code",
   "execution_count": 22,
   "id": "f512be43",
   "metadata": {
    "scrolled": true
   },
   "outputs": [],
   "source": [
    "#model.to('cuda')"
   ]
  },
  {
   "cell_type": "code",
   "execution_count": 21,
   "id": "8a9a2513",
   "metadata": {},
   "outputs": [],
   "source": [
    "def predict_template_query_v1(user_query):\n",
    "    inp = query_template_v1.format(context=context,\n",
    "                                   user_query=user_query,\n",
    "                                  date_input=date_input)\n",
    "    _inputs = tokenizer.encode(inp, return_tensors=\"pt\")\n",
    "    outputs = model.generate(input_ids=_inputs.to('cuda'), max_length= 1600, pad_token_id=tokenizer.eos_token_id)\n",
    "    output = tokenizer.decode(outputs[0])\n",
    "    output_new = output.split('[MQL]\\n')[1]\n",
    "    return output_new.split('\\n[/MQL]')[0], output\n",
    "#     return output"
   ]
  },
  {
   "cell_type": "code",
   "execution_count": null,
   "id": "fd027c42",
   "metadata": {},
   "outputs": [],
   "source": []
  },
  {
   "cell_type": "code",
   "execution_count": 22,
   "id": "ab141b6c",
   "metadata": {},
   "outputs": [
    {
     "name": "stdout",
     "output_type": "stream",
     "text": [
      "user query:  show me the bottom 10 segments basis sales\n"
     ]
    },
    {
     "name": "stderr",
     "output_type": "stream",
     "text": [
      "/opt/conda/lib/python3.8/site-packages/transformers/generation/utils.py:2507: UserWarning: Specified kernel cache directory could not be created! This disables kernel caching. Specified directory is /home/mosaic-ai/.cache/torch/kernels. This warning will appear only once per process. (Triggered internally at ../aten/src/ATen/native/cuda/jit_utils.cpp:1442.)\n",
      "  next_tokens.tile(eos_token_id_tensor.shape[0], 1).ne(eos_token_id_tensor.unsqueeze(1)).prod(dim=0)\n"
     ]
    },
    {
     "name": "stdout",
     "output_type": "stream",
     "text": [
      "CPU times: user 30.4 s, sys: 1.09 s, total: 31.5 s\n",
      "Wall time: 31.5 s\n"
     ]
    },
    {
     "data": {
      "text/plain": [
       "{'DIMENSION': {'segments': [{'ENTITY': 'Segment',\n",
       "    'RANK': [{'RANK ADJECTIVE': 'bottom', 'RANK VALUE': '10'}]}]},\n",
       " 'MEASURE': {'sales': [{'ENTITY': 'Sales'}]}}"
      ]
     },
     "execution_count": 22,
     "metadata": {},
     "output_type": "execute_result"
    }
   ],
   "source": [
    "%%time\n",
    "user_query = 'show me the bottom 10 segments basis sales'\n",
    "print('user query: ', user_query)\n",
    "output, raw = predict_template_query_v1(user_query=user_query)\n",
    "eval(output)"
   ]
  },
  {
   "cell_type": "code",
   "execution_count": 23,
   "id": "8c0d9f71",
   "metadata": {},
   "outputs": [
    {
     "name": "stdout",
     "output_type": "stream",
     "text": [
      "user query:  top 2 and bottom 3 segments by sales\n",
      "CPU times: user 38.9 s, sys: 1.1 s, total: 40 s\n",
      "Wall time: 40 s\n"
     ]
    },
    {
     "data": {
      "text/plain": [
       "{'DIMENSION': {'segments': [{'ENTITY': 'Segment',\n",
       "    'RANK': [{'RANK ADJECTIVE': 'top', 'RANK VALUE': '2'},\n",
       "     {'RANK ADJECTIVE': 'bottom', 'RANK VALUE': '3'}]}]},\n",
       " 'MEASURE': {'sales': [{'ENTITY': 'Sales'}]}}"
      ]
     },
     "execution_count": 23,
     "metadata": {},
     "output_type": "execute_result"
    }
   ],
   "source": [
    "%%time\n",
    "user_query = 'top 2 and bottom 3 segments by sales'\n",
    "print('user query: ', user_query)\n",
    "output, raw = predict_template_query_v1(user_query=user_query)\n",
    "eval(output)"
   ]
  },
  {
   "cell_type": "code",
   "execution_count": 24,
   "id": "576f99f5",
   "metadata": {},
   "outputs": [
    {
     "name": "stdout",
     "output_type": "stream",
     "text": [
      "user query:  top 2 segments and bottom 3 sub-category basis quantity\n",
      "CPU times: user 42.2 s, sys: 1.08 s, total: 43.2 s\n",
      "Wall time: 43.3 s\n"
     ]
    },
    {
     "data": {
      "text/plain": [
       "{'DIMENSION': {'segments': [{'ENTITY': 'Segment',\n",
       "    'RANK': [{'RANK ADJECTIVE': 'top', 'RANK VALUE': '2'}]}],\n",
       "  'sub-category': [{'ENTITY': 'Sub-Category',\n",
       "    'RANK': [{'RANK ADJECTIVE': 'bottom', 'RANK VALUE': '3'}]}]},\n",
       " 'MEASURE': {'quantity': [{'ENTITY': 'Quantity'}]}}"
      ]
     },
     "execution_count": 24,
     "metadata": {},
     "output_type": "execute_result"
    }
   ],
   "source": [
    "%%time\n",
    "user_query = 'top 2 segments and bottom 3 sub-category basis quantity'\n",
    "print('user query: ', user_query)\n",
    "output, raw = predict_template_query_v1(user_query=user_query)\n",
    "eval(output)"
   ]
  },
  {
   "cell_type": "code",
   "execution_count": 25,
   "id": "2c99af15",
   "metadata": {},
   "outputs": [
    {
     "name": "stdout",
     "output_type": "stream",
     "text": [
      "user query:  quantity across segments except consumer and corporate in dubai\n",
      "CPU times: user 50.7 s, sys: 1.04 s, total: 51.8 s\n",
      "Wall time: 51.8 s\n"
     ]
    },
    {
     "data": {
      "text/plain": [
       "{'DIMENSION': {'segments': [{'ENTITY': 'Segment'}]},\n",
       " 'FILTER': {'consumer': [{'ENTITY': 'Consumer',\n",
       "    'EXCLUDE': 'True',\n",
       "    'PARENT': 'Segment'}],\n",
       "  'corporate': [{'ENTITY': 'Corporate',\n",
       "    'EXCLUDE': 'True',\n",
       "    'PARENT': 'Segment'}],\n",
       "  'dubai': [{'ENTITY': 'Dubai', 'EXCLUDE': 'True', 'PARENT': 'Country'}]},\n",
       " 'MEASURE': {'quantity': [{'ENTITY': 'Quantity'}]}}"
      ]
     },
     "execution_count": 25,
     "metadata": {},
     "output_type": "execute_result"
    }
   ],
   "source": [
    "%%time\n",
    "user_query = 'quantity across segments except consumer and corporate in dubai'\n",
    "print('user query: ', user_query)\n",
    "output, raw = predict_template_query_v1(user_query=user_query)\n",
    "eval(output)"
   ]
  },
  {
   "cell_type": "code",
   "execution_count": 26,
   "id": "155e3b4c",
   "metadata": {},
   "outputs": [
    {
     "name": "stdout",
     "output_type": "stream",
     "text": [
      "user query:  in corporate share of phone and binder basis discount\n",
      "CPU times: user 48.7 s, sys: 1.01 s, total: 49.7 s\n",
      "Wall time: 49.7 s\n"
     ]
    },
    {
     "data": {
      "text/plain": [
       "{'DIMENSION': {'corporate': [{'ENTITY': 'Corporate',\n",
       "    'RANK': [{'RANK ADJECTIVE': '', 'RANK VALUE': ''}]}]},\n",
       " 'FILTER': {'phone': [{'ENTITY': 'Phone', 'PARENT': 'Sub-Category'}],\n",
       "  'binder': [{'ENTITY': 'Binder', 'PARENT': 'Sub-Category'}]},\n",
       " 'MEASURE': {'discount': [{'ENTITY': 'Discount',\n",
       "    'MEASURE CONSTRAINT': [{'COMPARISON VALUE': '',\n",
       "      'COMPARSION OPERATOR': ''}]}]}}"
      ]
     },
     "execution_count": 26,
     "metadata": {},
     "output_type": "execute_result"
    }
   ],
   "source": [
    "%%time\n",
    "user_query = 'in corporate share of phone and binder basis discount'\n",
    "print('user query: ', user_query)\n",
    "output, raw = predict_template_query_v1(user_query=user_query)\n",
    "eval(output)"
   ]
  },
  {
   "cell_type": "code",
   "execution_count": 31,
   "id": "a599fbf7",
   "metadata": {},
   "outputs": [
    {
     "name": "stdout",
     "output_type": "stream",
     "text": [
      "user query:  list of under performing segments\n",
      "CPU times: user 36.6 s, sys: 1.08 s, total: 37.7 s\n",
      "Wall time: 37.7 s\n"
     ]
    },
    {
     "data": {
      "text/plain": [
       "{'DIMENSION': {'segments': [{'ENTITY': 'Segment',\n",
       "    'RANK': [{'RANK ADJECTIVE': 'bottom', 'RANK VALUE': '1'}]}]},\n",
       " 'MEASURE': {'under performing': [{'ENTITY': 'Purchase Vol',\n",
       "    'THRESHOLD': [{'COMPARISON VALUE': 'low',\n",
       "      'COMPARSION OPERATOR': 'than',\n",
       "      'VALUE': '100'}]}]}}"
      ]
     },
     "execution_count": 31,
     "metadata": {},
     "output_type": "execute_result"
    }
   ],
   "source": [
    "%%time\n",
    "user_query = 'list of under performing segments'\n",
    "print('user query: ', user_query)\n",
    "output, raw = predict_template_query_v1(user_query=user_query)\n",
    "eval(output)"
   ]
  },
  {
   "cell_type": "code",
   "execution_count": 32,
   "id": "3df5fa28",
   "metadata": {},
   "outputs": [
    {
     "data": {
      "text/plain": [
       "'<s> Given the context : {\\n    \"MEASURE\": [{\"ENTITY\": \"Discount\", \"other names\": [\"discount\", \"discount rate\", \"discount value\", \"deduction\"]},\\n                {\"ENTITY\": \"Purchase Vol\", \"other names\": [\"purchase\", \"purchase value\", \"purchase model\"]},\\n                {\"ENTITY\": \"Quantity\", \"other names\": [\"quantity\", \"volume\"]},\\n                {\"ENTITY\": \"Sales\", \"other names\": [\"sales\", \"sale\"]}],\\n    \"DIMENSION\": [{\"ENTITY\": \"Sub-Category\", \"other names\": [\"sub-category\", \"sub category\", \"categories\", \"section\"]},\\n                  {\"ENTITY\": \"Segment\", \"other names\": [\"segment\", \"segments\", \"units\", \"divisions\"]},\\n                  {\"ENTITY\": \"Parts\", \"other names\": [\"parts\", \"part\", \"section\", \"divisions\"]},\\n                  {\"ENTITY\": \"Country\", \"other names\": [\"country\", \"countries\"]}],\\n    \"FILTER\": [{\"ENTITY\": \"Consumer\", \"other names\": [\"consumers\", \"consumer\"], \"parent\": \"Segment\"},\\n               {\"ENTITY\": \"Phone\", \"other names\": [\"phone\", \"phones\", \"mobile phones\"], \"parent\": \"Sub-Category\"},\\n               {\"ENTITY\": \"Binder\", \"other names\": [\"binders\", \"binder\"], \"parent\": \"Sub-Category\"},\\n               {\"ENTITY\": \"Corporate\", \"other names\": [\"corporates\", \"corporate\"], \"parent\": \"Segment\"},\\n               {\"ENTITY\": \"India\", \"other names\": [\"india\"], \"parent\": \"Country\"},\\n               {\"ENTITY\": \"Dubai\", \"other names\": [\"dubai\"], \"parent\": \"Country\"}],\\n    \"DERIVED MEASURE\": [{\"ENTITY\": \"Ratio\",\\n             \"other names\": [\"ratio\", \"share\", \"contribution\", \"percentage\", \"proportion\", \"contributing\"]},\\n            {\"ENTITY\": \"Why\", \"other names\": [\"why\", \"cause of\", \"reason for\", \"diagnose\"]},\\n            {\"ENTITY\": \"contribution_to_growth\", \"other names\": [\"contribution to growth\", \"growth\", \"grown\"]},\\n            {\"ENTITY\": \"kda_transactional\", \"other names\": [\"kda\", \"key drivers\", \"key driver\", \"drivers\", \"driver\"]},\\n            {\"ENTITY\": \"Growth Rate\", \"other names\": [\"growth rate\", \"growth\", \"grown\"]},\\n            {\"ENTITY\": \"correlation\",\\n             \"other names\": [\"associate\", \"associated\", \"association\", \"associations\", \"correlate\", \"correlated\",\\n                             \"correlation\", \"correlations\", \"relate\", \"related\", \"relation\", \"relations\",\\n                             \"relationship\",\\n                             \"relationships\"]}\\n            ],\\n    \"DATE VARIABLE\": [{\"ENTITY\": \"Order Date\", \"other names\": [\"order date\", \"date\", \"trend\", \"time\", \"when\", \"mom\", \"yoy\"]}]\\n    } and date reference: {\\'start_date\\': \\'01/01/2020\\', \\'end_date\\': \\'15/09/2023\\'}, the query: list of under performing segments, is converted into below shown structured output.\\n[MQL]\\n{\\n    \"DIMENSION\": {\\n        \"segments\": [\\n            {\\n                \"ENTITY\": \"Segment\",\\n                \"RANK\": [\\n                    {\\n                        \"RANK ADJECTIVE\": \"bottom\",\\n                        \"RANK VALUE\": \"1\"\\n                    }\\n                ]\\n            }\\n        ]\\n    },\\n    \"MEASURE\": {\\n        \"under performing\": [\\n            {\\n                \"ENTITY\": \"Purchase Vol\",\\n                \"THRESHOLD\": [\\n                    {\\n                        \"COMPARISON VALUE\": \"low\",\\n                        \"COMPARSION OPERATOR\": \"than\",\\n                        \"VALUE\": \"100\"\\n                    }\\n                ]\\n            }\\n        ]\\n    }\\n}\\n[/MQL]\\nthe steps and rationale used to achieve above structured output is as below.\\nStep 1: Identify the main components of the query\\nIn the given query \"list of under performing segments\", the main components are \"under performing\" and \"segments\".\\n\\nStep 2: Map the components to the context\\n- \"under performing\" can be mapped to the \"Purchase Vol\" measure as it indicates poor performance in terms of purchase volume.\\n- \"segments\" can be mapped to the \"Segment\" dimension as it refers to different segments of the market.\\n\\nStep 3: Determine the required information\\n- We need to identify the segments that are underperforming based on the purchase volume.\\n\\nStep 4: Create the structured output\\n- For the \"DIMENSION\" part, we include the \"Segment\" dimension and specify the rank as \"bottom 1\" since we are looking for the underperforming segments.\\n- For the \"MEASURE\" part, we include the \"Purchase Vol\" measure and set the threshold as \"low\" (indicating poor performance) compared to \"100\" (a reference value for comparison).\\n\\nRationale:\\nThe structured output is created by identifying the main components of the query, mapping them to the context, determining the required information, and organizing it into dimensions and measures. This allows for a clear and concise representation of the query, making it easier to understand and process.\\n\\nIn this case, the structured output provides the list of underperforming segments based on the purchase volume, which can help in identifying areas for improvement and taking appropriate actions.</s>'"
      ]
     },
     "execution_count": 32,
     "metadata": {},
     "output_type": "execute_result"
    }
   ],
   "source": [
    "raw"
   ]
  },
  {
   "cell_type": "code",
   "execution_count": 28,
   "id": "148c4750",
   "metadata": {},
   "outputs": [
    {
     "name": "stdout",
     "output_type": "stream",
     "text": [
      "user query:  when was the first time sales of segments was 0\n",
      "CPU times: user 49.8 s, sys: 1.12 s, total: 51 s\n",
      "Wall time: 51 s\n"
     ]
    },
    {
     "data": {
      "text/plain": [
       "{'DATE VARIABLE': {'when': [{'CONVERTED TIME ELEMENT': 'when',\n",
       "    'ENTITY': 'Order Date'}]},\n",
       " 'DIMENSION': {'segments': [{'ENTITY': 'Segment'}]},\n",
       " 'MEASURE': {'sales': [{'ENTITY': 'Sales',\n",
       "    'MEASURE CONSTRAINT': [{'COMPARISON VALUE': '0',\n",
       "      'COMPARSION OPERATOR': '='}]}]}}"
      ]
     },
     "execution_count": 28,
     "metadata": {},
     "output_type": "execute_result"
    }
   ],
   "source": [
    "%%time\n",
    "user_query = 'when was the first time sales of segments was 0'\n",
    "print('user query: ', user_query)\n",
    "output, raw = predict_template_query_v1(user_query=user_query)\n",
    "eval(output)"
   ]
  },
  {
   "cell_type": "code",
   "execution_count": 29,
   "id": "ac31c1d7",
   "metadata": {},
   "outputs": [
    {
     "name": "stdout",
     "output_type": "stream",
     "text": [
      "user query:  sales of segments from beginning\n",
      "CPU times: user 43.2 s, sys: 1.04 s, total: 44.2 s\n",
      "Wall time: 44.2 s\n"
     ]
    },
    {
     "data": {
      "text/plain": [
       "{'DATE VARIABLE': {'beginning': [{'CONVERTED TIME ELEMENT': 'beginning',\n",
       "    'DATE RANGE': '01/01/2020 - 30/09/2023',\n",
       "    'ENTITY': 'Order Date'}]},\n",
       " 'DIMENSION': {'segments': [{'ENTITY': 'Segment'}]},\n",
       " 'MEASURE': {'sales': [{'ENTITY': 'Sales'}]}}"
      ]
     },
     "execution_count": 29,
     "metadata": {},
     "output_type": "execute_result"
    }
   ],
   "source": [
    "%%time\n",
    "user_query = 'sales of segments from beginning'\n",
    "print('user query: ', user_query)\n",
    "output, raw = predict_template_query_v1(user_query=user_query)\n",
    "eval(output)"
   ]
  },
  {
   "cell_type": "code",
   "execution_count": 30,
   "id": "dae9c646",
   "metadata": {},
   "outputs": [
    {
     "data": {
      "text/plain": [
       "'<s> Given the context : {\\n    \"MEASURE\": [{\"ENTITY\": \"Discount\", \"other names\": [\"discount\", \"discount rate\", \"discount value\", \"deduction\"]},\\n                {\"ENTITY\": \"Purchase Vol\", \"other names\": [\"purchase\", \"purchase value\", \"purchase model\"]},\\n                {\"ENTITY\": \"Quantity\", \"other names\": [\"quantity\", \"volume\"]},\\n                {\"ENTITY\": \"Sales\", \"other names\": [\"sales\", \"sale\"]}],\\n    \"DIMENSION\": [{\"ENTITY\": \"Sub-Category\", \"other names\": [\"sub-category\", \"sub category\", \"categories\", \"section\"]},\\n                  {\"ENTITY\": \"Segment\", \"other names\": [\"segment\", \"segments\", \"units\", \"divisions\"]},\\n                  {\"ENTITY\": \"Parts\", \"other names\": [\"parts\", \"part\", \"section\", \"divisions\"]},\\n                  {\"ENTITY\": \"Country\", \"other names\": [\"country\", \"countries\"]}],\\n    \"FILTER\": [{\"ENTITY\": \"Consumer\", \"other names\": [\"consumers\", \"consumer\"], \"parent\": \"Segment\"},\\n               {\"ENTITY\": \"Phone\", \"other names\": [\"phone\", \"phones\", \"mobile phones\"], \"parent\": \"Sub-Category\"},\\n               {\"ENTITY\": \"Binder\", \"other names\": [\"binders\", \"binder\"], \"parent\": \"Sub-Category\"},\\n               {\"ENTITY\": \"Corporate\", \"other names\": [\"corporates\", \"corporate\"], \"parent\": \"Segment\"},\\n               {\"ENTITY\": \"India\", \"other names\": [\"india\"], \"parent\": \"Country\"},\\n               {\"ENTITY\": \"Dubai\", \"other names\": [\"dubai\"], \"parent\": \"Country\"}],\\n    \"DERIVED MEASURE\": [{\"ENTITY\": \"Ratio\",\\n             \"other names\": [\"ratio\", \"share\", \"contribution\", \"percentage\", \"proportion\", \"contributing\"]},\\n            {\"ENTITY\": \"Why\", \"other names\": [\"why\", \"cause of\", \"reason for\", \"diagnose\"]},\\n            {\"ENTITY\": \"contribution_to_growth\", \"other names\": [\"contribution to growth\", \"growth\", \"grown\"]},\\n            {\"ENTITY\": \"kda_transactional\", \"other names\": [\"kda\", \"key drivers\", \"key driver\", \"drivers\", \"driver\"]},\\n            {\"ENTITY\": \"Growth Rate\", \"other names\": [\"growth rate\", \"growth\", \"grown\"]},\\n            {\"ENTITY\": \"correlation\",\\n             \"other names\": [\"associate\", \"associated\", \"association\", \"associations\", \"correlate\", \"correlated\",\\n                             \"correlation\", \"correlations\", \"relate\", \"related\", \"relation\", \"relations\",\\n                             \"relationship\",\\n                             \"relationships\"]}\\n            ],\\n    \"DATE VARIABLE\": [{\"ENTITY\": \"Order Date\", \"other names\": [\"order date\", \"date\", \"trend\", \"time\", \"when\", \"mom\", \"yoy\"]}]\\n    } and date reference: {\\'start_date\\': \\'01/01/2020\\', \\'end_date\\': \\'15/09/2023\\'}, the query: sales of segments from beginning, is converted into below shown structured output.\\n[MQL]\\n{\\n    \"DATE VARIABLE\": {\\n        \"beginning\": [\\n            {\\n                \"CONVERTED TIME ELEMENT\": \"beginning\",\\n                \"DATE RANGE\": \"01/01/2020 - 30/09/2023\",\\n                \"ENTITY\": \"Order Date\"\\n            }\\n        ]\\n    },\\n    \"DIMENSION\": {\\n        \"segments\": [\\n            {\\n                \"ENTITY\": \"Segment\"\\n            }\\n        ]\\n    },\\n    \"MEASURE\": {\\n        \"sales\": [\\n            {\\n                \"ENTITY\": \"Sales\"\\n            }\\n        ]\\n    }\\n}\\n[/MQL]\\nthe steps and rationale used to achieve above structured output is as below.\\nStep 1: Identify the main components of the query\\n- The query asks for \"sales of segments from the beginning\". This indicates that the main components are \"sales\" (a measure) and \"segments\" (a dimension).\\n\\nStep 2: Map the components to the context\\n- In the context, \"sales\" can be found under the \\'MEASURE\\' category with the entity \"Sales\".\\n- \"segments\" can be found under the \\'DIMENSION\\' category with the entity \"Segment\".\\n\\nStep 3: Identify the date reference\\n- The query asks for \"from the beginning\", which indicates a date range starting from the earliest date in the date reference. In this case, the start date is \\'01/01/2020\\' and the end date is \\'15/09/2023\\'.\\n\\nStep 4: Create the structured output\\n- For the \"MEASURE\" component, include the entity \"Sales\" from the context.\\n- For the \"DIMENSION\" component, include the entity \"Segment\" from the context.\\n- For the \"DATE VARIABLE\" component, include the entity \"Order Date\" from the context and specify the date range as \"beginning\" with the start date \\'01/01/2020\\' and end date \\'15/09/2023\\'.\\n\\nRationale:\\n- The structured output is created by identifying the main components of the query (measure, dimension, and date variable) and mapping them to the provided context.\\n- The date range is determined based on the query\\'s indication of starting from the beginning and using the date reference provided.\\n- The structured output is organized into three main sections: measure, dimension, and date variable, which follows the overall structure of the context.\\n\\nBy following these steps and using the provided context, the query \"sales of segments from the beginning\" can be converted into a structured output that captures the main components and date reference of the query.</s>'"
      ]
     },
     "execution_count": 30,
     "metadata": {},
     "output_type": "execute_result"
    }
   ],
   "source": [
    "raw"
   ]
  },
  {
   "cell_type": "code",
   "execution_count": 33,
   "id": "16566cdd",
   "metadata": {},
   "outputs": [
    {
     "name": "stdout",
     "output_type": "stream",
     "text": [
      "user query:  sales in 20/01/2020\n",
      "CPU times: user 39.9 s, sys: 1e+03 ms, total: 40.9 s\n",
      "Wall time: 40.9 s\n"
     ]
    },
    {
     "data": {
      "text/plain": [
       "{'DATE VARIABLE': {'20/01/2020': [{'CONVERTED TIME ELEMENT': '20 January 2020',\n",
       "    'DATE RANGE': '2020/01/20 - 2020/01/20',\n",
       "    'ENTITY': 'Order Date'}]},\n",
       " 'MEASURE': {'sales': [{'ENTITY': 'Sales'}]}}"
      ]
     },
     "execution_count": 33,
     "metadata": {},
     "output_type": "execute_result"
    }
   ],
   "source": [
    "%%time\n",
    "user_query = 'sales in 20/01/2020'\n",
    "print('user query: ', user_query)\n",
    "output, raw = predict_template_query_v1(user_query=user_query)\n",
    "eval(output)"
   ]
  },
  {
   "cell_type": "code",
   "execution_count": 34,
   "id": "31cd1663",
   "metadata": {},
   "outputs": [
    {
     "data": {
      "text/plain": [
       "'<s> Given the context : {\\n    \"MEASURE\": [{\"ENTITY\": \"Discount\", \"other names\": [\"discount\", \"discount rate\", \"discount value\", \"deduction\"]},\\n                {\"ENTITY\": \"Purchase Vol\", \"other names\": [\"purchase\", \"purchase value\", \"purchase model\"]},\\n                {\"ENTITY\": \"Quantity\", \"other names\": [\"quantity\", \"volume\"]},\\n                {\"ENTITY\": \"Sales\", \"other names\": [\"sales\", \"sale\"]}],\\n    \"DIMENSION\": [{\"ENTITY\": \"Sub-Category\", \"other names\": [\"sub-category\", \"sub category\", \"categories\", \"section\"]},\\n                  {\"ENTITY\": \"Segment\", \"other names\": [\"segment\", \"segments\", \"units\", \"divisions\"]},\\n                  {\"ENTITY\": \"Parts\", \"other names\": [\"parts\", \"part\", \"section\", \"divisions\"]},\\n                  {\"ENTITY\": \"Country\", \"other names\": [\"country\", \"countries\"]}],\\n    \"FILTER\": [{\"ENTITY\": \"Consumer\", \"other names\": [\"consumers\", \"consumer\"], \"parent\": \"Segment\"},\\n               {\"ENTITY\": \"Phone\", \"other names\": [\"phone\", \"phones\", \"mobile phones\"], \"parent\": \"Sub-Category\"},\\n               {\"ENTITY\": \"Binder\", \"other names\": [\"binders\", \"binder\"], \"parent\": \"Sub-Category\"},\\n               {\"ENTITY\": \"Corporate\", \"other names\": [\"corporates\", \"corporate\"], \"parent\": \"Segment\"},\\n               {\"ENTITY\": \"India\", \"other names\": [\"india\"], \"parent\": \"Country\"},\\n               {\"ENTITY\": \"Dubai\", \"other names\": [\"dubai\"], \"parent\": \"Country\"}],\\n    \"DERIVED MEASURE\": [{\"ENTITY\": \"Ratio\",\\n             \"other names\": [\"ratio\", \"share\", \"contribution\", \"percentage\", \"proportion\", \"contributing\"]},\\n            {\"ENTITY\": \"Why\", \"other names\": [\"why\", \"cause of\", \"reason for\", \"diagnose\"]},\\n            {\"ENTITY\": \"contribution_to_growth\", \"other names\": [\"contribution to growth\", \"growth\", \"grown\"]},\\n            {\"ENTITY\": \"kda_transactional\", \"other names\": [\"kda\", \"key drivers\", \"key driver\", \"drivers\", \"driver\"]},\\n            {\"ENTITY\": \"Growth Rate\", \"other names\": [\"growth rate\", \"growth\", \"grown\"]},\\n            {\"ENTITY\": \"correlation\",\\n             \"other names\": [\"associate\", \"associated\", \"association\", \"associations\", \"correlate\", \"correlated\",\\n                             \"correlation\", \"correlations\", \"relate\", \"related\", \"relation\", \"relations\",\\n                             \"relationship\",\\n                             \"relationships\"]}\\n            ],\\n    \"DATE VARIABLE\": [{\"ENTITY\": \"Order Date\", \"other names\": [\"order date\", \"date\", \"trend\", \"time\", \"when\", \"mom\", \"yoy\"]}]\\n    } and date reference: {\\'start_date\\': \\'01/01/2020\\', \\'end_date\\': \\'15/09/2023\\'}, the query: sales in 20/01/2020, is converted into below shown structured output.\\n[MQL]\\n{\\n    \"DATE VARIABLE\": {\\n        \"20/01/2020\": [\\n            {\\n                \"CONVERTED TIME ELEMENT\": \"20 January 2020\",\\n                \"DATE RANGE\": \"2020/01/20 - 2020/01/20\",\\n                \"ENTITY\": \"Order Date\"\\n            }\\n        ]\\n    },\\n    \"MEASURE\": {\\n        \"sales\": [\\n            {\\n                \"ENTITY\": \"Sales\"\\n            }\\n        ]\\n    }\\n}\\n[/MQL]\\nthe steps and rationale used to achieve above structured output is as below.\\nStep 1: Identify the main components of the query\\nIn the given query \"sales in 20/01/2020\", the main components are \"sales\" and \"20/01/2020\".\\n\\nStep 2: Map the components to the context\\n- \"sales\" can be mapped to the \"Sales\" entity under the \"MEASURE\" category in the context.\\n- \"20/01/2020\" can be mapped to the \"Order Date\" entity under the \"DATE VARIABLE\" category in the context.\\n\\nStep 3: Create the structured output\\n- For the \"MEASURE\" component, create a dictionary with the key \"sales\" and the value as a list containing a dictionary with the \"ENTITY\" key and \"Sales\" value.\\n- For the \"DATE VARIABLE\" component, create a dictionary with the key \"20/01/2020\" and the value as a list containing a dictionary with the keys \"CONVERTED TIME ELEMENT\", \"DATE RANGE\", and \"ENTITY\" and their respective values as \"20 January 2020\", \"2020/01/20 - 2020/01/20\", and \"Order Date\".\\n\\nStep 4: Combine the structured output\\n- Combine the dictionaries created in Step 3 under the keys \"MEASURE\" and \"DATE VARIABLE\" to form the final structured output.\\n\\nRationale:\\nThe structured output is created by breaking down the query into its main components and mapping them to the given context. This allows for a clear representation of the query, making it easier to understand and process.\\n\\nBy following these steps and using the given context, the query \"sales in 20/01/2020\" is converted into a structured output that can be easily processed and analyzed.</s>'"
      ]
     },
     "execution_count": 34,
     "metadata": {},
     "output_type": "execute_result"
    }
   ],
   "source": [
    "raw"
   ]
  },
  {
   "cell_type": "code",
   "execution_count": 35,
   "id": "54228a2c",
   "metadata": {},
   "outputs": [
    {
     "name": "stdout",
     "output_type": "stream",
     "text": [
      "user query:  sales in last one and half years\n",
      "CPU times: user 38.1 s, sys: 1.07 s, total: 39.2 s\n",
      "Wall time: 39.1 s\n"
     ]
    },
    {
     "data": {
      "text/plain": [
       "{'DATE VARIABLE': {'last one and half years': [{'CONVERTED TIME ELEMENT': 'last one and half years',\n",
       "    'DATE RANGE': '2019/04/01 - 2023/09/30',\n",
       "    'ENTITY': 'Order Date'}]},\n",
       " 'MEASURE': {'sales': [{'ENTITY': 'Sales'}]}}"
      ]
     },
     "execution_count": 35,
     "metadata": {},
     "output_type": "execute_result"
    }
   ],
   "source": [
    "%%time\n",
    "user_query = 'sales in last one and half years'\n",
    "print('user query: ', user_query)\n",
    "output, raw = predict_template_query_v1(user_query=user_query)\n",
    "eval(output)"
   ]
  },
  {
   "cell_type": "code",
   "execution_count": 37,
   "id": "8666305a",
   "metadata": {},
   "outputs": [
    {
     "data": {
      "text/plain": [
       "' Identify the measure\\nThe query asks for \"sales,\" which is a measure. From the context, we can map \"sales\" to the \"Sales\" entity.\\n\\nStep 2: Identify the date variable and time frame\\nThe query asks for \"last one and half years,\" which is a time frame. From the context, we can map this to the \"Order Date\" entity. To calculate the date range for \"last one and half years,\" we subtract 1.5 years from the end_date (15/09/2023) provided in the date reference. This gives us a date range of 2019/04/01 - 2023/09/30.\\n\\nStep 3: Create the structured output\\nNow that we have identified the measure and the date variable with its time frame, we can create the structured output. The output will have two main keys: \"MEASURE\" and \"DATE VARIABLE.\" Under \"MEASURE,\" we will have \"sales\" mapped to the \"Sales\" entity. Under \"DATE VARIABLE,\" we will have \"last one and half years\" mapped to the \"Order Date\" entity with the calculated date range.\\n\\nRationale:\\nThe query is asking for sales data in the last one and half years. To answer this question, we need to identify the measure (sales) and the date variable with its time frame (last one and half years). By mapping these elements to the provided context and calculating the date range, we can create a structured output that represents the query.\\n\\nIn summary, the structured output is created by identifying the measure and date variable from the query, mapping them to the provided context, and calculating the date range based on the time frame. This allows for a clear representation of the query, making it easier to process and analyze the data.</s>'"
      ]
     },
     "execution_count": 37,
     "metadata": {},
     "output_type": "execute_result"
    }
   ],
   "source": [
    "raw.split('\\nStep 1:')[1]"
   ]
  },
  {
   "cell_type": "code",
   "execution_count": 38,
   "id": "8470ff52",
   "metadata": {},
   "outputs": [
    {
     "name": "stdout",
     "output_type": "stream",
     "text": [
      "user query:  trend of sales in dubai now\n",
      "CPU times: user 36.5 s, sys: 1.02 s, total: 37.5 s\n",
      "Wall time: 37.5 s\n"
     ]
    },
    {
     "data": {
      "text/plain": [
       "{'DATE VARIABLE': {'trend': [{'CONVERTED TIME ELEMENT': 'now',\n",
       "    'DATE RANGE': '2023/09/30 - 2023/09/30',\n",
       "    'ENTITY': 'Order Date'}]},\n",
       " 'FILTER': {'dubai': [{'ENTITY': 'Dubai', 'PARENT': 'Country'}]},\n",
       " 'MEASURE': {'sales': [{'ENTITY': 'Sales'}]}}"
      ]
     },
     "execution_count": 38,
     "metadata": {},
     "output_type": "execute_result"
    }
   ],
   "source": [
    "%%time\n",
    "user_query = 'trend of sales in dubai now'\n",
    "print('user query: ', user_query)\n",
    "output, raw = predict_template_query_v1(user_query=user_query)\n",
    "eval(output)"
   ]
  },
  {
   "cell_type": "code",
   "execution_count": 39,
   "id": "d3273150",
   "metadata": {},
   "outputs": [
    {
     "data": {
      "text/plain": [
       "' Identify the main components of the query\\nThe query asks for the \"trend of sales\" in a specific location, \"Dubai\". \\n\\nStep 2: Map the components to the context\\n- \"sales\" can be mapped to the \"Sales\" entity under the \\'MEASURE\\' category.\\n- \"Dubai\" can be mapped to the \"Dubai\" entity under the \\'FILTER\\' category.\\n\\nStep 3: Identify the date variable\\nThe query does not specify a date, so we use the date reference provided, which is \\'15/09/2023\\'. We can represent this as \"now\" in the structured output.\\n\\nStep 4: Create the structured output\\n- For the \"DATE VARIABLE\", we include \"now\" as the converted time element and provide the date range as \"2023/09/30 - 2023/09/30\" (which corresponds to the end of the date reference period). We also specify the \"ENTITY\" as \"Order Date\".\\n- For the \"MEASURE\", we include \"Sales\" as the entity.\\n\\nRationale:\\nThe structured output is created by breaking down the query into its main components and mapping them to the provided context. This allows for a clear representation of the query, making it easier to understand and process.\\n\\nBy following these steps and using the provided context, the query \"trend of sales in dubai now\" is converted into a structured output that can be easily processed and analyzed.</s>'"
      ]
     },
     "execution_count": 39,
     "metadata": {},
     "output_type": "execute_result"
    }
   ],
   "source": [
    "raw.split('\\nStep 1:')[1]"
   ]
  },
  {
   "cell_type": "code",
   "execution_count": 40,
   "id": "e4656c41",
   "metadata": {},
   "outputs": [
    {
     "name": "stdout",
     "output_type": "stream",
     "text": [
      "user query:  sales in the week of 01 March 2022\n",
      "CPU times: user 34.6 s, sys: 1.07 s, total: 35.6 s\n",
      "Wall time: 35.6 s\n"
     ]
    },
    {
     "data": {
      "text/plain": [
       "{'DATE VARIABLE': {'week of 01 March 2022': [{'CONVERTED TIME ELEMENT': 'week of 1 March 2022',\n",
       "    'DATE RANGE': '2022/02/28 - 2022/03/06',\n",
       "    'ENTITY': 'Order Date'}]},\n",
       " 'MEASURE': {'sales': [{'ENTITY': 'Sales'}]}}"
      ]
     },
     "execution_count": 40,
     "metadata": {},
     "output_type": "execute_result"
    }
   ],
   "source": [
    "%%time\n",
    "user_query = 'sales in the week of 01 March 2022'\n",
    "print('user query: ', user_query)\n",
    "output, raw = predict_template_query_v1(user_query=user_query)\n",
    "eval(output)"
   ]
  },
  {
   "cell_type": "code",
   "execution_count": 41,
   "id": "1372200f",
   "metadata": {},
   "outputs": [
    {
     "data": {
      "text/plain": [
       "' Identify the measure\\nThe query asks for \"sales,\" which is a measure. From the context, we can map \"sales\" to the \"Sales\" entity.\\n\\nStep 2: Identify the date variable\\nThe query asks for \"the week of 01 March 2022,\" which is a date reference. From the context, we can map this to the \"Order Date\" entity.\\n\\nStep 3: Convert the date reference\\nThe date reference \"week of 01 March 2022\" needs to be converted into a date range. Since it\\'s a week, we calculate the date range as \"2022/02/28 - 2022/03/06.\"\\n\\nStep 4: Create the structured output\\nNow that we have identified the measure and date variable, and converted the date reference, we can create the structured output. We include the \"Sales\" entity under the \"MEASURE\" key and the converted date range under the \"DATE VARIABLE\" key, along with the associated \"Order Date\" entity.\\n\\nRationale:\\nThe structured output is created by identifying the key components of the query (measure and date variable) and mapping them to the relevant entities from the context. It then converts the date reference and includes it in the output along with the associated entities. This allows for a clear and organized representation of the query, making it easier to process and analyze.\\n\\nIn the next part of the series, we will cover how to process the structured output and generate insights.</s>'"
      ]
     },
     "execution_count": 41,
     "metadata": {},
     "output_type": "execute_result"
    }
   ],
   "source": [
    "raw.split('\\nStep 1:')[1]"
   ]
  },
  {
   "cell_type": "code",
   "execution_count": 42,
   "id": "95ce9830",
   "metadata": {},
   "outputs": [
    {
     "name": "stdout",
     "output_type": "stream",
     "text": [
      "user query:  top most selling segments in 2020 vs 2021\n",
      "CPU times: user 42.4 s, sys: 1.06 s, total: 43.5 s\n",
      "Wall time: 43.5 s\n"
     ]
    },
    {
     "data": {
      "text/plain": [
       "{'DATE VARIABLE': {'2020 vs 2021': [{'CONVERTED TIME ELEMENT': '2020 vs 2021',\n",
       "    'DATE RANGE': '2020/01/01 - 2020/12/31 | 2021/01/01 - 2021/12/31',\n",
       "    'ENTITY': 'Order Date'}]},\n",
       " 'DIMENSION': {'segments': [{'ENTITY': 'Segment',\n",
       "    'RANK': [{'RANK ADJECTIVE': 'top', 'RANK VALUE': '1'}]}]},\n",
       " 'MEASURE': {'selling': [{'ENTITY': 'Sales'}]}}"
      ]
     },
     "execution_count": 42,
     "metadata": {},
     "output_type": "execute_result"
    }
   ],
   "source": [
    "%%time\n",
    "user_query = 'top most selling segments in 2020 vs 2021'\n",
    "print('user query: ', user_query)\n",
    "output, raw = predict_template_query_v1(user_query=user_query)\n",
    "eval(output)"
   ]
  },
  {
   "cell_type": "code",
   "execution_count": 43,
   "id": "32eb6d5e",
   "metadata": {},
   "outputs": [
    {
     "name": "stdout",
     "output_type": "stream",
     "text": [
      "user query:  sales from 100 to 200\n",
      "CPU times: user 39.4 s, sys: 1.05 s, total: 40.5 s\n",
      "Wall time: 40.5 s\n"
     ]
    },
    {
     "data": {
      "text/plain": [
       "{'MEASURE': {'sales': [{'ENTITY': 'Sales',\n",
       "    'MEASURE CONSTRAINT': [{'COMPARISON VALUE': '100',\n",
       "      'COMPARSION OPERATOR': '>='},\n",
       "     {'COMPARISON VALUE': '200', 'COMPARSION OPERATOR': '<='}]}]}}"
      ]
     },
     "execution_count": 43,
     "metadata": {},
     "output_type": "execute_result"
    }
   ],
   "source": [
    "%%time\n",
    "user_query = 'sales from 100 to 200'\n",
    "print('user query: ', user_query)\n",
    "output, raw = predict_template_query_v1(user_query=user_query)\n",
    "eval(output)"
   ]
  },
  {
   "cell_type": "code",
   "execution_count": 44,
   "id": "8f62ad02",
   "metadata": {},
   "outputs": [
    {
     "data": {
      "text/plain": [
       "' Identify the measure in the query\\nThe query mentions \"sales,\" which corresponds to the \"Sales\" entity in the context.\\n\\nStep 2: Identify the constraints in the query\\nThe query specifies a range for sales: \"from 100 to 200.\" This indicates a constraint on the \"Sales\" measure, with a lower bound of 100 and an upper bound of 200.\\n\\nStep 3: Map the constraints to comparison operators\\nThe lower bound \"from 100\" can be represented as a comparison operator \">=\" (greater than or equal to) with a comparison value of \"100.\" The upper bound \"to 200\" can be represented as a comparison operator \"<=\" (less than or equal to) with a comparison value of \"200.\"\\n\\nStep 4: Structure the output\\nThe structured output should include the identified measure (\"Sales\") and the corresponding constraints with their comparison operators and values. This is represented in the \"MEASURE\" section of the output, with the \"Sales\" entity and the \"MEASURE CONSTRAINT\" array containing the two constraints with their comparison operators and values.\\n\\nBy following these steps, the query \"sales from 100 to 200\" is converted into a structured output that represents the measure \"Sales\" with the specified constraints.\\n\\nRationale:\\nThe query asks for sales data within a specific range, which can be represented as a constraint on the \"Sales\" measure. By identifying the measure and the constraints, we can structure the output to include the relevant information and make it easier to process and analyze the data.\\n\\nThe use of comparison operators and values in the constraints allows for a more precise representation of the desired data, making it easier to process and analyze. Structuring the output in this way also allows for easier integration with other systems and tools, as the data is presented in a standardized format.</s>'"
      ]
     },
     "execution_count": 44,
     "metadata": {},
     "output_type": "execute_result"
    }
   ],
   "source": [
    "raw.split('\\nStep 1:')[1]"
   ]
  },
  {
   "cell_type": "code",
   "execution_count": 45,
   "id": "d52b439c",
   "metadata": {},
   "outputs": [
    {
     "name": "stdout",
     "output_type": "stream",
     "text": [
      "user query:  sales from 2021 to 2023\n",
      "CPU times: user 40.6 s, sys: 1.01 s, total: 41.6 s\n",
      "Wall time: 41.6 s\n"
     ]
    },
    {
     "data": {
      "text/plain": [
       "{'DATE VARIABLE': {'2021 to 2023': [{'CONVERTED TIME ELEMENT': '2021 to 2023',\n",
       "    'DATE RANGE': '2021/01/01 - 2023/12/31',\n",
       "    'ENTITY': 'Order Date'}]},\n",
       " 'MEASURE': {'sales': [{'ENTITY': 'Sales'}]}}"
      ]
     },
     "execution_count": 45,
     "metadata": {},
     "output_type": "execute_result"
    }
   ],
   "source": [
    "%%time\n",
    "user_query = 'sales from 2021 to 2023'\n",
    "print('user query: ', user_query)\n",
    "output, raw = predict_template_query_v1(user_query=user_query)\n",
    "eval(output)"
   ]
  },
  {
   "cell_type": "code",
   "execution_count": 46,
   "id": "4cd52f31",
   "metadata": {},
   "outputs": [
    {
     "data": {
      "text/plain": [
       "' Identify the measure\\nThe query asks for \"sales,\" which is a measure. From the context, we can map \"sales\" to the \"Sales\" entity.\\n\\nStep 2: Identify the date range\\nThe query asks for sales data \"from 2021 to 2023.\" This is a date range. From the context, we can map \"2021 to 2023\" to the \"Order Date\" entity.\\n\\nStep 3: Convert the date range\\nConvert the date range \"2021 to 2023\" into a format that can be used by the system. This can be done by specifying the start and end dates, which are \"2021/01/01\" and \"2023/12/31,\" respectively.\\n\\nStep 4: Create the structured output\\nCreate a structured output that includes the identified measure and date range. This can be done by creating a \"MEASURE\" key with the \"Sales\" entity and a \"DATE VARIABLE\" key with the \"Order Date\" entity and the converted date range \"2021 to 2023.\"\\n\\nRationale:\\nThe structured output is created by identifying the measure and date range from the query and converting the date range into a format that can be used by the system. This allows the system to retrieve the sales data for the specified time period and present it in a structured format that can be easily analyzed and processed.\\n\\nIn the given context, the query is asking for sales data from 2021 to 2023. The structured output is created by identifying the measure (sales) and the date range (2021 to 2023) and converting the date range into a format that can be used by the system. This allows the system to retrieve the sales data for the specified time period and present it in a structured format that can be easily analyzed and processed.</s>'"
      ]
     },
     "execution_count": 46,
     "metadata": {},
     "output_type": "execute_result"
    }
   ],
   "source": [
    "raw.split('\\nStep 1:')[1]"
   ]
  },
  {
   "cell_type": "code",
   "execution_count": 47,
   "id": "34d8e928",
   "metadata": {},
   "outputs": [
    {
     "name": "stdout",
     "output_type": "stream",
     "text": [
      "user query:  what is purchase across segments\n",
      "CPU times: user 33 s, sys: 1.05 s, total: 34 s\n",
      "Wall time: 34 s\n"
     ]
    },
    {
     "data": {
      "text/plain": [
       "{'DIMENSION': {'segments': [{'ENTITY': 'Segment',\n",
       "    'RANK': [{'RANK ADJECTIVE': '', 'RANK VALUE': ''}]}]},\n",
       " 'MEASURE': {'purchase': [{'ENTITY': 'Purchase Vol',\n",
       "    'MEASURE CONSTRAINT': [{'COMPARISON VALUE': '',\n",
       "      'COMPARSION OPERATOR': ''}]}]}}"
      ]
     },
     "execution_count": 47,
     "metadata": {},
     "output_type": "execute_result"
    }
   ],
   "source": [
    "%%time\n",
    "user_query = 'what is purchase across segments'\n",
    "print('user query: ', user_query)\n",
    "output, raw = predict_template_query_v1(user_query=user_query)\n",
    "eval(output)"
   ]
  },
  {
   "cell_type": "code",
   "execution_count": 48,
   "id": "06241d24",
   "metadata": {},
   "outputs": [
    {
     "data": {
      "text/plain": [
       "' Identify the main components of the query\\nIn the given query \"what is purchase across segments\", the main components are \"purchase\" and \"segments\".\\n\\nStep 2: Map the components to the context\\n- \"purchase\" can be mapped to the \\'Purchase Vol\\' entity under \\'MEASURE\\' in the context.\\n- \"segments\" can be mapped to the \\'Segment\\' entity under \\'DIMENSION\\' in the context.\\n\\nStep 3: Create the structured output\\n- For the \\'DIMENSION\\' part of the output, we include the \\'Segment\\' entity since the query asks for purchase across segments.\\n- For the \\'MEASURE\\' part of the output, we include the \\'Purchase Vol\\' entity as the query is asking for the purchase value.\\n\\nRationale:\\nThe structured output is created by identifying the main components of the query and mapping them to the given context. This helps in understanding the user\\'s intent and provides a structured format that can be used for further analysis or processing.\\n\\nBy following these steps, the query \"what is purchase across segments\" is converted into a structured output that includes the \\'Purchase Vol\\' entity under \\'MEASURE\\' and the \\'Segment\\' entity under \\'DIMENSION\\'. This output can be used for further analysis or processing as needed.</s>'"
      ]
     },
     "execution_count": 48,
     "metadata": {},
     "output_type": "execute_result"
    }
   ],
   "source": [
    "raw.split('\\nStep 1:')[1]"
   ]
  },
  {
   "cell_type": "code",
   "execution_count": 49,
   "id": "698271e8",
   "metadata": {},
   "outputs": [
    {
     "name": "stdout",
     "output_type": "stream",
     "text": [
      "user query:  discount rate of phone and binders\n",
      "CPU times: user 50.2 s, sys: 995 ms, total: 51.2 s\n",
      "Wall time: 51.2 s\n"
     ]
    },
    {
     "data": {
      "text/plain": [
       "{'DIMENSION': {'binders': [{'ENTITY': 'Binder',\n",
       "    'RANK': [{'RANK ADJECTIVE': '', 'RANK VALUE': ''}]}],\n",
       "  'phone': [{'ENTITY': 'Phone',\n",
       "    'RANK': [{'RANK ADJECTIVE': '', 'RANK VALUE': ''}]}]},\n",
       " 'FILTER': {'binders': [{'ENTITY': 'Binder', 'PARENT': 'Sub-Category'}],\n",
       "  'phone': [{'ENTITY': 'Phone', 'PARENT': 'Sub-Category'}]},\n",
       " 'MEASURE': {'discount rate': [{'ENTITY': 'Discount',\n",
       "    'MEASURE CONSTRAINT': [{'COMPARISON VALUE': '',\n",
       "      'COMPARSION OPERATOR': ''}]}]}}"
      ]
     },
     "execution_count": 49,
     "metadata": {},
     "output_type": "execute_result"
    }
   ],
   "source": [
    "%%time\n",
    "user_query = 'discount rate of phone and binders'\n",
    "print('user query: ', user_query)\n",
    "output, raw = predict_template_query_v1(user_query=user_query)\n",
    "eval(output)"
   ]
  },
  {
   "cell_type": "code",
   "execution_count": 52,
   "id": "7cb5d16e",
   "metadata": {},
   "outputs": [
    {
     "name": "stdout",
     "output_type": "stream",
     "text": [
      "Step 1: Identify the main components of the query\n",
      "- In the given query \"discount rate of phone and binders\", the main components are \"discount rate\", \"phone\", and \"binders\".\n",
      "\n",
      "Step 2: Map the components to the context\n",
      "- \"discount rate\" can be mapped to the \"Discount\" entity under the \"MEASURE\" category.\n",
      "- \"phone\" can be mapped to the \"Phone\" entity under the \"FILTER\" category with \"Sub-Category\" as its parent.\n",
      "- \"binders\" can be mapped to the \"Binder\" entity under the \"FILTER\" category with \"Sub-Category\" as its parent.\n",
      "\n",
      "Step 3: Create the structured output\n",
      "- For the \"DIMENSION\" part, include the \"Binder\" and \"Phone\" entities with their respective ranks (if any).\n",
      "- For the \"FILTER\" part, include the \"Binder\" and \"Phone\" entities with their respective parents (\"Sub-Category\").\n",
      "- For the \"MEASURE\" part, include the \"Discount\" entity with any measure constraints (if any).\n",
      "\n",
      "Step 4: Combine the structured output components\n",
      "- Combine the \"DIMENSION\", \"FILTER\", and \"MEASURE\" components to form the final structured output.\n",
      "\n",
      "Rationale:\n",
      "The query asks for the discount rate of phone and binders, which means we need to filter the data based on the sub-categories \"Phone\" and \"Binder\", calculate the discount rate for these filtered data, and provide the result as a dimension. The structured output is designed to capture this information in a structured way, making it easy to process and analyze the data.\n",
      "\n",
      "By following these steps and using the given context, the query \"discount rate of phone and binders\" is converted into a structured output that can be easily processed and analyzed.</s>\n"
     ]
    }
   ],
   "source": [
    "print('Step 1:' +raw.split('\\nStep 1:')[1])"
   ]
  },
  {
   "cell_type": "code",
   "execution_count": 53,
   "id": "8b160ef5",
   "metadata": {},
   "outputs": [
    {
     "name": "stdout",
     "output_type": "stream",
     "text": [
      "user query:  discount rate of overall sub-category in corporate\n",
      "CPU times: user 39.8 s, sys: 1.01 s, total: 40.8 s\n",
      "Wall time: 40.8 s\n"
     ]
    },
    {
     "data": {
      "text/plain": [
       "{'DIMENSION': {'sub-category': [{'ENTITY': 'Sub-Category',\n",
       "    'RANK': [{'RANK ADJECTIVE': '', 'RANK VALUE': ''}]}]},\n",
       " 'FILTER': {'corporate': [{'ENTITY': 'Corporate', 'PARENT': 'Segment'}]},\n",
       " 'MEASURE': {'discount rate': [{'ENTITY': 'Discount',\n",
       "    'MEASURE CONSTRAINT': [{'COMPARISON VALUE': '',\n",
       "      'COMPARSION OPERATOR': ''}]}]}}"
      ]
     },
     "execution_count": 53,
     "metadata": {},
     "output_type": "execute_result"
    }
   ],
   "source": [
    "%%time\n",
    "user_query = 'discount rate of overall sub-category in corporate'\n",
    "print('user query: ', user_query)\n",
    "output, raw = predict_template_query_v1(user_query=user_query)\n",
    "eval(output)"
   ]
  },
  {
   "cell_type": "code",
   "execution_count": 54,
   "id": "f09afeee",
   "metadata": {},
   "outputs": [
    {
     "name": "stdout",
     "output_type": "stream",
     "text": [
      "Step 1: Identify the main components of the query\n",
      "In the given query \"discount rate of overall sub-category in corporate\", the main components are \"discount rate\", \"sub-category\", and \"corporate\".\n",
      "\n",
      "Step 2: Map the components to the context\n",
      "- \"discount rate\" can be mapped to the 'Discount' entity under 'MEASURE'.\n",
      "- \"sub-category\" can be mapped to the 'Sub-Category' entity under 'DIMENSION'.\n",
      "- \"corporate\" can be mapped to the 'Corporate' entity under 'FILTER' with 'Segment' as its parent.\n",
      "\n",
      "Step 3: Create the structured output\n",
      "- For the 'DIMENSION' part, include the 'Sub-Category' entity with no rank specified.\n",
      "- For the 'FILTER' part, include the 'Corporate' entity with 'Segment' as its parent.\n",
      "- For the 'MEASURE' part, include the 'Discount' entity with no measure constraint specified.\n",
      "\n",
      "Rationale:\n",
      "The query asks for the discount rate of overall sub-categories in the corporate segment. To answer this, we need to consider the 'Sub-Category' dimension, apply the 'Corporate' filter, and calculate the 'Discount' measure. The structured output is created by including these components in their respective sections (DIMENSION, FILTER, and MEASURE) without any additional constraints or ranking.\n",
      "\n",
      "By following these steps and rationale, the given query is converted into a structured output that can be easily understood and processed by a data analysis system.</s>\n"
     ]
    }
   ],
   "source": [
    "print('Step 1:' +raw.split('\\nStep 1:')[1])"
   ]
  },
  {
   "cell_type": "code",
   "execution_count": 55,
   "id": "dc230e5e",
   "metadata": {},
   "outputs": [
    {
     "name": "stdout",
     "output_type": "stream",
     "text": [
      "user query:  maximum sales of phone for consumer segment\n",
      "CPU times: user 44.4 s, sys: 1.02 s, total: 45.5 s\n",
      "Wall time: 45.5 s\n"
     ]
    },
    {
     "data": {
      "text/plain": [
       "{'DIMENSION': {'segment': [{'ENTITY': 'Segment',\n",
       "    'RANK': [{'RANK ADJECTIVE': '', 'RANK VALUE': ''}]}]},\n",
       " 'FILTER': {'consumer': [{'ENTITY': 'Consumer', 'PARENT': 'Segment'}],\n",
       "  'phone': [{'ENTITY': 'Phone', 'PARENT': 'Sub-Category'}]},\n",
       " 'MEASURE': {'sales': [{'ADJECTIVE': ['maximum'],\n",
       "    'ENTITY': 'Sales',\n",
       "    'MEASURE CONSTRAINT': [{'COMPARISON VALUE': '',\n",
       "      'COMPARSION OPERATOR': ''}],\n",
       "    'TONE': 'positive'}]}}"
      ]
     },
     "execution_count": 55,
     "metadata": {},
     "output_type": "execute_result"
    }
   ],
   "source": [
    "%%time\n",
    "user_query = 'maximum sales of phone for consumer segment'\n",
    "print('user query: ', user_query)\n",
    "output, raw = predict_template_query_v1(user_query=user_query)\n",
    "eval(output)"
   ]
  },
  {
   "cell_type": "code",
   "execution_count": 56,
   "id": "c3b24bdf",
   "metadata": {},
   "outputs": [
    {
     "name": "stdout",
     "output_type": "stream",
     "text": [
      "Step 1: Identify the main components of the query\n",
      "- The query asks for the \"maximum sales\" which is a measure with an adjective \"maximum\".\n",
      "- The query specifies the \"phone\" which is a sub-category under the \"Filter\" dimension.\n",
      "- The query mentions the \"consumer segment\" which is another filter.\n",
      "\n",
      "Step 2: Map the components to the context\n",
      "- \"Sales\" is mapped to the \"Sales\" entity in the context.\n",
      "- \"Phone\" is mapped to the \"Phone\" entity in the context.\n",
      "- \"Consumer segment\" is mapped to the \"Consumer\" entity in the context.\n",
      "- \"Maximum\" is an adjective that can be applied to the \"Sales\" measure.\n",
      "\n",
      "Step 3: Create the structured output\n",
      "- For the \"DIMENSION\" part, include the \"Segment\" entity since the query asks for the maximum sales in a segment.\n",
      "- For the \"FILTER\" part, include the \"Consumer\" and \"Phone\" entities as specified in the query.\n",
      "- For the \"MEASURE\" part, include the \"Sales\" entity with the adjective \"maximum\" as requested in the query.\n",
      "\n",
      "Rationale:\n",
      "The structured output is created by breaking down the query into its main components and mapping them to the given context. This allows for a clear representation of the query's intent and makes it easier to process and analyze the data.\n",
      "\n",
      "In this case, the structured output includes the relevant dimensions, filters, and measures from the context, which are tailored to the query's request for the maximum sales of phones in the consumer segment.</s>\n"
     ]
    }
   ],
   "source": [
    "print('Step 1:' +raw.split('\\nStep 1:')[1])"
   ]
  },
  {
   "cell_type": "code",
   "execution_count": 57,
   "id": "7aae4474",
   "metadata": {},
   "outputs": [
    {
     "name": "stdout",
     "output_type": "stream",
     "text": [
      "user query:  forecast of sales\n",
      "CPU times: user 32.2 s, sys: 1.01 s, total: 33.2 s\n",
      "Wall time: 33.2 s\n"
     ]
    },
    {
     "data": {
      "text/plain": [
       "{'MEASURE': {'sales': [{'ENTITY': 'Sales',\n",
       "    'MEASURE CONSTRAINT': [{'COMPARISON VALUE': '',\n",
       "      'COMPARSION OPERATOR': ''}]}]}}"
      ]
     },
     "execution_count": 57,
     "metadata": {},
     "output_type": "execute_result"
    }
   ],
   "source": [
    "%%time\n",
    "user_query = 'forecast of sales'\n",
    "print('user query: ', user_query)\n",
    "output, raw = predict_template_query_v1(user_query=user_query)\n",
    "eval(output)"
   ]
  },
  {
   "cell_type": "code",
   "execution_count": 58,
   "id": "95c1eb95",
   "metadata": {},
   "outputs": [
    {
     "name": "stdout",
     "output_type": "stream",
     "text": [
      "Step 1: Identify the main measure in the query\n",
      "The query is asking for a \"forecast of sales.\" From the context, we can identify that the main measure is \"Sales.\"\n",
      "\n",
      "Step 2: Create a structured output with the main measure\n",
      "We create a structured output with the main measure \"Sales\" as the key and an empty list as its value. This list will be used to store any constraints or additional information related to the measure.\n",
      "\n",
      "Step 3: Identify any constraints or additional information in the query\n",
      "In this case, there are no specific constraints or additional information mentioned in the query. The query simply asks for a forecast of sales.\n",
      "\n",
      "Step 4: Add any constraints or additional information to the structured output\n",
      "Since there are no constraints or additional information, we can leave the list for the \"Sales\" measure empty.\n",
      "\n",
      "Step 5: Finalize the structured output\n",
      "The final structured output contains the main measure \"Sales\" with an empty list as its value, indicating that there are no specific constraints or additional information related to the measure.\n",
      "\n",
      "Rationale:\n",
      "The query is asking for a forecast of sales, which means predicting future sales based on past data. Since the main measure is identified as \"Sales,\" the structured output should include this measure with an empty list to indicate that there are no specific constraints or additional information related to the measure.\n",
      "\n",
      "In this case, there are no specific constraints or additional information mentioned in the query, so the list for the \"Sales\" measure remains empty. The final structured output contains the main measure \"Sales\" with an empty list as its value, indicating that there are no specific constraints or additional information related to the measure.</s>\n"
     ]
    }
   ],
   "source": [
    "print('Step 1:' +raw.split('\\nStep 1:')[1])"
   ]
  },
  {
   "cell_type": "code",
   "execution_count": 59,
   "id": "430a8bd1",
   "metadata": {},
   "outputs": [
    {
     "name": "stdout",
     "output_type": "stream",
     "text": [
      "user query:  quantity across segments except consumer\n",
      "CPU times: user 36.1 s, sys: 1.09 s, total: 37.2 s\n",
      "Wall time: 37.2 s\n"
     ]
    },
    {
     "data": {
      "text/plain": [
       "{'DIMENSION': {'segments': [{'ENTITY': 'Segment',\n",
       "    'RANK': [{'RANK ADJECTIVE': '', 'RANK VALUE': ''}]}]},\n",
       " 'FILTER': {'consumer': [{'ENTITY': 'Consumer',\n",
       "    'EXCLUDE': 'True',\n",
       "    'PARENT': 'Segment'}]},\n",
       " 'MEASURE': {'quantity': [{'ENTITY': 'Quantity',\n",
       "    'MEASURE CONSTRAINT': [{'COMPARISON VALUE': '',\n",
       "      'COMPARSION OPERATOR': ''}]}]}}"
      ]
     },
     "execution_count": 59,
     "metadata": {},
     "output_type": "execute_result"
    }
   ],
   "source": [
    "%%time\n",
    "user_query = 'quantity across segments except consumer'\n",
    "print('user query: ', user_query)\n",
    "output, raw = predict_template_query_v1(user_query=user_query)\n",
    "eval(output)"
   ]
  },
  {
   "cell_type": "code",
   "execution_count": 60,
   "id": "fca582c0",
   "metadata": {},
   "outputs": [
    {
     "name": "stdout",
     "output_type": "stream",
     "text": [
      "Step 1: Identify the main components of the query\n",
      "- The query asks for \"quantity\" which is a measure.\n",
      "- The query mentions \"segments\" which is a dimension.\n",
      "- The query specifies \"except consumer\" which is a filter.\n",
      "\n",
      "Step 2: Convert the query into structured output format\n",
      "- For the \"DIMENSION\" section, we include \"segments\" as the main dimension and leave the \"RANK\" fields empty since there is no ranking specified in the query.\n",
      "- For the \"FILTER\" section, we include \"consumer\" as the entity to be excluded (EXCLUDE: \"True\") and specify its parent as \"Segment\".\n",
      "- For the \"MEASURE\" section, we include \"quantity\" as the main measure and leave the \"MEASURE CONSTRAINT\" fields empty since there is no comparison or constraint specified in the query.\n",
      "\n",
      "Rationale: The structured output format helps in organizing the query components in a way that can be easily understood and processed by a data analysis system. By breaking down the query into dimensions, filters, and measures, we can ensure that the relevant information is extracted and presented in a clear and concise manner.\n",
      "\n",
      "In this case, the structured output format helps in answering the query by providing the quantity across all segments except the consumer segment.</s>\n"
     ]
    }
   ],
   "source": [
    "print('Step 1:' +raw.split('\\nStep 1:')[1])"
   ]
  },
  {
   "cell_type": "code",
   "execution_count": 61,
   "id": "957fc63c",
   "metadata": {},
   "outputs": [
    {
     "name": "stdout",
     "output_type": "stream",
     "text": [
      "user query:  which segment has highest purchase\n",
      "CPU times: user 42.2 s, sys: 1.04 s, total: 43.2 s\n",
      "Wall time: 43.2 s\n"
     ]
    },
    {
     "data": {
      "text/plain": [
       "{'DIMENSION': {'segment': [{'ENTITY': 'Segment',\n",
       "    'RANK': [{'RANK ADJECTIVE': 'top', 'RANK VALUE': '1'}]}]},\n",
       " 'MEASURE': {'purchase': [{'ADJECTIVE': ['highest'],\n",
       "    'ENTITY': 'Purchase Vol',\n",
       "    'MEASURE CONSTRAINT': [{'COMPARISON VALUE': '',\n",
       "      'COMPARSION OPERATOR': ''}],\n",
       "    'TONE': 'positive'}]}}"
      ]
     },
     "execution_count": 61,
     "metadata": {},
     "output_type": "execute_result"
    }
   ],
   "source": [
    "%%time\n",
    "user_query = 'which segment has highest purchase'\n",
    "print('user query: ', user_query)\n",
    "output, raw = predict_template_query_v1(user_query=user_query)\n",
    "eval(output)"
   ]
  },
  {
   "cell_type": "code",
   "execution_count": 62,
   "id": "477cd2b9",
   "metadata": {},
   "outputs": [
    {
     "name": "stdout",
     "output_type": "stream",
     "text": [
      "Step 1: Identify the main components of the query\n",
      "In the given query \"which segment has the highest purchase\", the main components are \"segment\" and \"highest purchase\".\n",
      "\n",
      "Step 2: Map the components to the context\n",
      "- \"segment\" can be mapped to the \"Segment\" entity under the \"DIMENSION\" category in the context.\n",
      "- \"highest purchase\" can be mapped to the \"Purchase Vol\" entity under the \"MEASURE\" category in the context.\n",
      "\n",
      "Step 3: Determine the required output structure\n",
      "The output structure should include the \"DIMENSION\" and \"MEASURE\" components, as they are the main components of the query.\n",
      "\n",
      "Step 4: Create the structured output\n",
      "- For the \"DIMENSION\" component, include the \"Segment\" entity and specify the rank as \"top 1\" since we are looking for the highest purchase.\n",
      "- For the \"MEASURE\" component, include the \"Purchase Vol\" entity and specify the adjective as \"highest\" to indicate that we are looking for the highest purchase value.\n",
      "\n",
      "Step 5: Combine the structured output components\n",
      "Combine the \"DIMENSION\" and \"MEASURE\" components in the structured output format, resulting in the final structured output.\n",
      "\n",
      "Rationale:\n",
      "The query asks for the segment with the highest purchase, so the structured output should include the \"Segment\" dimension and the \"Purchase Vol\" measure, with the adjective \"highest\" to indicate the desired ranking. By specifying the rank as \"top 1\", we are focusing on the highest purchase value among all segments.\n",
      "\n",
      "By following these steps and considering the context, the query \"which segment has the highest purchase\" can be converted into a structured output that captures the main components of the query.</s>\n"
     ]
    }
   ],
   "source": [
    "print('Step 1:' +raw.split('\\nStep 1:')[1])"
   ]
  },
  {
   "cell_type": "code",
   "execution_count": 63,
   "id": "5f3dbcd9",
   "metadata": {},
   "outputs": [
    {
     "name": "stdout",
     "output_type": "stream",
     "text": [
      "user query:  top 2 segments basis discount\n",
      "CPU times: user 31.4 s, sys: 1.1 s, total: 32.5 s\n",
      "Wall time: 32.5 s\n"
     ]
    },
    {
     "data": {
      "text/plain": [
       "{'DIMENSION': {'segments': [{'ENTITY': 'Segment',\n",
       "    'RANK': [{'RANK ADJECTIVE': 'top', 'RANK VALUE': '2'}]}]},\n",
       " 'MEASURE': {'discount': [{'ENTITY': 'Discount'}]}}"
      ]
     },
     "execution_count": 63,
     "metadata": {},
     "output_type": "execute_result"
    }
   ],
   "source": [
    "%%time\n",
    "user_query = 'top 2 segments basis discount'\n",
    "print('user query: ', user_query)\n",
    "output, raw = predict_template_query_v1(user_query=user_query)\n",
    "eval(output)"
   ]
  },
  {
   "cell_type": "code",
   "execution_count": 64,
   "id": "ac49609d",
   "metadata": {},
   "outputs": [
    {
     "name": "stdout",
     "output_type": "stream",
     "text": [
      "Step 1: Identify the main components of the query\n",
      "In the given query \"top 2 segments basis discount\", the main components are \"top 2\", \"segments\", and \"discount\".\n",
      "\n",
      "Step 2: Map the components to the context\n",
      "- \"segments\" can be mapped to the \"Segment\" entity in the 'DIMENSION' section of the context.\n",
      "- \"discount\" can be mapped to the \"Discount\" entity in the 'MEASURE' section of the context.\n",
      "\n",
      "Step 3: Create the structured output\n",
      "- For the \"DIMENSION\" part of the output, we include the \"Segment\" entity and specify the ranking information (top 2) as a property of the entity.\n",
      "- For the \"MEASURE\" part of the output, we include the \"Discount\" entity.\n",
      "\n",
      "Rationale:\n",
      "The query is asking for the top 2 segments based on the discount. To answer this question, we need to consider the \"Segment\" dimension and rank them according to the \"Discount\" measure. The structured output captures this information by including the \"Segment\" entity with the ranking details (top 2) in the \"DIMENSION\" section and the \"Discount\" entity in the \"MEASURE\" section.\n",
      "\n",
      "By following these steps and using the given context, we are able to convert the query into a structured output that captures the required information.</s>\n"
     ]
    }
   ],
   "source": [
    "print('Step 1:' +raw.split('\\nStep 1:')[1])"
   ]
  },
  {
   "cell_type": "code",
   "execution_count": 65,
   "id": "af98ba6a",
   "metadata": {},
   "outputs": [
    {
     "name": "stdout",
     "output_type": "stream",
     "text": [
      "user query:  binder share of discount by consumer\n",
      "CPU times: user 51 s, sys: 1.04 s, total: 52 s\n",
      "Wall time: 52 s\n"
     ]
    },
    {
     "data": {
      "text/plain": [
       "{'DIMENSION': {'consumer': [{'ENTITY': 'Consumer',\n",
       "    'RANK': [{'RANK ADJECTIVE': '', 'RANK VALUE': ''}]}]},\n",
       " 'FILTER': {'binder': [{'ENTITY': 'Binder', 'PARENT': 'Sub-Category'}]},\n",
       " 'MEASURE': {'discount': [{'ENTITY': 'Discount',\n",
       "    'MEASURE CONSTRAINT': [{'COMPARISON VALUE': '',\n",
       "      'COMPARSION OPERATOR': ''}]}]},\n",
       " 'DERIVED MEASURE': {'share': [{'ENTITY': 'Why',\n",
       "    'DERIVED MEASURE CONSTRAINT': [{'DERIVED MEASURE': 'share',\n",
       "      'MEASURE CONSTRAINT': [{'COMPARISON VALUE': '',\n",
       "        'COMPARSION OPERATOR': ''}]}]}]}}"
      ]
     },
     "execution_count": 65,
     "metadata": {},
     "output_type": "execute_result"
    }
   ],
   "source": [
    "%%time\n",
    "user_query = 'binder share of discount by consumer'\n",
    "print('user query: ', user_query)\n",
    "output, raw = predict_template_query_v1(user_query=user_query)\n",
    "eval(output)"
   ]
  },
  {
   "cell_type": "code",
   "execution_count": 66,
   "id": "538cf906",
   "metadata": {},
   "outputs": [
    {
     "name": "stdout",
     "output_type": "stream",
     "text": [
      "Step 1: Identify the main components of the query\n",
      "- In the query \"binder share of discount by consumer\", the main components are \"binder\", \"share of discount\", and \"consumer\".\n",
      "\n",
      "Step 2: Map the components to the context\n",
      "- \"binder\" can be mapped to the \"Binder\" entity under \"FILTER\".\n",
      "- \"share of discount\" can be mapped to the \"Why\" entity under \"DERIVED MEASURE\" with the derived measure \"share\".\n",
      "- \"consumer\" can be mapped to the \"Consumer\" entity under \"DIMENSION\".\n",
      "\n",
      "Step 3: Create the structured output\n",
      "- For the \"DIMENSION\" section, include the \"Consumer\" entity since the query is asking for the share of discount by consumers.\n",
      "- For the \"FILTER\" section, include the \"Binder\" entity as the query is asking for the share of discount for binders.\n",
      "- For the \"MEASURE\" section, include the \"Discount\" entity since the query is asking for the share of discount.\n",
      "- For the \"DERIVED MEASURE\" section, include the \"Why\" entity with the derived measure \"share\" since the query is asking for the share of discount.\n",
      "\n",
      "Rationale:\n",
      "- The structured output is created by breaking down the query into its main components and mapping them to the context. This allows for a clear representation of the query, making it easier to understand and process.\n",
      "- By including the relevant dimensions, filters, measures, and derived measures, the structured output provides a comprehensive view of the data being requested, making it easier to retrieve and analyze.\n",
      "\n",
      "Overall, the structured output helps in organizing the query and makes it easier to process and understand, leading to more efficient data retrieval and analysis.</s>\n"
     ]
    }
   ],
   "source": [
    "print('Step 1:' +raw.split('\\nStep 1:')[1])"
   ]
  },
  {
   "cell_type": "code",
   "execution_count": 67,
   "id": "54edc78e",
   "metadata": {},
   "outputs": [
    {
     "name": "stdout",
     "output_type": "stream",
     "text": [
      "user query:  binder and phone share basis sales for corporate\n",
      "CPU times: user 39.8 s, sys: 1.03 s, total: 40.8 s\n",
      "Wall time: 40.8 s\n"
     ]
    },
    {
     "data": {
      "text/plain": [
       "{'DIMENSION': {'corporate': [{'ENTITY': 'Corporate',\n",
       "    'RANK': [{'RANK ADJECTIVE': '', 'RANK VALUE': ''}]}]},\n",
       " 'FILTER': {'binder': [{'ENTITY': 'Binder', 'PARENT': 'Sub-Category'}],\n",
       "  'phone': [{'ENTITY': 'Phone', 'PARENT': 'Sub-Category'}]},\n",
       " 'MEASURE': {'share': [{'ENTITY': 'Share',\n",
       "    'MEASURE CONSTRAINT': [{'COMPARISON VALUE': '',\n",
       "      'COMPARSION OPERATOR': ''}]}]}}"
      ]
     },
     "execution_count": 67,
     "metadata": {},
     "output_type": "execute_result"
    }
   ],
   "source": [
    "%%time\n",
    "user_query = 'binder and phone share basis sales for corporate'\n",
    "print('user query: ', user_query)\n",
    "output, raw = predict_template_query_v1(user_query=user_query)\n",
    "eval(output)"
   ]
  },
  {
   "cell_type": "code",
   "execution_count": 68,
   "id": "8ed00bf1",
   "metadata": {},
   "outputs": [
    {
     "name": "stdout",
     "output_type": "stream",
     "text": [
      "Step 1: Identify the main components of the query\n",
      "- The query mentions \"binder\" and \"phone,\" which are Sub-Category entities.\n",
      "- It asks for the \"share\" based on sales for the \"corporate\" segment.\n",
      "\n",
      "Step 2: Map the components to the context\n",
      "- \"Binder\" and \"Phone\" are mapped to their respective Sub-Category entities.\n",
      "- \"Corporate\" is mapped to the \"Corporate\" segment.\n",
      "- \"Share\" is mapped to the \"Share\" entity under the \"MEASURE\" category.\n",
      "\n",
      "Step 3: Create the structured output\n",
      "- For the \"DIMENSION\" section, include the \"Corporate\" segment as the main dimension.\n",
      "- For the \"FILTER\" section, include the \"Binder\" and \"Phone\" Sub-Category entities as filters for the main dimension.\n",
      "- For the \"MEASURE\" section, include the \"Share\" entity as the main measure and specify the constraint as being based on sales.\n",
      "\n",
      "Rationale:\n",
      "The structured output is created by breaking down the query into its main components and mapping them to the given context. This allows for a clear representation of the query, making it easier to understand and process.\n",
      "\n",
      "By following these steps, the query can be converted into a structured output that captures the essential information and relationships between the different components, providing a more efficient way to analyze and process the data.</s>\n"
     ]
    }
   ],
   "source": [
    "print('Step 1:' +raw.split('\\nStep 1:')[1])"
   ]
  },
  {
   "cell_type": "code",
   "execution_count": 69,
   "id": "8269491a",
   "metadata": {},
   "outputs": [
    {
     "name": "stdout",
     "output_type": "stream",
     "text": [
      "user query:  in corporate, share of phone and binder basis discount\n",
      "CPU times: user 48.5 s, sys: 1.1 s, total: 49.6 s\n",
      "Wall time: 49.6 s\n"
     ]
    },
    {
     "data": {
      "text/plain": [
       "{'DIMENSION': {'corporate': [{'ENTITY': 'Corporate',\n",
       "    'RANK': [{'RANK ADJECTIVE': '', 'RANK VALUE': ''}]}]},\n",
       " 'FILTER': {'phone': [{'ENTITY': 'Phone', 'PARENT': 'Sub-Category'}],\n",
       "  'binder': [{'ENTITY': 'Binder', 'PARENT': 'Sub-Category'}]},\n",
       " 'MEASURE': {'discount': [{'ENTITY': 'Discount',\n",
       "    'MEASURE CONSTRAINT': [{'COMPARISON VALUE': '',\n",
       "      'COMPARSION OPERATOR': ''}]}]},\n",
       " 'DERIVED MEASURE': {'share': [{'ENTITY': 'Ratio',\n",
       "    'DERIVED MEASURE CONSTRAINT': [{'MEASURE': 'Phone',\n",
       "      'RATIO FILTER': 'Binder'}]}]}}"
      ]
     },
     "execution_count": 69,
     "metadata": {},
     "output_type": "execute_result"
    }
   ],
   "source": [
    "%%time\n",
    "user_query = 'in corporate, share of phone and binder basis discount'\n",
    "print('user query: ', user_query)\n",
    "output, raw = predict_template_query_v1(user_query=user_query)\n",
    "eval(output)"
   ]
  },
  {
   "cell_type": "code",
   "execution_count": 70,
   "id": "91d92bba",
   "metadata": {},
   "outputs": [
    {
     "name": "stdout",
     "output_type": "stream",
     "text": [
      "Step 1: Identify the main components of the query\n",
      "- In the given query, we can identify the following components:\n",
      "  - Segment: Corporate\n",
      "  - Sub-Category: Phone and Binder\n",
      "  - Measure: Discount\n",
      "  - Derived Measure: Share\n",
      "\n",
      "Step 2: Map the components to the context\n",
      "- Using the provided context, we can map the components as follows:\n",
      "  - Corporate: Segment\n",
      "  - Phone: Sub-Category\n",
      "  - Binder: Sub-Category\n",
      "  - Discount: Measure\n",
      "  - Share: Derived Measure (Ratio)\n",
      "\n",
      "Step 3: Create the structured output\n",
      "- Based on the identified components and their mapping, we can create the structured output as follows:\n",
      "\n",
      "  1. Add the \"DIMENSION\" key and include the \"corporate\" segment.\n",
      "  2. Add the \"FILTER\" key and include the \"phone\" and \"binder\" sub-categories.\n",
      "  3. Add the \"MEASURE\" key and include the \"discount\" measure.\n",
      "  4. Add the \"DERIVED MEASURE\" key and include the \"share\" derived measure with the \"Phone\" and \"Binder\" ratio filter.\n",
      "\n",
      "Rationale:\n",
      "- The structured output is created by breaking down the query into its main components and mapping them to the provided context. This allows for a clear representation of the query, making it easier to understand and process.\n",
      "\n",
      "By following these steps and using the provided context, the given query is converted into a structured output that can be easily processed and analyzed.</s>\n"
     ]
    }
   ],
   "source": [
    "print('Step 1:' +raw.split('\\nStep 1:')[1])"
   ]
  },
  {
   "cell_type": "code",
   "execution_count": 71,
   "id": "53f86dd4",
   "metadata": {},
   "outputs": [
    {
     "name": "stdout",
     "output_type": "stream",
     "text": [
      "user query:  phone to binder ratio of discount in corporate\n",
      "CPU times: user 53.5 s, sys: 1.04 s, total: 54.6 s\n",
      "Wall time: 54.6 s\n"
     ]
    },
    {
     "data": {
      "text/plain": [
       "{'DATE': {'': []},\n",
       " 'DERIVED MEASURE': {'ratio': [{'APPLIED MEASURE': [{'discount': 'Discount'}],\n",
       "    'DERIVED MEASURE CONSTRAINT': [{'COMPARISON VALUE': '',\n",
       "      'COMPARSION OPERATOR': ''}],\n",
       "    'ENTITY': 'Ratio',\n",
       "    'RATIO FILTER': ['Phone', 'Binder']}]},\n",
       " 'DIMENSION': {'corporate': [{'ENTITY': 'Corporate',\n",
       "    'RANK': [{'RANK ADJECTIVE': '', 'RANK VALUE': ''}]}]},\n",
       " 'FILTER': {'binder': [{'ENTITY': 'Binder', 'PARENT': 'Sub-Category'}],\n",
       "  'phone': [{'ENTITY': 'Phone', 'PARENT': 'Sub-Category'}]},\n",
       " 'MEASURE': {'discount': [{'ENTITY': 'Discount',\n",
       "    'MEASURE CONSTRAINT': [{'COMPARISON VALUE': '',\n",
       "      'COMPARSION OPERATOR': ''}]}]}}"
      ]
     },
     "execution_count": 71,
     "metadata": {},
     "output_type": "execute_result"
    }
   ],
   "source": [
    "%%time\n",
    "user_query = 'phone to binder ratio of discount in corporate'\n",
    "print('user query: ', user_query)\n",
    "output, raw = predict_template_query_v1(user_query=user_query)\n",
    "eval(output)"
   ]
  },
  {
   "cell_type": "code",
   "execution_count": 72,
   "id": "4fbe0b56",
   "metadata": {},
   "outputs": [
    {
     "name": "stdout",
     "output_type": "stream",
     "text": [
      "Step 1: Identify the main components of the query\n",
      "- Phone and Binder: Sub-Category entities\n",
      "- Discount: Measure entity\n",
      "- Corporate: Segment entity\n",
      "- Ratio: Derived Measure entity\n",
      "\n",
      "Step 2: Map the components to their respective categories in the structured output\n",
      "- Phone and Binder are added to the \"FILTER\" category with their respective parent \"Sub-Category\".\n",
      "- Discount is added to the \"MEASURE\" category.\n",
      "- Corporate is added to the \"DIMENSION\" category.\n",
      "- Ratio is added to the \"DERIVED MEASURE\" category.\n",
      "\n",
      "Step 3: Define the relationships between the components\n",
      "- The query asks for the ratio of sales between Phone and Binder in the Corporate segment.\n",
      "- In the \"DERIVED MEASURE\" category, the \"ratio\" entity is defined with the \"APPLIED MEASURE\" as \"Discount\" and the \"RATIO FILTER\" as \"Phone\" and \"Binder\".\n",
      "- The \"DIMENSION\" category has the \"corporate\" entity, which is the context for the ratio calculation.\n",
      "\n",
      "Step 4: Add any constraints or additional information (if applicable)\n",
      "- In this case, there are no constraints or additional information needed.\n",
      "\n",
      "By following these steps, the query is converted into a structured output that captures the main components, their relationships, and the context in which the calculation should be performed.\n",
      "\n",
      "Rationale:\n",
      "The structured output helps in organizing the query information in a way that can be easily understood\n"
     ]
    }
   ],
   "source": [
    "print('Step 1:' +raw.split('\\nStep 1:')[1])"
   ]
  },
  {
   "cell_type": "code",
   "execution_count": 73,
   "id": "714fde84",
   "metadata": {},
   "outputs": [
    {
     "name": "stdout",
     "output_type": "stream",
     "text": [
      "user query:  segments with discount rate greater than 100k\n",
      "CPU times: user 40.9 s, sys: 1.09 s, total: 42 s\n",
      "Wall time: 42 s\n"
     ]
    },
    {
     "data": {
      "text/plain": [
       "{'DIMENSION': {'segments': [{'ENTITY': 'Segment'}]},\n",
       " 'MEASURE': {'discount rate': [{'ENTITY': 'Discount',\n",
       "    'MEASURE CONSTRAINT': [{'COMPARISON VALUE': '100k',\n",
       "      'COMPARSION OPERATOR': '>'}]}]}}"
      ]
     },
     "execution_count": 73,
     "metadata": {},
     "output_type": "execute_result"
    }
   ],
   "source": [
    "%%time\n",
    "user_query = 'segments with discount rate greater than 100k'\n",
    "print('user query: ', user_query)\n",
    "output, raw = predict_template_query_v1(user_query=user_query)\n",
    "eval(output)"
   ]
  },
  {
   "cell_type": "code",
   "execution_count": 74,
   "id": "73ef1863",
   "metadata": {},
   "outputs": [
    {
     "name": "stdout",
     "output_type": "stream",
     "text": [
      "Step 1: Identify the main components of the query\n",
      "- In the given query \"segments with discount rate greater than 100k\", the main components are \"segments\" and \"discount rate greater than 100k\".\n",
      "\n",
      "Step 2: Map the components to the context\n",
      "- \"segments\" can be mapped to the \"Segment\" entity under the \"DIMENSION\" category in the context.\n",
      "- \"discount rate\" can be mapped to the \"Discount\" entity under the \"MEASURE\" category in the context.\n",
      "\n",
      "Step 3: Identify the constraints and operators\n",
      "- In the query, there is a constraint on the discount rate, which is \"greater than 100k\". This can be represented as a \"MEASURE CONSTRAINT\" with a \"COMPARISON VALUE\" of \"100k\" and a \"COMPARISION OPERATOR\" of \">\".\n",
      "\n",
      "Step 4: Create the structured output\n",
      "- Based on the mappings and constraints identified in the previous steps, the structured output is created with the following structure:\n",
      "  - \"DIMENSION\" contains the \"segments\" mapped to the \"Segment\" entity.\n",
      "  - \"MEASURE\" contains the \"discount rate\" mapped to the \"Discount\" entity, along with the \"MEASURE CONSTRAINT\" identified earlier.\n",
      "\n",
      "This structured output represents the given query in a format that can be easily processed and analyzed by a data processing system.\n",
      "\n",
      "Rationale:\n",
      "- The structured output is created by breaking down the query into its main components and mapping them to the relevant entities in the context. This allows for a clear representation of the query, making it easier to understand and process.\n",
      "- The constraints and operators identified in the query are represented in the structured output as \"MEASURE CONSTRAINTS\", which can be easily processed and used to filter the data.\n",
      "- By organizing the output in this way, the structured output can be easily understood and analyzed by a data processing system, allowing for more efficient and effective data processing.</s>\n"
     ]
    }
   ],
   "source": [
    "print('Step 1:' +raw.split('\\nStep 1:')[1])"
   ]
  },
  {
   "cell_type": "code",
   "execution_count": 75,
   "id": "5186cf66",
   "metadata": {},
   "outputs": [
    {
     "name": "stdout",
     "output_type": "stream",
     "text": [
      "user query:  category with discount rate greater than 10k and quantity less than 2k\n",
      "CPU times: user 43.1 s, sys: 1.03 s, total: 44.1 s\n",
      "Wall time: 44.1 s\n"
     ]
    },
    {
     "data": {
      "text/plain": [
       "{'DIMENSION': {'category': [{'ENTITY': 'Sub-Category'}]},\n",
       " 'MEASURE': {'discount rate': [{'ENTITY': 'Discount',\n",
       "    'MEASURE CONSTRAINT': [{'COMPARISON VALUE': '10k',\n",
       "      'COMPARSION OPERATOR': '>'}]}],\n",
       "  'quantity': [{'ENTITY': 'Quantity',\n",
       "    'MEASURE CONSTRAINT': [{'COMPARISON VALUE': '2k',\n",
       "      'COMPARSION OPERATOR': '<'}]}]}}"
      ]
     },
     "execution_count": 75,
     "metadata": {},
     "output_type": "execute_result"
    }
   ],
   "source": [
    "%%time\n",
    "user_query = 'category with discount rate greater than 10k and quantity less than 2k'\n",
    "print('user query: ', user_query)\n",
    "output, raw = predict_template_query_v1(user_query=user_query)\n",
    "eval(output)"
   ]
  },
  {
   "cell_type": "code",
   "execution_count": 76,
   "id": "6e231d62",
   "metadata": {},
   "outputs": [
    {
     "name": "stdout",
     "output_type": "stream",
     "text": [
      "Step 1: Identify the dimensions and measures in the query.\n",
      "- In the query, \"category\" refers to a dimension, which can be mapped to the \"Sub-Category\" entity in the context.\n",
      "- \"discount rate\" refers to a measure, which can be mapped to the \"Discount\" entity in the context.\n",
      "- \"quantity\" refers to another measure, which can be mapped to the \"Quantity\" entity in the context.\n",
      "\n",
      "Step 2: Identify the constraints and operators in the query.\n",
      "- For the \"discount rate\" measure, the constraint is \"greater than 10k\", which can be represented as \">\" and \"10k\".\n",
      "- For the \"quantity\" measure, the constraint is \"less than 2k\", which can be represented as \"<\" and \"2k\".\n",
      "\n",
      "Step 3: Structure the output based on the identified dimensions, measures, and constraints.\n",
      "- Create a \"DIMENSION\" key and map the \"category\" to the \"Sub-Category\" entity.\n",
      "- Create a \"MEASURE\" key and map the \"discount rate\" and \"quantity\" to their respective entities, \"Discount\" and \"Quantity\".\n",
      "- Add the constraints and operators for each measure under the \"MEASURE CONSTRAINT\" key.\n",
      "\n",
      "By following these steps, the query is converted into a structured output that represents the dimensions, measures, and constraints in a more organized and machine-readable format.\n",
      "\n",
      "Rationale:\n",
      "The structured output helps in better understanding and processing the query by breaking it down into dimensions, measures, and constraints. This makes it easier to analyze and visualize the data, as well as to generate reports and insights based on the query. Additionally, the structured output can be used as input for further analysis or modeling, which can lead to more accurate and actionable insights.</s>\n"
     ]
    }
   ],
   "source": [
    "print('Step 1:' +raw.split('\\nStep 1:')[1])"
   ]
  },
  {
   "cell_type": "code",
   "execution_count": 28,
   "id": "c82f4af3",
   "metadata": {},
   "outputs": [
    {
     "name": "stdout",
     "output_type": "stream",
     "text": [
      "user query:  why did discount of phones drop\n",
      "CPU times: user 51.5 s, sys: 948 ms, total: 52.5 s\n",
      "Wall time: 52.5 s\n"
     ]
    },
    {
     "data": {
      "text/plain": [
       "{'DIMENSION': {'phones': [{'ENTITY': 'Phone',\n",
       "    'RANK': [{'RANK ADJECTIVE': '', 'RANK VALUE': ''}]}]},\n",
       " 'MEASURE': {'discount': [{'ENTITY': 'Discount',\n",
       "    'MEASURE CONSTRAINT': [{'COMPARISON VALUE': '',\n",
       "      'COMPARSION OPERATOR': ''}]}]},\n",
       " 'FILTER': {'corporate': [{'ENTITY': 'Corporate', 'PARENT': 'Segment'}]},\n",
       " 'DATE VARIABLE': {'order date': [{'ENTITY': 'Order Date',\n",
       "    'TONE': 'informative'}]},\n",
       " 'DERIVED MEASURE': {'why': [{'ENTITY': 'Why',\n",
       "    'MEASURE CONSTRAINT': [{'COMPARISON VALUE': '',\n",
       "      'COMPARSION OPERATOR': ''}]}]}}"
      ]
     },
     "execution_count": 28,
     "metadata": {},
     "output_type": "execute_result"
    }
   ],
   "source": [
    "%%time\n",
    "user_query = 'why did discount of phones drop'\n",
    "print('user query: ', user_query)\n",
    "output, raw = predict_template_query_v1(user_query=user_query)\n",
    "eval(output)"
   ]
  },
  {
   "cell_type": "code",
   "execution_count": 29,
   "id": "9824b544",
   "metadata": {},
   "outputs": [
    {
     "name": "stdout",
     "output_type": "stream",
     "text": [
      "Step 1: Identify the main components of the query\n",
      "- In the given query \"why did discount of phones drop\", the main components are \"discount\", \"phones\", and \"drop\".\n",
      "\n",
      "Step 2: Map the components to the context\n",
      "- \"discount\" can be mapped to the \"Discount\" entity under the \"MEASURE\" category.\n",
      "- \"phones\" can be mapped to the \"Phone\" entity under the \"FILTER\" category.\n",
      "- \"drop\" can be inferred as a negative tone and can be represented as a \"MEASURE CONSTRAINT\" for the \"Discount\" entity.\n",
      "\n",
      "Step 3: Create the structured output\n",
      "- For the \"DIMENSION\" part, include the \"Phone\" entity since the query is asking about the phones specifically.\n",
      "- For the \"MEASURE\" part, include the \"Discount\" entity with the negative tone represented as a \"MEASURE CONSTRAINT\".\n",
      "- For the \"FILTER\" part, include the \"Corporate\" entity as the query doesn't specify any other segment.\n",
      "- For the \"DATE VARIABLE\" part, include the \"Order Date\" entity since there is no mention of any specific date.\n",
      "- For the \"DERIVED MEASURE\" part, include the \"Why\" entity as the query is asking for the reason behind the drop in discount.\n",
      "\n",
      "Rationale:\n",
      "- The structured output is created by breaking down the query into its main components and mapping them to the given context. This helps in understanding the query better and provides a structured format that can be used for further analysis or processing.\n",
      "\n",
      "By following these steps and rationale, the given query \"why did discount of phones drop\" is converted into a structured output that captures the main components of the query and their relationships with the context.</s>\n"
     ]
    }
   ],
   "source": [
    "print('Step 1:' +raw.split('\\nStep 1:')[1])"
   ]
  },
  {
   "cell_type": "code",
   "execution_count": 79,
   "id": "c9c4edc6",
   "metadata": {},
   "outputs": [
    {
     "name": "stdout",
     "output_type": "stream",
     "text": [
      "user query:  correlation of sales and purchase for phone\n",
      "CPU times: user 51.4 s, sys: 1.11 s, total: 52.5 s\n",
      "Wall time: 52.5 s\n"
     ]
    },
    {
     "data": {
      "text/plain": [
       "{'DIMENSION': {'phone': [{'ENTITY': 'Phone',\n",
       "    'RANK': [{'RANK ADJECTIVE': '', 'RANK VALUE': ''}]}]},\n",
       " 'FILTER': {'phone': [{'ENTITY': 'Phone', 'PARENT': 'Sub-Category'}]},\n",
       " 'MEASURE': {'sales': [{'ENTITY': 'Sales',\n",
       "    'MEASURE CONSTRAINT': [{'COMPARISON VALUE': '',\n",
       "      'COMPARSION OPERATOR': ''}]}],\n",
       "  'purchase': [{'ENTITY': 'Purchase',\n",
       "    'MEASURE CONSTRAINT': [{'COMPARISON VALUE': '',\n",
       "      'COMPARSION OPERATOR': ''}]}]},\n",
       " 'DERIVED MEASURE': {'correlation': [{'ENTITY': 'correlation',\n",
       "    'APPLIED ON': ['sales', 'purchase']}]}}"
      ]
     },
     "execution_count": 79,
     "metadata": {},
     "output_type": "execute_result"
    }
   ],
   "source": [
    "%%time\n",
    "user_query = 'correlation of sales and purchase for phone'\n",
    "print('user query: ', user_query)\n",
    "output, raw = predict_template_query_v1(user_query=user_query)\n",
    "eval(output)"
   ]
  },
  {
   "cell_type": "code",
   "execution_count": 80,
   "id": "e58d7c97",
   "metadata": {},
   "outputs": [
    {
     "name": "stdout",
     "output_type": "stream",
     "text": [
      "Step 1: Identify the main components of the query\n",
      "- The query asks for the correlation between sales and purchase for the \"Phone\" sub-category.\n",
      "\n",
      "Step 2: Map the components to the context\n",
      "- \"Phone\" is a sub-category, so it falls under the \"Sub-Category\" dimension.\n",
      "- \"sales\" and \"purchase\" are measures that need to be correlated, so they fall under the \"MEASURE\" section.\n",
      "- \"correlation\" is a derived measure that is applied to the \"sales\" and \"purchase\" measures.\n",
      "\n",
      "Step 3: Create the structured output\n",
      "- For the \"DIMENSION\" section, include the \"Sub-Category\" entity with the \"Phone\" sub-category as its rank.\n",
      "- For the \"FILTER\" section, include the \"Phone\" sub-category with its parent \"Sub-Category\".\n",
      "- For the \"MEASURE\" section, include the \"Sales\" and \"Purchase\" entities with no constraints.\n",
      "- For the \"DERIVED MEASURE\" section, include the \"correlation\" entity with the \"sales\" and \"purchase\" measures as its applied on.\n",
      "\n",
      "Rationale:\n",
      "- The structured output is designed to provide a clear and organized representation of the query, making it easier to understand and process. By breaking down the query into dimensions, filters, measures, and derived measures, the structured output can be used to generate the desired results efficiently.\n",
      "\n",
      "In this case, the structured output provides the correlation between sales and purchase for the \"Phone\" sub-category, which is the main objective of the query. By including the relevant dimensions, filters, measures, and derived measures, the structured output ensures that the desired result is obtained in a clear and organized manner.</s>\n"
     ]
    }
   ],
   "source": [
    "print('Step 1:' +raw.split('\\nStep 1:')[1])"
   ]
  },
  {
   "cell_type": "code",
   "execution_count": 81,
   "id": "5a045bfc",
   "metadata": {},
   "outputs": [
    {
     "name": "stdout",
     "output_type": "stream",
     "text": [
      "user query:  what will be the sales in q1 24\n",
      "CPU times: user 36.4 s, sys: 1.11 s, total: 37.5 s\n",
      "Wall time: 37.5 s\n"
     ]
    },
    {
     "data": {
      "text/plain": [
       "{'DATE VARIABLE': {'q1 24': [{'CONVERTED TIME ELEMENT': 'quarter 1 2024',\n",
       "    'DATE RANGE': '2024/01/01 - 2024/03/31',\n",
       "    'ENTITY': 'Order Date'}]},\n",
       " 'MEASURE': {'sales': [{'ENTITY': 'Sales'}]}}"
      ]
     },
     "execution_count": 81,
     "metadata": {},
     "output_type": "execute_result"
    }
   ],
   "source": [
    "%%time\n",
    "user_query = 'what will be the sales in q1 24'\n",
    "print('user query: ', user_query)\n",
    "output, raw = predict_template_query_v1(user_query=user_query)\n",
    "eval(output)"
   ]
  },
  {
   "cell_type": "code",
   "execution_count": 82,
   "id": "4ef67660",
   "metadata": {},
   "outputs": [
    {
     "name": "stdout",
     "output_type": "stream",
     "text": [
      "Step 1: Identify the main components of the query\n",
      "The query asks for \"sales in q1 24\", which means we need to find the sales for the first quarter of 2024.\n",
      "\n",
      "Step 2: Map the components to the context\n",
      "- \"sales\" can be mapped to the \"Sales\" entity in the MEASURE section of the context.\n",
      "- \"q1 24\" can be mapped to the \"Order Date\" entity in the DATE VARIABLE section of the context.\n",
      "\n",
      "Step 3: Convert the date reference\n",
      "- \"q1 24\" stands for \"quarter 1, 2024\". We need to convert this to a date range: \"2024/01/01 - 2024/03/31\".\n",
      "\n",
      "Step 4: Create the structured output\n",
      "- In the \"DATE VARIABLE\" section of the output, we include the converted time element \"quarter 1 2024\" along with the date range and the corresponding entity \"Order Date\".\n",
      "- In the \"MEASURE\" section of the output, we include the entity \"Sales\" as the measure we want to retrieve.\n",
      "\n",
      "Rationale:\n",
      "The structured output is created by breaking down the query into its main components and mapping them to the context. This allows us to retrieve the necessary information in a structured format that can be easily understood and processed by a system. By converting the date reference and including the relevant entities and measures, we can provide a comprehensive answer to the query.\n",
      "\n",
      "In this case, the structured output includes the sales data for the first quarter of 2024, which is what the user was asking for.</s>\n"
     ]
    }
   ],
   "source": [
    "print('Step 1:' +raw.split('\\nStep 1:')[1])"
   ]
  },
  {
   "cell_type": "code",
   "execution_count": 83,
   "id": "872e1e80",
   "metadata": {},
   "outputs": [
    {
     "name": "stdout",
     "output_type": "stream",
     "text": [
      "user query:  sales in q1 and q2 2021\n",
      "CPU times: user 36.2 s, sys: 1 s, total: 37.2 s\n",
      "Wall time: 37.2 s\n"
     ]
    },
    {
     "data": {
      "text/plain": [
       "{'DATE VARIABLE': {'q1 and q2 2021': [{'CONVERTED TIME ELEMENT': 'quarter 1 and quarter 2 2021',\n",
       "    'DATE RANGE': '2021/01/01 - 2021/03/31, 2021/04/01 - 2021/06/30',\n",
       "    'ENTITY': 'Order Date'}]},\n",
       " 'MEASURE': {'sales': [{'ENTITY': 'Sales'}]}}"
      ]
     },
     "execution_count": 83,
     "metadata": {},
     "output_type": "execute_result"
    }
   ],
   "source": [
    "%%time\n",
    "user_query = 'sales in q1 and q2 2021'\n",
    "print('user query: ', user_query)\n",
    "output, raw = predict_template_query_v1(user_query=user_query)\n",
    "eval(output)"
   ]
  },
  {
   "cell_type": "code",
   "execution_count": 84,
   "id": "81ae7d22",
   "metadata": {},
   "outputs": [
    {
     "name": "stdout",
     "output_type": "stream",
     "text": [
      "Step 1: Identify the measure\n",
      "The query asks for sales, so the measure is identified as \"Sales\".\n",
      "\n",
      "Step 2: Identify the date variable and time range\n",
      "The query asks for sales in the first and second quarters of 2021. To identify the date variable, we use \"Order Date\" from the context. The time range is from January 1, 2021 to March 31, 2021 for the first quarter and from April 1, 2021 to June 30, 2021 for the second quarter.\n",
      "\n",
      "Step 3: Create the structured output\n",
      "The structured output is created by organizing the identified measure and date variable into two main sections: \"MEASURE\" and \"DATE VARIABLE\". Under \"MEASURE\", the identified measure \"Sales\" is included with its corresponding entity from the context. Under \"DATE VARIABLE\", the time range identified in Step 2 is included with its corresponding entity from the context, as well as the converted time element and date range.\n",
      "\n",
      "Rationale:\n",
      "The query asks for sales data in a specific time range, so it is important to identify the date variable and time range to provide the requested information. The context provides the necessary entities and time elements to convert the query into a structured output.\n",
      "\n",
      "By following these steps and using the provided context, the query \"sales in q1 and q2 2021\" is converted into a structured output that includes the identified measure and date variable with their corresponding entities and time elements.</s>\n"
     ]
    }
   ],
   "source": [
    "print('Step 1:' +raw.split('\\nStep 1:')[1])"
   ]
  },
  {
   "cell_type": "code",
   "execution_count": 85,
   "id": "c9644790",
   "metadata": {},
   "outputs": [
    {
     "name": "stdout",
     "output_type": "stream",
     "text": [
      "user query:  how many segments contributing to growth of sales in p3m vs pp\n",
      "CPU times: user 34.5 s, sys: 1.08 s, total: 35.6 s\n",
      "Wall time: 35.6 s\n"
     ]
    },
    {
     "data": {
      "text/plain": [
       "{'DATE VARIABLE': {'p3m': 'previous 3 months', 'pp': 'previous period'},\n",
       " 'DIMENSION': {'segments': 'segments'},\n",
       " 'MEASURE': {'sales': 'sales'},\n",
       " 'FILTER': {'none': 'none'}}"
      ]
     },
     "execution_count": 85,
     "metadata": {},
     "output_type": "execute_result"
    }
   ],
   "source": [
    "%%time\n",
    "user_query = 'how many segments contributing to growth of sales in p3m vs pp'\n",
    "print('user query: ', user_query)\n",
    "output, raw = predict_template_query_v1(user_query=user_query)\n",
    "eval(output)"
   ]
  },
  {
   "cell_type": "code",
   "execution_count": 86,
   "id": "a4c9a915",
   "metadata": {},
   "outputs": [
    {
     "name": "stdout",
     "output_type": "stream",
     "text": [
      "Step 1: Identify the main components of the query\n",
      "- The query asks for the contribution of segments to the growth of sales in two different time periods: P3M (previous 3 months) and PP (previous period).\n",
      "\n",
      "Step 2: Map the components to the context\n",
      "- \"segments\" can be mapped to the \"Segment\" dimension.\n",
      "- \"sales\" can be mapped to the \"Sales\" measure.\n",
      "- \"P3M\" can be mapped to the \"Order Date\" date variable with the value \"previous 3 months\".\n",
      "- \"PP\" can be mapped to the \"Order Date\" date variable with the value \"previous period\".\n",
      "\n",
      "Step 3: Create the structured output\n",
      "- For the \"DATE VARIABLE\" section, include both \"P3M\" and \"PP\" with their respective definitions.\n",
      "- For the \"DIMENSION\" section, include \"Segments\" as the dimension being analyzed.\n",
      "- For the \"MEASURE\" section, include \"Sales\" as the measure being analyzed.\n",
      "- For the \"FILTER\" section, include \"none\" as there are no specific filtering requirements in the query.\n",
      "\n",
      "Rationale:\n",
      "- The structured output is designed to provide a clear and organized representation of the query, making it easier to understand and process. By mapping the components of the query to the context, we can ensure that the output is accurate and relevant.\n",
      "\n",
      "In summary, the structured output is created by identifying the main components of the query, mapping them to the context, and organizing the information into sections such as DIMENSION, MEASURE, FILTER, and DATE VARIABLE. This allows for a clear and efficient representation of the query, making it easier to process and analyze.</s>\n"
     ]
    }
   ],
   "source": [
    "print('Step 1:' +raw.split('\\nStep 1:')[1])"
   ]
  },
  {
   "cell_type": "code",
   "execution_count": 87,
   "id": "89a15ce5",
   "metadata": {},
   "outputs": [
    {
     "name": "stdout",
     "output_type": "stream",
     "text": [
      "user query:  how has sales trended in first week of 2021\n",
      "CPU times: user 33.9 s, sys: 1.04 s, total: 34.9 s\n",
      "Wall time: 34.9 s\n"
     ]
    },
    {
     "data": {
      "text/plain": [
       "{'DATE VARIABLE': {'first week of 2021': [{'CONVERTED TIME ELEMENT': 'first week of 2021',\n",
       "    'DATE RANGE': '2021/01/01 - 2021/01/07',\n",
       "    'ENTITY': 'Order Date'}]},\n",
       " 'MEASURE': {'sales': [{'ENTITY': 'Sales'}]}}"
      ]
     },
     "execution_count": 87,
     "metadata": {},
     "output_type": "execute_result"
    }
   ],
   "source": [
    "%%time\n",
    "user_query = 'how has sales trended in first week of 2021'\n",
    "print('user query: ', user_query)\n",
    "output, raw = predict_template_query_v1(user_query=user_query)\n",
    "eval(output)"
   ]
  },
  {
   "cell_type": "code",
   "execution_count": 88,
   "id": "ba9a827c",
   "metadata": {},
   "outputs": [
    {
     "name": "stdout",
     "output_type": "stream",
     "text": [
      "Step 1: Identify the measure\n",
      "The query asks for the sales trend, so the measure is identified as \"Sales\".\n",
      "\n",
      "Step 2: Identify the date variable and time range\n",
      "The query specifies the time range as the \"first week of 2021\". The date variable is identified as \"Order Date\" from the context. The first week of 2021 is converted to a date range: \"2021/01/01 - 2021/01/07\".\n",
      "\n",
      "Step 3: Structure the output\n",
      "The structured output is organized into two main sections: \"DATE VARIABLE\" and \"MEASURE\". Under \"DATE VARIABLE\", the time range \"first week of 2021\" is provided along with the corresponding date range and the name of the date entity (\"Order Date\"). Under \"MEASURE\", the identified measure \"sales\" is listed along with its corresponding entity (\"Sales\").\n",
      "\n",
      "Rationale:\n",
      "The query asks for the sales trend during a specific time range, so the main focus is on identifying the measure (sales) and the date variable with the corresponding time range (first week of 2021). The structured output is organized in a way that provides all the necessary information in a clear and concise manner.\n",
      "\n",
      "By following these steps and organizing the output in a structured format, the query is converted into a structured output that provides all the necessary information in a clear and concise manner.</s>\n"
     ]
    }
   ],
   "source": [
    "print('Step 1:' +raw.split('\\nStep 1:')[1])"
   ]
  },
  {
   "cell_type": "code",
   "execution_count": 89,
   "id": "cad882ce",
   "metadata": {},
   "outputs": [
    {
     "name": "stdout",
     "output_type": "stream",
     "text": [
      "user query:  what will be sales in 1st 5 days of 2024\n",
      "CPU times: user 48.9 s, sys: 1.05 s, total: 49.9 s\n",
      "Wall time: 49.9 s\n"
     ]
    },
    {
     "data": {
      "text/plain": [
       "{'DATE VARIABLE': {'1st 5 days of 2024': [{'CONVERTED TIME ELEMENT': 'first 5 days of january 2024',\n",
       "    'DATE RANGE': '2024/01/01 - 2024/01/05',\n",
       "    'ENTITY': 'Order Date'}]},\n",
       " 'MEASURE': {'sales': [{'ENTITY': 'Sales'}]}}"
      ]
     },
     "execution_count": 89,
     "metadata": {},
     "output_type": "execute_result"
    }
   ],
   "source": [
    "%%time\n",
    "user_query = 'what will be sales in 1st 5 days of 2024'\n",
    "print('user query: ', user_query)\n",
    "output, raw = predict_template_query_v1(user_query=user_query)\n",
    "eval(output)"
   ]
  },
  {
   "cell_type": "code",
   "execution_count": 90,
   "id": "462a7781",
   "metadata": {},
   "outputs": [
    {
     "name": "stdout",
     "output_type": "stream",
     "text": [
      "Step 1: Identify the main components of the query\n",
      "In the given query \"what will be sales in 1st 5 days of 2024\", the main components are \"sales\" and \"1st 5 days of 2024\".\n",
      "\n",
      "Step 2: Map the components to the context\n",
      "- \"sales\" can be mapped to the \"Sales\" entity under the \"MEASURE\" category in the context.\n",
      "- \"1st 5 days of 2024\" can be mapped to the \"Order Date\" entity under the \"DATE VARIABLE\" category in the context.\n",
      "\n",
      "Step 3: Convert the components into structured output format\n",
      "- For \"sales\", create a dictionary with the key \"sales\" and the value as a list containing a dictionary with the key \"ENTITY\" and the value \"Sales\".\n",
      "- For \"1st 5 days of 2024\", create a dictionary with the key \"1st 5 days of 2024\" and the value as a list containing a dictionary with the keys \"CONVERTED TIME ELEMENT\", \"DATE RANGE\", and \"ENTITY\" and their respective values \"first 5 days of january 2024\", \"2024/01/01 - 2024/01/05\", and \"Order Date\".\n",
      "\n",
      "Step 4: Combine the structured output dictionaries\n",
      "- Combine the dictionaries created in step 3 under the keys \"MEASURE\" and \"DATE VARIABLE\" to form the final structured output.\n",
      "\n",
      "Rationale:\n",
      "The structured output is formed by identifying the main components of the query, mapping them to the given context, converting the components into a structured output format, and combining the structured output dictionaries. This process helps in organizing the information and makes it easier to process and analyze.\n",
      "\n",
      "In the given query \"what will be sales in 1st 5 days of 2024\", the main components are \"sales\" and \"1st 5 days of 2024\". These components are mapped to the \"Sales\" entity under the \"MEASURE\" category and the \"Order Date\" entity under the \"DATE VARIABLE\" category in the context. The components are then converted into a structured output format, which includes creating dictionaries with the keys and values. Finally, the structured output dictionaries are combined to form the final structured output.</s>\n"
     ]
    }
   ],
   "source": [
    "print('Step 1:' +raw.split('\\nStep 1:')[1])"
   ]
  },
  {
   "cell_type": "code",
   "execution_count": 91,
   "id": "5e13e650",
   "metadata": {},
   "outputs": [
    {
     "name": "stdout",
     "output_type": "stream",
     "text": [
      "user query:  sales and purchase across yoy\n",
      "CPU times: user 30.5 s, sys: 1.04 s, total: 31.5 s\n",
      "Wall time: 31.5 s\n"
     ]
    },
    {
     "data": {
      "text/plain": [
       "{'DATE VARIABLE': {'yoy': [{'CONVERTED TIME ELEMENT': 'year over year',\n",
       "    'ENTITY': 'Order Date'}]},\n",
       " 'MEASURE': {'purchase': [{'ENTITY': 'Purchase Vol'}],\n",
       "  'sales': [{'ENTITY': 'Sales'}]}}"
      ]
     },
     "execution_count": 91,
     "metadata": {},
     "output_type": "execute_result"
    }
   ],
   "source": [
    "%%time\n",
    "user_query = 'sales and purchase across yoy'\n",
    "print('user query: ', user_query)\n",
    "output, raw = predict_template_query_v1(user_query=user_query)\n",
    "eval(output)"
   ]
  },
  {
   "cell_type": "code",
   "execution_count": 92,
   "id": "5a86402b",
   "metadata": {},
   "outputs": [
    {
     "name": "stdout",
     "output_type": "stream",
     "text": [
      "Step 1: Identify the measures\n",
      "The query mentions \"sales\" and \"purchase\", which are measures. From the context, we can map \"sales\" to the \"Sales\" entity and \"purchase\" to the \"Purchase Vol\" entity.\n",
      "\n",
      "Step 2: Identify the date variable\n",
      "The query mentions \"yoy\", which stands for \"year over year\". From the context, we can map this to the \"Order Date\" entity with the date reference of \"yoy\".\n",
      "\n",
      "Step 3: Structure the output\n",
      "The structured output should have two main sections: \"MEASURE\" and \"DATE VARIABLE\". In the \"MEASURE\" section, we include the identified measures \"sales\" and \"purchase\" with their respective entities. In the \"DATE VARIABLE\" section, we include the identified date reference \"yoy\" with the corresponding entity \"Order Date\".\n",
      "\n",
      "Rationale: The query is asking for sales and purchase data across different years. By identifying the measures and date variable, we can provide a structured output that includes the relevant information in a clear and organized manner.\n",
      "\n",
      "In summary, the structured output is created by identifying the measures and date variable from the query, mapping them to the context, and organizing the information into sections based on the query structure.</s>\n"
     ]
    }
   ],
   "source": [
    "print('Step 1:' +raw.split('\\nStep 1:')[1])"
   ]
  },
  {
   "cell_type": "code",
   "execution_count": 93,
   "id": "78c05a18",
   "metadata": {},
   "outputs": [
    {
     "name": "stdout",
     "output_type": "stream",
     "text": [
      "user query:  sales and purchase during last one year\n",
      "CPU times: user 53.5 s, sys: 1.09 s, total: 54.6 s\n",
      "Wall time: 54.6 s\n"
     ]
    },
    {
     "data": {
      "text/plain": [
       "{'DATE VARIABLE': {'last one year': [{'CONVERTED TIME ELEMENT': 'last one year',\n",
       "    'DATE RANGE': '2020/09/01 - 2021/08/31',\n",
       "    'ENTITY': 'Order Date'}]},\n",
       " 'MEASURE': {'purchase': [{'ENTITY': 'Purchase Vol'}],\n",
       "  'sales': [{'ENTITY': 'Sales'}]}}"
      ]
     },
     "execution_count": 93,
     "metadata": {},
     "output_type": "execute_result"
    }
   ],
   "source": [
    "%%time\n",
    "user_query = 'sales and purchase during last one year'\n",
    "print('user query: ', user_query)\n",
    "output, raw = predict_template_query_v1(user_query=user_query)\n",
    "eval(output)"
   ]
  },
  {
   "cell_type": "code",
   "execution_count": 94,
   "id": "c57b0774",
   "metadata": {},
   "outputs": [
    {
     "name": "stdout",
     "output_type": "stream",
     "text": [
      "Step 1: Identify the measures\n",
      "The query mentions \"sales\" and \"purchase\", which are measures. We map these to the \"Sales\" and \"Purchase Vol\" entities in the context.\n",
      "\n",
      "Step 2: Identify the date variable\n",
      "The query mentions \"last one year\", which is a time expression. We map this to the \"Order Date\" entity in the context and calculate the date range for \"last one year\".\n",
      "\n",
      "Step 3: Structure the output\n",
      "We create a structured output with two main sections: \"MEASURE\" and \"DATE VARIABLE\". Under \"MEASURE\", we include the \"Sales\" and \"Purchase Vol\" entities. Under \"DATE VARIABLE\", we include the \"last one year\" time expression and its corresponding date range.\n",
      "\n",
      "Rationale:\n",
      "The structured output provides a clear and organized representation of the query, making it easier to understand and process. By identifying and mapping the measures and date variables, we can provide a detailed analysis of the sales and purchase data for the last one year.\n",
      "\n",
      "\n",
      "\n",
      "\n",
      "\n",
      "\n",
      "\n",
      "\n",
      "\n",
      "\n",
      "\n",
      "\n",
      "\n",
      "\n",
      "\n",
      "\n",
      "\n",
      "\n",
      "\n",
      "\n",
      "\n",
      "\n",
      "\n",
      "\n",
      "\n",
      "\n",
      "\n",
      "\n",
      "\n",
      "\n",
      "\n",
      "\n",
      "\n",
      "\n",
      "\n",
      "\n",
      "\n",
      "\n",
      "\n",
      "\n",
      "\n",
      "\n",
      "\n",
      "\n",
      "\n",
      "\n",
      "\n",
      "\n",
      "\n",
      "\n",
      "\n",
      "\n",
      "\n",
      "\n",
      "\n",
      "\n",
      "\n",
      "\n",
      "\n",
      "\n",
      "\n",
      "\n",
      "\n",
      "\n",
      "\n",
      "\n",
      "\n",
      "\n",
      "\n",
      "\n",
      "\n",
      "\n",
      "\n",
      "\n",
      "\n",
      "\n",
      "\n",
      "\n",
      "\n",
      "\n",
      "\n",
      "\n",
      "\n",
      "\n",
      "\n",
      "\n",
      "\n",
      "\n",
      "\n",
      "\n",
      "\n",
      "\n",
      "\n",
      "\n",
      "\n",
      "\n",
      "\n",
      "\n",
      "\n",
      "\n",
      "\n",
      "\n",
      "\n",
      "\n",
      "\n",
      "\n",
      "\n",
      "\n",
      "\n",
      "\n",
      "\n",
      "\n",
      "\n",
      "\n",
      "\n",
      "\n",
      "\n",
      "\n",
      "\n",
      "\n",
      "\n",
      "\n",
      "\n",
      "\n",
      "\n",
      "\n",
      "\n",
      "\n",
      "\n",
      "\n",
      "\n",
      "\n",
      "\n",
      "\n",
      "\n",
      "\n",
      "\n",
      "\n",
      "\n",
      "\n",
      "\n",
      "\n",
      "\n",
      "\n",
      "\n",
      "\n",
      "\n",
      "\n",
      "\n",
      "\n",
      "\n",
      "\n",
      "\n",
      "\n",
      "\n",
      "\n",
      "\n",
      "\n",
      "\n",
      "\n",
      "\n",
      "\n",
      "\n",
      "\n",
      "\n",
      "\n",
      "\n",
      "\n",
      "\n",
      "\n",
      "\n",
      "\n",
      "\n",
      "\n",
      "\n",
      "\n",
      "\n",
      "\n",
      "\n",
      "\n",
      "\n",
      "\n",
      "\n",
      "\n",
      "\n",
      "\n",
      "\n",
      "\n",
      "\n",
      "\n",
      "\n",
      "\n",
      "\n",
      "\n",
      "\n",
      "\n",
      "\n",
      "\n",
      "\n",
      "\n",
      "\n",
      "\n",
      "\n",
      "\n",
      "\n",
      "\n",
      "\n",
      "\n",
      "\n",
      "\n",
      "\n",
      "\n",
      "\n",
      "\n",
      "\n",
      "\n",
      "\n",
      "\n",
      "\n",
      "\n",
      "\n",
      "\n",
      "\n",
      "\n",
      "\n",
      "\n",
      "\n",
      "\n",
      "\n",
      "\n",
      "\n",
      "\n",
      "\n",
      "\n",
      "\n",
      "\n",
      "\n",
      "\n",
      "\n",
      "\n",
      "\n",
      "\n",
      "\n",
      "\n",
      "\n",
      "\n",
      "\n",
      "\n",
      "\n",
      "\n",
      "\n",
      "\n",
      "\n",
      "\n",
      "\n",
      "\n",
      "\n",
      "\n",
      "\n",
      "\n",
      "\n",
      "\n",
      "\n",
      "\n",
      "\n",
      "\n",
      "\n",
      "\n",
      "\n",
      "\n",
      "\n",
      "\n",
      "\n",
      "\n",
      "\n",
      "\n",
      "\n",
      "\n",
      "\n",
      "\n",
      "\n",
      "\n",
      "\n",
      "\n",
      "\n",
      "\n",
      "\n",
      "\n",
      "\n",
      "\n",
      "\n",
      "\n",
      "\n",
      "\n",
      "\n",
      "\n",
      "\n",
      "\n",
      "\n",
      "\n",
      "\n",
      "\n",
      "\n",
      "\n",
      "\n",
      "\n",
      "\n",
      "\n",
      "\n",
      "\n",
      "\n",
      "\n",
      "\n",
      "\n",
      "\n",
      "\n",
      "\n",
      "\n",
      "\n",
      "\n",
      "\n",
      "\n",
      "\n",
      "\n",
      "\n",
      "\n",
      "\n",
      "\n",
      "\n",
      "\n",
      "\n",
      "\n",
      "\n",
      "\n",
      "\n",
      "\n",
      "\n",
      "\n",
      "\n",
      "\n",
      "\n",
      "\n",
      "\n",
      "\n",
      "\n",
      "\n",
      "\n",
      "\n",
      "\n",
      "\n",
      "\n",
      "\n",
      "\n",
      "\n",
      "\n",
      "\n",
      "\n",
      "\n",
      "\n",
      "\n",
      "\n",
      "\n",
      "\n",
      "\n",
      "\n",
      "\n",
      "\n",
      "\n",
      "\n",
      "\n",
      "\n",
      "\n",
      "\n",
      "\n",
      "\n",
      "\n",
      "\n",
      "\n",
      "\n",
      "\n",
      "\n",
      "\n",
      "\n",
      "\n",
      "\n",
      "\n",
      "\n",
      "\n",
      "\n",
      "\n"
     ]
    }
   ],
   "source": [
    "print('Step 1:' +raw.split('\\nStep 1:')[1])"
   ]
  },
  {
   "cell_type": "code",
   "execution_count": 23,
   "id": "0843353d",
   "metadata": {},
   "outputs": [
    {
     "name": "stdout",
     "output_type": "stream",
     "text": [
      "user query:  In q1 2023, what was sales\n",
      "CPU times: user 30.2 s, sys: 1.04 s, total: 31.2 s\n",
      "Wall time: 31.2 s\n"
     ]
    },
    {
     "data": {
      "text/plain": [
       "{'DATE VARIABLE': {'q1 2023': [{'CONVERTED TIME ELEMENT': 'quarter 1 2023',\n",
       "    'DATE RANGE': '2023/01/01 - 2023/03/31',\n",
       "    'ENTITY': 'Order Date'}]},\n",
       " 'MEASURE': {'sales': [{'ENTITY': 'Sales'}]}}"
      ]
     },
     "execution_count": 23,
     "metadata": {},
     "output_type": "execute_result"
    }
   ],
   "source": [
    "%%time\n",
    "user_query = 'In q1 2023, what was sales'\n",
    "print('user query: ', user_query)\n",
    "output, raw = predict_template_query_v1(user_query=user_query)\n",
    "eval(output)"
   ]
  },
  {
   "cell_type": "code",
   "execution_count": 24,
   "id": "1feb42eb",
   "metadata": {},
   "outputs": [
    {
     "name": "stdout",
     "output_type": "stream",
     "text": [
      "Step 1: Identify the main components of the query\n",
      "In the given query \"In q1 2023, what was sales\", the main components are \"q1 2023\" (date range) and \"sales\" (measure).\n",
      "\n",
      "Step 2: Map the components to the context\n",
      "- \"q1 2023\" can be mapped to the \"Order Date\" entity under \"DATE VARIABLE\" in the context.\n",
      "- \"sales\" can be mapped to the \"Sales\" entity under \"MEASURE\" in the context.\n",
      "\n",
      "Step 3: Create the structured output\n",
      "- For the \"DATE VARIABLE\" component, include the date range (q1 2023) and the corresponding entity (\"Order Date\").\n",
      "- For the \"MEASURE\" component, include the entity (\"Sales\").\n",
      "\n",
      "Rationale:\n",
      "The structured output is created by identifying the main components of the query and mapping them to the given context. This helps in understanding the user's intent and provides a structured format that can be used for further analysis or processing.\n",
      "\n",
      "By following these steps, the given query \"In q1 2023, what was sales\" is converted into a structured output that includes the date range and the corresponding measure.</s>\n"
     ]
    }
   ],
   "source": [
    "print('Step 1:' +raw.split('\\nStep 1:')[1])"
   ]
  },
  {
   "cell_type": "code",
   "execution_count": 25,
   "id": "aeae4c38",
   "metadata": {},
   "outputs": [
    {
     "name": "stdout",
     "output_type": "stream",
     "text": [
      "user query:  What are drivers of sales growth\n",
      "CPU times: user 35.1 s, sys: 1.03 s, total: 36.1 s\n",
      "Wall time: 36.2 s\n"
     ]
    },
    {
     "data": {
      "text/plain": [
       "{'DIMENSION': {'drivers': [{'ENTITY': 'Key Drivers',\n",
       "    'RANK': [{'RANK ADJECTIVE': 'top', 'RANK VALUE': '1'}]}]},\n",
       " 'MEASURE': {'sales growth': [{'ENTITY': 'Sales',\n",
       "    'MEASURE CONSTRAINT': [{'COMPARISON VALUE': '',\n",
       "      'COMPARSION OPERATOR': ''}]}]}}"
      ]
     },
     "execution_count": 25,
     "metadata": {},
     "output_type": "execute_result"
    }
   ],
   "source": [
    "%%time\n",
    "user_query = 'What are drivers of sales growth'\n",
    "print('user query: ', user_query)\n",
    "output, raw = predict_template_query_v1(user_query=user_query)\n",
    "eval(output)"
   ]
  },
  {
   "cell_type": "code",
   "execution_count": 26,
   "id": "520a9642",
   "metadata": {},
   "outputs": [
    {
     "name": "stdout",
     "output_type": "stream",
     "text": [
      "Step 1: Identify the main components of the query\n",
      "In the given query \"What are drivers of sales growth\", the main components are \"drivers\" and \"sales growth\".\n",
      "\n",
      "Step 2: Map the components to the context\n",
      "- \"drivers\" can be mapped to the \"Key Drivers\" dimension under \"DIMENSION\".\n",
      "- \"sales growth\" can be mapped to the \"Sales\" measure under \"MEASURE\".\n",
      "\n",
      "Step 3: Create the structured output\n",
      "- For the \"DIMENSION\" part, we include the \"Key Drivers\" dimension and specify the rank as \"top 1\" since we are asking for the main drivers.\n",
      "- For the \"MEASURE\" part, we include the \"Sales\" measure and leave the measure constraint as it is since we are asking for the drivers of sales growth.\n",
      "\n",
      "Rationale:\n",
      "The query is asking for the main drivers of sales growth. To answer this, we need to identify the key drivers that have the most impact on sales. This can be done by analyzing various dimensions and their contribution to sales growth. The structured output is designed to capture this information by including the \"Key Drivers\" dimension with the top rank and the \"Sales\" measure as the main measure of interest.\n",
      "\n",
      "By following these steps and considering the context, we are able to convert the given query into a structured output that captures the main ideas and provides a clear way to analyze the data.</s>\n"
     ]
    }
   ],
   "source": [
    "print('Step 1:' +raw.split('\\nStep 1:')[1])"
   ]
  },
  {
   "cell_type": "code",
   "execution_count": 31,
   "id": "06c19bb7",
   "metadata": {},
   "outputs": [
    {
     "name": "stdout",
     "output_type": "stream",
     "text": [
      "user query:  Why did discount of phone decrease\n",
      "CPU times: user 37.6 s, sys: 976 ms, total: 38.6 s\n",
      "Wall time: 38.6 s\n"
     ]
    },
    {
     "data": {
      "text/plain": [
       "{'DIMENSION': {'phone': [{'ENTITY': 'Phone',\n",
       "    'RANK': [{'RANK ADJECTIVE': '', 'RANK VALUE': ''}]}]},\n",
       " 'MEASURE': {'discount': [{'ADJECTIVE': ['decrease'],\n",
       "    'ENTITY': 'Discount',\n",
       "    'TONE': 'negative'}]},\n",
       " 'FILTER': {'consumer': [{'ENTITY': 'Consumer', 'PARENT': 'Segment'}]}}"
      ]
     },
     "execution_count": 31,
     "metadata": {},
     "output_type": "execute_result"
    }
   ],
   "source": [
    "%%time\n",
    "user_query = 'why did discount of phones decrease'\n",
    "print('user query: ', user_query)\n",
    "output, raw = predict_template_query_v1(user_query=user_query)\n",
    "eval(output)"
   ]
  },
  {
   "cell_type": "code",
   "execution_count": 32,
   "id": "3a503d14",
   "metadata": {},
   "outputs": [
    {
     "name": "stdout",
     "output_type": "stream",
     "text": [
      "Step 1: Identify the main components of the query\n",
      "In the given query \"Why did discount of phone decrease\", the main components are \"discount\", \"phone\", and \"decrease\".\n",
      "\n",
      "Step 2: Map the components to the context\n",
      "- \"discount\" can be mapped to the \"Discount\" entity under the \"MEASURE\" category.\n",
      "- \"phone\" can be mapped to the \"Phone\" entity under the \"FILTER\" category.\n",
      "- \"decrease\" can be mapped to an adjective under the \"MEASURE\" category for the \"Discount\" entity.\n",
      "\n",
      "Step 3: Create the structured output\n",
      "- For the \"DIMENSION\" part, include the \"Phone\" entity since the query is asking about the phone specifically.\n",
      "- For the \"MEASURE\" part, include the \"Discount\" entity and the adjective \"decrease\" to indicate the query is asking about a decrease in discount.\n",
      "\n",
      "Rationale:\n",
      "The structured output is created by identifying the main components of the query and mapping them to the context. This allows for a clear representation of the query, making it easier to understand and analyze.\n",
      "\n",
      "By breaking down the query into dimensions, measures, and filters, the structured output provides a more organized and comprehensive view of the information being requested. This can help in identifying patterns, trends, and insights that might not be immediately apparent from the original query.\n",
      "\n",
      "Overall, the structured output helps in streamlining the analysis process and enables more efficient and effective decision-making.</s>\n"
     ]
    }
   ],
   "source": [
    "print('Step 1:' +raw.split('\\nStep 1:')[1])"
   ]
  },
  {
   "cell_type": "code",
   "execution_count": 34,
   "id": "442c578c",
   "metadata": {},
   "outputs": [
    {
     "name": "stdout",
     "output_type": "stream",
     "text": [
      "user query:  why did sales of phones drop\n",
      "{'DIMENSION': {'phones': [{'ENTITY': 'Phone', 'RANK': [{'RANK ADJECTIVE': '', 'RANK VALUE': ''}]}]}, 'MEASURE': {'sales': [{'ENTITY': 'Sales', 'MEASURE CONSTRAINT': [{'COMPARISON VALUE': '', 'COMPARSION OPERATOR': ''}]}]}, 'FILTER': {'drop': [{'ENTITY': 'Drop', 'PARENT': 'Phone'}]}}\n",
      "----------------------------------------------------------------------------------------------------\n",
      "Step 1: Identify the main components of the query\n",
      "In the given query \"why did sales of phones drop\", the main components are \"sales\" and \"phones drop\".\n",
      "\n",
      "Step 2: Map the components to the context\n",
      "- \"sales\" can be mapped to the \"Sales\" entity under the \"MEASURE\" category.\n",
      "- \"phones drop\" can be mapped to the \"Phone\" entity under the \"FILTER\" category with the additional information that the query is asking for the reason behind the drop.\n",
      "\n",
      "Step 3: Create the structured output\n",
      "- For the \"DIMENSION\" part, we include the \"Phone\" entity since the query is specifically asking about the sales of phones.\n",
      "- For the \"MEASURE\" part, we include the \"Sales\" entity as the query is asking about the sales figure.\n",
      "- For the \"FILTER\" part, we include the \"Drop\" entity with the \"Phone\" entity as its parent, indicating that the query is asking for the reason behind the drop in sales of phones.\n",
      "\n",
      "Rationale:\n",
      "The structured output is created by breaking down the query into its main components and mapping them to the given context. This allows for a clear representation of the query, making it easier to understand and process.\n",
      "\n",
      "By including the relevant dimension, measure, and filter entities, the structured output provides all the necessary information to answer the query. In this case, the output includes the sales figure, the specific phone model (implied by the \"Drop\" filter), and the reason behind the drop (implied by the \"Drop\" filter).\n",
      "\n",
      "Overall, the structured output helps in organizing and processing the query, making it more efficient and effective.</s>\n",
      "CPU times: user 40.5 s, sys: 987 ms, total: 41.5 s\n",
      "Wall time: 41.5 s\n"
     ]
    }
   ],
   "source": [
    "%%time\n",
    "user_query = 'why did sales of phones drop'\n",
    "print('user query: ', user_query)\n",
    "print('-'*100)\n",
    "output, raw = predict_template_query_v1(user_query=user_query)\n",
    "print(eval(output))\n",
    "print('-'*100)\n",
    "print('Step 1:' +raw.split('\\nStep 1:')[1])"
   ]
  },
  {
   "cell_type": "code",
   "execution_count": 37,
   "id": "95e27f6c",
   "metadata": {},
   "outputs": [
    {
     "name": "stdout",
     "output_type": "stream",
     "text": [
      "user query:  why did discount of phones drop\n",
      "----------------------------------------------------------------------------------------------------\n",
      "{'DIMENSION': {'phones': [{'ENTITY': 'Phone', 'RANK': [{'RANK ADJECTIVE': '', 'RANK VALUE': ''}]}]}, 'MEASURE': {'discount': [{'ENTITY': 'Discount', 'MEASURE CONSTRAINT': [{'COMPARISON VALUE': '', 'COMPARSION OPERATOR': ''}]}]}, 'FILTER': {'corporate': [{'ENTITY': 'Corporate', 'PARENT': 'Segment'}]}, 'DATE VARIABLE': {'order date': [{'ENTITY': 'Order Date', 'TONE': 'informative'}]}, 'DERIVED MEASURE': {'why': [{'ENTITY': 'Why', 'MEASURE CONSTRAINT': [{'COMPARISON VALUE': '', 'COMPARSION OPERATOR': ''}]}]}}\n",
      "----------------------------------------------------------------------------------------------------\n",
      "Step 1: Identify the main components of the query\n",
      "- In the given query \"why did discount of phones drop\", the main components are \"discount\", \"phones\", and \"drop\".\n",
      "\n",
      "Step 2: Map the components to the context\n",
      "- \"discount\" can be mapped to the \"Discount\" entity under the \"MEASURE\" category.\n",
      "- \"phones\" can be mapped to the \"Phone\" entity under the \"FILTER\" category.\n",
      "- \"drop\" can be inferred as a negative tone and can be represented as a \"MEASURE CONSTRAINT\" for the \"Discount\" entity.\n",
      "\n",
      "Step 3: Create the structured output\n",
      "- For the \"DIMENSION\" part, include the \"Phone\" entity since the query is asking about the phones specifically.\n",
      "- For the \"MEASURE\" part, include the \"Discount\" entity with the negative tone represented as a \"MEASURE CONSTRAINT\".\n",
      "- For the \"FILTER\" part, include the \"Corporate\" entity as the query doesn't specify any other segment.\n",
      "- For the \"DATE VARIABLE\" part, include the \"Order Date\" entity since there is no mention of any specific date.\n",
      "- For the \"DERIVED MEASURE\" part, include the \"Why\" entity as the query is asking for the reason behind the drop in discount.\n",
      "\n",
      "Rationale:\n",
      "- The structured output is created by breaking down the query into its main components and mapping them to the given context. This helps in understanding the query better and provides a structured format that can be used for further analysis or processing.\n",
      "\n",
      "By following these steps and rationale, the given query \"why did discount of phones drop\" is converted into a structured output that captures the main components of the query and their relationships with the context.</s>\n",
      "CPU times: user 52.6 s, sys: 1.09 s, total: 53.7 s\n",
      "Wall time: 53.7 s\n"
     ]
    }
   ],
   "source": [
    "%%time\n",
    "user_query = 'why did discount of phones drop'\n",
    "print('user query: ', user_query)\n",
    "print('-'*100)\n",
    "output, raw = predict_template_query_v1(user_query=user_query)\n",
    "print(eval(output))\n",
    "print('-'*100)\n",
    "print('Step 1:' +raw.split('\\nStep 1:')[1])"
   ]
  },
  {
   "cell_type": "code",
   "execution_count": 38,
   "id": "02d65790",
   "metadata": {},
   "outputs": [
    {
     "name": "stdout",
     "output_type": "stream",
     "text": [
      "user query:  why discount of phones dropped\n",
      "----------------------------------------------------------------------------------------------------\n",
      "{'DIMENSION': {'phones': [{'ENTITY': 'Phone', 'RANK': [{'RANK ADJECTIVE': '', 'RANK VALUE': ''}]}]}, 'MEASURE': {'discount': [{'ENTITY': 'Discount', 'MEASURE CONSTRAINT': [{'COMPARISON VALUE': '', 'COMPARSION OPERATOR': ''}]}]}, 'FILTER': {'dropped': [{'ENTITY': 'Dropped', 'PARENT': 'Phone'}]}}\n",
      "----------------------------------------------------------------------------------------------------\n",
      "Step 1: Identify the main components of the query\n",
      "In the given query \"why discount of phones dropped\", the main components are \"discount\", \"phones\", and \"dropped\".\n",
      "\n",
      "Step 2: Map the components to the context\n",
      "- \"discount\" can be mapped to the \"Discount\" entity under the \"MEASURE\" category.\n",
      "- \"phones\" can be mapped to the \"Phone\" entity under the \"FILTER\" category.\n",
      "- \"dropped\" can be mapped to the \"Dropped\" entity under the \"FILTER\" category.\n",
      "\n",
      "Step 3: Create the structured output\n",
      "- For the \"DIMENSION\" part, include the \"Phone\" entity since the query is asking about the discount of phones.\n",
      "- For the \"MEASURE\" part, include the \"Discount\" entity since the query is asking for the reason behind the dropped discount.\n",
      "- For the \"FILTER\" part, include the \"Dropped\" entity as the query is asking for the reason behind the dropped discount of phones.\n",
      "\n",
      "Rationale:\n",
      "The structured output is created by breaking down the query into its main components and mapping them to the given context. This helps in understanding the query better and provide a structured response that can be easily understood and analyzed.\n",
      "\n",
      "By following these steps, the query \"why discount of phones dropped\" is converted into a structured output that includes the dimension, measure, and filter information. This makes it easier to analyze and understand the query, helping in providing a more informed response.</s>\n",
      "CPU times: user 39.1 s, sys: 1.06 s, total: 40.1 s\n",
      "Wall time: 40.1 s\n"
     ]
    }
   ],
   "source": [
    "%%time\n",
    "user_query = 'why discount of phones dropped'\n",
    "print('user query: ', user_query)\n",
    "print('-'*100)\n",
    "output, raw = predict_template_query_v1(user_query=user_query)\n",
    "print(eval(output))\n",
    "print('-'*100)\n",
    "print('Step 1:' +raw.split('\\nStep 1:')[1])"
   ]
  },
  {
   "cell_type": "code",
   "execution_count": 36,
   "id": "9b9130b8",
   "metadata": {},
   "outputs": [
    {
     "name": "stdout",
     "output_type": "stream",
     "text": [
      "user query:  discount of phones dropped, why?\n",
      "----------------------------------------------------------------------------------------------------\n",
      "{'DIMENSION': {'phones': [{'ENTITY': 'Phone', 'RANK': [{'RANK ADJECTIVE': '', 'RANK VALUE': ''}]}]}, 'FILTER': {'phones': [{'ENTITY': 'Phone', 'PARENT': 'Sub-Category'}]}, 'MEASURE': {'discount': [{'ADJECTIVE': ['dropped'], 'ENTITY': 'Discount', 'TONE': 'negative'}]}, 'DERIVED MEASURE': {'why': [{'ENTITY': 'Why', 'RANK': [{'RANK ADJECTIVE': '', 'RANK VALUE': ''}]}]}}\n",
      "----------------------------------------------------------------------------------------------------\n",
      "Step 1: Identify the main components of the query\n",
      "- In the given query \"discount of phones dropped, why?\", the main components are \"discount of phones\" and \"why?\".\n",
      "\n",
      "Step 2: Map the components to the context\n",
      "- \"discount of phones\" can be mapped to the \"Discount\" entity under the \"MEASURE\" category.\n",
      "- \"why?\" can be mapped to the \"Why\" entity under the \"DERIVED MEASURE\" category.\n",
      "\n",
      "Step 3: Identify the dimensions and filters\n",
      "- In this case, there is no explicit mention of dimensions or filters. However, we can infer that \"phones\" is a sub-category under the \"Sub-Category\" dimension.\n",
      "\n",
      "Step 4: Create the structured output\n",
      "- For the \"DIMENSION\" part, include the \"Sub-Category\" dimension with the \"phones\" sub-category.\n",
      "- For the \"FILTER\" part, include the \"Sub-Category\" dimension with the \"phones\" sub-category.\n",
      "- For the \"MEASURE\" part, include the \"Discount\" entity with the adjective \"dropped\".\n",
      "- For the \"DERIVED MEASURE\" part, include the \"Why\" entity.\n",
      "\n",
      "Rationale:\n",
      "- The structured output is created by breaking down the query into its main components and mapping them to the given context. This helps in understanding the query better and provides a structured format that can be used for further analysis.\n",
      "- The inclusion of dimensions and filters is based on the assumption that the query is asking for a specific sub-category (phones) and wants to analyze the discount for that sub-category.\n",
      "- The use of derived measure (why?) is included to understand the reason behind the dropped discount.\n",
      "\n",
      "Overall, the structured output provides a clear understanding of the query and can be used for further analysis and decision-making.</s>\n",
      "CPU times: user 47.9 s, sys: 1.08 s, total: 49 s\n",
      "Wall time: 49 s\n"
     ]
    }
   ],
   "source": [
    "%%time\n",
    "user_query = 'discount of phones dropped, why?'\n",
    "print('user query: ', user_query)\n",
    "print('-'*100)\n",
    "output, raw = predict_template_query_v1(user_query=user_query)\n",
    "print(eval(output))\n",
    "print('-'*100)\n",
    "print('Step 1:' +raw.split('\\nStep 1:')[1])"
   ]
  },
  {
   "cell_type": "code",
   "execution_count": 39,
   "id": "9585a9f0",
   "metadata": {},
   "outputs": [
    {
     "name": "stdout",
     "output_type": "stream",
     "text": [
      "user query:  What was phone sales in q1 '23'?\n",
      "----------------------------------------------------------------------------------------------------\n",
      "{'DATE VARIABLE': {'q1 23': [{'CONVERTED TIME ELEMENT': 'quarter 1 2023', 'DATE RANGE': '2023/01/01 - 2023/03/31', 'ENTITY': 'Order Date'}]}, 'MEASURE': {'phone sales': [{'ENTITY': 'Phone'}]}}\n",
      "----------------------------------------------------------------------------------------------------\n",
      "Step 1: Identify the main components of the query\n",
      "In the given query \"What was phone sales in q1 '23'?\", the main components are \"phone sales\" and \"q1 '23'\".\n",
      "\n",
      "Step 2: Map the components to the context\n",
      "- \"phone sales\" can be mapped to the \"Phone\" entity under the \"MEASURE\" category in the context.\n",
      "- \"q1 '23'\" can be mapped to the \"Order Date\" entity under the \"DATE VARIABLE\" category in the context.\n",
      "\n",
      "Step 3: Convert the date reference\n",
      "- \"q1 '23'\" stands for the first quarter of 2023. In the date reference, this is mapped to the date range \"2023/01/01 - 2023/03/31\".\n",
      "\n",
      "Step 4: Create the structured output\n",
      "- For the \"MEASURE\" component, include the \"Phone\" entity as a list item.\n",
      "- For the \"DATE VARIABLE\" component, include the \"Order Date\" entity with the converted time element \"quarter 1 2023\" and the date range \"2023/01/01 - 2023/03/31\".\n",
      "\n",
      "Rationale:\n",
      "The structured output is created by breaking down the query into its main components and mapping them to the given context. This allows for a clear representation of the information being requested, making it easier to process and analyze.\n",
      "\n",
      "By converting the date reference and including the relevant entities from the context, the structured output provides all the necessary information to answer the query.</s>\n",
      "CPU times: user 35.3 s, sys: 1.18 s, total: 36.5 s\n",
      "Wall time: 36.5 s\n"
     ]
    }
   ],
   "source": [
    "%%time\n",
    "user_query = \"What was phone sales in q1 '23'?\"\n",
    "print('user query: ', user_query)\n",
    "print('-'*100)\n",
    "output, raw = predict_template_query_v1(user_query=user_query)\n",
    "print(eval(output))\n",
    "print('-'*100)\n",
    "print('Step 1:' +raw.split('\\nStep 1:')[1])"
   ]
  },
  {
   "cell_type": "code",
   "execution_count": 40,
   "id": "3d73c293",
   "metadata": {},
   "outputs": [
    {
     "name": "stdout",
     "output_type": "stream",
     "text": [
      "user query:  Phones least sold in 2021\n",
      "----------------------------------------------------------------------------------------------------\n",
      "{'DATE VARIABLE': {'2021': [{'CONVERTED TIME ELEMENT': '2021', 'DATE RANGE': '2021', 'ENTITY': 'Order Date'}]}, 'FILTER': {'Phones': [{'ENTITY': 'Phone', 'PARENT': 'Sub-Category'}]}, 'MEASURE': {'least sold': [{'ENTITY': 'Sales', 'MEASURE CONSTRAINT': [{'COMPARISON VALUE': 'low', 'COMPARSION OPERATOR': 'than'}]}]}}\n",
      "----------------------------------------------------------------------------------------------------\n",
      "Step 1: Identify the main components of the query\n",
      "- The query asks for \"Phones least sold\" which indicates a measure related to sales.\n",
      "- The time reference is given as \"in 2021\", which indicates a date variable.\n",
      "\n",
      "Step 2: Map the components to the context\n",
      "- \"Phones\" can be mapped to the \"Phone\" entity under the \"FILTER\" category.\n",
      "- \"least sold\" can be mapped to the \"Sales\" entity under the \"MEASURE\" category with a constraint of being \"low\" compared to other sales.\n",
      "- \"in 2021\" can be mapped to the \"Order Date\" entity with the date range of \"2021\".\n",
      "\n",
      "Step 3: Create the structured output\n",
      "- For the \"DATE VARIABLE\", include the date range \"2021\" associated with the \"Order Date\" entity.\n",
      "- For the \"FILTER\", include the \"Phone\" entity as the parent of the query.\n",
      "- For the \"MEASURE\", include the \"Sales\" entity with the constraint of being \"low\" compared to other sales.\n",
      "\n",
      "Rationale:\n",
      "The structured output is created by breaking down the query into its main components and mapping them to the given context. This allows for a clear representation of the query's intent and makes it easier to process and analyze the data.\n",
      "\n",
      "For example, by including the \"Phone\" entity under the \"FILTER\" category, we can easily identify that the query is related to phone sales. Including the \"Sales\" entity under the \"MEASURE\" category with a constraint of being \"low\" allows us to understand that the query is asking for the least sold phones. Finally, including the date range \"2021\" associated with the \"Order Date\" entity tells us when the data refers to.\n",
      "\n",
      "This structured output can then be used to retrieve the relevant data from the database or other data sources, making it easier to analyze and visualize the results.</s>\n",
      "CPU times: user 44.8 s, sys: 1.03 s, total: 45.9 s\n",
      "Wall time: 45.9 s\n"
     ]
    }
   ],
   "source": [
    "%%time\n",
    "user_query = \"Phones least sold in 2021\"\n",
    "print('user query: ', user_query)\n",
    "print('-'*100)\n",
    "output, raw = predict_template_query_v1(user_query=user_query)\n",
    "print(eval(output))\n",
    "print('-'*100)\n",
    "print('Step 1:' +raw.split('\\nStep 1:')[1])"
   ]
  },
  {
   "cell_type": "code",
   "execution_count": 41,
   "id": "21099073",
   "metadata": {},
   "outputs": [
    {
     "name": "stdout",
     "output_type": "stream",
     "text": [
      "user query:  Phones most sold in 2021\n",
      "----------------------------------------------------------------------------------------------------\n",
      "{'DATE VARIABLE': {'2021': [{'CONVERTED TIME ELEMENT': '2021', 'DATE RANGE': '2021', 'ENTITY': 'Order Date'}]}, 'FILTER': {'Phones': [{'ENTITY': 'Phone', 'PARENT': 'Sub-Category'}]}, 'MEASURE': {'most sold': [{'ENTITY': 'Sales', 'MEASURE CONSTRAINT': [{'COMPARISON VALUE': '', 'COMPARSION OPERATOR': ''}]}]}}\n",
      "----------------------------------------------------------------------------------------------------\n",
      "Step 1: Identify the main components of the query\n",
      "- The query asks for \"Phones most sold in 2021\", which means we need to find the sales of phones in the year 2021.\n",
      "\n",
      "Step 2: Map the components to the context\n",
      "- \"Phones\" can be mapped to the \"Phone\" entity under the \"FILTER\" category.\n",
      "- \"most sold\" can be mapped to the \"Sales\" entity under the \"MEASURE\" category.\n",
      "- \"in 2021\" can be mapped to the \"Date Variable\" under the \"DATE VARIABLE\" category with the date entity \"Order Date\" and the converted time element \"2021\".\n",
      "\n",
      "Step 3: Create the structured output\n",
      "- For the \"DATE VARIABLE\" section, include the converted time element \"2021\" and the corresponding date range \"2021\". Map this to the \"Order Date\" entity.\n",
      "- For the \"FILTER\" section, include the \"Phone\" entity as the parent of \"Phones\".\n",
      "- For the \"MEASURE\" section, include the \"Sales\" entity and specify the measure constraint as an empty array since there is no specific comparison required.\n",
      "\n",
      "By following these steps, the query \"Phones most sold in 2021\" is converted into a structured output that captures the main components of the query and their relationships with the context.\n",
      "\n",
      "Rationale:\n",
      "The structured output helps in organizing the query information in a way that can be easily understood and processed by a data analysis system. By breaking down the query into filters, measures, and date variables, the structured output provides a clear representation of the user's intent, making it easier to retrieve and analyze the required data. This, in turn, can lead to more accurate and efficient results, helping the user to make informed decisions.</s>\n",
      "CPU times: user 42.7 s, sys: 1.03 s, total: 43.7 s\n",
      "Wall time: 43.7 s\n"
     ]
    }
   ],
   "source": [
    "%%time\n",
    "user_query = \"Phones most sold in 2021\"\n",
    "print('user query: ', user_query)\n",
    "print('-'*100)\n",
    "output, raw = predict_template_query_v1(user_query=user_query)\n",
    "print(eval(output))\n",
    "print('-'*100)\n",
    "print('Step 1:' +raw.split('\\nStep 1:')[1])"
   ]
  },
  {
   "cell_type": "code",
   "execution_count": null,
   "id": "c7a28758",
   "metadata": {},
   "outputs": [],
   "source": []
  },
  {
   "cell_type": "code",
   "execution_count": null,
   "id": "24313a7b",
   "metadata": {},
   "outputs": [],
   "source": []
  },
  {
   "cell_type": "code",
   "execution_count": null,
   "id": "beacdf1b",
   "metadata": {},
   "outputs": [],
   "source": []
  },
  {
   "cell_type": "code",
   "execution_count": null,
   "id": "04a6c2d8",
   "metadata": {},
   "outputs": [],
   "source": []
  },
  {
   "cell_type": "code",
   "execution_count": null,
   "id": "eb800107",
   "metadata": {},
   "outputs": [],
   "source": []
  },
  {
   "cell_type": "code",
   "execution_count": null,
   "id": "652444f0",
   "metadata": {},
   "outputs": [],
   "source": []
  },
  {
   "cell_type": "code",
   "execution_count": null,
   "id": "ec88bd26",
   "metadata": {},
   "outputs": [],
   "source": []
  },
  {
   "cell_type": "code",
   "execution_count": null,
   "id": "08da2299",
   "metadata": {},
   "outputs": [],
   "source": []
  },
  {
   "cell_type": "code",
   "execution_count": null,
   "id": "912f2759",
   "metadata": {},
   "outputs": [],
   "source": []
  }
 ],
 "metadata": {
  "kernelspec": {
   "display_name": "Python 3",
   "language": "python",
   "name": "python3"
  },
  "language_info": {
   "codemirror_mode": {
    "name": "ipython",
    "version": 3
   },
   "file_extension": ".py",
   "mimetype": "text/x-python",
   "name": "python",
   "nbconvert_exporter": "python",
   "pygments_lexer": "ipython3",
   "version": "3.8.16"
  }
 },
 "nbformat": 4,
 "nbformat_minor": 5
}
