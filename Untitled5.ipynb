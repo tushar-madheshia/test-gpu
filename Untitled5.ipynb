{
 "cells": [
  {
   "cell_type": "code",
   "execution_count": 2,
   "id": "0df74737",
   "metadata": {},
   "outputs": [
    {
     "data": {
      "text/plain": [
       "' Sure, below is a simple example of how you can sort a list in Python using the `sort()` method and `sorted()` function.\\n\\nIf you want to sort the list in ascending order, you can use:\\n\\n```python\\nmy_list = [5, 8, 1, 3, 7]\\nmy_list.sort()\\nprint(my_list)  # Output: [1, 3, 5, 7, 8]\\n```\\n\\nIf you want to sort the list in descending order, use:\\n\\n```python\\nmy_list = [5, 8, 1, 3, 7]\\nmy_list.sort(reverse=True)\\nprint(my_list)  # Output: [8, 7, 5, 3, 1]\\n```\\n\\nAlternatively, you can use the `sorted()` function, which returns a new sorted list and leaves the original list unmodified:\\n\\n```python\\nmy_list = [5, 8, 1, 3, 7]\\nsorted_list = sorted(my_list)\\nprint(sorted_list)  # Output: [1, 3, 5, 7, 8]\\nprint(my_list)  # Output: [5, 8, 1, 3, 7]\\n```\\n\\n```python\\nmy_list = [5, 8, 1, 3, 7]\\nsorted_list = sorted(my_list, reverse=True)\\nprint(sorted_list)  # Output: [8, 7, 5, 3, 1]\\nprint(my_list)  # Output: [5, 8, 1, 3, 7]\\n```'"
      ]
     },
     "execution_count": 2,
     "metadata": {},
     "output_type": "execute_result"
    }
   ],
   "source": [
    "# python3\n",
    "from openai import OpenAI\n",
    "\n",
    "client = OpenAI(api_key=\"sk-8463305437a34dde9d9b21469bd5cbf5\", base_url=\"https://api.deepseek.com/v1\")\n",
    "\n",
    "input_text = '''\n",
    "Python code to sort list\n",
    "'''\n",
    "response = client.chat.completions.create(\n",
    "    model=\"deepseek-chat\",\n",
    "    messages=[\n",
    "        {\"role\": \"system\", \"content\": \"You are a helpful assistant\"},\n",
    "        {\"role\": \"user\", \"content\":input_text },\n",
    "    ]\n",
    ")\n",
    "\n",
    "res = response.choices[0].message.content\n",
    "res\n"
   ]
  },
  {
   "cell_type": "code",
   "execution_count": 3,
   "id": "123f61bd",
   "metadata": {},
   "outputs": [],
   "source": [
    "#!pip install openai"
   ]
  },
  {
   "cell_type": "code",
   "execution_count": 4,
   "id": "e0e3ecaf",
   "metadata": {},
   "outputs": [
    {
     "data": {
      "text/plain": [
       "' Sure, below is a simple example of how you can sort a list in Python using the `sort()` method and `sorted()` function.If you want to sort the list in ascending order, you can use:```pythonmy_list = [5, 8, 1, 3, 7]my_list.sort()print(my_list)  # Output: [1, 3, 5, 7, 8]```If you want to sort the list in descending order, use:```pythonmy_list = [5, 8, 1, 3, 7]my_list.sort(reverse=True)print(my_list)  # Output: [8, 7, 5, 3, 1]```Alternatively, you can use the `sorted()` function, which returns a new sorted list and leaves the original list unmodified:```pythonmy_list = [5, 8, 1, 3, 7]sorted_list = sorted(my_list)print(sorted_list)  # Output: [1, 3, 5, 7, 8]print(my_list)  # Output: [5, 8, 1, 3, 7]``````pythonmy_list = [5, 8, 1, 3, 7]sorted_list = sorted(my_list, reverse=True)print(sorted_list)  # Output: [8, 7, 5, 3, 1]print(my_list)  # Output: [5, 8, 1, 3, 7]```'"
      ]
     },
     "execution_count": 4,
     "metadata": {},
     "output_type": "execute_result"
    }
   ],
   "source": [
    "res.replace(\"\\n\",\"\")"
   ]
  },
  {
   "cell_type": "code",
   "execution_count": 6,
   "id": "76d90151",
   "metadata": {},
   "outputs": [
    {
     "name": "stdout",
     "output_type": "stream",
     "text": [
      " Sure, below is a simple example of how you can sort a list in Python using the `sort()` method and `sorted()` function.\n",
      "\n",
      "If you want to sort the list in ascending order, you can use:\n",
      "\n",
      "```python\n",
      "my_list = [5, 8, 1, 3, 7]\n",
      "my_list.sort()\n",
      "print(my_list)  # Output: [1, 3, 5, 7, 8]\n",
      "```\n",
      "\n",
      "If you want to sort the list in descending order, use:\n",
      "\n",
      "```python\n",
      "my_list = [5, 8, 1, 3, 7]\n",
      "my_list.sort(reverse=True)\n",
      "print(my_list)  # Output: [8, 7, 5, 3, 1]\n",
      "```\n",
      "\n",
      "Alternatively, you can use the `sorted()` function, which returns a new sorted list and leaves the original list unmodified:\n",
      "\n",
      "```python\n",
      "my_list = [5, 8, 1, 3, 7]\n",
      "sorted_list = sorted(my_list)\n",
      "print(sorted_list)  # Output: [1, 3, 5, 7, 8]\n",
      "print(my_list)  # Output: [5, 8, 1, 3, 7]\n",
      "```\n",
      "\n",
      "```python\n",
      "my_list = [5, 8, 1, 3, 7]\n",
      "sorted_list = sorted(my_list, reverse=True)\n",
      "print(sorted_list)  # Output: [8, 7, 5, 3, 1]\n",
      "print(my_list)  # Output: [5, 8, 1, 3, 7]\n",
      "```\n"
     ]
    }
   ],
   "source": [
    "print(res)"
   ]
  },
  {
   "cell_type": "code",
   "execution_count": null,
   "id": "562e93a2",
   "metadata": {},
   "outputs": [],
   "source": []
  }
 ],
 "metadata": {
  "kernelspec": {
   "display_name": "Python 3",
   "language": "python",
   "name": "python3"
  },
  "language_info": {
   "codemirror_mode": {
    "name": "ipython",
    "version": 3
   },
   "file_extension": ".py",
   "mimetype": "text/x-python",
   "name": "python",
   "nbconvert_exporter": "python",
   "pygments_lexer": "ipython3",
   "version": "3.8.16"
  }
 },
 "nbformat": 4,
 "nbformat_minor": 5
}
